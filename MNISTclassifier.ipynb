{
 "cells": [
  {
   "cell_type": "code",
   "execution_count": 19,
   "metadata": {},
   "outputs": [
    {
     "data": {
      "text/plain": [
       "'1.13.1+cpu'"
      ]
     },
     "execution_count": 19,
     "metadata": {},
     "output_type": "execute_result"
    }
   ],
   "source": [
    "import torch\n",
    "torch.__version__"
   ]
  },
  {
   "cell_type": "code",
   "execution_count": 20,
   "metadata": {},
   "outputs": [],
   "source": [
    "from torch.utils.data import Dataset, DataLoader\n",
    "# transforms 전처리 때 사용하는 메소드"
   ]
  },
  {
   "attachments": {},
   "cell_type": "markdown",
   "metadata": {},
   "source": [
    "MNIST 데이터셋 가져오기"
   ]
  },
  {
   "cell_type": "code",
   "execution_count": 21,
   "metadata": {},
   "outputs": [],
   "source": [
    "import torchvision.transforms as transforms\n",
    "from torchvision import datasets"
   ]
  },
  {
   "cell_type": "code",
   "execution_count": 22,
   "metadata": {},
   "outputs": [],
   "source": [
    "mnist_transform = transforms.Compose([transforms.ToTensor(),\n",
    "                                       transforms.Normalize(mean=(0.5,),std=(1.0,))])"
   ]
  },
  {
   "cell_type": "code",
   "execution_count": 23,
   "metadata": {},
   "outputs": [],
   "source": [
    "trainset = datasets.MNIST(root=r'C:\\Users\\DILAB\\쥬피터전용폴더\\3분딥러닝파이토치맛',\n",
    "                          train=True, download=True, transform=mnist_transform)"
   ]
  },
  {
   "cell_type": "code",
   "execution_count": 24,
   "metadata": {},
   "outputs": [],
   "source": [
    "testset = datasets.MNIST(root=r'C:\\Users\\DILAB\\쥬피터전용폴더\\3분딥러닝파이토치맛',\n",
    "                          train=False, download=True, transform=mnist_transform)"
   ]
  },
  {
   "cell_type": "code",
   "execution_count": 25,
   "metadata": {},
   "outputs": [],
   "source": [
    "# 배치만큼 데이터 가지고 오기\n",
    "train_loader = DataLoader(trainset, batch_size=8, shuffle=True, num_workers=2)\n",
    "test_loader = DataLoader(testset, batch_size=8, shuffle=True, num_workers=2)"
   ]
  },
  {
   "cell_type": "code",
   "execution_count": 26,
   "metadata": {},
   "outputs": [
    {
     "data": {
      "text/plain": [
       "(torch.Size([8, 1, 28, 28]), torch.Size([8]))"
      ]
     },
     "execution_count": 26,
     "metadata": {},
     "output_type": "execute_result"
    }
   ],
   "source": [
    "dataiter = iter(train_loader)\n",
    "images, labels = next(dataiter)\n",
    "images.shape, labels.shape\n",
    "# 28 x 28 이미지, 이미지 커널 1개이므로 흑백, batch size = 8"
   ]
  },
  {
   "cell_type": "code",
   "execution_count": 27,
   "metadata": {},
   "outputs": [
    {
     "data": {
      "text/plain": [
       "torch.Size([28, 28])"
      ]
     },
     "execution_count": 27,
     "metadata": {},
     "output_type": "execute_result"
    }
   ],
   "source": [
    "# 이미지 차원 축소, 0차원 축소 => 8개 배치 데이터 중 한 개만 가져옴\n",
    "torch_image = torch.squeeze(images[0])\n",
    "torch_image.shape"
   ]
  },
  {
   "cell_type": "code",
   "execution_count": 28,
   "metadata": {},
   "outputs": [
    {
     "data": {
      "image/png": "[encoded data removed]",
      "text/plain": [
       "<Figure size 1200x600 with 8 Axes>"
      ]
     },
     "metadata": {},
     "output_type": "display_data"
    }
   ],
   "source": [
    "import matplotlib.pyplot as plt\n",
    "\n",
    "figure = plt.figure(figsize=(12,6))\n",
    "cols, rows = 4, 2\n",
    "for i in range(1, cols*rows + 1):\n",
    "    sample_idx = torch.randint(len(trainset),size=(1,)).item()\n",
    "    img, label = trainset[sample_idx]\n",
    "    figure.add_subplot(rows, cols, i)\n",
    "    plt.title(label)\n",
    "    plt.axis('off')\n",
    "    plt.imshow(img.squeeze(), cmap='gray') # img.squeeze()를 통해 차원을 2차원을 맞춰줘야 한다.\n",
    "plt.show()"
   ]
  },
  {
   "attachments": {},
   "cell_type": "markdown",
   "metadata": {},
   "source": [
    "신경망 구성\n",
    "layer : 하나 이상의 텐서를 입력받아 하나 이상의 텐서를 출력\n",
    "module : 한 개 이상의 계층이 모여서 구성\n",
    "model : 한 개 이상의 모듈이 모여서 구성"
   ]
  },
  {
   "attachments": {},
   "cell_type": "markdown",
   "metadata": {},
   "source": [
    "torch.nn 패키지\n",
    "가중치와 편향값들이 내부에서 자동으로 생성되는 레이어를 사용할 때 이용한다."
   ]
  },
  {
   "cell_type": "code",
   "execution_count": 29,
   "metadata": {},
   "outputs": [],
   "source": [
    "import torch.nn as nn\n",
    "import torch"
   ]
  },
  {
   "cell_type": "code",
   "execution_count": 30,
   "metadata": {},
   "outputs": [
    {
     "name": "stdout",
     "output_type": "stream",
     "text": [
      "tensor([[-1.4698,  0.7711,  0.7055,  ..., -0.9698,  0.2457,  0.8929],\n",
      "        [-0.4836, -0.1857, -0.7432,  ..., -0.4165, -0.0866,  0.3535],\n",
      "        [ 0.9742,  0.9144,  0.4532,  ..., -0.9713, -0.1153, -0.7131],\n",
      "        ...,\n",
      "        [ 0.7910,  0.9002,  1.3761,  ...,  0.5175, -0.1890, -0.8565],\n",
      "        [-1.0853,  0.6252,  0.5511,  ...,  1.7487, -1.3597,  0.2430],\n",
      "        [-0.6097,  0.3978,  1.2296,  ...,  0.1759,  0.6086,  0.2838]])\n",
      "Linear(in_features=20, out_features=30, bias=True)\n",
      "torch.Size([128, 30])\n"
     ]
    }
   ],
   "source": [
    "# 예제\n",
    "input = torch.randn(128,20)\n",
    "print(input)\n",
    "\n",
    "m = nn.Linear(20,30)\n",
    "print(m)\n",
    "\n",
    "output = m(input)\n",
    "print(output.size())"
   ]
  },
  {
   "cell_type": "code",
   "execution_count": 31,
   "metadata": {},
   "outputs": [
    {
     "name": "stdout",
     "output_type": "stream",
     "text": [
      "Conv2d(16, 33, kernel_size=(3, 5), stride=(2, 1), padding=(4, 2), dilation=(3, 1))\n"
     ]
    }
   ],
   "source": [
    "# 컨볼루션 예제\n",
    "input = torch.randn(20,16,50,100)\n",
    "m = nn.Conv2d(16,33, 3, stride=2)\n",
    "m = nn.Conv2d(16,33, (3,5), stride=(2,1),padding=(4,2))\n",
    "m = nn.Conv2d(16,33, (3,5), stride=(2,1), padding=(4,2), dilation=(3,1))\n",
    "print(m)"
   ]
  },
  {
   "cell_type": "code",
   "execution_count": 32,
   "metadata": {},
   "outputs": [
    {
     "data": {
      "text/plain": [
       "torch.Size([20, 33, 26, 100])"
      ]
     },
     "execution_count": 32,
     "metadata": {},
     "output_type": "execute_result"
    }
   ],
   "source": [
    "output = m(input)\n",
    "output.size()"
   ]
  },
  {
   "cell_type": "code",
   "execution_count": 33,
   "metadata": {},
   "outputs": [
    {
     "data": {
      "text/plain": [
       "Conv2d(1, 20, kernel_size=(5, 5), stride=(1, 1))"
      ]
     },
     "execution_count": 33,
     "metadata": {},
     "output_type": "execute_result"
    }
   ],
   "source": [
    "nn.Conv2d(in_channels=1, out_channels=20, kernel_size=5, stride=1)"
   ]
  },
  {
   "cell_type": "code",
   "execution_count": 34,
   "metadata": {},
   "outputs": [],
   "source": [
    "layer = nn.Conv2d(1,20,5,1).to(torch.device('cpu'))"
   ]
  },
  {
   "cell_type": "code",
   "execution_count": 35,
   "metadata": {},
   "outputs": [
    {
     "data": {
      "text/plain": [
       "torch.Size([20, 1, 5, 5])"
      ]
     },
     "execution_count": 35,
     "metadata": {},
     "output_type": "execute_result"
    }
   ],
   "source": [
    "weight = layer.weight\n",
    "weight.shape"
   ]
  },
  {
   "cell_type": "code",
   "execution_count": 36,
   "metadata": {},
   "outputs": [],
   "source": [
    "# weight는 detach()를 통해 꺼내줘야 numpy() 변환 가능\n",
    "\n",
    "weight = weight.detach()"
   ]
  },
  {
   "cell_type": "code",
   "execution_count": 37,
   "metadata": {},
   "outputs": [],
   "source": [
    "# numpy() 변환 가능\n",
    "weight = weight.numpy()"
   ]
  },
  {
   "cell_type": "code",
   "execution_count": 55,
   "metadata": {},
   "outputs": [
    {
     "data": {
      "text/plain": [
       "(5, 5)"
      ]
     },
     "execution_count": 55,
     "metadata": {},
     "output_type": "execute_result"
    }
   ],
   "source": [
    "import numpy as np\n",
    "np.squeeze(weight[0]).shape"
   ]
  },
  {
   "cell_type": "code",
   "execution_count": null,
   "metadata": {},
   "outputs": [],
   "source": []
  },
  {
   "cell_type": "code",
   "execution_count": 38,
   "metadata": {},
   "outputs": [
    {
     "data": {
      "image/png": "[encoded data removed]",
      "text/plain": [
       "<Figure size 640x480 with 2 Axes>"
      ]
     },
     "metadata": {},
     "output_type": "display_data"
    }
   ],
   "source": [
    "# 컨볼루션 계층 하나의 weight 값을 가져와서 컬러로 표현\n",
    "from matplotlib import pyplot as plt\n",
    "plt.imshow(weight[0,0,:,:],'jet')   # 5 x 5 만 선택, 'jet' : 컬러\n",
    "plt.colorbar()\n",
    "plt.show()"
   ]
  },
  {
   "cell_type": "code",
   "execution_count": 39,
   "metadata": {},
   "outputs": [
    {
     "name": "stdout",
     "output_type": "stream",
     "text": [
      "torch.Size([8, 1, 28, 28])\n",
      "torch.Size([1, 28, 28])\n"
     ]
    },
    {
     "data": {
      "text/plain": [
       "torch.Size([28, 28])"
      ]
     },
     "execution_count": 39,
     "metadata": {},
     "output_type": "execute_result"
    }
   ],
   "source": [
    "print(images.shape)\n",
    "print(images[0].size())\n",
    "\n",
    "input_image = torch.squeeze(images[0])\n",
    "input_image.size()"
   ]
  },
  {
   "cell_type": "code",
   "execution_count": 41,
   "metadata": {},
   "outputs": [
    {
     "name": "stdout",
     "output_type": "stream",
     "text": [
      "torch.Size([1, 1, 28, 28])\n",
      "output_data torch.Size([1, 20, 24, 24])\n",
      "output torch.Size([1, 20, 24, 24])\n"
     ]
    },
    {
     "data": {
      "text/plain": [
       "(1, 20, 24, 24)"
      ]
     },
     "execution_count": 41,
     "metadata": {},
     "output_type": "execute_result"
    }
   ],
   "source": [
    "input_data = torch.unsqueeze(images[0], dim=0)\n",
    "print(input_data.size())    # 1 1 28 28\n",
    "\n",
    "output_data = layer(input_data) # layer = nn.Conv2d(1,20,5,1).to(torch.device('cpu'))\n",
    "print('output_data', output_data.shape)   # 객체로 grad도 포함되어있음\n",
    "output = output_data.data       # data값만 가져옴, shape 일치\n",
    "print('output', output.shape)\n",
    "output_np = output.numpy()\n",
    "output_np.shape"
   ]
  },
  {
   "cell_type": "code",
   "execution_count": 60,
   "metadata": {},
   "outputs": [
    {
     "data": {
      "text/plain": [
       "<matplotlib.image.AxesImage at 0x1e4b1ab6548>"
      ]
     },
     "execution_count": 60,
     "metadata": {},
     "output_type": "execute_result"
    },
    {
     "data": {
      "image/png": "[encoded data removed]",
      "text/plain": [
       "<Figure size 1500x3000 with 3 Axes>"
      ]
     },
     "metadata": {},
     "output_type": "display_data"
    }
   ],
   "source": [
    "plt.figure(figsize=(15,30))\n",
    "\n",
    "plt.subplot(131)\n",
    "plt.title('input')\n",
    "plt.imshow(input_image, 'gray')    # input_image: 28,28\n",
    "# print(input_image.shape)\n",
    "\n",
    "plt.subplot(132)\n",
    "plt.title('Weight')\n",
    "# plt.imshow(np.squeeze(weight[0]), 'gray')\n",
    "plt.imshow(weight[0,0,:,:], 'jet')     # 뒤의 것만 쓰겠다.\n",
    "\n",
    "plt.subplot(133)\n",
    "plt.title('output')\n",
    "plt.imshow(output[0,0,:,:],'jet')"
   ]
  },
  {
   "cell_type": "code",
   "execution_count": 62,
   "metadata": {},
   "outputs": [
    {
     "data": {
      "text/plain": [
       "(torch.Size([1, 20, 24, 24]), torch.Size([1, 20, 12, 12]))"
      ]
     },
     "execution_count": 62,
     "metadata": {},
     "output_type": "execute_result"
    }
   ],
   "source": [
    "# 풀링 계층\n",
    "import torch.nn.functional as F\n",
    "\n",
    "pool = F.max_pool2d(output,2,2)\n",
    "output.shape, pool.shape        # 2x2 이므로 반쪽이 되었음을 확인할 수 있다."
   ]
  },
  {
   "cell_type": "code",
   "execution_count": 64,
   "metadata": {},
   "outputs": [
    {
     "data": {
      "text/plain": [
       "<matplotlib.image.AxesImage at 0x1e4b1b5d608>"
      ]
     },
     "execution_count": 64,
     "metadata": {},
     "output_type": "execute_result"
    },
    {
     "data": {
      "image/png": "[encoded data removed]",
      "text/plain": [
       "<Figure size 1500x3000 with 2 Axes>"
      ]
     },
     "metadata": {},
     "output_type": "display_data"
    }
   ],
   "source": [
    "plt.figure(figsize=(15,30))\n",
    "\n",
    "plt.subplot(121)\n",
    "plt.title('input')\n",
    "plt.imshow(input_image, 'gray')    # input_image: 28,28\n",
    "# print(input_image.shape)\n",
    "\n",
    "plt.subplot(122)\n",
    "plt.title('Output')\n",
    "# plt.imshow(np.squeeze(weight[0]), 'gray')\n",
    "plt.imshow(pool[0,0,:,:], 'jet')     # 뒤의 것만 쓰겠다.\n"
   ]
  },
  {
   "cell_type": "code",
   "execution_count": 65,
   "metadata": {},
   "outputs": [
    {
     "data": {
      "text/plain": [
       "torch.Size([1, 784])"
      ]
     },
     "execution_count": 65,
     "metadata": {},
     "output_type": "execute_result"
    }
   ],
   "source": [
    "# 선형 레이어 (Linear layers)\n",
    "flatten = input_image.view(1,28*28)\n",
    "flatten.shape"
   ]
  },
  {
   "cell_type": "code",
   "execution_count": 68,
   "metadata": {},
   "outputs": [
    {
     "data": {
      "text/plain": [
       "torch.Size([1, 10])"
      ]
     },
     "execution_count": 68,
     "metadata": {},
     "output_type": "execute_result"
    }
   ],
   "source": [
    "lin = nn.Linear(784,10)(flatten)\n",
    "lin.shape"
   ]
  },
  {
   "cell_type": "code",
   "execution_count": 69,
   "metadata": {},
   "outputs": [
    {
     "data": {
      "text/plain": [
       "tensor([[-0.2105, -0.6277,  0.4226,  0.0924, -0.5592, -0.1351, -0.0680, -0.3101,\n",
       "          0.2828,  0.1357]], grad_fn=<AddmmBackward0>)"
      ]
     },
     "execution_count": 69,
     "metadata": {},
     "output_type": "execute_result"
    }
   ],
   "source": [
    "lin"
   ]
  },
  {
   "cell_type": "code",
   "execution_count": 73,
   "metadata": {},
   "outputs": [
    {
     "data": {
      "text/plain": [
       "<matplotlib.colorbar.Colorbar at 0x1e4b19c96c8>"
      ]
     },
     "execution_count": 73,
     "metadata": {},
     "output_type": "execute_result"
    },
    {
     "data": {
      "image/png": "[encoded data removed]",
      "text/plain": [
       "<Figure size 640x480 with 2 Axes>"
      ]
     },
     "metadata": {},
     "output_type": "display_data"
    }
   ],
   "source": [
    "plt.imshow(lin.detach(),'jet')\n",
    "plt.colorbar()"
   ]
  },
  {
   "cell_type": "code",
   "execution_count": 74,
   "metadata": {},
   "outputs": [
    {
     "data": {
      "text/plain": [
       "tensor([[0.0822, 0.1267, 0.0856, 0.1227, 0.0614, 0.0898, 0.0975, 0.1527, 0.0761,\n",
       "         0.1054]])"
      ]
     },
     "execution_count": 74,
     "metadata": {},
     "output_type": "execute_result"
    }
   ],
   "source": [
    "# 비선형 활성화\n",
    "with torch.no_grad():\n",
    "    flatten = input_image.view(1,28*28)\n",
    "    lin = nn.Linear(784,10)(flatten)\n",
    "    softmax = F.softmax(lin, dim=1)\n",
    "softmax"
   ]
  },
  {
   "cell_type": "code",
   "execution_count": 77,
   "metadata": {},
   "outputs": [
    {
     "data": {
      "text/plain": [
       "tensor(7)"
      ]
     },
     "execution_count": 77,
     "metadata": {},
     "output_type": "execute_result"
    }
   ],
   "source": [
    "torch.argmax(softmax) # 7번이 가장 높다."
   ]
  },
  {
   "cell_type": "code",
   "execution_count": 78,
   "metadata": {},
   "outputs": [
    {
     "data": {
      "text/plain": [
       "torch.Size([4, 20, 24, 24])"
      ]
     },
     "execution_count": 78,
     "metadata": {},
     "output_type": "execute_result"
    }
   ],
   "source": [
    "# 렐루\n",
    "inputs = torch.randn(4,3,28,28)\n",
    "layer = nn.Conv2d(3,20,5,1)\n",
    "output = F.relu(layer(inputs))\n",
    "output.shape"
   ]
  },
  {
   "cell_type": "code",
   "execution_count": 79,
   "metadata": {},
   "outputs": [],
   "source": [
    "# 모델 정의, nn.Module\n",
    "\n",
    "# nn.Module\n",
    "# __init__()\n",
    "# forward()"
   ]
  },
  {
   "cell_type": "code",
   "execution_count": null,
   "metadata": {},
   "outputs": [],
   "source": [
    "class Model(nn.Module):\n",
    "    def __init__(self, inputs):\n",
    "        "
   ]
  }
 ],
 "metadata": {
  "kernelspec": {
   "display_name": "DL",
   "language": "python",
   "name": "python3"
  },
  "language_info": {
   "codemirror_mode": {
    "name": "ipython",
    "version": 3
   },
   "file_extension": ".py",
   "mimetype": "text/x-python",
   "name": "python",
   "nbconvert_exporter": "python",
   "pygments_lexer": "ipython3",
   "version": "3.7.15"
  },
  "orig_nbformat": 4,
  "vscode": {
   "interpreter": {
    "hash": "78a5cce84d4e0fc2d340b534b51c50f208e7e0b787b898a04b058b6df0a98d57"
   }
  }
 },
 "nbformat": 4,
 "nbformat_minor": 2
}
