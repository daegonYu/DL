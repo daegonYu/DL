{
 "cells": [
  {
   "cell_type": "code",
   "execution_count": null,
   "metadata": {},
   "outputs": [],
   "source": [
    "import torch\n",
    "from torch import nn\n",
    "from torch.nn import LSTM\n",
    "from transformers import BertPreTrainedModel, BertConfig, BertModel\n",
    "import torch.nn.functional as F\n",
    "\n",
    "def init_weights(m):\n",
    "    if isinstance(m, nn.Linear):    # m이 Linear 라면\n",
    "        torch.nn.init.xavier_uniform_(m.weight) # Linear 객체의 weight를 사비에르 초기화 시키고\n",
    "        m.bias.data.fill_(7)    # 편향은 7로 초기화 시킨다.\n",
    "        \n",
    "class Model_A(BertPreTrainedModel):\n",
    "    def __init__(self, bert_model_config:BertConfig):\n",
    "        super(Model_A, self).__init__(bert_model_config)\n",
    "        self.bert = BertModel(bert_model_config)\n",
    "        self.dropout = nn.Dropout(p=bert_model_config.hidden_dropout_prop)\n",
    "        self.lstm = LSTM(bert_model_config.hidden_size, bert_model_config.hidden_size)\n",
    "        self.mlp = nn.Sequential(\n",
    "            nn.Dropout(p=bert_model_config.hidden_dropout_prop),\n",
    "            nn.Linear(bert_model_config.hidden_size,1)\n",
    "        )\n",
    "        self.w_omega = nn.Parameter(torch.Tensor(bert_model_config.hidden_size,bert_model_config.hidden_size))\n",
    "        self.b_omega = nn.Parameter(torch.Tensor(1,bert_model_config.hidden_size))\n",
    "        self.u_omega = nn.Parameter(torch.Tensor(bert_model_config.hidden_size,1))\n",
    "        \n",
    "        nn.init.uniform_(self.w_omega, -0.1,0.1)    # nn.Parameter시 맞춰준다. -0.1,0.1 사이로 맞춘다.\n",
    "        nn.init.uniform_(self.u_omega,-0.1,0.1)\n",
    "        nn.init.uniform_(self.b_omega,-0,1,0.1)\n",
    "        self.mlp.apply(init_weights)\n",
    "        \n",
    "    def forward(self, document_batch:torch.Tensor, device='cpu', bert_batch_size=0):\n",
    "        bert_output = torch.zeros(size=(document_batch.shape[0],\n",
    "                                        min(document_batch.shape[1],\n",
    "                                            bert_batch_size),\n",
    "                                        self.bert.config.hidden_size), dtype=torch.float, device=device)\n",
    "        for doc_id in range(document_batch.shape[0]):\n",
    "            all_bert_output_info = self.bert(document_batch[doc_id][:self.bert_batch_size,0],\n",
    "                                             token_type_ids=document_batch[doc_id][:self.bert_batch_size,1],\n",
    "                                             attention_mask = document_batch[doc_id][:self.bert_batch_size,2])\n",
    "            bert_token_max = torch.max(all_bert_output_info[0],1)   # max pooling\n",
    "            bert_output[doc_id][:self.bert_batch_size] = torch.cat((bert_token_max.values, all_bert_output_info[1]),1)\n",
    "            "
   ]
  },
  {
   "cell_type": "code",
   "execution_count": 5,
   "metadata": {},
   "outputs": [
    {
     "data": {
      "text/plain": [
       "tensor([[1.5289, 1.4437, 2.6601, 1.7284, 2.0371],\n",
       "        [2.9423, 1.0405, 1.7881, 1.5383, 1.3288],\n",
       "        [1.3950, 1.9025, 2.2378, 1.1102, 2.3316]])"
      ]
     },
     "execution_count": 5,
     "metadata": {},
     "output_type": "execute_result"
    }
   ],
   "source": [
    "import torch\n",
    "import torch.nn as nn\n",
    "w = torch.empty(3,5)\n",
    "nn.init.uniform_(w, 1,3)    # torch변수명, lower value, upper value\n",
    "w"
   ]
  },
  {
   "cell_type": "code",
   "execution_count": 8,
   "metadata": {},
   "outputs": [],
   "source": [
    "# CNN 모델 필사\n",
    "class CNN(nn.Module):\n",
    "    def __init__(self):\n",
    "        super(CNN, self).__init__()\n",
    "        # 특징 추출 계층\n",
    "        self.layer = nn.Sequential(\n",
    "            nn.Conv2d(1,16,3,padding=1),\n",
    "            nn.ReLU(),\n",
    "            nn.Conv2d(16,32,3,padding=1),\n",
    "            nn.ReLU(),\n",
    "            nn.MaxPool2d(2,2),\n",
    "            nn.Conv2d(32,64,3, padding=1),\n",
    "            nn.ReLU(),\n",
    "            nn.MaxPool2d(2,2)\n",
    "        )\n",
    "        # 분류 계층\n",
    "        self.fc_layer = nn.Sequential(\n",
    "            nn.Linear(64*7*7,100),\n",
    "            nn.ReLU(),\n",
    "            nn.Linear(100,10)\n",
    "        )\n",
    "        \n",
    "        for m in self.modules():\n",
    "            if isinstance(m,nn.Conv2d):\n",
    "                m.weight.data.normal_(0.0,0.02) # 평균 0, 편차 0.02 \n",
    "                m.bias.data.fill_(0) # 0\n",
    "            \n",
    "                nn.init.xavier_normal_(m.weight.data)    # 사비에르 노멀 초기화\n",
    "                m.bias.data.fill_(0) # 0\n",
    "                \n",
    "                nn.init.kaiming_normal_(m.weight.data)   # 카밍 노멀 초기화\n",
    "                m.bias.data.fill_(0) # 0\n",
    "                \n",
    "            if isinstance(m, nn.Linear):\n",
    "                m.weight.data.normal_(0.0,0.02) # 평균 0, 표준편차 0.02\n",
    "                m.bias.data.fill_(0)\n",
    "                \n",
    "                nn.init.xavier_normal_(m.weight.data)\n",
    "                m.bias.data.fill_(0)\n",
    "                \n",
    "                nn.init.kaiming_normal_(m.weight.data)\n",
    "                m.bias.data.fill_(0)\n",
    "    \n",
    "    def forward(self,x):\n",
    "        x = self.layer(x)\n",
    "        x = x.view(batch_size, -1)\n",
    "        x = self.fc_layer(x)\n",
    "        return x"
   ]
  },
  {
   "cell_type": "code",
   "execution_count": 11,
   "metadata": {},
   "outputs": [],
   "source": [
    "device = torch.device('cuda:0' if torch.cuda.is_available() else 'cpu')\n",
    "learning_rate= 0.01\n",
    "model = CNN().to(device)\n",
    "loss_func = nn.CrossEntropyLoss()\n",
    "optimizer = torch.optim.SGD(model.parameters(), lr=learning_rate)"
   ]
  },
  {
   "cell_type": "code",
   "execution_count": 12,
   "metadata": {},
   "outputs": [],
   "source": [
    "class RNN(nn.Module):\n",
    "    def __init__(self, data_size, hidden_size, output_size):\n",
    "        super(RNN,self).__init__()\n",
    "        \n",
    "        self.hidden_size = hidden_size\n",
    "        input_size = data_size + hidden_size\n",
    "        \n",
    "        self.i2h = nn.Linear(input_size,hidden_size)\n",
    "        self.h2o = nn.Linear(hidden_size, output_size)\n",
    "        \n",
    "    def forward(self, data, last_hidden):\n",
    "        input = torch.cat((data, last_hidden),1)\n",
    "        hidden = self.i2h(input)\n",
    "        output = self.h2o(hidden)\n",
    "        return hidden, output"
   ]
  },
  {
   "cell_type": "code",
   "execution_count": 16,
   "metadata": {},
   "outputs": [
    {
     "name": "stdout",
     "output_type": "stream",
     "text": [
      "tensor(0.0893, grad_fn=<MseLossBackward0>)\n",
      "tensor(0.1122, grad_fn=<MseLossBackward0>)\n",
      "tensor(0.1161, grad_fn=<MseLossBackward0>)\n",
      "tensor(0.1161, grad_fn=<MseLossBackward0>)\n",
      "tensor(0.1159, grad_fn=<MseLossBackward0>)\n",
      "tensor(0.1159, grad_fn=<MseLossBackward0>)\n",
      "tensor(0.1159, grad_fn=<MseLossBackward0>)\n",
      "tensor(0.1159, grad_fn=<MseLossBackward0>)\n",
      "tensor(0.1159, grad_fn=<MseLossBackward0>)\n",
      "tensor(0.1159, grad_fn=<MseLossBackward0>)\n"
     ]
    }
   ],
   "source": [
    "loss_fn = nn.MSELoss()\n",
    "rnn = RNN(50,20,10)\n",
    "\n",
    "batch_size = 10\n",
    "Timesteps = 10\n",
    "\n",
    "batch = torch.randn(batch_size, 50)\n",
    "hidden = torch.zeros(batch_size, 20)\n",
    "target = torch.zeros(batch_size, 10)\n",
    "\n",
    "total_loss = 0\n",
    "for t in range(Timesteps):\n",
    "    hidden, output = rnn(batch,hidden)\n",
    "    loss = loss_fn(output,target)\n",
    "    print(loss)\n",
    "    total_loss += loss \n",
    "total_loss.backward()"
   ]
  },
  {
   "cell_type": "code",
   "execution_count": 17,
   "metadata": {},
   "outputs": [],
   "source": [
    "class RNN(nn.Module):\n",
    "    def __init__(self,input_size,hidden_size,output_size):\n",
    "        super(RNN,self).__init__()\n",
    "        \n",
    "        self.hidden_size = hidden_size\n",
    "        self.i2o = nn.Linear(input_size+hidden_size,output_size)\n",
    "        self.i2h = nn.Linear(input_size+hidden_size,hidden_size)\n",
    "        self.softmax = nn.LogSoftmax(dim=1)\n",
    "        \n",
    "    def forward(self,input,hidden):\n",
    "        combined = torch.cat((input,hidden),1)\n",
    "        hidden = self.i2h(combined)\n",
    "        output = self.i2o(combined)\n",
    "        output = self.softmax(output)\n",
    "        return output, hidden\n",
    "    \n",
    "    def initHidden(self):\n",
    "        return torch.zeros(1,self.hidden_size)"
   ]
  },
  {
   "cell_type": "code",
   "execution_count": 19,
   "metadata": {},
   "outputs": [],
   "source": [
    "n_hidden = 128\n",
    "n_letters = 100\n",
    "n_categories = 10\n",
    "rnn = RNN(n_letters,n_hidden,n_categories)"
   ]
  },
  {
   "cell_type": "code",
   "execution_count": 23,
   "metadata": {},
   "outputs": [],
   "source": [
    "import torch.optim as optim\n",
    "\n",
    "lr = 0.005\n",
    "criterion = nn.NLLLoss()    # LogSoftmax이므로 NLL 손실함수가 적합하다고 한다.\n",
    "optimizer = optim.SGD(rnn.parameters(), lr=lr)  # 어떤 파라미터들을 어떤 학습률만큼 갱신시킬 것인가?\n",
    "\n",
    "def train(category_tensor, line_tensor):    # category_tensor:정답 , line_tensor:입력 데이터\n",
    "    hidden = rnn.initHidden()\n",
    "    \n",
    "    rnn.zero_grad()\n",
    "    \n",
    "    for i in range(line_tensor.size()[0]):  \n",
    "        output, hidden = rnn(line_tensor[i],hidden)\n",
    "    loss = criterion(output,category_tensor)\n",
    "    loss.backward()\n",
    "    optimizer.step()    \n",
    "    \n",
    "    # for p in rnn.parameters():\n",
    "        # SGD 갱신\n",
    "        # p.data.add_(p.grad.data, alpha= -lr)    # 파라미터값에 기울기에 alpha만큼 곱한 값을 더해준다.\n",
    "        \n",
    "    return output, loss.item()"
   ]
  },
  {
   "cell_type": "code",
   "execution_count": null,
   "metadata": {},
   "outputs": [],
   "source": [
    "import torch.nn as nn\n",
    "class RNN(nn.Module):\n",
    "    def __init__(self,data_size, hidden_size,output_size):\n",
    "        super(RNN, self).__init__()\n",
    "        \n",
    "        \n",
    "        input_size = data_size + hidden_size\n",
    "        layer1 = nn.Linear(input_size,hidden_size)\n",
    "        layer2 = nn.Linear(input_size,output_size)\n",
    "        \n",
    "    \n",
    "    def forward(self,data,last_hidden):\n",
    "        input = torch.cat((data,last_hidden),1)\n",
    "        hidden_layer = torch.zeros(hidden_size,hidden_size)\n",
    "    \n",
    "        "
   ]
  },
  {
   "cell_type": "code",
   "execution_count": 1,
   "metadata": {},
   "outputs": [
    {
     "ename": "NameError",
     "evalue": "name 'nn' is not defined",
     "output_type": "error",
     "traceback": [
      "\u001b[1;31m---------------------------------------------------------------------------\u001b[0m",
      "\u001b[1;31mNameError\u001b[0m                                 Traceback (most recent call last)",
      "\u001b[1;32m~\\AppData\\Local\\Temp\\ipykernel_14704\\2133720961.py\u001b[0m in \u001b[0;36m<module>\u001b[1;34m\u001b[0m\n\u001b[1;32m----> 1\u001b[1;33m \u001b[1;32mclass\u001b[0m \u001b[0mRNN\u001b[0m\u001b[1;33m(\u001b[0m\u001b[0mnn\u001b[0m\u001b[1;33m.\u001b[0m\u001b[0mModule\u001b[0m\u001b[1;33m)\u001b[0m\u001b[1;33m:\u001b[0m\u001b[1;33m\u001b[0m\u001b[1;33m\u001b[0m\u001b[0m\n\u001b[0m\u001b[0;32m      2\u001b[0m     \u001b[1;32mdef\u001b[0m \u001b[0m__init__\u001b[0m\u001b[1;33m(\u001b[0m\u001b[0mself\u001b[0m\u001b[1;33m,\u001b[0m \u001b[0mdata_size\u001b[0m\u001b[1;33m,\u001b[0m \u001b[0mhidden_size\u001b[0m\u001b[1;33m,\u001b[0m \u001b[0moutput_size\u001b[0m\u001b[1;33m)\u001b[0m\u001b[1;33m:\u001b[0m\u001b[1;33m\u001b[0m\u001b[1;33m\u001b[0m\u001b[0m\n\u001b[0;32m      3\u001b[0m         \u001b[0msuper\u001b[0m\u001b[1;33m(\u001b[0m\u001b[0mRNN\u001b[0m\u001b[1;33m,\u001b[0m\u001b[0mself\u001b[0m\u001b[1;33m)\u001b[0m\u001b[1;33m.\u001b[0m\u001b[0m__init__\u001b[0m\u001b[1;33m(\u001b[0m\u001b[1;33m)\u001b[0m\u001b[1;33m\u001b[0m\u001b[1;33m\u001b[0m\u001b[0m\n\u001b[0;32m      4\u001b[0m \u001b[1;33m\u001b[0m\u001b[0m\n\u001b[0;32m      5\u001b[0m         \u001b[0mself\u001b[0m\u001b[1;33m.\u001b[0m\u001b[0mhidden_size\u001b[0m \u001b[1;33m=\u001b[0m \u001b[0mhidden_size\u001b[0m\u001b[1;33m\u001b[0m\u001b[1;33m\u001b[0m\u001b[0m\n",
      "\u001b[1;31mNameError\u001b[0m: name 'nn' is not defined"
     ]
    }
   ],
   "source": [
    "class RNN(nn.Module):\n",
    "    def __init__(self, data_size, hidden_size, output_size):\n",
    "        super(RNN,self).__init__()\n",
    "        \n",
    "        self.hidden_size = hidden_size\n",
    "        input_size = data_size + hidden_size\n",
    "        \n",
    "        self.i2h = nn.Linear(input_size,hidden_size)\n",
    "        self.h2o = nn.Linear(hidden_size, output_size)\n",
    "        \n",
    "    def forward(self, data, last_hidden):\n",
    "        input = torch.cat((data, last_hidden),1)\n",
    "        hidden = self.i2h(input)\n",
    "        output = self.h2o(hidden)\n",
    "        return hidden, output"
   ]
  },
  {
   "cell_type": "code",
   "execution_count": null,
   "metadata": {},
   "outputs": [],
   "source": []
  }
 ],
 "metadata": {
  "kernelspec": {
   "display_name": "DL",
   "language": "python",
   "name": "python3"
  },
  "language_info": {
   "codemirror_mode": {
    "name": "ipython",
    "version": 3
   },
   "file_extension": ".py",
   "mimetype": "text/x-python",
   "name": "python",
   "nbconvert_exporter": "python",
   "pygments_lexer": "ipython3",
   "version": "3.7.15"
  },
  "orig_nbformat": 4,
  "vscode": {
   "interpreter": {
    "hash": "5c31732501746658df903fde8a57fa60585d40606604d6d9f03f663b5e913695"
   }
  }
 },
 "nbformat": 4,
 "nbformat_minor": 2
}
