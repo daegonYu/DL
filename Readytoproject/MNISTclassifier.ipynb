{
 "cells": [
  {
   "cell_type": "code",
   "execution_count": 1,
   "metadata": {},
   "outputs": [
    {
     "name": "stderr",
     "output_type": "stream",
     "text": [
      "c:\\USERS\\DILAB\\ANACONDA3\\ENVS\\DL\\lib\\site-packages\\tqdm\\auto.py:22: TqdmWarning: IProgress not found. Please update jupyter and ipywidgets. See https://ipywidgets.readthedocs.io/en/stable/user_install.html\n",
      "  from .autonotebook import tqdm as notebook_tqdm\n"
     ]
    },
    {
     "data": {
      "text/plain": [
       "'1.13.1+cpu'"
      ]
     },
     "execution_count": 1,
     "metadata": {},
     "output_type": "execute_result"
    }
   ],
   "source": [
    "import torch\n",
    "torch.__version__"
   ]
  },
  {
   "cell_type": "code",
   "execution_count": 2,
   "metadata": {},
   "outputs": [],
   "source": [
    "from torch.utils.data import Dataset, DataLoader\n",
    "# transforms 전처리 때 사용하는 메소드"
   ]
  },
  {
   "attachments": {},
   "cell_type": "markdown",
   "metadata": {},
   "source": [
    "MNIST 데이터셋 가져오기"
   ]
  },
  {
   "cell_type": "code",
   "execution_count": 3,
   "metadata": {},
   "outputs": [],
   "source": [
    "import torchvision.transforms as transforms\n",
    "from torchvision import datasets"
   ]
  },
  {
   "cell_type": "code",
   "execution_count": 4,
   "metadata": {},
   "outputs": [],
   "source": [
    "mnist_transform = transforms.Compose([transforms.ToTensor(),\n",
    "                                       transforms.Normalize(mean=(0.5,),std=(1.0,))])"
   ]
  },
  {
   "cell_type": "code",
   "execution_count": 5,
   "metadata": {},
   "outputs": [],
   "source": [
    "trainset = datasets.MNIST(root=r'C:\\Users\\DILAB\\쥬피터전용폴더\\3분딥러닝파이토치맛\\Readytoproject',\n",
    "                          train=True, download=True, transform=mnist_transform)"
   ]
  },
  {
   "cell_type": "code",
   "execution_count": 6,
   "metadata": {},
   "outputs": [],
   "source": [
    "testset = datasets.MNIST(root=r'C:\\Users\\DILAB\\쥬피터전용폴더\\3분딥러닝파이토치맛\\Readytoproject',\n",
    "                          train=False, download=True, transform=mnist_transform)"
   ]
  },
  {
   "cell_type": "code",
   "execution_count": 7,
   "metadata": {},
   "outputs": [],
   "source": [
    "# 배치만큼 데이터 가지고 오기\n",
    "train_loader = DataLoader(trainset, batch_size=8, shuffle=True, num_workers=2)\n",
    "test_loader = DataLoader(testset, batch_size=8, shuffle=True, num_workers=2)"
   ]
  },
  {
   "cell_type": "code",
   "execution_count": 8,
   "metadata": {},
   "outputs": [
    {
     "data": {
      "text/plain": [
       "(torch.Size([8, 1, 28, 28]), torch.Size([8]))"
      ]
     },
     "execution_count": 8,
     "metadata": {},
     "output_type": "execute_result"
    }
   ],
   "source": [
    "dataiter = iter(train_loader)\n",
    "images, labels = next(dataiter)\n",
    "images.shape, labels.shape\n",
    "# 28 x 28 이미지, 이미지 커널 1개이므로 흑백, batch size = 8"
   ]
  },
  {
   "cell_type": "code",
   "execution_count": 9,
   "metadata": {},
   "outputs": [
    {
     "data": {
      "text/plain": [
       "torch.Size([28, 28])"
      ]
     },
     "execution_count": 9,
     "metadata": {},
     "output_type": "execute_result"
    }
   ],
   "source": [
    "# 이미지 차원 축소, 0차원 축소 => 8개 배치 데이터 중 한 개만 가져옴\n",
    "torch_image = torch.squeeze(images[0])\n",
    "torch_image.shape"
   ]
  },
  {
   "cell_type": "code",
   "execution_count": 10,
   "metadata": {},
   "outputs": [
    {
     "data": {
      "image/png": "[encoded data removed]",
      "text/plain": [
       "<Figure size 1200x600 with 8 Axes>"
      ]
     },
     "metadata": {},
     "output_type": "display_data"
    }
   ],
   "source": [
    "import matplotlib.pyplot as plt\n",
    "\n",
    "figure = plt.figure(figsize=(12,6))\n",
    "cols, rows = 4, 2\n",
    "for i in range(1, cols*rows + 1):\n",
    "    sample_idx = torch.randint(len(trainset),size=(1,)).item()\n",
    "    img, label = trainset[sample_idx]\n",
    "    figure.add_subplot(rows, cols, i)\n",
    "    plt.title(label)\n",
    "    plt.axis('off')\n",
    "    plt.imshow(img.squeeze(), cmap='gray') # img.squeeze()를 통해 차원을 2차원을 맞춰줘야 한다.\n",
    "plt.show()"
   ]
  },
  {
   "attachments": {},
   "cell_type": "markdown",
   "metadata": {},
   "source": [
    "신경망 구성\n",
    "layer : 하나 이상의 텐서를 입력받아 하나 이상의 텐서를 출력\n",
    "module : 한 개 이상의 계층이 모여서 구성\n",
    "model : 한 개 이상의 모듈이 모여서 구성"
   ]
  },
  {
   "attachments": {},
   "cell_type": "markdown",
   "metadata": {},
   "source": [
    "torch.nn 패키지\n",
    "가중치와 편향값들이 내부에서 자동으로 생성되는 레이어를 사용할 때 이용한다."
   ]
  },
  {
   "cell_type": "code",
   "execution_count": 11,
   "metadata": {},
   "outputs": [],
   "source": [
    "import torch.nn as nn\n",
    "import torch"
   ]
  },
  {
   "cell_type": "code",
   "execution_count": 12,
   "metadata": {},
   "outputs": [
    {
     "name": "stdout",
     "output_type": "stream",
     "text": [
      "tensor([[-0.7346, -0.6762, -0.1548,  ...,  0.5997,  2.3933, -1.2170],\n",
      "        [ 0.4148,  0.4180,  0.0041,  ..., -0.4744, -0.2784, -0.8554],\n",
      "        [ 0.9383, -1.8642, -0.2258,  ..., -0.8611,  0.2752,  1.4248],\n",
      "        ...,\n",
      "        [ 0.9569,  1.0380, -0.2716,  ..., -0.3414, -1.1448, -0.6882],\n",
      "        [-3.5014, -0.7916, -0.7064,  ...,  0.6185, -0.6512,  1.0666],\n",
      "        [ 1.2063, -0.5615,  1.3066,  ...,  1.2700,  1.0531, -0.4585]])\n",
      "Linear(in_features=20, out_features=30, bias=True)\n",
      "torch.Size([128, 30])\n"
     ]
    }
   ],
   "source": [
    "# 예제\n",
    "input = torch.randn(128,20)\n",
    "print(input)\n",
    "\n",
    "m = nn.Linear(20,30)\n",
    "print(m)\n",
    "\n",
    "output = m(input)\n",
    "print(output.size())"
   ]
  },
  {
   "cell_type": "code",
   "execution_count": 13,
   "metadata": {},
   "outputs": [
    {
     "name": "stdout",
     "output_type": "stream",
     "text": [
      "Conv2d(16, 33, kernel_size=(3, 5), stride=(2, 1), padding=(4, 2), dilation=(3, 1))\n"
     ]
    }
   ],
   "source": [
    "# 컨볼루션 예제\n",
    "input = torch.randn(20,16,50,100)\n",
    "m = nn.Conv2d(16,33, 3, stride=2)\n",
    "m = nn.Conv2d(16,33, (3,5), stride=(2,1),padding=(4,2))\n",
    "m = nn.Conv2d(16,33, (3,5), stride=(2,1), padding=(4,2), dilation=(3,1))\n",
    "print(m)"
   ]
  },
  {
   "cell_type": "code",
   "execution_count": 14,
   "metadata": {},
   "outputs": [
    {
     "data": {
      "text/plain": [
       "torch.Size([20, 33, 26, 100])"
      ]
     },
     "execution_count": 14,
     "metadata": {},
     "output_type": "execute_result"
    }
   ],
   "source": [
    "output = m(input)\n",
    "output.size()"
   ]
  },
  {
   "cell_type": "code",
   "execution_count": 15,
   "metadata": {},
   "outputs": [
    {
     "data": {
      "text/plain": [
       "Conv2d(1, 20, kernel_size=(5, 5), stride=(1, 1))"
      ]
     },
     "execution_count": 15,
     "metadata": {},
     "output_type": "execute_result"
    }
   ],
   "source": [
    "nn.Conv2d(in_channels=1, out_channels=20, kernel_size=5, stride=1)"
   ]
  },
  {
   "cell_type": "code",
   "execution_count": 16,
   "metadata": {},
   "outputs": [],
   "source": [
    "layer = nn.Conv2d(1,20,5,1).to(torch.device('cpu'))"
   ]
  },
  {
   "cell_type": "code",
   "execution_count": 17,
   "metadata": {},
   "outputs": [
    {
     "data": {
      "text/plain": [
       "torch.Size([20, 1, 5, 5])"
      ]
     },
     "execution_count": 17,
     "metadata": {},
     "output_type": "execute_result"
    }
   ],
   "source": [
    "weight = layer.weight\n",
    "weight.shape"
   ]
  },
  {
   "cell_type": "code",
   "execution_count": 18,
   "metadata": {},
   "outputs": [],
   "source": [
    "# weight는 detach()를 통해 꺼내줘야 numpy() 변환 가능\n",
    "\n",
    "weight = weight.detach()"
   ]
  },
  {
   "cell_type": "code",
   "execution_count": 19,
   "metadata": {},
   "outputs": [],
   "source": [
    "# numpy() 변환 가능\n",
    "weight = weight.numpy()"
   ]
  },
  {
   "cell_type": "code",
   "execution_count": 20,
   "metadata": {},
   "outputs": [
    {
     "data": {
      "text/plain": [
       "(5, 5)"
      ]
     },
     "execution_count": 20,
     "metadata": {},
     "output_type": "execute_result"
    }
   ],
   "source": [
    "import numpy as np\n",
    "np.squeeze(weight[0]).shape"
   ]
  },
  {
   "cell_type": "code",
   "execution_count": null,
   "metadata": {},
   "outputs": [],
   "source": []
  },
  {
   "cell_type": "code",
   "execution_count": 21,
   "metadata": {},
   "outputs": [
    {
     "data": {
      "image/png": "[encoded data removed]",
      "text/plain": [
       "<Figure size 640x480 with 2 Axes>"
      ]
     },
     "metadata": {},
     "output_type": "display_data"
    }
   ],
   "source": [
    "# 컨볼루션 계층 하나의 weight 값을 가져와서 컬러로 표현\n",
    "from matplotlib import pyplot as plt\n",
    "plt.imshow(weight[0,0,:,:],'jet')   # 5 x 5 만 선택, 'jet' : 컬러\n",
    "plt.colorbar()\n",
    "plt.show()"
   ]
  },
  {
   "cell_type": "code",
   "execution_count": 22,
   "metadata": {},
   "outputs": [
    {
     "name": "stdout",
     "output_type": "stream",
     "text": [
      "torch.Size([8, 1, 28, 28])\n",
      "torch.Size([1, 28, 28])\n"
     ]
    },
    {
     "data": {
      "text/plain": [
       "torch.Size([28, 28])"
      ]
     },
     "execution_count": 22,
     "metadata": {},
     "output_type": "execute_result"
    }
   ],
   "source": [
    "print(images.shape)\n",
    "print(images[0].size())\n",
    "\n",
    "input_image = torch.squeeze(images[0])\n",
    "input_image.size()"
   ]
  },
  {
   "cell_type": "code",
   "execution_count": 23,
   "metadata": {},
   "outputs": [
    {
     "name": "stdout",
     "output_type": "stream",
     "text": [
      "torch.Size([1, 1, 28, 28])\n",
      "output_data torch.Size([1, 20, 24, 24])\n",
      "output torch.Size([1, 20, 24, 24])\n"
     ]
    },
    {
     "data": {
      "text/plain": [
       "(1, 20, 24, 24)"
      ]
     },
     "execution_count": 23,
     "metadata": {},
     "output_type": "execute_result"
    }
   ],
   "source": [
    "input_data = torch.unsqueeze(images[0], dim=0)\n",
    "print(input_data.size())    # 1 1 28 28\n",
    "\n",
    "output_data = layer(input_data) # layer = nn.Conv2d(1,20,5,1).to(torch.device('cpu'))\n",
    "print('output_data', output_data.shape)   # 객체로 grad도 포함되어있음\n",
    "output = output_data.data       # data값만 가져옴, shape 일치\n",
    "print('output', output.shape)\n",
    "output_np = output.numpy()\n",
    "output_np.shape"
   ]
  },
  {
   "cell_type": "code",
   "execution_count": 24,
   "metadata": {},
   "outputs": [
    {
     "data": {
      "text/plain": [
       "<matplotlib.image.AxesImage at 0x1a3d30abec8>"
      ]
     },
     "execution_count": 24,
     "metadata": {},
     "output_type": "execute_result"
    },
    {
     "data": {
      "image/png": "[encoded data removed]",
      "text/plain": [
       "<Figure size 1500x3000 with 3 Axes>"
      ]
     },
     "metadata": {},
     "output_type": "display_data"
    }
   ],
   "source": [
    "plt.figure(figsize=(15,30))\n",
    "\n",
    "plt.subplot(131)\n",
    "plt.title('input')\n",
    "plt.imshow(input_image, 'gray')    # input_image: 28,28\n",
    "# print(input_image.shape)\n",
    "\n",
    "plt.subplot(132)\n",
    "plt.title('Weight')\n",
    "# plt.imshow(np.squeeze(weight[0]), 'gray')\n",
    "plt.imshow(weight[0,0,:,:], 'jet')     # 뒤의 것만 쓰겠다.\n",
    "\n",
    "plt.subplot(133)\n",
    "plt.title('output')\n",
    "plt.imshow(output[0,0,:,:],'jet')"
   ]
  },
  {
   "cell_type": "code",
   "execution_count": 25,
   "metadata": {},
   "outputs": [
    {
     "data": {
      "text/plain": [
       "(torch.Size([1, 20, 24, 24]), torch.Size([1, 20, 12, 12]))"
      ]
     },
     "execution_count": 25,
     "metadata": {},
     "output_type": "execute_result"
    }
   ],
   "source": [
    "# 풀링 계층\n",
    "import torch.nn.functional as F\n",
    "\n",
    "pool = F.max_pool2d(output,2,2)\n",
    "output.shape, pool.shape        # 2x2 이므로 반쪽이 되었음을 확인할 수 있다."
   ]
  },
  {
   "cell_type": "code",
   "execution_count": 26,
   "metadata": {},
   "outputs": [
    {
     "data": {
      "text/plain": [
       "<matplotlib.image.AxesImage at 0x1a3d2ee5b08>"
      ]
     },
     "execution_count": 26,
     "metadata": {},
     "output_type": "execute_result"
    },
    {
     "data": {
      "image/png": "[encoded data removed]",
      "text/plain": [
       "<Figure size 1500x3000 with 2 Axes>"
      ]
     },
     "metadata": {},
     "output_type": "display_data"
    }
   ],
   "source": [
    "plt.figure(figsize=(15,30))\n",
    "\n",
    "plt.subplot(121)\n",
    "plt.title('input')\n",
    "plt.imshow(input_image, 'gray')    # input_image: 28,28\n",
    "# print(input_image.shape)\n",
    "\n",
    "plt.subplot(122)\n",
    "plt.title('Output')\n",
    "# plt.imshow(np.squeeze(weight[0]), 'gray')\n",
    "plt.imshow(pool[0,0,:,:], 'jet')     # 뒤의 것만 쓰겠다.\n"
   ]
  },
  {
   "cell_type": "code",
   "execution_count": 27,
   "metadata": {},
   "outputs": [
    {
     "data": {
      "text/plain": [
       "torch.Size([1, 784])"
      ]
     },
     "execution_count": 27,
     "metadata": {},
     "output_type": "execute_result"
    }
   ],
   "source": [
    "# 선형 레이어 (Linear layers)\n",
    "flatten = input_image.view(1,28*28)\n",
    "flatten.shape"
   ]
  },
  {
   "cell_type": "code",
   "execution_count": 28,
   "metadata": {},
   "outputs": [
    {
     "data": {
      "text/plain": [
       "torch.Size([1, 10])"
      ]
     },
     "execution_count": 28,
     "metadata": {},
     "output_type": "execute_result"
    }
   ],
   "source": [
    "lin = nn.Linear(784,10)(flatten)\n",
    "lin.shape"
   ]
  },
  {
   "cell_type": "code",
   "execution_count": 29,
   "metadata": {},
   "outputs": [
    {
     "data": {
      "text/plain": [
       "tensor([[ 0.2228,  0.0057,  0.1246, -0.1766,  0.3055,  0.0179,  0.1742,  0.0922,\n",
       "         -0.1835, -0.4603]], grad_fn=<AddmmBackward0>)"
      ]
     },
     "execution_count": 29,
     "metadata": {},
     "output_type": "execute_result"
    }
   ],
   "source": [
    "lin"
   ]
  },
  {
   "cell_type": "code",
   "execution_count": 30,
   "metadata": {},
   "outputs": [
    {
     "data": {
      "text/plain": [
       "<matplotlib.colorbar.Colorbar at 0x1a3d31bdf48>"
      ]
     },
     "execution_count": 30,
     "metadata": {},
     "output_type": "execute_result"
    },
    {
     "data": {
      "image/png": "[encoded data removed]",
      "text/plain": [
       "<Figure size 640x480 with 2 Axes>"
      ]
     },
     "metadata": {},
     "output_type": "display_data"
    }
   ],
   "source": [
    "plt.imshow(lin.detach(),'jet')\n",
    "plt.colorbar()"
   ]
  },
  {
   "cell_type": "code",
   "execution_count": 31,
   "metadata": {},
   "outputs": [
    {
     "data": {
      "text/plain": [
       "tensor([[0.1169, 0.0931, 0.1358, 0.0698, 0.1078, 0.1231, 0.0863, 0.0769, 0.0939,\n",
       "         0.0962]])"
      ]
     },
     "execution_count": 31,
     "metadata": {},
     "output_type": "execute_result"
    }
   ],
   "source": [
    "# 비선형 활성화\n",
    "with torch.no_grad():\n",
    "    flatten = input_image.view(1,28*28)\n",
    "    lin = nn.Linear(784,10)(flatten)\n",
    "    softmax = F.softmax(lin, dim=1)\n",
    "softmax"
   ]
  },
  {
   "cell_type": "code",
   "execution_count": 32,
   "metadata": {},
   "outputs": [
    {
     "data": {
      "text/plain": [
       "tensor(2)"
      ]
     },
     "execution_count": 32,
     "metadata": {},
     "output_type": "execute_result"
    }
   ],
   "source": [
    "torch.argmax(softmax) # 7번이 가장 높다."
   ]
  },
  {
   "cell_type": "code",
   "execution_count": 33,
   "metadata": {},
   "outputs": [
    {
     "data": {
      "text/plain": [
       "torch.Size([4, 20, 24, 24])"
      ]
     },
     "execution_count": 33,
     "metadata": {},
     "output_type": "execute_result"
    }
   ],
   "source": [
    "# 렐루\n",
    "inputs = torch.randn(4,3,28,28)\n",
    "layer = nn.Conv2d(3,20,5,1)\n",
    "output = F.relu(layer(inputs))\n",
    "output.shape"
   ]
  },
  {
   "cell_type": "code",
   "execution_count": 34,
   "metadata": {},
   "outputs": [],
   "source": [
    "# 모델 정의, nn.Module\n",
    "\n",
    "# nn.Module\n",
    "# __init__()\n",
    "# forward()"
   ]
  },
  {
   "cell_type": "code",
   "execution_count": 35,
   "metadata": {},
   "outputs": [],
   "source": [
    "class Model(nn.Module):\n",
    "    def __init__(self, inputs):\n",
    "        super(Model, self).__init__()\n",
    "        self.layer = nn.Linear(inputs,1)\n",
    "        self.activation = nn.Sigmoid()\n",
    "    \n",
    "    def forward(self,x):\n",
    "        x = self.layer(x)\n",
    "        x = self.activation(x)\n",
    "        return x"
   ]
  },
  {
   "cell_type": "code",
   "execution_count": 36,
   "metadata": {},
   "outputs": [
    {
     "name": "stdout",
     "output_type": "stream",
     "text": [
      "[Linear(in_features=1, out_features=1, bias=True), Sigmoid()]\n",
      "[Model(\n",
      "  (layer): Linear(in_features=1, out_features=1, bias=True)\n",
      "  (activation): Sigmoid()\n",
      "), Linear(in_features=1, out_features=1, bias=True), Sigmoid()]\n"
     ]
    }
   ],
   "source": [
    "# Linear, Sigmoid() 계층이 있다는 것을 Children을 통해 알 수 있다.\n",
    "model = Model(1)\n",
    "print(list(model.children()))\n",
    "print(list(model.modules()))"
   ]
  },
  {
   "cell_type": "code",
   "execution_count": 37,
   "metadata": {},
   "outputs": [],
   "source": [
    "# 신경망 정의\n",
    "class Model(nn.Module):\n",
    "    def __init__(self):\n",
    "        super(Model,self).__init__()\n",
    "        self.layer1 = nn.Sequential(nn.Conv2d(in_channels=3, out_channels=64, kernel_size=5),\n",
    "                                    nn.ReLU(inplace=True),\n",
    "                                    nn.MaxPool2d(2))\n",
    "        self.layer2 = nn.Sequential(nn.Conv2d(in_channels=64, out_channels=30, kernel_size=5),\n",
    "                                    nn.ReLU(inplace=True),\n",
    "                                    nn.MaxPool2d(2))\n",
    "        self.layer3 = nn.Sequential(nn.Linear(in_features=30*5*5, out_features=10, bias=True),\n",
    "                                    nn.ReLU(inplace=True),\n",
    "                                    nn.MaxPool2d(2))\n",
    "        def forward(self,x):\n",
    "            x = self.layer1(x)\n",
    "            x = self.layer2(x)\n",
    "            x = x.view(x.shape[0],-1)       # reshape 역할\n",
    "            x = self.layer3(x)\n",
    "            return x"
   ]
  },
  {
   "cell_type": "code",
   "execution_count": 38,
   "metadata": {},
   "outputs": [],
   "source": [
    "# 모델 파라미터\n",
    "\n",
    "# 손실함수\n",
    "\n",
    "# torch.nn.BCELoss : 이중분류(Binary classification)\n",
    "# torch.nn.CrossEntropyLoss : 다중분류\n",
    "# torch.nn.MSELoss : 회귀모델"
   ]
  },
  {
   "cell_type": "code",
   "execution_count": 39,
   "metadata": {},
   "outputs": [],
   "source": [
    "criterion = nn.MSELoss()\n",
    "criterion2 = nn.CrossEntropyLoss()"
   ]
  },
  {
   "cell_type": "code",
   "execution_count": 40,
   "metadata": {},
   "outputs": [],
   "source": [
    "# 옵티마이져(Optimizer)\n",
    "\n",
    "# 손실함수 기반으로 모델이 어떻게 업데이트 되어야 하는지 결정\n",
    "# step() 을 통한 모델 업데이트\n",
    "# torch.optim.Optimizer(params, default) 클래스 사용\n",
    "# zero_grad()를 이용해 기울기 0으로 설정\n",
    "# torch.optim.lr_scheduler: epoch에 따라 lr(학습률) 조절\n",
    "# 주요 옵티마이져 : optim.Adadelta, optim.Adagrad, optim.Adam, optim.RMSprop, optim.SGD"
   ]
  },
  {
   "cell_type": "code",
   "execution_count": 41,
   "metadata": {},
   "outputs": [],
   "source": [
    "# 학습률 스케줄러 : torch.optim.lr_scheduler\n",
    "# 학습시 특정 조건에 따라 학습률 조정하며 최적화 진행\n",
    "# 일정 횟수 이상 되면 학습률을 감소시키거나 최소점 근처에 가면 학습률을 줄이는 등 가능케 함\n"
   ]
  },
  {
   "cell_type": "code",
   "execution_count": 42,
   "metadata": {},
   "outputs": [
    {
     "name": "stdout",
     "output_type": "stream",
     "text": [
      "Requirement already satisfied: torchmetrics in c:\\users\\dilab\\anaconda3\\envs\\dl\\lib\\site-packages (0.11.0)\n",
      "Requirement already satisfied: typing-extensions in c:\\users\\dilab\\anaconda3\\envs\\dl\\lib\\site-packages (from torchmetrics) (4.4.0)\n",
      "Requirement already satisfied: torch>=1.8.1 in c:\\users\\dilab\\anaconda3\\envs\\dl\\lib\\site-packages (from torchmetrics) (1.13.1)\n",
      "Requirement already satisfied: numpy>=1.17.2 in c:\\users\\dilab\\anaconda3\\envs\\dl\\lib\\site-packages (from torchmetrics) (1.21.6)\n",
      "Requirement already satisfied: packaging in c:\\users\\dilab\\anaconda3\\envs\\dl\\lib\\site-packages (from torchmetrics) (22.0)\n"
     ]
    }
   ],
   "source": [
    "# 지표(Metrics)\n",
    "\n",
    "!pip install torchmetrics"
   ]
  },
  {
   "cell_type": "code",
   "execution_count": 43,
   "metadata": {},
   "outputs": [
    {
     "name": "stdout",
     "output_type": "stream",
     "text": [
      "torch.Size([10])\n",
      "tensor([[0.0066, 0.1090, 0.3394, 0.5052, 0.0398],\n",
      "        [0.3849, 0.0153, 0.0661, 0.0293, 0.5044],\n",
      "        [0.1259, 0.2416, 0.1375, 0.1727, 0.3223],\n",
      "        [0.3503, 0.0261, 0.4924, 0.0313, 0.0998],\n",
      "        [0.6649, 0.0431, 0.2462, 0.0148, 0.0310],\n",
      "        [0.2444, 0.1487, 0.1130, 0.2271, 0.2668],\n",
      "        [0.0271, 0.5915, 0.1833, 0.0960, 0.1021],\n",
      "        [0.3710, 0.1769, 0.1591, 0.1926, 0.1004],\n",
      "        [0.0735, 0.2119, 0.5350, 0.1481, 0.0314],\n",
      "        [0.0201, 0.0151, 0.7349, 0.0127, 0.2173]]) tensor([0, 3, 3, 0, 3, 1, 2, 3, 4, 3])\n"
     ]
    }
   ],
   "source": [
    "import torchmetrics\n",
    "\n",
    "preds = torch.randn(10,5).softmax(dim=-1)\n",
    "target = torch.randint(5,(10,))\n",
    "print(target.shape)\n",
    "print(preds, target)"
   ]
  },
  {
   "cell_type": "code",
   "execution_count": 44,
   "metadata": {},
   "outputs": [
    {
     "data": {
      "text/plain": [
       "tensor(0.)"
      ]
     },
     "execution_count": 44,
     "metadata": {},
     "output_type": "execute_result"
    }
   ],
   "source": [
    "# 정확도 직접 구하기\n",
    "(torch.argmax(preds ,dim=1) == target).float().mean()"
   ]
  },
  {
   "cell_type": "code",
   "execution_count": 45,
   "metadata": {},
   "outputs": [
    {
     "data": {
      "text/plain": [
       "tensor(0.)"
      ]
     },
     "execution_count": 45,
     "metadata": {},
     "output_type": "execute_result"
    }
   ],
   "source": [
    "# torchmetrcis.Accuracy 모듈 사용하기\n",
    "metric = torchmetrics.Accuracy(task=\"multiclass\",num_classes=5)\n",
    "metric(preds,target)"
   ]
  },
  {
   "cell_type": "code",
   "execution_count": 46,
   "metadata": {},
   "outputs": [],
   "source": [
    "# 선형 회귀 모델(LinearRegression Model)"
   ]
  },
  {
   "cell_type": "code",
   "execution_count": 47,
   "metadata": {},
   "outputs": [
    {
     "data": {
      "image/png": "[encoded data removed]",
      "text/plain": [
       "<Figure size 640x480 with 1 Axes>"
      ]
     },
     "metadata": {},
     "output_type": "display_data"
    }
   ],
   "source": [
    "# 데이터 생성\n",
    "X = torch.randn(200,1)*10\n",
    "y = X+3*torch.randn(200,1)\n",
    "plt.scatter(X.numpy(), y.numpy())\n",
    "plt.show()"
   ]
  },
  {
   "cell_type": "code",
   "execution_count": 48,
   "metadata": {},
   "outputs": [],
   "source": [
    "class LinearRegressionModel(nn.Module):\n",
    "    def __init__(self):\n",
    "        super(LinearRegressionModel, self).__init__()\n",
    "        self.lin = nn.Linear(1,1)\n",
    "    def forward(self,x):\n",
    "        pred = self.lin(x)\n",
    "        return pred"
   ]
  },
  {
   "cell_type": "code",
   "execution_count": 49,
   "metadata": {},
   "outputs": [
    {
     "name": "stdout",
     "output_type": "stream",
     "text": [
      "LinearRegressionModel(\n",
      "  (lin): Linear(in_features=1, out_features=1, bias=True)\n",
      ")\n",
      "[Parameter containing:\n",
      "tensor([[-0.0984]], requires_grad=True), Parameter containing:\n",
      "tensor([0.0749], requires_grad=True)]\n"
     ]
    }
   ],
   "source": [
    "model = LinearRegressionModel()\n",
    "print(model)\n",
    "print(list(model.parameters()))"
   ]
  },
  {
   "cell_type": "code",
   "execution_count": 50,
   "metadata": {},
   "outputs": [
    {
     "data": {
      "image/png": "[encoded data removed]",
      "text/plain": [
       "<Figure size 640x480 with 1 Axes>"
      ]
     },
     "metadata": {},
     "output_type": "display_data"
    }
   ],
   "source": [
    "w,b = model.parameters()\n",
    "w1,b1 = w[0].item(), b[0].item()\n",
    "x1 = np.array([-30,30])     # x좌표 2개\n",
    "y1 = x1*w1 + b1             # y좌표 2개\n",
    "plt.plot(x1,y1,'r')         # 선 긋기\n",
    "plt.scatter(X,y)\n",
    "plt.grid()\n",
    "plt.show()"
   ]
  },
  {
   "cell_type": "code",
   "execution_count": 51,
   "metadata": {},
   "outputs": [],
   "source": [
    "from torch import optim\n",
    "criterion = nn.MSELoss()\n",
    "optimizer = optim.SGD(model.parameters(), lr=0.01)"
   ]
  },
  {
   "cell_type": "code",
   "execution_count": 52,
   "metadata": {},
   "outputs": [],
   "source": [
    "epochs = 100\n",
    "losses = []\n",
    "\n",
    "for epoch in range(epochs):\n",
    "    # X,y : 200x1\n",
    "    pred = model(X)\n",
    "    loss = criterion(pred,y)\n",
    "    losses.append(loss.item())  # loss는 tensor 값이므로 item()을 이용해서 상수만 뽑아온다.\n",
    "    loss.backward()\n",
    "    optimizer.step()\n",
    "    optimizer.zero_grad()\n"
   ]
  },
  {
   "cell_type": "code",
   "execution_count": 53,
   "metadata": {},
   "outputs": [
    {
     "data": {
      "image/png": "[encoded data removed]",
      "text/plain": [
       "<Figure size 640x480 with 1 Axes>"
      ]
     },
     "metadata": {},
     "output_type": "display_data"
    }
   ],
   "source": [
    "plt.plot(range(len(losses)),losses)\n",
    "plt.show()"
   ]
  },
  {
   "cell_type": "code",
   "execution_count": 54,
   "metadata": {},
   "outputs": [
    {
     "data": {
      "image/png": "[encoded data removed]",
      "text/plain": [
       "<Figure size 640x480 with 1 Axes>"
      ]
     },
     "metadata": {},
     "output_type": "display_data"
    }
   ],
   "source": [
    "\n",
    "w1,b1 = w[0].item(), b[0].item()       # item()으로 상수만 가져올 수 있다.\n",
    "x1 = np.array([-30,30])     # x좌표 2개\n",
    "y1 = x1*w1 + b1             # y좌표 2개\n",
    "plt.plot(x1,y1,'r')         # 선 긋기\n",
    "plt.scatter(X,y)\n",
    "plt.grid()\n",
    "plt.show()"
   ]
  },
  {
   "cell_type": "code",
   "execution_count": 55,
   "metadata": {},
   "outputs": [
    {
     "data": {
      "text/plain": [
       "device(type='cpu')"
      ]
     },
     "execution_count": 55,
     "metadata": {},
     "output_type": "execute_result"
    }
   ],
   "source": [
    "device = torch.device('cuda' if torch.cuda.is_available() else 'cpu')\n",
    "device"
   ]
  },
  {
   "cell_type": "code",
   "execution_count": 56,
   "metadata": {},
   "outputs": [],
   "source": [
    "transform = transforms.Compose([transforms.ToTensor(),\n",
    "                                transforms.Normalize((0.5,), (0.5))])   # mean:0.5, std:0.5\n"
   ]
  },
  {
   "cell_type": "code",
   "execution_count": 57,
   "metadata": {},
   "outputs": [],
   "source": [
    "trainset = datasets.FashionMNIST(root=r'C:\\Users\\DILAB\\쥬피터전용폴더\\3분딥러닝파이토치맛\\Readytoproject',\n",
    "                                 train=True, download=True,\n",
    "                                 transform=transform)   # Tensor()로 바꾸고 mean,std = 0.5\n",
    "testset = datasets.FashionMNIST(root=r'C:\\Users\\DILAB\\쥬피터전용폴더\\3분딥러닝파이토치맛\\Readytoproject',\n",
    "                                 train=False, download=True,\n",
    "                                 transform=transform)\n"
   ]
  },
  {
   "cell_type": "code",
   "execution_count": 58,
   "metadata": {},
   "outputs": [],
   "source": [
    "# DataLoader()로 배치로 나눠주기 \n",
    "train_loader = DataLoader(trainset, batch_size=128, shuffle=True,num_workers=2)\n",
    "test_loader = DataLoader(testset, batch_size=128, shuffle=False,num_workers=2)\n",
    "# num_worker는 어떤 역할을 할까? => gpu, cpu 할당하는 역할"
   ]
  },
  {
   "cell_type": "code",
   "execution_count": 59,
   "metadata": {},
   "outputs": [
    {
     "data": {
      "text/plain": [
       "(torch.Size([128, 1, 28, 28]), torch.Size([128]))"
      ]
     },
     "execution_count": 59,
     "metadata": {},
     "output_type": "execute_result"
    }
   ],
   "source": [
    "# next(iter())하면 리스트에 있는 값을 하나씩 꺼내온다는 의미\n",
    "# 즉 여기서는 첫번째 배치에 해당\n",
    "images, labels = next(iter(train_loader))\n",
    "images.shape, labels.shape"
   ]
  },
  {
   "cell_type": "code",
   "execution_count": 60,
   "metadata": {},
   "outputs": [
    {
     "name": "stdout",
     "output_type": "stream",
     "text": [
      "tensor(7)\n"
     ]
    },
    {
     "data": {
      "image/png": "[encoded data removed]",
      "text/plain": [
       "<Figure size 640x480 with 1 Axes>"
      ]
     },
     "metadata": {},
     "output_type": "display_data"
    }
   ],
   "source": [
    "# plot 선, scatter 점, imshow 그림\n",
    "plt.imshow(images[0,0,:,:])\n",
    "print(labels[0])"
   ]
  },
  {
   "cell_type": "code",
   "execution_count": 61,
   "metadata": {},
   "outputs": [
    {
     "data": {
      "image/png": "[encoded data removed]",
      "text/plain": [
       "<Figure size 1200x1200 with 16 Axes>"
      ]
     },
     "metadata": {},
     "output_type": "display_data"
    }
   ],
   "source": [
    "labels_map = {\n",
    "    0:'T-Shirt',\n",
    "    1:'Trouser',\n",
    "    2:'Pullover',\n",
    "    3:'Dress',\n",
    "    4:'Coat',\n",
    "    5:'Sandal',\n",
    "    6:'Shirt',\n",
    "    7:'Sneaker',\n",
    "    8:'Bag',\n",
    "    9:'Boot'\n",
    "}\n",
    "\n",
    "figure = plt.figure(figsize=(12,12))\n",
    "cols, rows = 4, 4\n",
    "for i in range(1, cols*rows + 1):   # 1부터 16까지\n",
    "    image = images[i].squeeze()     # images.shape : [128,1,28,28]\n",
    "    label_idx = labels[i].item()    # labels.shape : [128]\n",
    "    label = labels_map[label_idx]\n",
    "    \n",
    "    figure.add_subplot(rows,cols,i)\n",
    "    plt.title(label)\n",
    "    plt.imshow(image)\n",
    "    \n",
    "plt.show()"
   ]
  },
  {
   "cell_type": "code",
   "execution_count": 62,
   "metadata": {},
   "outputs": [],
   "source": [
    "# 모델 정의\n",
    "class NeuralNet(nn.Module):\n",
    "    def __init__(self):\n",
    "        super(NeuralNet,self).__init__()\n",
    "        # 컨볼루션 계층 :  특징 추출    \n",
    "        self.conv1 = nn.Conv2d(1,6,3)   # 128,1,28,28 -> 128,6,26,26\n",
    "        self.conv2 = nn.Conv2d(6,16,3)  # 128,16,24,24\n",
    "        # 리니어 계층 : 클래스 분류\n",
    "        self.fc1 = nn.Linear(16*5*5,120)\n",
    "        self.fc2 = nn.Linear(120,84)\n",
    "        self.fc3 = nn.Linear(84,10)     # 10개의 클래스로 분류\n",
    "    \n",
    "    def forward(self,x):\n",
    "        x = F.max_pool2d(F.relu(self.conv1(x)),(2,2))   # input, kernel size\n",
    "        x = F.max_pool2d(F.relu(self.conv2(x)),2)\n",
    "        x = x.view(-1,self.num_flat_features(x))    # reshape()를 사용하면 복사본이 만들어질 수 있기 때문에 view()사용\n",
    "        x = F.relu(self.fc1(x))\n",
    "        x = F.relu(self.fc2(x))\n",
    "        x = self.fc3(x)\n",
    "        return x\n",
    "    \n",
    "    def num_flat_features(self,x):\n",
    "        size = x.size()[1:]\n",
    "        num_features = 1\n",
    "        for s in size:\n",
    "            num_features *= s\n",
    "        \n",
    "        return num_features"
   ]
  },
  {
   "cell_type": "code",
   "execution_count": 63,
   "metadata": {},
   "outputs": [
    {
     "data": {
      "text/plain": [
       "(torch.Size([100, 2]), torch.Size([100, 2]))"
      ]
     },
     "execution_count": 63,
     "metadata": {},
     "output_type": "execute_result"
    }
   ],
   "source": [
    "# shape과 size()의 차이점 : shape \n",
    "a = torch.randn(100,2)\n",
    "a.shape, a.size()[:]"
   ]
  },
  {
   "cell_type": "code",
   "execution_count": 64,
   "metadata": {},
   "outputs": [
    {
     "name": "stdout",
     "output_type": "stream",
     "text": [
      "NeuralNet(\n",
      "  (conv1): Conv2d(1, 6, kernel_size=(3, 3), stride=(1, 1))\n",
      "  (conv2): Conv2d(6, 16, kernel_size=(3, 3), stride=(1, 1))\n",
      "  (fc1): Linear(in_features=400, out_features=120, bias=True)\n",
      "  (fc2): Linear(in_features=120, out_features=84, bias=True)\n",
      "  (fc3): Linear(in_features=84, out_features=10, bias=True)\n",
      ")\n"
     ]
    }
   ],
   "source": [
    "net = NeuralNet()\n",
    "print(net)"
   ]
  },
  {
   "cell_type": "code",
   "execution_count": 65,
   "metadata": {},
   "outputs": [
    {
     "name": "stdout",
     "output_type": "stream",
     "text": [
      "[Parameter containing:\n",
      "tensor([[[[-0.1181,  0.3306,  0.1194],\n",
      "          [-0.3161,  0.2652,  0.1093],\n",
      "          [ 0.3140,  0.2980, -0.2587]]],\n",
      "\n",
      "\n",
      "        [[[ 0.3046,  0.3124, -0.1950],\n",
      "          [ 0.2093, -0.3229, -0.2580],\n",
      "          [-0.2184, -0.3021,  0.1324]]],\n",
      "\n",
      "\n",
      "        [[[-0.3302,  0.1680, -0.0620],\n",
      "          [-0.1528,  0.1203, -0.1408],\n",
      "          [ 0.2591, -0.0271, -0.2929]]],\n",
      "\n",
      "\n",
      "        [[[ 0.0618,  0.1280,  0.0435],\n",
      "          [-0.1612,  0.1330,  0.1963],\n",
      "          [-0.0993, -0.2575, -0.2545]]],\n",
      "\n",
      "\n",
      "        [[[-0.1533, -0.2548, -0.0755],\n",
      "          [ 0.2782,  0.2922, -0.2370],\n",
      "          [ 0.1345,  0.1590,  0.0835]]],\n",
      "\n",
      "\n",
      "        [[[ 0.0056,  0.2779, -0.0285],\n",
      "          [ 0.2483, -0.0698, -0.3296],\n",
      "          [-0.2398, -0.0725,  0.0560]]]], requires_grad=True), Parameter containing:\n",
      "tensor([-0.3255, -0.0148, -0.0068, -0.0151, -0.2703, -0.1917],\n",
      "       requires_grad=True), Parameter containing:\n",
      "tensor([[[[ 0.1345, -0.1004, -0.0768],\n",
      "          [ 0.0495, -0.0517,  0.0899],\n",
      "          [-0.0832, -0.0164, -0.1361]],\n",
      "\n",
      "         [[ 0.1349, -0.0612,  0.0079],\n",
      "          [ 0.0012,  0.0858,  0.1008],\n",
      "          [ 0.1334, -0.0853, -0.0637]],\n",
      "\n",
      "         [[ 0.0067,  0.0566,  0.1141],\n",
      "          [-0.1081,  0.1232, -0.0137],\n",
      "          [ 0.0280, -0.0663, -0.0201]],\n",
      "\n",
      "         [[ 0.0386, -0.0610,  0.0024],\n",
      "          [-0.0380,  0.1017, -0.0814],\n",
      "          [-0.1335,  0.1029,  0.0214]],\n",
      "\n",
      "         [[ 0.0873, -0.0852,  0.0899],\n",
      "          [ 0.0460, -0.0338,  0.0853],\n",
      "          [-0.0886,  0.1081,  0.0960]],\n",
      "\n",
      "         [[-0.0173,  0.0644, -0.0573],\n",
      "          [-0.0786,  0.1263,  0.0266],\n",
      "          [-0.0688, -0.0694,  0.1302]]],\n",
      "\n",
      "\n",
      "        [[[-0.1334,  0.1124, -0.0598],\n",
      "          [ 0.0426,  0.1048,  0.0211],\n",
      "          [ 0.0618,  0.0032,  0.0891]],\n",
      "\n",
      "         [[-0.0416, -0.0211,  0.0888],\n",
      "          [ 0.0636, -0.0453, -0.0252],\n",
      "          [ 0.1153,  0.0427, -0.0190]],\n",
      "\n",
      "         [[ 0.0167, -0.0714, -0.0346],\n",
      "          [-0.0473,  0.0088, -0.1151],\n",
      "          [ 0.0522,  0.1228, -0.0115]],\n",
      "\n",
      "         [[ 0.0332, -0.1331, -0.1075],\n",
      "          [ 0.0754, -0.0470,  0.0798],\n",
      "          [ 0.0085,  0.1232, -0.0415]],\n",
      "\n",
      "         [[-0.0707, -0.1328, -0.0674],\n",
      "          [ 0.0025,  0.0768,  0.0813],\n",
      "          [-0.0250, -0.0914,  0.0480]],\n",
      "\n",
      "         [[-0.0285,  0.0449,  0.0524],\n",
      "          [-0.1359,  0.1028, -0.1096],\n",
      "          [ 0.0479,  0.0330, -0.1114]]],\n",
      "\n",
      "\n",
      "        [[[-0.1146, -0.0936, -0.0863],\n",
      "          [-0.0362,  0.0118,  0.0985],\n",
      "          [-0.1104, -0.0492, -0.0555]],\n",
      "\n",
      "         [[ 0.0600, -0.1186,  0.0383],\n",
      "          [-0.1043,  0.0787, -0.0225],\n",
      "          [ 0.0225,  0.1089,  0.0249]],\n",
      "\n",
      "         [[ 0.0118, -0.0520,  0.0030],\n",
      "          [-0.0773,  0.0116,  0.1013],\n",
      "          [-0.1163, -0.0939, -0.1003]],\n",
      "\n",
      "         [[ 0.0523,  0.1246,  0.0821],\n",
      "          [ 0.0365,  0.1285, -0.0946],\n",
      "          [ 0.1096, -0.0007,  0.0936]],\n",
      "\n",
      "         [[ 0.0542, -0.0749, -0.0882],\n",
      "          [ 0.0056,  0.1117,  0.0976],\n",
      "          [-0.0699, -0.0623,  0.1020]],\n",
      "\n",
      "         [[-0.0688,  0.0430,  0.0989],\n",
      "          [-0.1079,  0.0173,  0.0538],\n",
      "          [-0.0458,  0.1336, -0.1194]]],\n",
      "\n",
      "\n",
      "        [[[ 0.0675,  0.0261,  0.0330],\n",
      "          [ 0.0666,  0.0206, -0.0438],\n",
      "          [-0.0656,  0.0523,  0.0697]],\n",
      "\n",
      "         [[-0.0339,  0.1262,  0.0801],\n",
      "          [ 0.1163, -0.0174,  0.0328],\n",
      "          [ 0.0969,  0.0605,  0.0626]],\n",
      "\n",
      "         [[ 0.0316,  0.0100, -0.0243],\n",
      "          [-0.0837,  0.0316,  0.0273],\n",
      "          [-0.0219,  0.1229, -0.0548]],\n",
      "\n",
      "         [[-0.1057,  0.1049, -0.0854],\n",
      "          [-0.0769, -0.0613,  0.0135],\n",
      "          [ 0.0523,  0.0827, -0.0239]],\n",
      "\n",
      "         [[ 0.1266,  0.0980,  0.0162],\n",
      "          [ 0.0039,  0.0884, -0.1041],\n",
      "          [-0.0035,  0.0202, -0.0225]],\n",
      "\n",
      "         [[-0.1007,  0.0880, -0.0037],\n",
      "          [ 0.1185, -0.0991,  0.1087],\n",
      "          [ 0.0801,  0.0397, -0.1012]]],\n",
      "\n",
      "\n",
      "        [[[-0.1134,  0.0413,  0.0309],\n",
      "          [-0.0388,  0.0200, -0.0027],\n",
      "          [ 0.0065, -0.0758,  0.1189]],\n",
      "\n",
      "         [[ 0.0310,  0.0026, -0.0022],\n",
      "          [ 0.0429,  0.1135, -0.0859],\n",
      "          [ 0.0045,  0.1344,  0.0352]],\n",
      "\n",
      "         [[-0.0127, -0.0598,  0.1048],\n",
      "          [ 0.0676,  0.0513,  0.0666],\n",
      "          [-0.0140, -0.0049,  0.1233]],\n",
      "\n",
      "         [[ 0.0134, -0.0093,  0.1248],\n",
      "          [-0.0019, -0.0027,  0.0490],\n",
      "          [ 0.0346, -0.0065,  0.1159]],\n",
      "\n",
      "         [[-0.1018,  0.1084, -0.0910],\n",
      "          [ 0.1175,  0.1063, -0.0185],\n",
      "          [-0.0506, -0.1064, -0.0148]],\n",
      "\n",
      "         [[ 0.1291, -0.1337,  0.0566],\n",
      "          [-0.0310, -0.0791,  0.1332],\n",
      "          [ 0.0318,  0.0496, -0.1277]]],\n",
      "\n",
      "\n",
      "        [[[-0.0898,  0.0793,  0.0744],\n",
      "          [-0.0659, -0.0263,  0.1060],\n",
      "          [ 0.0635,  0.1205,  0.0843]],\n",
      "\n",
      "         [[ 0.1137,  0.0531, -0.0446],\n",
      "          [ 0.0380, -0.1184, -0.1181],\n",
      "          [ 0.0210, -0.0081, -0.0399]],\n",
      "\n",
      "         [[ 0.0283,  0.0339, -0.1166],\n",
      "          [ 0.1318, -0.0587, -0.0676],\n",
      "          [-0.1206, -0.1268,  0.0750]],\n",
      "\n",
      "         [[ 0.0089,  0.0152,  0.0370],\n",
      "          [-0.1021,  0.0306, -0.0381],\n",
      "          [ 0.1139, -0.0474,  0.0482]],\n",
      "\n",
      "         [[-0.0898, -0.0383,  0.1287],\n",
      "          [-0.0618,  0.0887,  0.0187],\n",
      "          [ 0.1236, -0.0728,  0.0421]],\n",
      "\n",
      "         [[-0.1048, -0.0326, -0.0240],\n",
      "          [-0.0938,  0.0970, -0.0870],\n",
      "          [ 0.0105, -0.0138, -0.1282]]],\n",
      "\n",
      "\n",
      "        [[[ 0.0228, -0.0790, -0.0090],\n",
      "          [-0.0533,  0.0394,  0.1220],\n",
      "          [-0.0208, -0.0484, -0.0553]],\n",
      "\n",
      "         [[-0.0897, -0.0065,  0.1293],\n",
      "          [-0.1040,  0.0930, -0.1298],\n",
      "          [ 0.1076,  0.0281, -0.1352]],\n",
      "\n",
      "         [[-0.0839, -0.0866, -0.1290],\n",
      "          [-0.0583,  0.0209,  0.0908],\n",
      "          [ 0.0606,  0.0595, -0.0633]],\n",
      "\n",
      "         [[ 0.1180,  0.0723,  0.1084],\n",
      "          [ 0.0748,  0.1315, -0.0195],\n",
      "          [ 0.0576, -0.0764, -0.0757]],\n",
      "\n",
      "         [[ 0.1029, -0.0949,  0.0663],\n",
      "          [-0.1049,  0.0084,  0.1054],\n",
      "          [-0.0686, -0.0445,  0.0410]],\n",
      "\n",
      "         [[ 0.0561, -0.1227,  0.1094],\n",
      "          [-0.0012, -0.0433,  0.0787],\n",
      "          [-0.0036,  0.0498, -0.0514]]],\n",
      "\n",
      "\n",
      "        [[[ 0.0207, -0.0791, -0.0030],\n",
      "          [-0.0427,  0.0127, -0.1348],\n",
      "          [-0.0347, -0.0477,  0.0059]],\n",
      "\n",
      "         [[-0.0771, -0.1161, -0.0468],\n",
      "          [ 0.0851, -0.0476, -0.0825],\n",
      "          [ 0.0002, -0.0605,  0.0192]],\n",
      "\n",
      "         [[ 0.0948,  0.0849,  0.0846],\n",
      "          [-0.0294, -0.0242,  0.0044],\n",
      "          [-0.1026, -0.0132,  0.0378]],\n",
      "\n",
      "         [[-0.0770,  0.0311,  0.0342],\n",
      "          [ 0.1337, -0.0346, -0.0999],\n",
      "          [ 0.0729, -0.0600,  0.0136]],\n",
      "\n",
      "         [[-0.1301, -0.1360, -0.0176],\n",
      "          [ 0.1136, -0.1342, -0.0024],\n",
      "          [ 0.0291,  0.0901, -0.0588]],\n",
      "\n",
      "         [[ 0.1167, -0.0492,  0.0759],\n",
      "          [-0.1107,  0.0439,  0.0865],\n",
      "          [ 0.0633,  0.0041,  0.0538]]],\n",
      "\n",
      "\n",
      "        [[[ 0.0620, -0.0140,  0.0367],\n",
      "          [-0.0606,  0.0010, -0.1161],\n",
      "          [ 0.1107,  0.1032,  0.0785]],\n",
      "\n",
      "         [[ 0.0367,  0.1279, -0.0259],\n",
      "          [ 0.0125, -0.0528,  0.1001],\n",
      "          [ 0.0174, -0.0689,  0.0348]],\n",
      "\n",
      "         [[ 0.0084,  0.0187,  0.0128],\n",
      "          [-0.0227, -0.0373, -0.0893],\n",
      "          [-0.1030,  0.0372,  0.0219]],\n",
      "\n",
      "         [[-0.0992, -0.0182,  0.0699],\n",
      "          [-0.1340, -0.0026, -0.0948],\n",
      "          [-0.0484,  0.0558, -0.0049]],\n",
      "\n",
      "         [[-0.1106, -0.0007,  0.0064],\n",
      "          [ 0.1017, -0.1044, -0.0397],\n",
      "          [ 0.1185,  0.0877, -0.0782]],\n",
      "\n",
      "         [[ 0.1106, -0.0466,  0.1106],\n",
      "          [ 0.0390,  0.1094,  0.0988],\n",
      "          [ 0.0311,  0.0854,  0.1176]]],\n",
      "\n",
      "\n",
      "        [[[-0.0452, -0.0398,  0.0017],\n",
      "          [ 0.1083, -0.0364, -0.0354],\n",
      "          [-0.0585, -0.0325, -0.0247]],\n",
      "\n",
      "         [[ 0.0123,  0.0349, -0.0483],\n",
      "          [ 0.0397,  0.0653,  0.0006],\n",
      "          [-0.1008, -0.0077, -0.0133]],\n",
      "\n",
      "         [[-0.0543, -0.0097,  0.0815],\n",
      "          [ 0.0134, -0.0662, -0.0992],\n",
      "          [ 0.0346,  0.0779,  0.0515]],\n",
      "\n",
      "         [[ 0.0858,  0.0284, -0.0594],\n",
      "          [ 0.0291,  0.0069,  0.0765],\n",
      "          [-0.0613, -0.0893, -0.0048]],\n",
      "\n",
      "         [[-0.0849,  0.0451,  0.0007],\n",
      "          [ 0.1134, -0.0589,  0.0061],\n",
      "          [-0.0947, -0.0796, -0.0770]],\n",
      "\n",
      "         [[ 0.0834, -0.0961,  0.0927],\n",
      "          [ 0.0332, -0.0248,  0.0685],\n",
      "          [-0.0188, -0.0133, -0.0663]]],\n",
      "\n",
      "\n",
      "        [[[-0.0501,  0.0059,  0.0306],\n",
      "          [ 0.1235,  0.0298, -0.0434],\n",
      "          [-0.0027, -0.0724, -0.1063]],\n",
      "\n",
      "         [[ 0.1318, -0.0438,  0.0688],\n",
      "          [-0.0780,  0.0083, -0.0386],\n",
      "          [-0.1349, -0.0865,  0.1097]],\n",
      "\n",
      "         [[ 0.0120,  0.0884, -0.0557],\n",
      "          [ 0.0009, -0.0640, -0.0807],\n",
      "          [-0.0943, -0.0985,  0.0101]],\n",
      "\n",
      "         [[ 0.0402, -0.1099, -0.0712],\n",
      "          [ 0.0564,  0.1233,  0.1063],\n",
      "          [ 0.0944,  0.1052, -0.0899]],\n",
      "\n",
      "         [[ 0.1202,  0.1178, -0.1047],\n",
      "          [-0.1133,  0.0581,  0.0846],\n",
      "          [ 0.0643, -0.1186, -0.0652]],\n",
      "\n",
      "         [[-0.0101,  0.0093,  0.0862],\n",
      "          [ 0.0674, -0.1171,  0.1194],\n",
      "          [-0.1345, -0.0664, -0.0027]]],\n",
      "\n",
      "\n",
      "        [[[ 0.0911, -0.0097,  0.1017],\n",
      "          [-0.0999, -0.0408,  0.0614],\n",
      "          [ 0.0705,  0.1339, -0.1253]],\n",
      "\n",
      "         [[-0.1275, -0.0658, -0.0017],\n",
      "          [-0.1301, -0.0504, -0.0047],\n",
      "          [-0.0994,  0.0684, -0.1168]],\n",
      "\n",
      "         [[ 0.0956,  0.0774,  0.1282],\n",
      "          [ 0.0762, -0.0479, -0.0515],\n",
      "          [-0.1241, -0.0321,  0.0356]],\n",
      "\n",
      "         [[ 0.0773, -0.1000,  0.0121],\n",
      "          [ 0.0113, -0.0322,  0.0315],\n",
      "          [-0.0163,  0.0662,  0.0749]],\n",
      "\n",
      "         [[-0.0986, -0.0256,  0.1264],\n",
      "          [ 0.0246, -0.0170, -0.0159],\n",
      "          [-0.1135,  0.0726,  0.0232]],\n",
      "\n",
      "         [[-0.0190, -0.0473, -0.1200],\n",
      "          [ 0.0161,  0.0407, -0.0797],\n",
      "          [ 0.1086, -0.1270,  0.0486]]],\n",
      "\n",
      "\n",
      "        [[[ 0.0572, -0.0845, -0.1111],\n",
      "          [-0.1126,  0.0994,  0.1111],\n",
      "          [-0.0860, -0.1358,  0.0264]],\n",
      "\n",
      "         [[-0.0470,  0.0752, -0.0371],\n",
      "          [-0.0394, -0.0036, -0.1308],\n",
      "          [-0.1000,  0.0150, -0.0979]],\n",
      "\n",
      "         [[ 0.0622,  0.0540, -0.1023],\n",
      "          [ 0.0865,  0.0350,  0.0737],\n",
      "          [ 0.0773, -0.0860,  0.0937]],\n",
      "\n",
      "         [[-0.0734, -0.1180,  0.0294],\n",
      "          [ 0.0032,  0.0125, -0.1351],\n",
      "          [ 0.1164, -0.1123, -0.0823]],\n",
      "\n",
      "         [[ 0.0505, -0.0396, -0.0652],\n",
      "          [ 0.0611, -0.0008,  0.1059],\n",
      "          [ 0.0039,  0.0801, -0.0439]],\n",
      "\n",
      "         [[ 0.0384, -0.1266,  0.1304],\n",
      "          [ 0.0059,  0.1080, -0.0294],\n",
      "          [-0.0034,  0.1160, -0.0619]]],\n",
      "\n",
      "\n",
      "        [[[-0.1008,  0.1032, -0.1070],\n",
      "          [ 0.0721,  0.0948,  0.0928],\n",
      "          [ 0.0213, -0.0489, -0.0580]],\n",
      "\n",
      "         [[ 0.0360,  0.0276,  0.0822],\n",
      "          [-0.0841,  0.0726,  0.0918],\n",
      "          [ 0.0391, -0.1156, -0.0175]],\n",
      "\n",
      "         [[ 0.0390,  0.0413,  0.0261],\n",
      "          [-0.0549,  0.0526,  0.0054],\n",
      "          [ 0.1260,  0.1150,  0.0896]],\n",
      "\n",
      "         [[-0.0349,  0.1253,  0.0248],\n",
      "          [-0.0200,  0.0097,  0.0600],\n",
      "          [-0.1098, -0.1041,  0.0431]],\n",
      "\n",
      "         [[-0.0049,  0.0751,  0.1242],\n",
      "          [-0.0065,  0.0509,  0.0947],\n",
      "          [ 0.1171,  0.0991, -0.0191]],\n",
      "\n",
      "         [[-0.1127, -0.0872,  0.0909],\n",
      "          [ 0.0660, -0.0478,  0.1119],\n",
      "          [-0.0845,  0.1005, -0.0936]]],\n",
      "\n",
      "\n",
      "        [[[-0.1288,  0.0049, -0.1035],\n",
      "          [-0.0317,  0.0591, -0.1070],\n",
      "          [-0.0638,  0.1039,  0.0748]],\n",
      "\n",
      "         [[-0.0333, -0.1085,  0.1292],\n",
      "          [-0.0838, -0.1338, -0.1111],\n",
      "          [-0.0310,  0.1085, -0.0931]],\n",
      "\n",
      "         [[-0.1094,  0.0447, -0.1037],\n",
      "          [ 0.0460, -0.0651, -0.1254],\n",
      "          [ 0.0117,  0.1015,  0.1322]],\n",
      "\n",
      "         [[ 0.1187, -0.0479,  0.0251],\n",
      "          [ 0.0188,  0.1285,  0.0879],\n",
      "          [ 0.1329,  0.0409, -0.0532]],\n",
      "\n",
      "         [[-0.0231, -0.0683, -0.1146],\n",
      "          [ 0.0521,  0.1092, -0.0896],\n",
      "          [ 0.1348,  0.0529, -0.1359]],\n",
      "\n",
      "         [[ 0.1011,  0.1289, -0.0958],\n",
      "          [-0.1123,  0.1157,  0.1016],\n",
      "          [ 0.1047,  0.0581, -0.1286]]],\n",
      "\n",
      "\n",
      "        [[[-0.0151,  0.0252, -0.1274],\n",
      "          [ 0.0745,  0.0902,  0.0111],\n",
      "          [-0.0274, -0.0174,  0.0235]],\n",
      "\n",
      "         [[ 0.0251, -0.0934, -0.1031],\n",
      "          [ 0.1097,  0.1158,  0.0603],\n",
      "          [-0.0150,  0.0406,  0.0763]],\n",
      "\n",
      "         [[ 0.0581, -0.0061, -0.1196],\n",
      "          [ 0.1112, -0.0956,  0.0604],\n",
      "          [-0.1090, -0.0290,  0.1277]],\n",
      "\n",
      "         [[-0.1192, -0.0477,  0.0990],\n",
      "          [-0.0502, -0.1113,  0.0681],\n",
      "          [-0.1114,  0.0165,  0.0995]],\n",
      "\n",
      "         [[ 0.0837, -0.0856, -0.0969],\n",
      "          [ 0.0911, -0.0211,  0.0345],\n",
      "          [-0.0729, -0.0941,  0.1072]],\n",
      "\n",
      "         [[-0.0389, -0.0237, -0.0294],\n",
      "          [ 0.0411,  0.0665, -0.1013],\n",
      "          [ 0.0905, -0.0767, -0.0975]]]], requires_grad=True), Parameter containing:\n",
      "tensor([-0.0228, -0.1103,  0.0030,  0.0241,  0.0012, -0.0223,  0.0344,  0.0415,\n",
      "        -0.0703,  0.0241, -0.0157, -0.0435,  0.0917, -0.1030,  0.0400, -0.1183],\n",
      "       requires_grad=True), Parameter containing:\n",
      "tensor([[-0.0227, -0.0121,  0.0270,  ...,  0.0153, -0.0378, -0.0190],\n",
      "        [-0.0078,  0.0266, -0.0104,  ...,  0.0212,  0.0203, -0.0227],\n",
      "        [-0.0425, -0.0343,  0.0275,  ..., -0.0330, -0.0044,  0.0334],\n",
      "        ...,\n",
      "        [-0.0189, -0.0055,  0.0131,  ...,  0.0148,  0.0479,  0.0223],\n",
      "        [-0.0358, -0.0134,  0.0298,  ..., -0.0137, -0.0196, -0.0338],\n",
      "        [-0.0258,  0.0023,  0.0054,  ..., -0.0228, -0.0297, -0.0031]],\n",
      "       requires_grad=True), Parameter containing:\n",
      "tensor([ 3.7575e-02, -2.8436e-02, -2.7506e-04, -9.9643e-04, -3.4574e-03,\n",
      "        -2.9292e-02, -1.9612e-03, -1.2109e-02,  1.5012e-02,  3.7752e-02,\n",
      "         3.0342e-02, -4.4933e-02,  2.5314e-04,  2.6928e-02,  4.9341e-02,\n",
      "        -3.0025e-02, -7.5557e-03, -3.4319e-02,  1.8302e-02, -2.3495e-03,\n",
      "         1.6697e-03,  4.8995e-02, -4.4785e-02,  4.9318e-02, -3.2019e-02,\n",
      "         4.0356e-02, -4.2482e-02,  2.8846e-02, -3.0063e-02, -7.2656e-03,\n",
      "         3.8975e-03,  9.5278e-03,  1.0546e-02,  3.6103e-02,  4.2335e-02,\n",
      "        -2.5351e-02, -4.8182e-02, -3.3067e-02, -3.7294e-02,  3.9938e-02,\n",
      "        -3.1736e-02,  3.3193e-02, -4.0852e-02, -1.1305e-02, -1.3203e-02,\n",
      "        -4.3165e-02, -1.2370e-02, -4.5074e-02, -1.2245e-02,  2.0452e-05,\n",
      "         2.1690e-02, -1.7888e-02,  4.8826e-02, -3.8755e-02,  1.9400e-02,\n",
      "        -2.7123e-02, -4.0856e-02, -2.3853e-02,  4.3237e-02,  9.5950e-03,\n",
      "         4.6048e-02,  1.9582e-02, -3.1183e-02,  7.9709e-03, -3.2770e-02,\n",
      "         8.9297e-03, -3.5700e-02, -2.1875e-02, -4.5068e-02, -6.0163e-03,\n",
      "         3.7955e-02,  3.1237e-02,  9.7604e-03, -8.8583e-03, -2.5367e-03,\n",
      "         1.5507e-02,  2.7612e-02,  2.0540e-02,  2.7751e-02,  1.1758e-02,\n",
      "         4.5025e-02, -4.4325e-02,  2.2792e-02, -6.5568e-03, -2.0033e-02,\n",
      "         4.2298e-02, -4.8473e-04, -1.1854e-02, -1.9908e-03,  4.9519e-02,\n",
      "        -2.3500e-02,  3.1817e-02, -1.8750e-03, -1.6924e-02, -2.6138e-02,\n",
      "        -3.8840e-02,  3.5483e-02,  9.8054e-03,  4.3232e-03, -3.3778e-02,\n",
      "         6.7973e-03, -1.8363e-02,  3.0396e-02,  4.2691e-02, -1.3680e-03,\n",
      "         1.9399e-03, -4.8190e-02, -4.3725e-02,  1.4037e-02, -4.2761e-02,\n",
      "        -3.0674e-02,  2.1415e-02,  3.1352e-02, -4.8171e-02,  2.1644e-03,\n",
      "         3.4391e-02,  2.1557e-02, -3.5023e-02, -9.2378e-03,  1.7638e-02],\n",
      "       requires_grad=True), Parameter containing:\n",
      "tensor([[-0.0110,  0.0337, -0.0905,  ...,  0.0143, -0.0747,  0.0448],\n",
      "        [ 0.0515,  0.0113, -0.0485,  ...,  0.0279,  0.0403,  0.0496],\n",
      "        [ 0.0781, -0.0260,  0.0606,  ..., -0.0704,  0.0092, -0.0399],\n",
      "        ...,\n",
      "        [-0.0349,  0.0062, -0.0580,  ...,  0.0677,  0.0083,  0.0678],\n",
      "        [ 0.0103,  0.0187,  0.0815,  ...,  0.0259, -0.0139, -0.0825],\n",
      "        [ 0.0174,  0.0909,  0.0774,  ...,  0.0040,  0.0499, -0.0669]],\n",
      "       requires_grad=True), Parameter containing:\n",
      "tensor([ 0.0416,  0.0475, -0.0284,  0.0253,  0.0239, -0.0849, -0.0900, -0.0523,\n",
      "         0.0855,  0.0855, -0.0854, -0.0281, -0.0527, -0.0380, -0.0208,  0.0133,\n",
      "        -0.0221, -0.0875,  0.0543,  0.0198, -0.0044, -0.0450, -0.0272,  0.0351,\n",
      "         0.0647, -0.0625,  0.0862,  0.0542, -0.0465,  0.0404,  0.0255, -0.0392,\n",
      "         0.0324,  0.0524,  0.0396,  0.0795,  0.0311, -0.0494, -0.0709,  0.0685,\n",
      "        -0.0600, -0.0738, -0.0020,  0.0772, -0.0423,  0.0179,  0.0721,  0.0433,\n",
      "         0.0781,  0.0510, -0.0829,  0.0665,  0.0879,  0.0484, -0.0856, -0.0625,\n",
      "         0.0671,  0.0876, -0.0106,  0.0471, -0.0065, -0.0847, -0.0197,  0.0560,\n",
      "         0.0199,  0.0796,  0.0595, -0.0225,  0.0173,  0.0669,  0.0159, -0.0690,\n",
      "        -0.0237, -0.0130,  0.0843,  0.0071,  0.0651,  0.0688,  0.0230, -0.0827,\n",
      "         0.0526,  0.0242, -0.0655,  0.0198], requires_grad=True), Parameter containing:\n",
      "tensor([[ 3.4189e-02, -8.9840e-02, -6.0096e-02, -9.8011e-02,  9.0827e-02,\n",
      "         -6.3956e-02, -7.1376e-02,  6.2615e-02, -1.6444e-02, -6.9050e-02,\n",
      "         -8.4761e-02, -9.4991e-02,  5.0936e-02, -3.6169e-03, -5.6171e-02,\n",
      "          4.2638e-02,  3.3514e-02, -6.8288e-02,  8.2143e-02,  3.7023e-02,\n",
      "         -6.6555e-02,  1.0524e-01,  8.1503e-02,  2.1810e-02,  1.5543e-04,\n",
      "         -9.3467e-02, -1.0149e-01,  1.7652e-02,  4.7474e-02, -4.2902e-02,\n",
      "         -6.0379e-02,  9.5618e-02, -5.3749e-02,  2.8688e-02,  2.3072e-02,\n",
      "          6.2066e-02,  2.6858e-03,  7.3113e-02,  5.8291e-02,  1.0605e-01,\n",
      "          3.6215e-02,  9.8287e-02, -3.4069e-02, -1.0604e-01, -6.2645e-02,\n",
      "          1.0136e-01, -5.2047e-02, -8.7219e-02, -5.3845e-02, -6.9942e-02,\n",
      "         -7.8308e-02, -7.3830e-02,  5.2959e-03,  6.8289e-02,  9.3670e-03,\n",
      "         -5.0446e-03, -8.9500e-02, -7.1978e-03,  4.8410e-02, -1.3597e-02,\n",
      "          2.5596e-02,  4.0141e-02, -1.0053e-01, -5.4037e-02, -3.3572e-02,\n",
      "          2.8401e-02,  8.8035e-02,  1.7620e-03,  9.9113e-02,  4.8582e-02,\n",
      "         -3.2390e-03,  6.2493e-02,  1.6276e-02, -6.0562e-02,  5.6727e-02,\n",
      "          2.5796e-02, -6.6562e-02, -3.6998e-02,  2.0868e-02, -4.2023e-02,\n",
      "         -2.1101e-02, -1.1984e-02, -3.5620e-02, -1.6840e-02],\n",
      "        [ 7.0495e-02, -4.3523e-02, -3.9264e-03, -1.2875e-02,  8.7026e-02,\n",
      "         -8.7145e-02, -1.2714e-02, -1.2177e-03, -7.1446e-02,  9.7791e-02,\n",
      "         -8.3927e-02,  1.8599e-02,  1.0064e-01, -2.2270e-02,  3.0091e-02,\n",
      "          3.9942e-02,  2.6427e-02, -1.0836e-01,  7.9390e-02,  1.7054e-02,\n",
      "         -6.7213e-03, -4.3294e-03, -9.8161e-02,  2.3133e-02,  4.2605e-02,\n",
      "         -6.7702e-02, -2.5219e-02, -9.8557e-02,  6.2118e-02,  3.9314e-02,\n",
      "          2.8555e-03, -1.0627e-01,  5.7310e-02, -6.5766e-02,  8.8434e-02,\n",
      "          2.2014e-02,  5.2612e-02,  7.9803e-02,  9.7450e-02, -6.6600e-02,\n",
      "         -8.2273e-02, -1.5513e-03, -3.1447e-03, -6.7557e-02, -5.8400e-02,\n",
      "         -3.3456e-02,  4.2872e-02, -3.6584e-02,  3.8318e-02, -4.5470e-02,\n",
      "          3.4851e-02,  1.0386e-01, -3.8252e-02, -8.0047e-02, -2.4652e-02,\n",
      "         -2.6822e-02,  1.8806e-02,  8.5113e-02, -6.2283e-02, -1.0169e-01,\n",
      "          1.4026e-02,  9.9416e-02, -3.1711e-02, -1.0808e-01, -3.0648e-02,\n",
      "         -8.4198e-02,  4.0876e-03,  8.7321e-02,  8.0494e-03, -1.0572e-01,\n",
      "         -2.0414e-02,  5.1198e-02,  6.6925e-02,  3.1063e-02, -1.1256e-02,\n",
      "         -5.1177e-02,  4.7924e-02, -3.7497e-02, -1.0875e-01, -6.6413e-02,\n",
      "         -6.1940e-02,  3.0010e-02, -7.9609e-02,  4.9419e-02],\n",
      "        [-1.1269e-02, -1.0454e-01,  2.3118e-02, -1.6263e-02,  1.1440e-02,\n",
      "          1.7267e-02,  1.0081e-01,  1.0419e-01, -8.5842e-02,  9.7861e-02,\n",
      "         -1.8026e-02,  3.5795e-02,  6.6878e-03, -1.0204e-01,  2.1568e-02,\n",
      "         -1.4927e-02,  3.8772e-02, -3.0204e-02, -4.7917e-02, -9.1724e-02,\n",
      "          7.0947e-02, -3.1468e-03, -5.7752e-02,  4.0851e-02,  4.3420e-02,\n",
      "         -1.1273e-02, -1.3808e-02,  3.0161e-02, -9.6202e-02, -4.3033e-02,\n",
      "          7.7627e-02, -5.6030e-02, -2.5997e-02,  5.9222e-02,  4.2090e-02,\n",
      "         -6.3422e-02,  3.7097e-03, -7.9030e-02, -1.5836e-02,  1.0529e-02,\n",
      "          6.7960e-02, -8.2054e-02, -2.2049e-02, -9.0302e-02,  6.5727e-02,\n",
      "          2.8477e-02,  6.0918e-02,  9.7113e-03,  1.4081e-02,  8.4807e-02,\n",
      "         -9.7709e-02,  6.2109e-02,  1.4523e-02,  2.5375e-02,  1.0597e-01,\n",
      "         -5.8613e-02, -4.8426e-02, -6.7808e-02,  3.9953e-02, -1.0606e-01,\n",
      "         -4.1416e-02,  9.7126e-02, -1.6022e-04, -1.4801e-02,  6.4412e-02,\n",
      "          8.4633e-02, -7.8416e-02,  4.8683e-02, -1.0552e-02,  4.2532e-02,\n",
      "          1.0708e-01,  4.8632e-02,  1.0033e-01,  4.7388e-02,  3.9288e-02,\n",
      "          1.0285e-02,  2.9722e-02, -8.5916e-02, -1.0332e-02,  8.4105e-03,\n",
      "         -6.7312e-02,  8.5588e-03, -6.8749e-02,  3.8200e-02],\n",
      "        [ 3.6301e-02,  8.2580e-02,  2.8310e-02,  8.3997e-02,  6.6212e-02,\n",
      "          1.0811e-01,  3.3995e-02, -1.0506e-01,  4.3571e-02,  7.2645e-02,\n",
      "         -5.9696e-02,  4.3256e-02,  1.1094e-02, -8.7403e-02,  1.0904e-01,\n",
      "         -1.0029e-01, -1.3486e-02,  6.5942e-02, -3.9333e-02,  6.9392e-02,\n",
      "          1.1000e-02, -2.9954e-02,  9.9957e-03,  8.6298e-04, -3.4528e-02,\n",
      "          2.8058e-02,  5.1925e-02, -1.6597e-02,  2.2811e-02,  5.2086e-02,\n",
      "          9.8167e-02, -1.5061e-02,  6.8260e-02,  8.2769e-02,  2.7211e-02,\n",
      "          4.9905e-02, -8.5854e-02, -1.9779e-02, -9.2074e-02,  1.5545e-02,\n",
      "          8.5870e-02,  5.3556e-02, -4.3800e-02, -1.0741e-01, -7.4441e-02,\n",
      "          6.5191e-02,  2.2798e-02, -7.1677e-02,  3.4662e-04, -7.4791e-02,\n",
      "         -1.0111e-01,  8.7255e-02,  2.3092e-02,  7.5331e-02,  3.5365e-02,\n",
      "         -2.6045e-02, -6.2147e-02, -6.8406e-02,  5.5908e-02, -6.3858e-02,\n",
      "         -9.4343e-02, -6.4128e-02, -5.8516e-02, -9.8682e-02, -9.7240e-03,\n",
      "          6.6406e-02,  1.1521e-02,  3.5231e-02,  3.1490e-02,  4.6865e-02,\n",
      "          3.5886e-02,  9.3149e-02, -6.1410e-02,  6.9586e-02, -8.7037e-02,\n",
      "          6.5297e-02, -9.3286e-02,  7.3150e-02,  7.6624e-02, -3.7606e-02,\n",
      "          3.6617e-02, -8.0355e-02, -8.4427e-02, -4.4297e-02],\n",
      "        [-9.5674e-02, -1.8363e-02, -2.0997e-02, -2.5625e-02, -5.2792e-02,\n",
      "          2.0794e-02,  1.3931e-02,  2.9293e-02, -9.2655e-02, -7.1859e-02,\n",
      "         -1.4976e-02, -9.4685e-02,  3.1527e-02, -9.2527e-02, -3.4344e-02,\n",
      "          8.5272e-02,  1.0655e-01, -9.1611e-02,  8.3300e-02,  1.6122e-02,\n",
      "          4.3094e-02,  3.8852e-02,  9.9712e-02,  9.6666e-02, -2.8759e-02,\n",
      "         -7.8361e-02, -2.5317e-02,  2.1297e-02, -9.7233e-03, -4.2276e-02,\n",
      "          7.9705e-02,  1.0576e-01,  6.9693e-02, -9.4645e-02, -8.1912e-02,\n",
      "          9.8393e-02, -8.2982e-02,  1.2469e-02, -3.9173e-02,  5.9608e-02,\n",
      "         -5.6930e-02, -1.1738e-02, -2.1498e-02, -1.1185e-02, -2.0190e-02,\n",
      "          2.9479e-02,  4.6603e-02, -1.0652e-01, -2.6513e-02, -1.0470e-01,\n",
      "         -9.1750e-03, -8.6775e-02,  9.1061e-02, -2.9296e-02, -8.9789e-02,\n",
      "          5.8102e-02,  8.5401e-02, -1.7576e-02,  1.0188e-01, -2.1611e-02,\n",
      "          1.0135e-01,  6.6674e-02, -9.8510e-03, -2.9224e-02,  3.9484e-02,\n",
      "         -8.7797e-02,  4.5493e-02, -2.2543e-02,  3.0152e-02,  1.9159e-02,\n",
      "         -2.4388e-02, -1.2576e-02,  1.0870e-02,  6.9346e-02, -1.0023e-01,\n",
      "          4.0418e-02,  1.0006e-01, -5.0152e-02,  9.9601e-02, -7.0430e-03,\n",
      "          4.0528e-02, -2.2378e-02,  2.4570e-02, -1.0577e-01],\n",
      "        [-1.5880e-02,  3.6946e-02,  9.8026e-02, -6.8812e-02, -6.9897e-02,\n",
      "         -8.5764e-02,  3.7400e-02,  5.3007e-02, -3.7650e-02, -5.3146e-02,\n",
      "          8.5559e-02,  1.0485e-01,  2.7640e-03,  9.9791e-03,  1.0128e-01,\n",
      "          3.0671e-03, -5.9940e-02, -8.2870e-02, -7.8672e-02,  1.9327e-02,\n",
      "          4.7025e-02, -9.5378e-03, -6.1871e-02, -3.4124e-02, -6.6733e-02,\n",
      "          9.6091e-02,  1.0571e-01,  8.5679e-02,  2.2809e-02,  6.6530e-02,\n",
      "          6.5493e-02, -8.1134e-02,  4.1514e-03,  2.9014e-02,  8.7409e-02,\n",
      "         -1.9822e-02, -2.6167e-02,  3.8139e-02, -1.0217e-01, -9.9971e-02,\n",
      "         -7.0611e-02,  8.2398e-02,  1.4757e-02,  3.5260e-02, -1.7191e-02,\n",
      "         -9.2271e-02, -6.9480e-02,  6.0029e-02, -7.3940e-02,  1.0452e-01,\n",
      "         -8.4454e-02, -2.4450e-02,  2.3329e-02, -1.0567e-01,  5.8033e-02,\n",
      "          7.9766e-02,  9.3168e-02, -7.5397e-02, -2.3704e-02, -5.6834e-02,\n",
      "         -6.1959e-02, -3.5756e-02, -4.0523e-02, -1.0384e-01, -4.0632e-02,\n",
      "          4.2630e-02,  1.0798e-01,  9.3906e-02,  1.0223e-01, -5.2169e-02,\n",
      "          3.9110e-02, -4.0577e-03, -1.0299e-01,  7.8109e-02,  1.1665e-02,\n",
      "         -1.0863e-01, -2.4606e-02,  2.3862e-02,  9.0508e-02, -5.9087e-02,\n",
      "         -4.6258e-02, -3.6622e-02,  5.6888e-02, -4.7512e-02],\n",
      "        [ 5.6658e-02,  1.9901e-02, -4.5650e-02, -4.4980e-02, -9.3632e-02,\n",
      "         -2.3032e-02, -3.2597e-03, -3.4256e-02,  9.2482e-02, -9.2685e-02,\n",
      "         -1.9942e-02,  3.4050e-02, -5.2378e-02,  1.5700e-02, -9.0315e-02,\n",
      "          6.1234e-02,  3.1702e-02, -3.4650e-03, -4.7509e-02, -3.1656e-02,\n",
      "          1.0842e-01, -2.6612e-02, -8.9737e-02,  2.7508e-02,  5.2863e-03,\n",
      "         -5.0719e-02,  9.3662e-02,  7.0111e-02,  7.3523e-02,  6.3176e-02,\n",
      "          1.0398e-01,  9.0795e-02, -1.8305e-02,  4.7400e-02,  8.1023e-02,\n",
      "          9.5749e-03,  5.1369e-02,  4.1242e-02, -5.9462e-02,  4.3675e-02,\n",
      "         -3.2723e-02,  6.2708e-02,  7.1116e-02, -8.0807e-02,  6.1418e-02,\n",
      "          1.6100e-03, -8.0185e-02, -1.0662e-03,  2.3545e-02,  6.3330e-02,\n",
      "          7.0448e-02, -4.6613e-02,  1.0320e-01,  3.1595e-02, -1.0764e-01,\n",
      "         -1.7387e-02, -9.0821e-02, -6.9489e-02,  1.6950e-02,  1.0318e-01,\n",
      "         -4.5049e-03,  3.7790e-02,  5.9633e-02,  1.0109e-02,  9.2445e-02,\n",
      "          9.4513e-02, -7.3475e-02, -6.5478e-02,  6.1903e-02,  5.7076e-02,\n",
      "         -6.1077e-02,  6.6494e-02,  9.7548e-02, -1.6864e-02, -3.9130e-02,\n",
      "          8.8312e-02, -1.8554e-02, -8.4873e-02, -6.2360e-02, -7.2337e-02,\n",
      "         -1.0796e-02,  2.9611e-02,  5.5096e-02,  7.0547e-02],\n",
      "        [ 1.0640e-01, -3.8011e-02,  9.5694e-02, -4.9535e-02, -1.4521e-02,\n",
      "          8.3413e-02,  7.9529e-02,  5.6801e-02,  9.3837e-02,  1.5231e-02,\n",
      "          6.6787e-02,  8.9390e-02,  9.9137e-02, -7.2752e-02, -1.0246e-01,\n",
      "         -1.1865e-03, -1.6058e-02,  4.1175e-02, -7.2758e-02,  5.7408e-02,\n",
      "         -3.5977e-02,  2.1725e-02, -4.7192e-02, -7.7538e-02,  5.7540e-02,\n",
      "         -3.3499e-03, -1.0799e-01, -8.5132e-02, -4.7799e-02, -8.2367e-02,\n",
      "          3.9356e-02,  2.4454e-02, -5.1173e-02,  2.4171e-02, -5.2570e-02,\n",
      "         -9.7747e-02, -7.7170e-02, -3.8111e-02,  2.9510e-02,  5.5282e-02,\n",
      "         -9.8853e-02, -1.0558e-01,  9.7481e-02, -6.8461e-02, -1.0722e-01,\n",
      "         -9.6399e-03,  9.9221e-02,  5.5941e-03, -4.8490e-02, -1.4938e-02,\n",
      "         -3.7018e-02,  2.6116e-02, -7.2784e-02, -8.8928e-02, -2.9112e-03,\n",
      "         -2.5632e-02,  4.8809e-02,  5.9979e-02, -2.9755e-02,  9.7160e-02,\n",
      "          2.9354e-04, -7.4951e-02,  3.6369e-02, -8.6845e-03, -2.4539e-02,\n",
      "         -5.3546e-02,  8.9763e-02,  3.2398e-02,  9.7921e-02,  1.8045e-03,\n",
      "         -7.0702e-02,  1.0716e-01,  5.2694e-02, -6.0007e-02,  3.4062e-02,\n",
      "         -1.9453e-03, -3.0577e-02,  6.2072e-03,  8.2196e-02,  1.0779e-01,\n",
      "          7.7934e-02, -1.0680e-01,  5.4793e-02, -7.1611e-02],\n",
      "        [ 5.4006e-02, -1.9141e-02,  9.0841e-02,  1.8580e-02,  4.7303e-02,\n",
      "         -2.3527e-02,  6.5308e-02, -9.8262e-02,  1.0472e-01,  6.7281e-02,\n",
      "         -7.3127e-02,  3.6070e-02,  2.7537e-02, -5.3648e-02, -6.2597e-02,\n",
      "          8.9287e-02, -1.0905e-01,  1.0018e-01, -2.1503e-02, -5.3488e-02,\n",
      "          4.5305e-02, -8.2634e-02,  2.3755e-03,  7.2623e-02, -2.0935e-02,\n",
      "          6.9115e-02, -3.5141e-02,  1.0874e-01, -3.0132e-02, -3.7920e-02,\n",
      "          9.8312e-02, -1.1682e-02, -5.9674e-02, -6.9163e-02,  4.6990e-02,\n",
      "          6.3944e-02, -1.0279e-01, -1.0193e-02, -2.8846e-03,  2.3152e-02,\n",
      "          4.5766e-02, -3.7058e-02,  3.6609e-02,  1.0536e-01, -3.8807e-02,\n",
      "          7.9341e-02,  9.4294e-03, -5.5138e-02,  7.2905e-02, -7.3900e-02,\n",
      "         -7.5077e-03, -8.4939e-02, -1.3688e-02, -7.9611e-02,  8.8949e-02,\n",
      "          4.2148e-02,  1.9769e-02,  1.7890e-02,  8.2480e-02,  1.0161e-02,\n",
      "          1.0811e-01, -8.4655e-02, -4.2413e-02, -1.6184e-02, -1.0375e-01,\n",
      "         -3.6412e-03, -6.4404e-02,  1.6239e-02,  4.0693e-02, -3.6595e-02,\n",
      "         -5.1704e-03,  9.5487e-02,  5.0060e-02, -9.1975e-02, -7.4268e-02,\n",
      "          5.1204e-02,  6.7337e-02, -2.4013e-02,  2.0928e-02, -9.8181e-02,\n",
      "          6.3959e-02, -2.1967e-02,  1.0947e-02, -9.2509e-02],\n",
      "        [-1.1401e-02, -3.5020e-02,  5.7073e-02, -7.7435e-02, -2.2775e-02,\n",
      "         -8.9751e-02,  5.4087e-02, -1.5153e-02,  8.3421e-02, -1.0723e-01,\n",
      "          7.5079e-02, -1.0015e-01,  7.3208e-02,  6.1775e-02, -4.0635e-02,\n",
      "          4.6217e-03,  2.0786e-02,  5.7605e-02, -1.0790e-01, -8.5321e-03,\n",
      "          4.0435e-02, -7.2048e-02,  5.7223e-02,  2.1046e-03,  3.7213e-02,\n",
      "         -1.0323e-01,  5.1561e-02, -3.4911e-02,  8.2687e-05, -8.6744e-02,\n",
      "          9.4142e-02, -3.3152e-02, -8.6460e-02, -7.0565e-02,  6.3890e-02,\n",
      "          1.0769e-01,  7.3744e-02,  1.0176e-01, -1.7125e-02, -5.0551e-02,\n",
      "          2.6524e-02, -3.1550e-02, -4.7773e-03, -8.8831e-02,  4.7631e-02,\n",
      "          4.5959e-02,  4.6144e-02, -8.6472e-02,  6.5434e-02, -1.9293e-02,\n",
      "          8.1349e-02, -5.7426e-03, -8.0306e-03,  9.2589e-02, -7.3726e-02,\n",
      "          9.1934e-02,  8.1295e-02, -3.7342e-02,  4.7829e-02, -5.0238e-02,\n",
      "         -2.5233e-02,  3.9738e-02,  1.0303e-02, -9.1285e-02,  4.2326e-02,\n",
      "          9.3773e-02, -7.5443e-02, -7.8833e-02, -5.7504e-02, -5.5148e-02,\n",
      "         -9.2803e-02,  2.9888e-02,  5.0709e-03,  7.4627e-03,  1.0103e-01,\n",
      "          2.7812e-02,  7.2718e-02, -4.9657e-02, -1.0453e-01, -3.7449e-02,\n",
      "         -6.9244e-02,  6.3105e-02, -2.3848e-02, -5.2323e-02]],\n",
      "       requires_grad=True), Parameter containing:\n",
      "tensor([ 0.0998,  0.1079,  0.0753, -0.0729,  0.0299, -0.0518, -0.0128,  0.0677,\n",
      "         0.0976, -0.0913], requires_grad=True)]\n",
      "[NeuralNet(\n",
      "  (conv1): Conv2d(1, 6, kernel_size=(3, 3), stride=(1, 1))\n",
      "  (conv2): Conv2d(6, 16, kernel_size=(3, 3), stride=(1, 1))\n",
      "  (fc1): Linear(in_features=400, out_features=120, bias=True)\n",
      "  (fc2): Linear(in_features=120, out_features=84, bias=True)\n",
      "  (fc3): Linear(in_features=84, out_features=10, bias=True)\n",
      "), Conv2d(1, 6, kernel_size=(3, 3), stride=(1, 1)), Conv2d(6, 16, kernel_size=(3, 3), stride=(1, 1)), Linear(in_features=400, out_features=120, bias=True), Linear(in_features=120, out_features=84, bias=True), Linear(in_features=84, out_features=10, bias=True)]\n"
     ]
    }
   ],
   "source": [
    "print(list(net.parameters()))\n",
    "print(list(net.modules()))"
   ]
  },
  {
   "cell_type": "code",
   "execution_count": 66,
   "metadata": {},
   "outputs": [
    {
     "name": "stdout",
     "output_type": "stream",
     "text": [
      "tensor([[[[-0.1181,  0.3306,  0.1194],\n",
      "          [-0.3161,  0.2652,  0.1093],\n",
      "          [ 0.3140,  0.2980, -0.2587]]],\n",
      "\n",
      "\n",
      "        [[[ 0.3046,  0.3124, -0.1950],\n",
      "          [ 0.2093, -0.3229, -0.2580],\n",
      "          [-0.2184, -0.3021,  0.1324]]],\n",
      "\n",
      "\n",
      "        [[[-0.3302,  0.1680, -0.0620],\n",
      "          [-0.1528,  0.1203, -0.1408],\n",
      "          [ 0.2591, -0.0271, -0.2929]]],\n",
      "\n",
      "\n",
      "        [[[ 0.0618,  0.1280,  0.0435],\n",
      "          [-0.1612,  0.1330,  0.1963],\n",
      "          [-0.0993, -0.2575, -0.2545]]],\n",
      "\n",
      "\n",
      "        [[[-0.1533, -0.2548, -0.0755],\n",
      "          [ 0.2782,  0.2922, -0.2370],\n",
      "          [ 0.1345,  0.1590,  0.0835]]],\n",
      "\n",
      "\n",
      "        [[[ 0.0056,  0.2779, -0.0285],\n",
      "          [ 0.2483, -0.0698, -0.3296],\n",
      "          [-0.2398, -0.0725,  0.0560]]]]) None\n"
     ]
    }
   ],
   "source": [
    "print(list(net.parameters())[0].data,list(net.parameters())[0].data.grad)"
   ]
  },
  {
   "cell_type": "code",
   "execution_count": 67,
   "metadata": {},
   "outputs": [
    {
     "name": "stdout",
     "output_type": "stream",
     "text": [
      "10\n",
      "torch.Size([6, 1, 3, 3])\n"
     ]
    }
   ],
   "source": [
    "params = list(net.parameters())\n",
    "print(len(params))\n",
    "print(params[0].size())"
   ]
  },
  {
   "cell_type": "code",
   "execution_count": 97,
   "metadata": {},
   "outputs": [],
   "source": [
    "criterion = nn.CrossEntropyLoss()       # 클래스 분류이므로\n",
    "optimizer = optim.SGD(net.parameters(), lr=0.01, momentum=0.9)\n"
   ]
  },
  {
   "cell_type": "code",
   "execution_count": 98,
   "metadata": {},
   "outputs": [
    {
     "name": "stdout",
     "output_type": "stream",
     "text": [
      "469\n"
     ]
    }
   ],
   "source": [
    "total_batch = len(train_loader)\n",
    "print(total_batch)  # 468번 iteration을 돔"
   ]
  },
  {
   "cell_type": "code",
   "execution_count": 99,
   "metadata": {},
   "outputs": [
    {
     "name": "stdout",
     "output_type": "stream",
     "text": [
      "Epoch: 1, iter: 100, Loss : 59.42126706242561\n",
      "Epoch: 1, iter: 200, Loss : 53.230715185403824\n",
      "Epoch: 1, iter: 300, Loss : 49.71629846096039\n",
      "Epoch: 1, iter: 400, Loss : 45.266033470630646\n",
      "Epoch: 2, iter: 100, Loss : 44.497788429260254\n",
      "Epoch: 2, iter: 200, Loss : 41.484730303287506\n",
      "Epoch: 2, iter: 300, Loss : 40.548825442790985\n",
      "Epoch: 2, iter: 400, Loss : 40.36973947286606\n",
      "Epoch: 3, iter: 100, Loss : 36.52643957734108\n",
      "Epoch: 3, iter: 200, Loss : 37.65736049413681\n",
      "Epoch: 3, iter: 300, Loss : 36.894102826714516\n",
      "Epoch: 3, iter: 400, Loss : 36.04692453145981\n",
      "Epoch: 4, iter: 100, Loss : 33.789658948779106\n",
      "Epoch: 4, iter: 200, Loss : 33.33838875591755\n",
      "Epoch: 4, iter: 300, Loss : 33.213501155376434\n",
      "Epoch: 4, iter: 400, Loss : 33.80666618049145\n",
      "Epoch: 5, iter: 100, Loss : 31.0361335426569\n",
      "Epoch: 5, iter: 200, Loss : 31.123532339930534\n",
      "Epoch: 5, iter: 300, Loss : 31.51782977581024\n",
      "Epoch: 5, iter: 400, Loss : 31.23389506340027\n",
      "Epoch: 6, iter: 100, Loss : 29.364794239401817\n",
      "Epoch: 6, iter: 200, Loss : 29.963012874126434\n",
      "Epoch: 6, iter: 300, Loss : 29.813586995005608\n",
      "Epoch: 6, iter: 400, Loss : 28.69499471783638\n",
      "Epoch: 7, iter: 100, Loss : 27.4927921295166\n",
      "Epoch: 7, iter: 200, Loss : 29.129594326019287\n",
      "Epoch: 7, iter: 300, Loss : 28.91789421439171\n",
      "Epoch: 7, iter: 400, Loss : 27.29023127257824\n",
      "Epoch: 8, iter: 100, Loss : 27.852213889360428\n",
      "Epoch: 8, iter: 200, Loss : 26.672820195555687\n",
      "Epoch: 8, iter: 300, Loss : 27.21300010383129\n",
      "Epoch: 8, iter: 400, Loss : 27.47189052402973\n",
      "Epoch: 9, iter: 100, Loss : 27.420681573450565\n",
      "Epoch: 9, iter: 200, Loss : 27.041691601276398\n",
      "Epoch: 9, iter: 300, Loss : 25.753873348236084\n",
      "Epoch: 9, iter: 400, Loss : 26.25540852546692\n",
      "Epoch: 10, iter: 100, Loss : 25.52740767598152\n",
      "Epoch: 10, iter: 200, Loss : 25.28103981912136\n",
      "Epoch: 10, iter: 300, Loss : 25.245682537555695\n",
      "Epoch: 10, iter: 400, Loss : 25.55562050640583\n"
     ]
    }
   ],
   "source": [
    "for epoch in range(10):\n",
    "    running_loss = 0.0\n",
    "    \n",
    "    for i, data in enumerate(train_loader):\n",
    "        inputs, labels =data\n",
    "        \n",
    "        optimizer.zero_grad()\n",
    "        \n",
    "        outputs = net(inputs)\n",
    "        loss = criterion(outputs,labels)\n",
    "        loss.backward()\n",
    "        optimizer.step()\n",
    "        \n",
    "        running_loss += loss.item()     # loss.item()을 해줘야 한다.\n",
    "        \n",
    "        if i % 100 == 99:\n",
    "            print('Epoch: {}, iter: {}, Loss : {}'.format(epoch+1,i+1,running_loss))\n",
    "            running_loss = 0.0"
   ]
  },
  {
   "cell_type": "code",
   "execution_count": 71,
   "metadata": {},
   "outputs": [
    {
     "data": {
      "text/plain": [
       "torch.Size([20, 33, 50, 100])"
      ]
     },
     "execution_count": 71,
     "metadata": {},
     "output_type": "execute_result"
    }
   ],
   "source": [
    "# nn.Conv2d, 컨볼루션 계층에 대한 이해\n",
    "m = nn.Conv2d(16,33,3,stride=1,padding=1) # inchannel, outchannel, kernel\n",
    "# 채널수를 16->33으로 늘린다. -> 두꺼워진다. CNN 모델의 그림을 보면 알 수 있을 것이다.\n",
    "input = torch.randn(20,16,50,100)   # batch, inchannel, width, height\n",
    "output = m(input)\n",
    "output.shape    # 커널크기가 3이면(3,3) padding=1로 해줘야 전후 크기가 일치한다."
   ]
  },
  {
   "cell_type": "code",
   "execution_count": 72,
   "metadata": {},
   "outputs": [
    {
     "data": {
      "text/plain": [
       "OrderedDict([('conv1.weight',\n",
       "              tensor([[[[-0.1825,  0.4344,  0.1629],\n",
       "                        [-0.3728,  0.3843,  0.1276],\n",
       "                        [ 0.2731,  0.4009, -0.2704]]],\n",
       "              \n",
       "              \n",
       "                      [[[ 0.0536, -0.2128, -0.6787],\n",
       "                        [-0.0489, -0.8742, -0.7880],\n",
       "                        [-0.3889, -0.7761, -0.3231]]],\n",
       "              \n",
       "              \n",
       "                      [[[-0.6116, -0.2738, -0.5537],\n",
       "                        [-0.4288, -0.3273, -0.6427],\n",
       "                        [ 0.0738, -0.3753, -0.6713]]],\n",
       "              \n",
       "              \n",
       "                      [[[-0.0531, -0.0267,  0.0315],\n",
       "                        [-0.3384, -0.1048,  0.1311],\n",
       "                        [-0.3303, -0.5406, -0.3597]]],\n",
       "              \n",
       "              \n",
       "                      [[[-0.1711, -0.2767, -0.2176],\n",
       "                        [ 0.3290,  0.3443, -0.3571],\n",
       "                        [ 0.2195,  0.2387,  0.0062]]],\n",
       "              \n",
       "              \n",
       "                      [[[ 0.0391,  0.2994, -0.0402],\n",
       "                        [ 0.2725, -0.0753, -0.3579],\n",
       "                        [-0.2590, -0.0993,  0.0190]]]])),\n",
       "             ('conv1.bias',\n",
       "              tensor([-0.1622,  0.2783,  0.2424,  0.1272, -0.1105, -0.1590])),\n",
       "             ('conv2.weight',\n",
       "              tensor([[[[ 0.1302, -0.1066, -0.0856],\n",
       "                        [ 0.0525, -0.0450,  0.0961],\n",
       "                        [-0.0798, -0.0145, -0.1318]],\n",
       "              \n",
       "                       [[ 0.2436,  0.0608,  0.1504],\n",
       "                        [ 0.0321,  0.1095,  0.1382],\n",
       "                        [ 0.1686, -0.0376, -0.0221]],\n",
       "              \n",
       "                       [[ 0.1347,  0.2138,  0.2728],\n",
       "                        [-0.0813,  0.1616,  0.0170],\n",
       "                        [ 0.0608, -0.0270,  0.0191]],\n",
       "              \n",
       "                       [[ 0.0648, -0.0145,  0.0386],\n",
       "                        [-0.0247,  0.1227, -0.0721],\n",
       "                        [-0.1157,  0.1215,  0.0270]],\n",
       "              \n",
       "                       [[ 0.1301, -0.0581,  0.1448],\n",
       "                        [ 0.0705, -0.0150,  0.1211],\n",
       "                        [-0.0800,  0.1180,  0.1159]],\n",
       "              \n",
       "                       [[-0.0133,  0.0665, -0.0419],\n",
       "                        [-0.0673,  0.1346,  0.0460],\n",
       "                        [-0.0650, -0.0632,  0.1443]]],\n",
       "              \n",
       "              \n",
       "                      [[[-0.1067,  0.1914, -0.0243],\n",
       "                        [ 0.0743,  0.1774,  0.0679],\n",
       "                        [ 0.0966,  0.0630,  0.1471]],\n",
       "              \n",
       "                       [[ 0.0749, -0.0918,  0.0580],\n",
       "                        [ 0.2091, -0.1178, -0.1325],\n",
       "                        [ 0.2933,  0.0153, -0.0990]],\n",
       "              \n",
       "                       [[ 0.1067, -0.1436, -0.0708],\n",
       "                        [ 0.0468, -0.0781, -0.2351],\n",
       "                        [ 0.1768,  0.0931, -0.1074]],\n",
       "              \n",
       "                       [[ 0.0803, -0.1504, -0.1513],\n",
       "                        [ 0.1419, -0.0419,  0.0183],\n",
       "                        [ 0.0801,  0.1438, -0.0700]],\n",
       "              \n",
       "                       [[-0.0469, -0.1127, -0.0230],\n",
       "                        [ 0.0271,  0.0907,  0.1209],\n",
       "                        [-0.0008, -0.0857,  0.0688]],\n",
       "              \n",
       "                       [[-0.0152,  0.0464,  0.0626],\n",
       "                        [-0.1110,  0.1155, -0.1011],\n",
       "                        [ 0.0767,  0.0424, -0.0949]]],\n",
       "              \n",
       "              \n",
       "                      [[[-0.1154, -0.0887, -0.0823],\n",
       "                        [-0.0314,  0.0118,  0.1035],\n",
       "                        [-0.1092, -0.0513, -0.0519]],\n",
       "              \n",
       "                       [[ 0.0913, -0.1195,  0.0454],\n",
       "                        [-0.1252,  0.0928, -0.0025],\n",
       "                        [ 0.0146,  0.1102,  0.0287]],\n",
       "              \n",
       "                       [[ 0.0405, -0.0571, -0.0042],\n",
       "                        [-0.0914,  0.0349,  0.1184],\n",
       "                        [-0.1365, -0.0987, -0.0927]],\n",
       "              \n",
       "                       [[ 0.0665,  0.1417,  0.0902],\n",
       "                        [ 0.0239,  0.1340, -0.0850],\n",
       "                        [ 0.1119, -0.0027,  0.0870]],\n",
       "              \n",
       "                       [[ 0.0623, -0.0721, -0.0764],\n",
       "                        [ 0.0224,  0.1285,  0.1067],\n",
       "                        [-0.0651, -0.0507,  0.1169]],\n",
       "              \n",
       "                       [[-0.0623,  0.0514,  0.1076],\n",
       "                        [-0.1047,  0.0209,  0.0573],\n",
       "                        [-0.0392,  0.1384, -0.1167]]],\n",
       "              \n",
       "              \n",
       "                      [[[ 0.0550,  0.0170,  0.0528],\n",
       "                        [ 0.0593,  0.0219, -0.0109],\n",
       "                        [-0.0695,  0.0500,  0.0914]],\n",
       "              \n",
       "                       [[ 0.0646,  0.3623,  0.1771],\n",
       "                        [ 0.1931,  0.1356,  0.0349],\n",
       "                        [ 0.2330,  0.2513,  0.1284]],\n",
       "              \n",
       "                       [[ 0.1600,  0.2514,  0.0985],\n",
       "                        [-0.0210,  0.1576,  0.0407],\n",
       "                        [ 0.0699,  0.2765,  0.0070]],\n",
       "              \n",
       "                       [[-0.0936,  0.1733, -0.0432],\n",
       "                        [-0.0575, -0.0105,  0.0484],\n",
       "                        [ 0.1075,  0.1629,  0.0444]],\n",
       "              \n",
       "                       [[ 0.1916,  0.1436,  0.0613],\n",
       "                        [ 0.0401,  0.1272, -0.0925],\n",
       "                        [ 0.0206,  0.0598, -0.0120]],\n",
       "              \n",
       "                       [[-0.0883,  0.1183,  0.0125],\n",
       "                        [ 0.1462, -0.0696,  0.1142],\n",
       "                        [ 0.1154,  0.0721, -0.0885]]],\n",
       "              \n",
       "              \n",
       "                      [[[-0.1080,  0.0289,  0.0378],\n",
       "                        [-0.0345,  0.0221,  0.0163],\n",
       "                        [ 0.0155, -0.0767,  0.1229]],\n",
       "              \n",
       "                       [[ 0.1567,  0.2563,  0.1549],\n",
       "                        [ 0.1651,  0.3114,  0.0361],\n",
       "                        [ 0.1510,  0.4151,  0.2806]],\n",
       "              \n",
       "                       [[ 0.1474,  0.1856,  0.2863],\n",
       "                        [ 0.1938,  0.2539,  0.1902],\n",
       "                        [ 0.1368,  0.2400,  0.3476]],\n",
       "              \n",
       "                       [[ 0.0724,  0.0853,  0.2060],\n",
       "                        [ 0.0555,  0.0761,  0.1540],\n",
       "                        [ 0.1212,  0.1088,  0.2553]],\n",
       "              \n",
       "                       [[-0.0676,  0.1479, -0.0607],\n",
       "                        [ 0.1439,  0.1634, -0.0084],\n",
       "                        [-0.0342, -0.0523,  0.0009]],\n",
       "              \n",
       "                       [[ 0.1379, -0.0998,  0.0744],\n",
       "                        [-0.0121, -0.0422,  0.1530],\n",
       "                        [ 0.0561,  0.0957, -0.0953]]],\n",
       "              \n",
       "              \n",
       "                      [[[-0.0701,  0.1558,  0.1511],\n",
       "                        [-0.0475,  0.0442,  0.1887],\n",
       "                        [ 0.0906,  0.1777,  0.1629]],\n",
       "              \n",
       "                       [[ 0.3709,  0.0063, -0.2133],\n",
       "                        [ 0.3058, -0.1904, -0.2271],\n",
       "                        [ 0.2355, -0.0905, -0.1033]],\n",
       "              \n",
       "                       [[ 0.2527, -0.0023, -0.2659],\n",
       "                        [ 0.3485, -0.1064, -0.1857],\n",
       "                        [ 0.0485, -0.1837,  0.0023]],\n",
       "              \n",
       "                       [[ 0.1038,  0.0376, -0.0482],\n",
       "                        [-0.0042,  0.0484, -0.1112],\n",
       "                        [ 0.1940, -0.0409, -0.0076]],\n",
       "              \n",
       "                       [[-0.0682, -0.0448,  0.1497],\n",
       "                        [-0.0390,  0.0924,  0.0550],\n",
       "                        [ 0.1398, -0.0681,  0.0844]],\n",
       "              \n",
       "                       [[-0.0891, -0.0432, -0.0188],\n",
       "                        [-0.0716,  0.0910, -0.0663],\n",
       "                        [ 0.0287, -0.0195, -0.1033]]],\n",
       "              \n",
       "              \n",
       "                      [[[ 0.0366, -0.0670,  0.0346],\n",
       "                        [-0.0466,  0.0397,  0.1818],\n",
       "                        [-0.0240, -0.0519,  0.0057]],\n",
       "              \n",
       "                       [[-0.0988,  0.0388,  0.0460],\n",
       "                        [-0.0587,  0.1922, -0.2678],\n",
       "                        [ 0.1964,  0.1677, -0.2424]],\n",
       "              \n",
       "                       [[-0.0952, -0.0734, -0.2235],\n",
       "                        [-0.0222,  0.0816, -0.0295],\n",
       "                        [ 0.1369,  0.1600, -0.1587]],\n",
       "              \n",
       "                       [[ 0.1364,  0.1008,  0.0917],\n",
       "                        [ 0.1066,  0.1818, -0.0426],\n",
       "                        [ 0.1033, -0.0098, -0.0826]],\n",
       "              \n",
       "                       [[ 0.1232, -0.0698,  0.1070],\n",
       "                        [-0.0928,  0.0292,  0.1298],\n",
       "                        [-0.0566, -0.0267,  0.0569]],\n",
       "              \n",
       "                       [[ 0.0682, -0.0990,  0.1217],\n",
       "                        [ 0.0179, -0.0194,  0.0833],\n",
       "                        [ 0.0140,  0.0688, -0.0432]]],\n",
       "              \n",
       "              \n",
       "                      [[[ 0.0195, -0.0779, -0.0052],\n",
       "                        [-0.0420,  0.0134, -0.1360],\n",
       "                        [-0.0352, -0.0477,  0.0049]],\n",
       "              \n",
       "                       [[-0.0802, -0.1224, -0.0501],\n",
       "                        [ 0.0800, -0.0516, -0.0824],\n",
       "                        [ 0.0026, -0.0624,  0.0156]],\n",
       "              \n",
       "                       [[ 0.0871,  0.0788,  0.0816],\n",
       "                        [-0.0372, -0.0293,  0.0021],\n",
       "                        [-0.1052, -0.0149,  0.0380]],\n",
       "              \n",
       "                       [[-0.0815,  0.0290,  0.0318],\n",
       "                        [ 0.1303, -0.0340, -0.1000],\n",
       "                        [ 0.0733, -0.0604,  0.0106]],\n",
       "              \n",
       "                       [[-0.1287, -0.1349, -0.0157],\n",
       "                        [ 0.1145, -0.1355, -0.0045],\n",
       "                        [ 0.0278,  0.0876, -0.0597]],\n",
       "              \n",
       "                       [[ 0.1175, -0.0494,  0.0760],\n",
       "                        [-0.1112,  0.0437,  0.0865],\n",
       "                        [ 0.0635,  0.0031,  0.0528]]],\n",
       "              \n",
       "              \n",
       "                      [[[ 0.0734,  0.0034,  0.0461],\n",
       "                        [-0.0403,  0.0227, -0.1067],\n",
       "                        [ 0.1395,  0.1244,  0.0806]],\n",
       "              \n",
       "                       [[-0.0014,  0.1035,  0.0247],\n",
       "                        [-0.0438, -0.0668,  0.1981],\n",
       "                        [-0.0495, -0.0618,  0.1663]],\n",
       "              \n",
       "                       [[-0.0200, -0.0016,  0.0486],\n",
       "                        [-0.0753, -0.0609, -0.0280],\n",
       "                        [-0.1635,  0.0260,  0.1291]],\n",
       "              \n",
       "                       [[-0.1117, -0.0401,  0.0778],\n",
       "                        [-0.1477, -0.0216, -0.0577],\n",
       "                        [-0.0676,  0.0368,  0.0355]],\n",
       "              \n",
       "                       [[-0.1111,  0.0109,  0.0080],\n",
       "                        [ 0.1006, -0.0880, -0.0431],\n",
       "                        [ 0.1219,  0.1127, -0.0675]],\n",
       "              \n",
       "                       [[ 0.1015, -0.0461,  0.1138],\n",
       "                        [ 0.0325,  0.1172,  0.1161],\n",
       "                        [ 0.0305,  0.1017,  0.1336]]],\n",
       "              \n",
       "              \n",
       "                      [[[-0.0390, -0.0365,  0.0045],\n",
       "                        [ 0.1100, -0.0299, -0.0233],\n",
       "                        [-0.0577, -0.0269, -0.0078]],\n",
       "              \n",
       "                       [[ 0.0293,  0.0751, -0.0031],\n",
       "                        [ 0.0652,  0.0908, -0.0130],\n",
       "                        [-0.0950,  0.0238, -0.0378]],\n",
       "              \n",
       "                       [[-0.0400,  0.0227,  0.1298],\n",
       "                        [ 0.0361, -0.0464, -0.1151],\n",
       "                        [ 0.0448,  0.0981,  0.0332]],\n",
       "              \n",
       "                       [[ 0.1020,  0.0424, -0.0445],\n",
       "                        [ 0.0424,  0.0131,  0.0803],\n",
       "                        [-0.0557, -0.0823,  0.0025]],\n",
       "              \n",
       "                       [[-0.0816,  0.0594,  0.0187],\n",
       "                        [ 0.1154, -0.0480,  0.0173],\n",
       "                        [-0.0958, -0.0725, -0.0747]],\n",
       "              \n",
       "                       [[ 0.0923, -0.0880,  0.0961],\n",
       "                        [ 0.0402, -0.0170,  0.0721],\n",
       "                        [-0.0158, -0.0048, -0.0643]]],\n",
       "              \n",
       "              \n",
       "                      [[[-0.0583,  0.0032,  0.0335],\n",
       "                        [ 0.1305,  0.0224, -0.0355],\n",
       "                        [ 0.0058, -0.0745, -0.1007]],\n",
       "              \n",
       "                       [[ 0.2205, -0.0135,  0.0601],\n",
       "                        [-0.0874, -0.0031, -0.0604],\n",
       "                        [-0.1504, -0.0959,  0.1155]],\n",
       "              \n",
       "                       [[ 0.1148,  0.1572, -0.0446],\n",
       "                        [-0.0028, -0.0647, -0.0913],\n",
       "                        [-0.1043, -0.1061,  0.0042]],\n",
       "              \n",
       "                       [[ 0.0626, -0.0972, -0.0710],\n",
       "                        [ 0.0627,  0.1179,  0.1021],\n",
       "                        [ 0.1038,  0.1062, -0.0841]],\n",
       "              \n",
       "                       [[ 0.1418,  0.1314, -0.1017],\n",
       "                        [-0.1137,  0.0607,  0.0848],\n",
       "                        [ 0.0650, -0.1189, -0.0676]],\n",
       "              \n",
       "                       [[-0.0109,  0.0069,  0.0838],\n",
       "                        [ 0.0655, -0.1178,  0.1203],\n",
       "                        [-0.1347, -0.0638,  0.0081]]],\n",
       "              \n",
       "              \n",
       "                      [[[ 0.1053, -0.0015,  0.1048],\n",
       "                        [-0.0894, -0.0332,  0.0654],\n",
       "                        [ 0.0784,  0.1429, -0.1199]],\n",
       "              \n",
       "                       [[-0.1301, -0.0756, -0.0096],\n",
       "                        [-0.1313, -0.0573, -0.0113],\n",
       "                        [-0.0971,  0.0655, -0.1193]],\n",
       "              \n",
       "                       [[ 0.0975,  0.0738,  0.1220],\n",
       "                        [ 0.0746, -0.0557, -0.0605],\n",
       "                        [-0.1239, -0.0379,  0.0302]],\n",
       "              \n",
       "                       [[ 0.0777, -0.1017,  0.0095],\n",
       "                        [ 0.0107, -0.0335,  0.0264],\n",
       "                        [-0.0125,  0.0722,  0.0770]],\n",
       "              \n",
       "                       [[-0.0913, -0.0215,  0.1301],\n",
       "                        [ 0.0215, -0.0241, -0.0207],\n",
       "                        [-0.1156,  0.0669,  0.0190]],\n",
       "              \n",
       "                       [[-0.0197, -0.0510, -0.1225],\n",
       "                        [ 0.0155,  0.0374, -0.0820],\n",
       "                        [ 0.1085, -0.1277,  0.0481]]],\n",
       "              \n",
       "              \n",
       "                      [[[ 0.0613, -0.0664, -0.0861],\n",
       "                        [-0.1123,  0.1231,  0.1519],\n",
       "                        [-0.0724, -0.1120,  0.0740]],\n",
       "              \n",
       "                       [[ 0.0998,  0.1655, -0.0948],\n",
       "                        [ 0.0870, -0.0062, -0.2439],\n",
       "                        [-0.0282, -0.0284, -0.2327]],\n",
       "              \n",
       "                       [[ 0.2158,  0.1386, -0.1274],\n",
       "                        [ 0.2019,  0.0515, -0.0210],\n",
       "                        [ 0.1359, -0.1271, -0.0317]],\n",
       "              \n",
       "                       [[-0.0167, -0.0792,  0.0028],\n",
       "                        [ 0.0446,  0.0220, -0.1820],\n",
       "                        [ 0.1518, -0.1179, -0.1325]],\n",
       "              \n",
       "                       [[ 0.0698, -0.0309, -0.0511],\n",
       "                        [ 0.0856,  0.0231,  0.1261],\n",
       "                        [ 0.0195,  0.0981, -0.0238]],\n",
       "              \n",
       "                       [[ 0.0474, -0.1227,  0.1283],\n",
       "                        [ 0.0178,  0.1111, -0.0281],\n",
       "                        [ 0.0087,  0.1200, -0.0572]]],\n",
       "              \n",
       "              \n",
       "                      [[[-0.0886,  0.1086, -0.1245],\n",
       "                        [ 0.0947,  0.1207,  0.0914],\n",
       "                        [ 0.0519, -0.0240, -0.0576]],\n",
       "              \n",
       "                       [[ 0.0773,  0.1660,  0.3817],\n",
       "                        [-0.1157,  0.0989,  0.2588],\n",
       "                        [-0.0161, -0.0723,  0.1603]],\n",
       "              \n",
       "                       [[ 0.1203,  0.2200,  0.2961],\n",
       "                        [-0.0661,  0.1120,  0.1371],\n",
       "                        [ 0.0961,  0.1705,  0.2305]],\n",
       "              \n",
       "                       [[-0.0111,  0.1560,  0.1235],\n",
       "                        [-0.0186,  0.0014,  0.1223],\n",
       "                        [-0.1087, -0.1179,  0.1038]],\n",
       "              \n",
       "                       [[ 0.0186,  0.1180,  0.1711],\n",
       "                        [ 0.0124,  0.0965,  0.1327],\n",
       "                        [ 0.1325,  0.1495,  0.0110]],\n",
       "              \n",
       "                       [[-0.1222, -0.0682,  0.1238],\n",
       "                        [ 0.0620, -0.0243,  0.1371],\n",
       "                        [-0.0865,  0.1251, -0.0699]]],\n",
       "              \n",
       "              \n",
       "                      [[[-0.1093,  0.0312, -0.0923],\n",
       "                        [-0.0081,  0.0816, -0.0935],\n",
       "                        [-0.0498,  0.1028,  0.0927]],\n",
       "              \n",
       "                       [[-0.0644, -0.1944,  0.1173],\n",
       "                        [-0.0834, -0.1357, -0.1357],\n",
       "                        [ 0.0923,  0.2741, -0.0597]],\n",
       "              \n",
       "                       [[-0.1413, -0.0357, -0.1325],\n",
       "                        [ 0.0377, -0.1133, -0.1835],\n",
       "                        [ 0.1002,  0.2204,  0.1506]],\n",
       "              \n",
       "                       [[ 0.1275, -0.0837,  0.0070],\n",
       "                        [ 0.0581,  0.1589,  0.1021],\n",
       "                        [ 0.2022,  0.1237,  0.0006]],\n",
       "              \n",
       "                       [[-0.0143, -0.0471, -0.0879],\n",
       "                        [ 0.0578,  0.1242, -0.0727],\n",
       "                        [ 0.1432,  0.0651, -0.1310]],\n",
       "              \n",
       "                       [[ 0.1052,  0.1371, -0.0847],\n",
       "                        [-0.0985,  0.1498,  0.1237],\n",
       "                        [ 0.1397,  0.1038, -0.1146]]],\n",
       "              \n",
       "              \n",
       "                      [[[-0.0055,  0.0433, -0.1159],\n",
       "                        [ 0.0877,  0.1056,  0.0171],\n",
       "                        [-0.0125, -0.0078,  0.0285]],\n",
       "              \n",
       "                       [[ 0.0170, -0.1431, -0.1548],\n",
       "                        [ 0.1124,  0.1667,  0.1318],\n",
       "                        [-0.0278,  0.1139,  0.1541]],\n",
       "              \n",
       "                       [[ 0.0537, -0.0559, -0.1882],\n",
       "                        [ 0.1090, -0.0663,  0.0937],\n",
       "                        [-0.1275,  0.0283,  0.1891]],\n",
       "              \n",
       "                       [[-0.1184, -0.0525,  0.0937],\n",
       "                        [-0.0470, -0.0918,  0.1070],\n",
       "                        [-0.1148,  0.0308,  0.1354]],\n",
       "              \n",
       "                       [[ 0.1008, -0.0808, -0.0840],\n",
       "                        [ 0.1098, -0.0151,  0.0362],\n",
       "                        [-0.0505, -0.0667,  0.1160]],\n",
       "              \n",
       "                       [[-0.0388, -0.0202, -0.0199],\n",
       "                        [ 0.0498,  0.0870, -0.0755],\n",
       "                        [ 0.0984, -0.0622, -0.0880]]]])),\n",
       "             ('conv2.bias',\n",
       "              tensor([ 0.0459, -0.0530,  0.0132,  0.0547, -0.0083,  0.0761,  0.0400,  0.0407,\n",
       "                      -0.0532,  0.0353,  0.0399, -0.0133,  0.1459, -0.0775,  0.0923, -0.1107])),\n",
       "             ('fc1.weight',\n",
       "              tensor([[-0.0269,  0.0129,  0.0316,  ...,  0.0081, -0.0331, -0.0187],\n",
       "                      [-0.0081,  0.0264, -0.0104,  ...,  0.0212,  0.0203, -0.0227],\n",
       "                      [-0.0238, -0.0376,  0.0290,  ..., -0.0396, -0.0151,  0.0341],\n",
       "                      ...,\n",
       "                      [-0.0190, -0.0055,  0.0131,  ...,  0.0148,  0.0479,  0.0223],\n",
       "                      [-0.0349, -0.0425,  0.0327,  ..., -0.0252, -0.0376, -0.0203],\n",
       "                      [-0.0306,  0.0358, -0.0111,  ..., -0.0344, -0.0374, -0.0189]])),\n",
       "             ('fc1.bias',\n",
       "              tensor([ 0.0289, -0.0285,  0.0338, -0.0130, -0.0083, -0.0183,  0.0027, -0.0144,\n",
       "                       0.0393,  0.0341,  0.0280, -0.0508,  0.0122,  0.0254,  0.0363, -0.0314,\n",
       "                      -0.0148, -0.0418,  0.0226, -0.0018,  0.0083,  0.0708, -0.0547,  0.0482,\n",
       "                      -0.0293,  0.0326, -0.0341,  0.0467, -0.0285,  0.0123,  0.0198,  0.0231,\n",
       "                       0.0370,  0.0687,  0.0486, -0.0204, -0.0481, -0.0270, -0.0430,  0.0377,\n",
       "                      -0.0319,  0.0113, -0.0406, -0.0123,  0.0273, -0.0483, -0.0116, -0.0476,\n",
       "                      -0.0222, -0.0178,  0.0110, -0.0186,  0.0519, -0.0396,  0.0241, -0.0273,\n",
       "                      -0.0346, -0.0218,  0.0336, -0.0008,  0.0658,  0.0196, -0.0542,  0.0061,\n",
       "                       0.0031,  0.0370, -0.0357, -0.0220, -0.0446, -0.0324,  0.0564,  0.0241,\n",
       "                       0.0150, -0.0152,  0.0083,  0.0028,  0.0416,  0.0130,  0.0271,  0.0166,\n",
       "                       0.0362, -0.0444,  0.0224, -0.0069, -0.0285,  0.0628,  0.0121, -0.0267,\n",
       "                      -0.0020,  0.0485, -0.0236,  0.0383,  0.0078, -0.0204, -0.0126, -0.0501,\n",
       "                       0.0659,  0.0059, -0.0007, -0.0341, -0.0006, -0.0161,  0.0276,  0.0736,\n",
       "                      -0.0142,  0.0052, -0.0460, -0.0453,  0.0357, -0.0520, -0.0386, -0.0015,\n",
       "                       0.0233, -0.0533, -0.0017,  0.0345,  0.0185, -0.0350, -0.0004,  0.0424])),\n",
       "             ('fc2.weight',\n",
       "              tensor([[ 0.0122,  0.0337, -0.0914,  ...,  0.0143, -0.0330,  0.0671],\n",
       "                      [ 0.0544,  0.0113, -0.0547,  ...,  0.0279,  0.0390,  0.0534],\n",
       "                      [ 0.0416, -0.0260,  0.0640,  ..., -0.0704,  0.0029, -0.0781],\n",
       "                      ...,\n",
       "                      [-0.0446,  0.0063, -0.0427,  ...,  0.0677, -0.0025,  0.0877],\n",
       "                      [ 0.0079,  0.0187,  0.0811,  ...,  0.0259, -0.0141, -0.0914],\n",
       "                      [ 0.0031,  0.0909,  0.1065,  ...,  0.0040,  0.1008, -0.1264]])),\n",
       "             ('fc2.bias',\n",
       "              tensor([ 0.0595,  0.0244, -0.0565,  0.0241,  0.0171, -0.0954, -0.0902, -0.0605,\n",
       "                       0.1295,  0.0889, -0.0869, -0.0328, -0.0527, -0.0356, -0.0211,  0.0469,\n",
       "                      -0.0162, -0.0675,  0.1094,  0.0065, -0.0099, -0.0526, -0.0291,  0.0642,\n",
       "                       0.0763, -0.0672,  0.1054,  0.0725, -0.0442,  0.0575,  0.0482, -0.0437,\n",
       "                       0.0485,  0.0774,  0.0479,  0.1038,  0.0533, -0.0366, -0.0760,  0.1431,\n",
       "                      -0.0479, -0.0802, -0.0019,  0.0815, -0.0867,  0.0401,  0.1014,  0.0392,\n",
       "                       0.1142,  0.0547, -0.0829,  0.0975,  0.1166,  0.1257, -0.0835, -0.0814,\n",
       "                       0.0634,  0.0770,  0.0336,  0.0658,  0.0401, -0.0845, -0.0187,  0.1230,\n",
       "                       0.0572,  0.0989,  0.0408, -0.0377,  0.0324,  0.1076,  0.0378, -0.0618,\n",
       "                      -0.0377, -0.0177,  0.0817, -0.0094,  0.1267,  0.0379,  0.0083, -0.0843,\n",
       "                       0.0834,  0.0766, -0.0666,  0.0285])),\n",
       "             ('fc3.weight',\n",
       "              tensor([[ 1.2123e-02, -2.2065e-01, -1.0008e-01, -1.9347e-01,  8.5064e-02,\n",
       "                       -1.2278e-01, -7.0775e-02,  5.2851e-02,  6.4189e-02, -6.2659e-02,\n",
       "                       -8.7325e-02, -9.5299e-02,  5.0936e-02,  2.3366e-02, -5.6117e-02,\n",
       "                        7.5501e-02,  1.2340e-02, -7.8827e-02,  1.6026e-01, -3.0465e-02,\n",
       "                       -6.6844e-02,  1.5056e-01,  8.5542e-02,  3.9305e-03, -2.7479e-02,\n",
       "                       -1.6407e-01, -1.3723e-01,  1.0654e-01,  7.7385e-02, -9.9686e-03,\n",
       "                       -7.4661e-02,  1.6336e-01, -4.5028e-02,  1.1950e-01,  1.2764e-01,\n",
       "                        5.4834e-02,  2.5496e-02,  9.4734e-02,  6.1754e-02,  1.5791e-01,\n",
       "                        1.5813e-01,  1.2153e-01, -3.4123e-02, -8.9015e-02, -8.7681e-02,\n",
       "                        1.4718e-01, -1.6938e-01, -1.5116e-01, -5.6088e-02, -9.5963e-02,\n",
       "                       -7.8308e-02, -7.4548e-02,  1.9703e-02,  1.2147e-01,  2.4146e-02,\n",
       "                        4.8801e-03, -9.8888e-02,  3.7414e-02,  6.4272e-02,  7.5575e-02,\n",
       "                        5.1914e-02,  4.0126e-02, -1.0551e-01, -8.1729e-02, -3.8761e-03,\n",
       "                        4.7215e-02,  5.1407e-02,  2.8618e-03,  1.2254e-01,  1.2252e-01,\n",
       "                        5.9148e-02,  1.1431e-01, -4.3623e-02, -6.0514e-02,  1.4549e-01,\n",
       "                        2.5114e-02, -8.7778e-02, -6.5380e-02,  9.1381e-02, -3.8580e-02,\n",
       "                        3.2245e-02,  4.1300e-03, -3.4440e-02,  1.3621e-01],\n",
       "                      [ 1.3874e-01, -2.9211e-02,  2.4072e-02,  5.9556e-02,  1.7370e-01,\n",
       "                       -1.2137e-01, -1.0448e-02, -1.4420e-02, -2.0577e-01,  9.2614e-02,\n",
       "                       -1.0866e-01,  2.6484e-02,  1.0070e-01, -2.5849e-02,  3.0088e-02,\n",
       "                       -3.1743e-02,  7.6749e-02, -2.1315e-01,  2.5451e-01,  1.3326e-01,\n",
       "                       -4.9668e-03, -7.3280e-03, -9.7441e-02,  6.8784e-02,  1.0622e-01,\n",
       "                       -5.0056e-02, -1.4225e-02, -1.1704e-01,  8.2417e-02,  1.6162e-01,\n",
       "                       -2.1660e-02, -1.0667e-01,  1.7061e-01, -6.1984e-02,  1.0078e-01,\n",
       "                        2.2016e-02,  5.5235e-02,  7.4160e-02,  1.0998e-01, -1.8833e-01,\n",
       "                       -1.8957e-01,  5.8679e-03, -3.2177e-03, -1.6519e-01, -1.6348e-02,\n",
       "                       -1.4297e-01, -7.8322e-03, -3.0601e-02, -1.0314e-02, -2.0388e-02,\n",
       "                        3.4851e-02,  2.9407e-01, -3.0421e-02, -1.0545e-01, -3.7748e-02,\n",
       "                       -3.3959e-02, -5.1316e-02,  8.9002e-02, -9.7421e-02, -1.9215e-01,\n",
       "                       -2.6228e-02,  9.9461e-02, -2.0159e-02, -2.0020e-01, -1.1815e-01,\n",
       "                       -1.5526e-01,  1.0740e-02,  8.6186e-02, -5.9602e-02, -8.6491e-02,\n",
       "                       -6.7293e-02,  5.1809e-02,  4.2006e-02,  3.0774e-02,  7.9093e-02,\n",
       "                       -4.6803e-02, -3.7209e-02, -3.7479e-02, -2.0792e-01, -6.5631e-02,\n",
       "                       -1.6690e-01,  1.0871e-02, -7.9297e-02,  1.0551e-01],\n",
       "                      [-6.5088e-02, -2.1043e-01,  2.5672e-02, -2.9597e-02, -6.6519e-02,\n",
       "                        1.0963e-01,  9.7563e-02,  6.8541e-02, -8.8556e-02,  1.1122e-01,\n",
       "                       -4.0457e-02,  3.3554e-02,  6.6767e-03, -1.1370e-01,  2.1564e-02,\n",
       "                       -2.9868e-02,  9.2765e-02,  2.9418e-02, -1.0652e-01, -2.7131e-01,\n",
       "                        6.9933e-02, -1.2127e-02, -6.9601e-02,  8.0270e-02, -1.2744e-02,\n",
       "                       -6.0410e-02, -8.0816e-03,  4.1018e-02, -1.5401e-01,  2.7884e-02,\n",
       "                        2.7190e-02, -1.0220e-01,  1.3675e-02,  1.3535e-01, -1.7323e-02,\n",
       "                       -8.3265e-02, -2.2275e-02, -2.3406e-01, -1.6315e-02,  1.4053e-01,\n",
       "                        1.0379e-01, -2.1142e-01, -2.2110e-02, -1.4732e-01,  1.1390e-01,\n",
       "                       -1.6277e-03,  1.4468e-01, -1.3100e-02,  6.1008e-02,  1.0263e-01,\n",
       "                       -9.7709e-02,  4.9775e-03,  1.1471e-01,  7.8456e-02,  1.6290e-01,\n",
       "                       -1.1679e-01, -1.1482e-01, -5.0660e-02,  6.6534e-02, -2.0364e-02,\n",
       "                       -7.2917e-02,  9.7266e-02, -2.4768e-02,  1.0950e-01,  7.6500e-02,\n",
       "                        1.3855e-01, -1.2351e-01,  4.4878e-02, -5.2431e-02,  9.1812e-02,\n",
       "                        2.6969e-01,  2.0707e-02,  9.5440e-02,  4.7318e-02, -1.0990e-01,\n",
       "                        7.3450e-03,  2.0646e-01, -2.8274e-01, -4.6635e-02,  4.8002e-03,\n",
       "                       -7.3278e-02, -5.3085e-02, -6.9748e-02,  2.9163e-02],\n",
       "                      [-2.0205e-02,  1.0042e-01,  7.4071e-02,  1.7733e-01,  4.3654e-02,\n",
       "                        1.6364e-01,  3.3406e-02, -1.2529e-01, -5.2561e-02,  5.2798e-02,\n",
       "                       -7.2516e-02,  4.3148e-02,  1.1093e-02, -1.0032e-01,  1.0904e-01,\n",
       "                       -2.3183e-01, -8.0087e-02,  1.2437e-01, -4.9089e-02,  1.9074e-01,\n",
       "                        1.0911e-02, -3.5127e-03,  7.8529e-03, -6.2517e-03, -8.1966e-02,\n",
       "                        7.4775e-02,  6.8332e-02, -7.0994e-02,  7.2922e-03,  1.4105e-01,\n",
       "                        8.7252e-02, -3.6821e-02,  7.4125e-02,  1.4563e-01, -3.8848e-02,\n",
       "                        4.1328e-02, -1.3770e-01, -1.0563e-01, -1.0006e-01,  9.3145e-03,\n",
       "                        9.2545e-02,  3.3438e-02, -4.3785e-02, -1.8590e-01, -5.6622e-02,\n",
       "                        3.3986e-02,  2.1658e-02, -5.9054e-02, -2.9290e-02, -1.8429e-01,\n",
       "                       -1.0111e-01,  1.3203e-01,  9.4469e-02,  1.3083e-01,  5.5565e-02,\n",
       "                        4.6750e-03, -1.5893e-01, -1.1191e-01,  8.1149e-02, -1.3594e-01,\n",
       "                       -1.6181e-01, -6.4158e-02, -8.3255e-02, -1.2129e-01, -2.9671e-02,\n",
       "                        2.6570e-02,  8.7901e-02,  3.4543e-02, -4.1809e-02,  5.5895e-02,\n",
       "                        1.0206e-01,  1.0812e-01, -8.1033e-02,  6.9331e-02, -1.1869e-01,\n",
       "                        7.1811e-02, -1.8494e-01,  8.9214e-02,  1.3752e-01, -3.5930e-02,\n",
       "                       -4.0510e-02, -1.1177e-01, -8.4593e-02, -4.1629e-02],\n",
       "                      [-1.3005e-01,  2.2701e-02, -3.5468e-02,  6.2643e-02, -6.5164e-02,\n",
       "                        7.6375e-02,  1.0893e-02,  2.7101e-03, -1.9758e-01, -7.4759e-02,\n",
       "                       -2.5942e-02, -1.0029e-01,  3.1504e-02, -9.3680e-02, -3.4346e-02,\n",
       "                        1.1402e-01,  2.1832e-01, -1.1595e-01,  1.6168e-01,  1.2577e-01,\n",
       "                        4.2283e-02,  1.8332e-02,  1.0811e-01,  1.6481e-01,  5.9466e-03,\n",
       "                       -5.7611e-02,  2.1717e-02, -4.8986e-02, -2.5560e-02,  4.1155e-02,\n",
       "                        8.8681e-02,  1.0254e-01,  1.7056e-01, -1.6466e-01, -1.7726e-01,\n",
       "                        7.9154e-02, -1.1305e-01, -1.4114e-02, -4.9044e-02,  1.2216e-01,\n",
       "                       -1.6016e-01, -2.7697e-03, -2.1456e-02, -9.1856e-02, -1.0986e-02,\n",
       "                       -4.7443e-02,  9.8246e-02, -1.4308e-01, -2.0450e-02, -1.1921e-01,\n",
       "                       -9.1750e-03, -7.1508e-02,  1.5369e-01, -3.9754e-03, -1.6110e-01,\n",
       "                        7.9451e-02,  1.0004e-02, -1.9534e-03,  1.0210e-01, -8.2246e-02,\n",
       "                        1.3276e-01,  6.6961e-02, -3.5725e-03,  2.6765e-02,  6.7788e-02,\n",
       "                       -1.4027e-01, -3.1116e-03, -2.3837e-02,  5.1421e-02,  6.8064e-02,\n",
       "                        1.6873e-02, -6.8685e-02,  3.1740e-02,  6.9167e-02, -1.2910e-01,\n",
       "                        3.6648e-02,  1.9927e-01, -6.2401e-02,  7.6230e-02, -1.0328e-02,\n",
       "                        1.1723e-02, -3.6422e-02,  2.2451e-02, -2.2214e-01],\n",
       "                      [-3.3055e-02,  1.0415e-01,  9.4445e-02, -1.6176e-01, -3.2872e-02,\n",
       "                       -1.1723e-01,  3.7712e-02,  1.0321e-01, -1.8266e-02, -6.5623e-02,\n",
       "                        1.1499e-01,  1.0465e-01,  2.7559e-03,  1.0353e-02,  1.0128e-01,\n",
       "                       -1.3421e-02, -1.2251e-01, -1.3180e-01, -2.3165e-01, -5.4281e-02,\n",
       "                        4.6927e-02, -5.8720e-02, -6.1190e-02, -7.7818e-02, -4.4066e-02,\n",
       "                        1.3287e-01,  1.1674e-01,  1.6222e-01,  3.3415e-02, -5.0378e-04,\n",
       "                        1.6944e-01, -7.1320e-02, -1.1770e-01, -2.7242e-03,  1.5436e-01,\n",
       "                        2.6823e-02,  4.7187e-02,  7.2510e-02, -1.3355e-01, -2.3509e-01,\n",
       "                       -4.3734e-02,  9.0222e-02,  1.4893e-02,  1.8983e-01,  2.1080e-02,\n",
       "                       -9.4797e-02, -1.4115e-01,  1.7122e-01, -7.2563e-02,  2.3724e-01,\n",
       "                       -8.4454e-02,  2.5266e-03, -5.1014e-02, -2.9067e-01,  6.0158e-02,\n",
       "                        9.6626e-02,  2.5564e-01, -1.4546e-01, -3.2987e-02, -1.3156e-01,\n",
       "                       -8.5240e-02, -3.6520e-02, -4.8365e-02, -1.7311e-01, -1.0454e-01,\n",
       "                        1.0053e-01,  2.0454e-01,  9.3133e-02,  1.7077e-01, -1.8869e-01,\n",
       "                       -9.3220e-03, -8.5774e-02, -1.5610e-01,  7.7879e-02,  3.7254e-02,\n",
       "                       -1.0640e-01, -5.0366e-02,  1.2981e-01,  1.3447e-01, -5.9106e-02,\n",
       "                       -1.8102e-02, -4.4182e-02,  5.7958e-02, -1.2770e-01],\n",
       "                      [ 8.2034e-02, -3.3279e-03, -1.0677e-01, -3.7532e-02, -1.6245e-01,\n",
       "                       -3.9411e-02, -7.9128e-03, -9.2132e-02,  1.0686e-01, -1.3339e-01,\n",
       "                        1.0295e-02,  3.5786e-02, -5.2385e-02,  7.9123e-03, -9.0301e-02,\n",
       "                        2.4247e-01,  9.3950e-02, -1.9814e-02,  4.6322e-02, -1.2684e-01,\n",
       "                        1.0813e-01,  9.6759e-03, -8.6706e-02,  3.2481e-02,  4.1152e-02,\n",
       "                       -1.1397e-01,  1.2857e-01,  9.6393e-02,  8.0917e-02,  5.3941e-02,\n",
       "                        7.9320e-02,  1.1174e-01,  3.1988e-02,  8.7666e-02,  1.3252e-01,\n",
       "                       -3.3896e-03,  4.4121e-02,  9.5185e-02, -7.4217e-02,  1.3881e-01,\n",
       "                       -7.9354e-02,  1.8973e-01,  7.1079e-02, -1.7301e-01,  2.2627e-02,\n",
       "                        3.5889e-02, -8.1641e-02, -5.7521e-02, -3.1002e-02,  2.8488e-02,\n",
       "                        7.0448e-02, -1.2469e-01,  1.7148e-01,  1.1649e-01, -2.6192e-01,\n",
       "                       -1.9231e-02, -1.6442e-01, -5.6271e-02,  1.9762e-02,  2.0942e-01,\n",
       "                        4.2934e-02,  3.7779e-02,  1.0420e-01,  7.7712e-02,  1.2099e-01,\n",
       "                        1.0317e-01, -1.7782e-01, -5.8994e-02,  1.4999e-01,  1.9939e-01,\n",
       "                       -4.4280e-02,  8.1676e-02,  1.1495e-01, -1.7256e-02, -3.4147e-02,\n",
       "                        8.8150e-02, -3.4494e-02, -1.4972e-01, -4.0414e-02, -5.6554e-02,\n",
       "                       -1.3478e-02,  6.5167e-02,  5.1193e-02,  1.4090e-01],\n",
       "                      [ 1.6017e-01,  3.9114e-02,  9.3890e-02, -9.7983e-02,  1.7337e-02,\n",
       "                        8.1370e-02,  7.0127e-02,  2.2710e-01,  1.5123e-01,  1.0352e-02,\n",
       "                        5.2809e-02,  8.9242e-02,  9.9137e-02, -7.2917e-02, -1.0246e-01,\n",
       "                       -2.7603e-02, -7.9318e-02,  6.6117e-02, -1.9109e-01,  1.2261e-01,\n",
       "                       -3.5760e-02,  2.8149e-02, -4.7491e-02, -1.5437e-01,  6.3380e-02,\n",
       "                        2.7246e-03, -1.6671e-01, -1.7308e-01, -6.5347e-02, -2.8587e-01,\n",
       "                        5.8278e-03,  4.3988e-03, -1.5534e-01,  2.3646e-02, -1.5790e-01,\n",
       "                       -1.0085e-01, -8.7992e-02, -1.7101e-02,  6.7584e-02,  3.8091e-02,\n",
       "                       -9.8724e-02, -1.3753e-01,  9.7476e-02,  1.6617e-02, -1.6368e-01,\n",
       "                        4.6318e-02,  2.0302e-01,  3.2901e-02, -1.5192e-01, -1.2615e-02,\n",
       "                       -3.7018e-02, -5.4842e-02, -2.3510e-01, -1.4163e-01,  5.8871e-02,\n",
       "                       -4.8012e-02,  1.2666e-01,  8.9847e-02, -4.2275e-02,  1.6033e-01,\n",
       "                        2.2179e-02, -7.4937e-02,  2.5466e-02,  2.2572e-02,  6.6673e-02,\n",
       "                       -9.2546e-02,  1.6616e-01,  3.1654e-02,  8.6412e-02, -1.7010e-01,\n",
       "                       -2.2079e-01,  1.3291e-01,  1.2938e-01, -5.9786e-02,  9.8374e-02,\n",
       "                       -2.1747e-03, -1.3558e-01,  1.8546e-01,  1.3103e-01,  1.0770e-01,\n",
       "                        1.1802e-01, -1.3833e-01,  5.4614e-02, -1.8819e-01],\n",
       "                      [ 7.0728e-02, -1.4277e-02,  1.3621e-01,  5.4267e-02,  7.2847e-02,\n",
       "                       -7.7520e-02,  8.1490e-02, -2.1003e-01,  1.9606e-01,  1.3361e-01,\n",
       "                       -7.1249e-02,  3.5259e-02,  2.7524e-02, -4.3497e-02, -6.2645e-02,\n",
       "                        1.3634e-01, -1.4938e-01,  1.3395e-01, -1.8970e-02, -3.6567e-02,\n",
       "                        4.4937e-02, -9.7169e-02, -9.1482e-05,  1.0503e-01, -1.2583e-01,\n",
       "                        1.2017e-01, -6.8993e-02,  1.8816e-01,  1.2615e-02, -5.1976e-02,\n",
       "                        4.9760e-02, -8.5539e-03, -5.3610e-02, -1.1476e-01,  1.2394e-01,\n",
       "                        4.8418e-02, -2.3472e-01,  1.8291e-02, -5.6018e-03,  7.3844e-02,\n",
       "                        9.8548e-02, -4.0227e-02,  3.6635e-02,  2.0501e-01, -6.1034e-02,\n",
       "                        1.7448e-01, -8.3588e-02, -4.6149e-02,  2.1295e-01, -1.6223e-01,\n",
       "                       -7.5077e-03, -1.0410e-01,  8.5446e-03, -8.4704e-02,  1.8292e-01,\n",
       "                        5.7536e-02,  1.8449e-03,  2.8158e-04,  7.9629e-02,  7.5585e-03,\n",
       "                        1.7031e-01, -8.4464e-02, -2.7026e-02, -6.3035e-02, -1.7137e-01,\n",
       "                       -3.8714e-02, -2.4729e-02,  1.7769e-02,  5.9542e-02, -9.6799e-03,\n",
       "                        3.3445e-02,  1.5217e-01,  3.1048e-02, -9.2009e-02, -1.4343e-01,\n",
       "                        4.7525e-02,  9.3631e-02, -9.2050e-02,  3.1541e-02, -1.1282e-01,\n",
       "                        1.3620e-01,  3.3101e-02,  1.7214e-02,  1.1554e-02],\n",
       "                      [ 8.4298e-03,  2.5052e-03,  5.6360e-02, -1.2441e-01, -1.6409e-02,\n",
       "                       -9.6305e-02,  5.5649e-02,  3.9416e-02,  1.5837e-01, -1.0733e-01,\n",
       "                        1.0103e-01, -1.0034e-01,  7.3210e-02,  6.1533e-02, -4.0638e-02,\n",
       "                       -2.4210e-02, -3.5997e-03,  8.5788e-02, -1.9621e-01, -2.1994e-02,\n",
       "                        4.1432e-02, -9.0302e-02,  5.7111e-02, -4.2966e-02,  1.1065e-01,\n",
       "                       -9.9267e-02,  5.3769e-02, -8.5789e-02, -4.1584e-03, -1.9147e-01,\n",
       "                        1.8811e-01, -4.3182e-02, -1.8522e-01, -1.9654e-01,  7.7735e-02,\n",
       "                        1.4753e-01,  2.3286e-01,  2.1544e-01, -4.0052e-03, -1.6054e-01,\n",
       "                        3.9480e-02, -2.1428e-02, -4.7649e-03, -3.9158e-02,  3.4625e-02,\n",
       "                        6.5035e-02,  1.4225e-01, -7.2798e-02,  1.0952e-01,  7.5959e-02,\n",
       "                        8.1349e-02, -4.6928e-02, -1.1831e-01,  8.8825e-02, -8.4826e-02,\n",
       "                        8.7231e-02,  2.5058e-01, -3.0527e-02,  3.6902e-02, -9.3998e-02,\n",
       "                       -5.1971e-02,  3.9885e-02,  5.5930e-03, -1.1189e-01,  9.1458e-02,\n",
       "                        1.9194e-01, -1.3644e-01, -7.9504e-02, -8.3336e-02, -1.1634e-01,\n",
       "                       -2.3526e-01,  3.0622e-02,  7.1559e-02,  8.6461e-03,  1.0590e-01,\n",
       "                        2.6158e-02,  1.1518e-01,  1.9387e-02, -2.0246e-01, -3.7478e-02,\n",
       "                       -4.3531e-02,  1.2170e-01, -2.5309e-02, -1.1638e-01]])),\n",
       "             ('fc3.bias',\n",
       "              tensor([ 0.0831,  0.0461,  0.1512, -0.1138,  0.0438, -0.1215,  0.0273,  0.0134,\n",
       "                       0.1291, -0.0095]))])"
      ]
     },
     "execution_count": 72,
     "metadata": {},
     "output_type": "execute_result"
    }
   ],
   "source": [
    "# 모델의 저장 및 로드\n",
    "# torch.save()\n",
    "# torch.load()\n",
    "net.state_dict()"
   ]
  },
  {
   "cell_type": "code",
   "execution_count": 100,
   "metadata": {},
   "outputs": [],
   "source": [
    "PATH = './fashion_mnist.pth'\n",
    "torch.save(net.state_dict(),PATH)"
   ]
  },
  {
   "cell_type": "code",
   "execution_count": 101,
   "metadata": {},
   "outputs": [
    {
     "data": {
      "text/plain": [
       "<All keys matched successfully>"
      ]
     },
     "execution_count": 101,
     "metadata": {},
     "output_type": "execute_result"
    }
   ],
   "source": [
    "net = NeuralNet()   # 객체 생성\n",
    "net.load_state_dict(torch.load(PATH))   # 해당 파라미터값을 객체에 적용"
   ]
  },
  {
   "cell_type": "code",
   "execution_count": 75,
   "metadata": {},
   "outputs": [
    {
     "data": {
      "text/plain": [
       "[Parameter containing:\n",
       " tensor([[[[-0.1825,  0.4344,  0.1629],\n",
       "           [-0.3728,  0.3843,  0.1276],\n",
       "           [ 0.2731,  0.4009, -0.2704]]],\n",
       " \n",
       " \n",
       "         [[[ 0.0536, -0.2128, -0.6787],\n",
       "           [-0.0489, -0.8742, -0.7880],\n",
       "           [-0.3889, -0.7761, -0.3231]]],\n",
       " \n",
       " \n",
       "         [[[-0.6116, -0.2738, -0.5537],\n",
       "           [-0.4288, -0.3273, -0.6427],\n",
       "           [ 0.0738, -0.3753, -0.6713]]],\n",
       " \n",
       " \n",
       "         [[[-0.0531, -0.0267,  0.0315],\n",
       "           [-0.3384, -0.1048,  0.1311],\n",
       "           [-0.3303, -0.5406, -0.3597]]],\n",
       " \n",
       " \n",
       "         [[[-0.1711, -0.2767, -0.2176],\n",
       "           [ 0.3290,  0.3443, -0.3571],\n",
       "           [ 0.2195,  0.2387,  0.0062]]],\n",
       " \n",
       " \n",
       "         [[[ 0.0391,  0.2994, -0.0402],\n",
       "           [ 0.2725, -0.0753, -0.3579],\n",
       "           [-0.2590, -0.0993,  0.0190]]]], requires_grad=True),\n",
       " Parameter containing:\n",
       " tensor([-0.1622,  0.2783,  0.2424,  0.1272, -0.1105, -0.1590],\n",
       "        requires_grad=True),\n",
       " Parameter containing:\n",
       " tensor([[[[ 0.1302, -0.1066, -0.0856],\n",
       "           [ 0.0525, -0.0450,  0.0961],\n",
       "           [-0.0798, -0.0145, -0.1318]],\n",
       " \n",
       "          [[ 0.2436,  0.0608,  0.1504],\n",
       "           [ 0.0321,  0.1095,  0.1382],\n",
       "           [ 0.1686, -0.0376, -0.0221]],\n",
       " \n",
       "          [[ 0.1347,  0.2138,  0.2728],\n",
       "           [-0.0813,  0.1616,  0.0170],\n",
       "           [ 0.0608, -0.0270,  0.0191]],\n",
       " \n",
       "          [[ 0.0648, -0.0145,  0.0386],\n",
       "           [-0.0247,  0.1227, -0.0721],\n",
       "           [-0.1157,  0.1215,  0.0270]],\n",
       " \n",
       "          [[ 0.1301, -0.0581,  0.1448],\n",
       "           [ 0.0705, -0.0150,  0.1211],\n",
       "           [-0.0800,  0.1180,  0.1159]],\n",
       " \n",
       "          [[-0.0133,  0.0665, -0.0419],\n",
       "           [-0.0673,  0.1346,  0.0460],\n",
       "           [-0.0650, -0.0632,  0.1443]]],\n",
       " \n",
       " \n",
       "         [[[-0.1067,  0.1914, -0.0243],\n",
       "           [ 0.0743,  0.1774,  0.0679],\n",
       "           [ 0.0966,  0.0630,  0.1471]],\n",
       " \n",
       "          [[ 0.0749, -0.0918,  0.0580],\n",
       "           [ 0.2091, -0.1178, -0.1325],\n",
       "           [ 0.2933,  0.0153, -0.0990]],\n",
       " \n",
       "          [[ 0.1067, -0.1436, -0.0708],\n",
       "           [ 0.0468, -0.0781, -0.2351],\n",
       "           [ 0.1768,  0.0931, -0.1074]],\n",
       " \n",
       "          [[ 0.0803, -0.1504, -0.1513],\n",
       "           [ 0.1419, -0.0419,  0.0183],\n",
       "           [ 0.0801,  0.1438, -0.0700]],\n",
       " \n",
       "          [[-0.0469, -0.1127, -0.0230],\n",
       "           [ 0.0271,  0.0907,  0.1209],\n",
       "           [-0.0008, -0.0857,  0.0688]],\n",
       " \n",
       "          [[-0.0152,  0.0464,  0.0626],\n",
       "           [-0.1110,  0.1155, -0.1011],\n",
       "           [ 0.0767,  0.0424, -0.0949]]],\n",
       " \n",
       " \n",
       "         [[[-0.1154, -0.0887, -0.0823],\n",
       "           [-0.0314,  0.0118,  0.1035],\n",
       "           [-0.1092, -0.0513, -0.0519]],\n",
       " \n",
       "          [[ 0.0913, -0.1195,  0.0454],\n",
       "           [-0.1252,  0.0928, -0.0025],\n",
       "           [ 0.0146,  0.1102,  0.0287]],\n",
       " \n",
       "          [[ 0.0405, -0.0571, -0.0042],\n",
       "           [-0.0914,  0.0349,  0.1184],\n",
       "           [-0.1365, -0.0987, -0.0927]],\n",
       " \n",
       "          [[ 0.0665,  0.1417,  0.0902],\n",
       "           [ 0.0239,  0.1340, -0.0850],\n",
       "           [ 0.1119, -0.0027,  0.0870]],\n",
       " \n",
       "          [[ 0.0623, -0.0721, -0.0764],\n",
       "           [ 0.0224,  0.1285,  0.1067],\n",
       "           [-0.0651, -0.0507,  0.1169]],\n",
       " \n",
       "          [[-0.0623,  0.0514,  0.1076],\n",
       "           [-0.1047,  0.0209,  0.0573],\n",
       "           [-0.0392,  0.1384, -0.1167]]],\n",
       " \n",
       " \n",
       "         [[[ 0.0550,  0.0170,  0.0528],\n",
       "           [ 0.0593,  0.0219, -0.0109],\n",
       "           [-0.0695,  0.0500,  0.0914]],\n",
       " \n",
       "          [[ 0.0646,  0.3623,  0.1771],\n",
       "           [ 0.1931,  0.1356,  0.0349],\n",
       "           [ 0.2330,  0.2513,  0.1284]],\n",
       " \n",
       "          [[ 0.1600,  0.2514,  0.0985],\n",
       "           [-0.0210,  0.1576,  0.0407],\n",
       "           [ 0.0699,  0.2765,  0.0070]],\n",
       " \n",
       "          [[-0.0936,  0.1733, -0.0432],\n",
       "           [-0.0575, -0.0105,  0.0484],\n",
       "           [ 0.1075,  0.1629,  0.0444]],\n",
       " \n",
       "          [[ 0.1916,  0.1436,  0.0613],\n",
       "           [ 0.0401,  0.1272, -0.0925],\n",
       "           [ 0.0206,  0.0598, -0.0120]],\n",
       " \n",
       "          [[-0.0883,  0.1183,  0.0125],\n",
       "           [ 0.1462, -0.0696,  0.1142],\n",
       "           [ 0.1154,  0.0721, -0.0885]]],\n",
       " \n",
       " \n",
       "         [[[-0.1080,  0.0289,  0.0378],\n",
       "           [-0.0345,  0.0221,  0.0163],\n",
       "           [ 0.0155, -0.0767,  0.1229]],\n",
       " \n",
       "          [[ 0.1567,  0.2563,  0.1549],\n",
       "           [ 0.1651,  0.3114,  0.0361],\n",
       "           [ 0.1510,  0.4151,  0.2806]],\n",
       " \n",
       "          [[ 0.1474,  0.1856,  0.2863],\n",
       "           [ 0.1938,  0.2539,  0.1902],\n",
       "           [ 0.1368,  0.2400,  0.3476]],\n",
       " \n",
       "          [[ 0.0724,  0.0853,  0.2060],\n",
       "           [ 0.0555,  0.0761,  0.1540],\n",
       "           [ 0.1212,  0.1088,  0.2553]],\n",
       " \n",
       "          [[-0.0676,  0.1479, -0.0607],\n",
       "           [ 0.1439,  0.1634, -0.0084],\n",
       "           [-0.0342, -0.0523,  0.0009]],\n",
       " \n",
       "          [[ 0.1379, -0.0998,  0.0744],\n",
       "           [-0.0121, -0.0422,  0.1530],\n",
       "           [ 0.0561,  0.0957, -0.0953]]],\n",
       " \n",
       " \n",
       "         [[[-0.0701,  0.1558,  0.1511],\n",
       "           [-0.0475,  0.0442,  0.1887],\n",
       "           [ 0.0906,  0.1777,  0.1629]],\n",
       " \n",
       "          [[ 0.3709,  0.0063, -0.2133],\n",
       "           [ 0.3058, -0.1904, -0.2271],\n",
       "           [ 0.2355, -0.0905, -0.1033]],\n",
       " \n",
       "          [[ 0.2527, -0.0023, -0.2659],\n",
       "           [ 0.3485, -0.1064, -0.1857],\n",
       "           [ 0.0485, -0.1837,  0.0023]],\n",
       " \n",
       "          [[ 0.1038,  0.0376, -0.0482],\n",
       "           [-0.0042,  0.0484, -0.1112],\n",
       "           [ 0.1940, -0.0409, -0.0076]],\n",
       " \n",
       "          [[-0.0682, -0.0448,  0.1497],\n",
       "           [-0.0390,  0.0924,  0.0550],\n",
       "           [ 0.1398, -0.0681,  0.0844]],\n",
       " \n",
       "          [[-0.0891, -0.0432, -0.0188],\n",
       "           [-0.0716,  0.0910, -0.0663],\n",
       "           [ 0.0287, -0.0195, -0.1033]]],\n",
       " \n",
       " \n",
       "         [[[ 0.0366, -0.0670,  0.0346],\n",
       "           [-0.0466,  0.0397,  0.1818],\n",
       "           [-0.0240, -0.0519,  0.0057]],\n",
       " \n",
       "          [[-0.0988,  0.0388,  0.0460],\n",
       "           [-0.0587,  0.1922, -0.2678],\n",
       "           [ 0.1964,  0.1677, -0.2424]],\n",
       " \n",
       "          [[-0.0952, -0.0734, -0.2235],\n",
       "           [-0.0222,  0.0816, -0.0295],\n",
       "           [ 0.1369,  0.1600, -0.1587]],\n",
       " \n",
       "          [[ 0.1364,  0.1008,  0.0917],\n",
       "           [ 0.1066,  0.1818, -0.0426],\n",
       "           [ 0.1033, -0.0098, -0.0826]],\n",
       " \n",
       "          [[ 0.1232, -0.0698,  0.1070],\n",
       "           [-0.0928,  0.0292,  0.1298],\n",
       "           [-0.0566, -0.0267,  0.0569]],\n",
       " \n",
       "          [[ 0.0682, -0.0990,  0.1217],\n",
       "           [ 0.0179, -0.0194,  0.0833],\n",
       "           [ 0.0140,  0.0688, -0.0432]]],\n",
       " \n",
       " \n",
       "         [[[ 0.0195, -0.0779, -0.0052],\n",
       "           [-0.0420,  0.0134, -0.1360],\n",
       "           [-0.0352, -0.0477,  0.0049]],\n",
       " \n",
       "          [[-0.0802, -0.1224, -0.0501],\n",
       "           [ 0.0800, -0.0516, -0.0824],\n",
       "           [ 0.0026, -0.0624,  0.0156]],\n",
       " \n",
       "          [[ 0.0871,  0.0788,  0.0816],\n",
       "           [-0.0372, -0.0293,  0.0021],\n",
       "           [-0.1052, -0.0149,  0.0380]],\n",
       " \n",
       "          [[-0.0815,  0.0290,  0.0318],\n",
       "           [ 0.1303, -0.0340, -0.1000],\n",
       "           [ 0.0733, -0.0604,  0.0106]],\n",
       " \n",
       "          [[-0.1287, -0.1349, -0.0157],\n",
       "           [ 0.1145, -0.1355, -0.0045],\n",
       "           [ 0.0278,  0.0876, -0.0597]],\n",
       " \n",
       "          [[ 0.1175, -0.0494,  0.0760],\n",
       "           [-0.1112,  0.0437,  0.0865],\n",
       "           [ 0.0635,  0.0031,  0.0528]]],\n",
       " \n",
       " \n",
       "         [[[ 0.0734,  0.0034,  0.0461],\n",
       "           [-0.0403,  0.0227, -0.1067],\n",
       "           [ 0.1395,  0.1244,  0.0806]],\n",
       " \n",
       "          [[-0.0014,  0.1035,  0.0247],\n",
       "           [-0.0438, -0.0668,  0.1981],\n",
       "           [-0.0495, -0.0618,  0.1663]],\n",
       " \n",
       "          [[-0.0200, -0.0016,  0.0486],\n",
       "           [-0.0753, -0.0609, -0.0280],\n",
       "           [-0.1635,  0.0260,  0.1291]],\n",
       " \n",
       "          [[-0.1117, -0.0401,  0.0778],\n",
       "           [-0.1477, -0.0216, -0.0577],\n",
       "           [-0.0676,  0.0368,  0.0355]],\n",
       " \n",
       "          [[-0.1111,  0.0109,  0.0080],\n",
       "           [ 0.1006, -0.0880, -0.0431],\n",
       "           [ 0.1219,  0.1127, -0.0675]],\n",
       " \n",
       "          [[ 0.1015, -0.0461,  0.1138],\n",
       "           [ 0.0325,  0.1172,  0.1161],\n",
       "           [ 0.0305,  0.1017,  0.1336]]],\n",
       " \n",
       " \n",
       "         [[[-0.0390, -0.0365,  0.0045],\n",
       "           [ 0.1100, -0.0299, -0.0233],\n",
       "           [-0.0577, -0.0269, -0.0078]],\n",
       " \n",
       "          [[ 0.0293,  0.0751, -0.0031],\n",
       "           [ 0.0652,  0.0908, -0.0130],\n",
       "           [-0.0950,  0.0238, -0.0378]],\n",
       " \n",
       "          [[-0.0400,  0.0227,  0.1298],\n",
       "           [ 0.0361, -0.0464, -0.1151],\n",
       "           [ 0.0448,  0.0981,  0.0332]],\n",
       " \n",
       "          [[ 0.1020,  0.0424, -0.0445],\n",
       "           [ 0.0424,  0.0131,  0.0803],\n",
       "           [-0.0557, -0.0823,  0.0025]],\n",
       " \n",
       "          [[-0.0816,  0.0594,  0.0187],\n",
       "           [ 0.1154, -0.0480,  0.0173],\n",
       "           [-0.0958, -0.0725, -0.0747]],\n",
       " \n",
       "          [[ 0.0923, -0.0880,  0.0961],\n",
       "           [ 0.0402, -0.0170,  0.0721],\n",
       "           [-0.0158, -0.0048, -0.0643]]],\n",
       " \n",
       " \n",
       "         [[[-0.0583,  0.0032,  0.0335],\n",
       "           [ 0.1305,  0.0224, -0.0355],\n",
       "           [ 0.0058, -0.0745, -0.1007]],\n",
       " \n",
       "          [[ 0.2205, -0.0135,  0.0601],\n",
       "           [-0.0874, -0.0031, -0.0604],\n",
       "           [-0.1504, -0.0959,  0.1155]],\n",
       " \n",
       "          [[ 0.1148,  0.1572, -0.0446],\n",
       "           [-0.0028, -0.0647, -0.0913],\n",
       "           [-0.1043, -0.1061,  0.0042]],\n",
       " \n",
       "          [[ 0.0626, -0.0972, -0.0710],\n",
       "           [ 0.0627,  0.1179,  0.1021],\n",
       "           [ 0.1038,  0.1062, -0.0841]],\n",
       " \n",
       "          [[ 0.1418,  0.1314, -0.1017],\n",
       "           [-0.1137,  0.0607,  0.0848],\n",
       "           [ 0.0650, -0.1189, -0.0676]],\n",
       " \n",
       "          [[-0.0109,  0.0069,  0.0838],\n",
       "           [ 0.0655, -0.1178,  0.1203],\n",
       "           [-0.1347, -0.0638,  0.0081]]],\n",
       " \n",
       " \n",
       "         [[[ 0.1053, -0.0015,  0.1048],\n",
       "           [-0.0894, -0.0332,  0.0654],\n",
       "           [ 0.0784,  0.1429, -0.1199]],\n",
       " \n",
       "          [[-0.1301, -0.0756, -0.0096],\n",
       "           [-0.1313, -0.0573, -0.0113],\n",
       "           [-0.0971,  0.0655, -0.1193]],\n",
       " \n",
       "          [[ 0.0975,  0.0738,  0.1220],\n",
       "           [ 0.0746, -0.0557, -0.0605],\n",
       "           [-0.1239, -0.0379,  0.0302]],\n",
       " \n",
       "          [[ 0.0777, -0.1017,  0.0095],\n",
       "           [ 0.0107, -0.0335,  0.0264],\n",
       "           [-0.0125,  0.0722,  0.0770]],\n",
       " \n",
       "          [[-0.0913, -0.0215,  0.1301],\n",
       "           [ 0.0215, -0.0241, -0.0207],\n",
       "           [-0.1156,  0.0669,  0.0190]],\n",
       " \n",
       "          [[-0.0197, -0.0510, -0.1225],\n",
       "           [ 0.0155,  0.0374, -0.0820],\n",
       "           [ 0.1085, -0.1277,  0.0481]]],\n",
       " \n",
       " \n",
       "         [[[ 0.0613, -0.0664, -0.0861],\n",
       "           [-0.1123,  0.1231,  0.1519],\n",
       "           [-0.0724, -0.1120,  0.0740]],\n",
       " \n",
       "          [[ 0.0998,  0.1655, -0.0948],\n",
       "           [ 0.0870, -0.0062, -0.2439],\n",
       "           [-0.0282, -0.0284, -0.2327]],\n",
       " \n",
       "          [[ 0.2158,  0.1386, -0.1274],\n",
       "           [ 0.2019,  0.0515, -0.0210],\n",
       "           [ 0.1359, -0.1271, -0.0317]],\n",
       " \n",
       "          [[-0.0167, -0.0792,  0.0028],\n",
       "           [ 0.0446,  0.0220, -0.1820],\n",
       "           [ 0.1518, -0.1179, -0.1325]],\n",
       " \n",
       "          [[ 0.0698, -0.0309, -0.0511],\n",
       "           [ 0.0856,  0.0231,  0.1261],\n",
       "           [ 0.0195,  0.0981, -0.0238]],\n",
       " \n",
       "          [[ 0.0474, -0.1227,  0.1283],\n",
       "           [ 0.0178,  0.1111, -0.0281],\n",
       "           [ 0.0087,  0.1200, -0.0572]]],\n",
       " \n",
       " \n",
       "         [[[-0.0886,  0.1086, -0.1245],\n",
       "           [ 0.0947,  0.1207,  0.0914],\n",
       "           [ 0.0519, -0.0240, -0.0576]],\n",
       " \n",
       "          [[ 0.0773,  0.1660,  0.3817],\n",
       "           [-0.1157,  0.0989,  0.2588],\n",
       "           [-0.0161, -0.0723,  0.1603]],\n",
       " \n",
       "          [[ 0.1203,  0.2200,  0.2961],\n",
       "           [-0.0661,  0.1120,  0.1371],\n",
       "           [ 0.0961,  0.1705,  0.2305]],\n",
       " \n",
       "          [[-0.0111,  0.1560,  0.1235],\n",
       "           [-0.0186,  0.0014,  0.1223],\n",
       "           [-0.1087, -0.1179,  0.1038]],\n",
       " \n",
       "          [[ 0.0186,  0.1180,  0.1711],\n",
       "           [ 0.0124,  0.0965,  0.1327],\n",
       "           [ 0.1325,  0.1495,  0.0110]],\n",
       " \n",
       "          [[-0.1222, -0.0682,  0.1238],\n",
       "           [ 0.0620, -0.0243,  0.1371],\n",
       "           [-0.0865,  0.1251, -0.0699]]],\n",
       " \n",
       " \n",
       "         [[[-0.1093,  0.0312, -0.0923],\n",
       "           [-0.0081,  0.0816, -0.0935],\n",
       "           [-0.0498,  0.1028,  0.0927]],\n",
       " \n",
       "          [[-0.0644, -0.1944,  0.1173],\n",
       "           [-0.0834, -0.1357, -0.1357],\n",
       "           [ 0.0923,  0.2741, -0.0597]],\n",
       " \n",
       "          [[-0.1413, -0.0357, -0.1325],\n",
       "           [ 0.0377, -0.1133, -0.1835],\n",
       "           [ 0.1002,  0.2204,  0.1506]],\n",
       " \n",
       "          [[ 0.1275, -0.0837,  0.0070],\n",
       "           [ 0.0581,  0.1589,  0.1021],\n",
       "           [ 0.2022,  0.1237,  0.0006]],\n",
       " \n",
       "          [[-0.0143, -0.0471, -0.0879],\n",
       "           [ 0.0578,  0.1242, -0.0727],\n",
       "           [ 0.1432,  0.0651, -0.1310]],\n",
       " \n",
       "          [[ 0.1052,  0.1371, -0.0847],\n",
       "           [-0.0985,  0.1498,  0.1237],\n",
       "           [ 0.1397,  0.1038, -0.1146]]],\n",
       " \n",
       " \n",
       "         [[[-0.0055,  0.0433, -0.1159],\n",
       "           [ 0.0877,  0.1056,  0.0171],\n",
       "           [-0.0125, -0.0078,  0.0285]],\n",
       " \n",
       "          [[ 0.0170, -0.1431, -0.1548],\n",
       "           [ 0.1124,  0.1667,  0.1318],\n",
       "           [-0.0278,  0.1139,  0.1541]],\n",
       " \n",
       "          [[ 0.0537, -0.0559, -0.1882],\n",
       "           [ 0.1090, -0.0663,  0.0937],\n",
       "           [-0.1275,  0.0283,  0.1891]],\n",
       " \n",
       "          [[-0.1184, -0.0525,  0.0937],\n",
       "           [-0.0470, -0.0918,  0.1070],\n",
       "           [-0.1148,  0.0308,  0.1354]],\n",
       " \n",
       "          [[ 0.1008, -0.0808, -0.0840],\n",
       "           [ 0.1098, -0.0151,  0.0362],\n",
       "           [-0.0505, -0.0667,  0.1160]],\n",
       " \n",
       "          [[-0.0388, -0.0202, -0.0199],\n",
       "           [ 0.0498,  0.0870, -0.0755],\n",
       "           [ 0.0984, -0.0622, -0.0880]]]], requires_grad=True),\n",
       " Parameter containing:\n",
       " tensor([ 0.0459, -0.0530,  0.0132,  0.0547, -0.0083,  0.0761,  0.0400,  0.0407,\n",
       "         -0.0532,  0.0353,  0.0399, -0.0133,  0.1459, -0.0775,  0.0923, -0.1107],\n",
       "        requires_grad=True),\n",
       " Parameter containing:\n",
       " tensor([[-0.0269,  0.0129,  0.0316,  ...,  0.0081, -0.0331, -0.0187],\n",
       "         [-0.0081,  0.0264, -0.0104,  ...,  0.0212,  0.0203, -0.0227],\n",
       "         [-0.0238, -0.0376,  0.0290,  ..., -0.0396, -0.0151,  0.0341],\n",
       "         ...,\n",
       "         [-0.0190, -0.0055,  0.0131,  ...,  0.0148,  0.0479,  0.0223],\n",
       "         [-0.0349, -0.0425,  0.0327,  ..., -0.0252, -0.0376, -0.0203],\n",
       "         [-0.0306,  0.0358, -0.0111,  ..., -0.0344, -0.0374, -0.0189]],\n",
       "        requires_grad=True),\n",
       " Parameter containing:\n",
       " tensor([ 0.0289, -0.0285,  0.0338, -0.0130, -0.0083, -0.0183,  0.0027, -0.0144,\n",
       "          0.0393,  0.0341,  0.0280, -0.0508,  0.0122,  0.0254,  0.0363, -0.0314,\n",
       "         -0.0148, -0.0418,  0.0226, -0.0018,  0.0083,  0.0708, -0.0547,  0.0482,\n",
       "         -0.0293,  0.0326, -0.0341,  0.0467, -0.0285,  0.0123,  0.0198,  0.0231,\n",
       "          0.0370,  0.0687,  0.0486, -0.0204, -0.0481, -0.0270, -0.0430,  0.0377,\n",
       "         -0.0319,  0.0113, -0.0406, -0.0123,  0.0273, -0.0483, -0.0116, -0.0476,\n",
       "         -0.0222, -0.0178,  0.0110, -0.0186,  0.0519, -0.0396,  0.0241, -0.0273,\n",
       "         -0.0346, -0.0218,  0.0336, -0.0008,  0.0658,  0.0196, -0.0542,  0.0061,\n",
       "          0.0031,  0.0370, -0.0357, -0.0220, -0.0446, -0.0324,  0.0564,  0.0241,\n",
       "          0.0150, -0.0152,  0.0083,  0.0028,  0.0416,  0.0130,  0.0271,  0.0166,\n",
       "          0.0362, -0.0444,  0.0224, -0.0069, -0.0285,  0.0628,  0.0121, -0.0267,\n",
       "         -0.0020,  0.0485, -0.0236,  0.0383,  0.0078, -0.0204, -0.0126, -0.0501,\n",
       "          0.0659,  0.0059, -0.0007, -0.0341, -0.0006, -0.0161,  0.0276,  0.0736,\n",
       "         -0.0142,  0.0052, -0.0460, -0.0453,  0.0357, -0.0520, -0.0386, -0.0015,\n",
       "          0.0233, -0.0533, -0.0017,  0.0345,  0.0185, -0.0350, -0.0004,  0.0424],\n",
       "        requires_grad=True),\n",
       " Parameter containing:\n",
       " tensor([[ 0.0122,  0.0337, -0.0914,  ...,  0.0143, -0.0330,  0.0671],\n",
       "         [ 0.0544,  0.0113, -0.0547,  ...,  0.0279,  0.0390,  0.0534],\n",
       "         [ 0.0416, -0.0260,  0.0640,  ..., -0.0704,  0.0029, -0.0781],\n",
       "         ...,\n",
       "         [-0.0446,  0.0063, -0.0427,  ...,  0.0677, -0.0025,  0.0877],\n",
       "         [ 0.0079,  0.0187,  0.0811,  ...,  0.0259, -0.0141, -0.0914],\n",
       "         [ 0.0031,  0.0909,  0.1065,  ...,  0.0040,  0.1008, -0.1264]],\n",
       "        requires_grad=True),\n",
       " Parameter containing:\n",
       " tensor([ 0.0595,  0.0244, -0.0565,  0.0241,  0.0171, -0.0954, -0.0902, -0.0605,\n",
       "          0.1295,  0.0889, -0.0869, -0.0328, -0.0527, -0.0356, -0.0211,  0.0469,\n",
       "         -0.0162, -0.0675,  0.1094,  0.0065, -0.0099, -0.0526, -0.0291,  0.0642,\n",
       "          0.0763, -0.0672,  0.1054,  0.0725, -0.0442,  0.0575,  0.0482, -0.0437,\n",
       "          0.0485,  0.0774,  0.0479,  0.1038,  0.0533, -0.0366, -0.0760,  0.1431,\n",
       "         -0.0479, -0.0802, -0.0019,  0.0815, -0.0867,  0.0401,  0.1014,  0.0392,\n",
       "          0.1142,  0.0547, -0.0829,  0.0975,  0.1166,  0.1257, -0.0835, -0.0814,\n",
       "          0.0634,  0.0770,  0.0336,  0.0658,  0.0401, -0.0845, -0.0187,  0.1230,\n",
       "          0.0572,  0.0989,  0.0408, -0.0377,  0.0324,  0.1076,  0.0378, -0.0618,\n",
       "         -0.0377, -0.0177,  0.0817, -0.0094,  0.1267,  0.0379,  0.0083, -0.0843,\n",
       "          0.0834,  0.0766, -0.0666,  0.0285], requires_grad=True),\n",
       " Parameter containing:\n",
       " tensor([[ 1.2123e-02, -2.2065e-01, -1.0008e-01, -1.9347e-01,  8.5064e-02,\n",
       "          -1.2278e-01, -7.0775e-02,  5.2851e-02,  6.4189e-02, -6.2659e-02,\n",
       "          -8.7325e-02, -9.5299e-02,  5.0936e-02,  2.3366e-02, -5.6117e-02,\n",
       "           7.5501e-02,  1.2340e-02, -7.8827e-02,  1.6026e-01, -3.0465e-02,\n",
       "          -6.6844e-02,  1.5056e-01,  8.5542e-02,  3.9305e-03, -2.7479e-02,\n",
       "          -1.6407e-01, -1.3723e-01,  1.0654e-01,  7.7385e-02, -9.9686e-03,\n",
       "          -7.4661e-02,  1.6336e-01, -4.5028e-02,  1.1950e-01,  1.2764e-01,\n",
       "           5.4834e-02,  2.5496e-02,  9.4734e-02,  6.1754e-02,  1.5791e-01,\n",
       "           1.5813e-01,  1.2153e-01, -3.4123e-02, -8.9015e-02, -8.7681e-02,\n",
       "           1.4718e-01, -1.6938e-01, -1.5116e-01, -5.6088e-02, -9.5963e-02,\n",
       "          -7.8308e-02, -7.4548e-02,  1.9703e-02,  1.2147e-01,  2.4146e-02,\n",
       "           4.8801e-03, -9.8888e-02,  3.7414e-02,  6.4272e-02,  7.5575e-02,\n",
       "           5.1914e-02,  4.0126e-02, -1.0551e-01, -8.1729e-02, -3.8761e-03,\n",
       "           4.7215e-02,  5.1407e-02,  2.8618e-03,  1.2254e-01,  1.2252e-01,\n",
       "           5.9148e-02,  1.1431e-01, -4.3623e-02, -6.0514e-02,  1.4549e-01,\n",
       "           2.5114e-02, -8.7778e-02, -6.5380e-02,  9.1381e-02, -3.8580e-02,\n",
       "           3.2245e-02,  4.1300e-03, -3.4440e-02,  1.3621e-01],\n",
       "         [ 1.3874e-01, -2.9211e-02,  2.4072e-02,  5.9556e-02,  1.7370e-01,\n",
       "          -1.2137e-01, -1.0448e-02, -1.4420e-02, -2.0577e-01,  9.2614e-02,\n",
       "          -1.0866e-01,  2.6484e-02,  1.0070e-01, -2.5849e-02,  3.0088e-02,\n",
       "          -3.1743e-02,  7.6749e-02, -2.1315e-01,  2.5451e-01,  1.3326e-01,\n",
       "          -4.9668e-03, -7.3280e-03, -9.7441e-02,  6.8784e-02,  1.0622e-01,\n",
       "          -5.0056e-02, -1.4225e-02, -1.1704e-01,  8.2417e-02,  1.6162e-01,\n",
       "          -2.1660e-02, -1.0667e-01,  1.7061e-01, -6.1984e-02,  1.0078e-01,\n",
       "           2.2016e-02,  5.5235e-02,  7.4160e-02,  1.0998e-01, -1.8833e-01,\n",
       "          -1.8957e-01,  5.8679e-03, -3.2177e-03, -1.6519e-01, -1.6348e-02,\n",
       "          -1.4297e-01, -7.8322e-03, -3.0601e-02, -1.0314e-02, -2.0388e-02,\n",
       "           3.4851e-02,  2.9407e-01, -3.0421e-02, -1.0545e-01, -3.7748e-02,\n",
       "          -3.3959e-02, -5.1316e-02,  8.9002e-02, -9.7421e-02, -1.9215e-01,\n",
       "          -2.6228e-02,  9.9461e-02, -2.0159e-02, -2.0020e-01, -1.1815e-01,\n",
       "          -1.5526e-01,  1.0740e-02,  8.6186e-02, -5.9602e-02, -8.6491e-02,\n",
       "          -6.7293e-02,  5.1809e-02,  4.2006e-02,  3.0774e-02,  7.9093e-02,\n",
       "          -4.6803e-02, -3.7209e-02, -3.7479e-02, -2.0792e-01, -6.5631e-02,\n",
       "          -1.6690e-01,  1.0871e-02, -7.9297e-02,  1.0551e-01],\n",
       "         [-6.5088e-02, -2.1043e-01,  2.5672e-02, -2.9597e-02, -6.6519e-02,\n",
       "           1.0963e-01,  9.7563e-02,  6.8541e-02, -8.8556e-02,  1.1122e-01,\n",
       "          -4.0457e-02,  3.3554e-02,  6.6767e-03, -1.1370e-01,  2.1564e-02,\n",
       "          -2.9868e-02,  9.2765e-02,  2.9418e-02, -1.0652e-01, -2.7131e-01,\n",
       "           6.9933e-02, -1.2127e-02, -6.9601e-02,  8.0270e-02, -1.2744e-02,\n",
       "          -6.0410e-02, -8.0816e-03,  4.1018e-02, -1.5401e-01,  2.7884e-02,\n",
       "           2.7190e-02, -1.0220e-01,  1.3675e-02,  1.3535e-01, -1.7323e-02,\n",
       "          -8.3265e-02, -2.2275e-02, -2.3406e-01, -1.6315e-02,  1.4053e-01,\n",
       "           1.0379e-01, -2.1142e-01, -2.2110e-02, -1.4732e-01,  1.1390e-01,\n",
       "          -1.6277e-03,  1.4468e-01, -1.3100e-02,  6.1008e-02,  1.0263e-01,\n",
       "          -9.7709e-02,  4.9775e-03,  1.1471e-01,  7.8456e-02,  1.6290e-01,\n",
       "          -1.1679e-01, -1.1482e-01, -5.0660e-02,  6.6534e-02, -2.0364e-02,\n",
       "          -7.2917e-02,  9.7266e-02, -2.4768e-02,  1.0950e-01,  7.6500e-02,\n",
       "           1.3855e-01, -1.2351e-01,  4.4878e-02, -5.2431e-02,  9.1812e-02,\n",
       "           2.6969e-01,  2.0707e-02,  9.5440e-02,  4.7318e-02, -1.0990e-01,\n",
       "           7.3450e-03,  2.0646e-01, -2.8274e-01, -4.6635e-02,  4.8002e-03,\n",
       "          -7.3278e-02, -5.3085e-02, -6.9748e-02,  2.9163e-02],\n",
       "         [-2.0205e-02,  1.0042e-01,  7.4071e-02,  1.7733e-01,  4.3654e-02,\n",
       "           1.6364e-01,  3.3406e-02, -1.2529e-01, -5.2561e-02,  5.2798e-02,\n",
       "          -7.2516e-02,  4.3148e-02,  1.1093e-02, -1.0032e-01,  1.0904e-01,\n",
       "          -2.3183e-01, -8.0087e-02,  1.2437e-01, -4.9089e-02,  1.9074e-01,\n",
       "           1.0911e-02, -3.5127e-03,  7.8529e-03, -6.2517e-03, -8.1966e-02,\n",
       "           7.4775e-02,  6.8332e-02, -7.0994e-02,  7.2922e-03,  1.4105e-01,\n",
       "           8.7252e-02, -3.6821e-02,  7.4125e-02,  1.4563e-01, -3.8848e-02,\n",
       "           4.1328e-02, -1.3770e-01, -1.0563e-01, -1.0006e-01,  9.3145e-03,\n",
       "           9.2545e-02,  3.3438e-02, -4.3785e-02, -1.8590e-01, -5.6622e-02,\n",
       "           3.3986e-02,  2.1658e-02, -5.9054e-02, -2.9290e-02, -1.8429e-01,\n",
       "          -1.0111e-01,  1.3203e-01,  9.4469e-02,  1.3083e-01,  5.5565e-02,\n",
       "           4.6750e-03, -1.5893e-01, -1.1191e-01,  8.1149e-02, -1.3594e-01,\n",
       "          -1.6181e-01, -6.4158e-02, -8.3255e-02, -1.2129e-01, -2.9671e-02,\n",
       "           2.6570e-02,  8.7901e-02,  3.4543e-02, -4.1809e-02,  5.5895e-02,\n",
       "           1.0206e-01,  1.0812e-01, -8.1033e-02,  6.9331e-02, -1.1869e-01,\n",
       "           7.1811e-02, -1.8494e-01,  8.9214e-02,  1.3752e-01, -3.5930e-02,\n",
       "          -4.0510e-02, -1.1177e-01, -8.4593e-02, -4.1629e-02],\n",
       "         [-1.3005e-01,  2.2701e-02, -3.5468e-02,  6.2643e-02, -6.5164e-02,\n",
       "           7.6375e-02,  1.0893e-02,  2.7101e-03, -1.9758e-01, -7.4759e-02,\n",
       "          -2.5942e-02, -1.0029e-01,  3.1504e-02, -9.3680e-02, -3.4346e-02,\n",
       "           1.1402e-01,  2.1832e-01, -1.1595e-01,  1.6168e-01,  1.2577e-01,\n",
       "           4.2283e-02,  1.8332e-02,  1.0811e-01,  1.6481e-01,  5.9466e-03,\n",
       "          -5.7611e-02,  2.1717e-02, -4.8986e-02, -2.5560e-02,  4.1155e-02,\n",
       "           8.8681e-02,  1.0254e-01,  1.7056e-01, -1.6466e-01, -1.7726e-01,\n",
       "           7.9154e-02, -1.1305e-01, -1.4114e-02, -4.9044e-02,  1.2216e-01,\n",
       "          -1.6016e-01, -2.7697e-03, -2.1456e-02, -9.1856e-02, -1.0986e-02,\n",
       "          -4.7443e-02,  9.8246e-02, -1.4308e-01, -2.0450e-02, -1.1921e-01,\n",
       "          -9.1750e-03, -7.1508e-02,  1.5369e-01, -3.9754e-03, -1.6110e-01,\n",
       "           7.9451e-02,  1.0004e-02, -1.9534e-03,  1.0210e-01, -8.2246e-02,\n",
       "           1.3276e-01,  6.6961e-02, -3.5725e-03,  2.6765e-02,  6.7788e-02,\n",
       "          -1.4027e-01, -3.1116e-03, -2.3837e-02,  5.1421e-02,  6.8064e-02,\n",
       "           1.6873e-02, -6.8685e-02,  3.1740e-02,  6.9167e-02, -1.2910e-01,\n",
       "           3.6648e-02,  1.9927e-01, -6.2401e-02,  7.6230e-02, -1.0328e-02,\n",
       "           1.1723e-02, -3.6422e-02,  2.2451e-02, -2.2214e-01],\n",
       "         [-3.3055e-02,  1.0415e-01,  9.4445e-02, -1.6176e-01, -3.2872e-02,\n",
       "          -1.1723e-01,  3.7712e-02,  1.0321e-01, -1.8266e-02, -6.5623e-02,\n",
       "           1.1499e-01,  1.0465e-01,  2.7559e-03,  1.0353e-02,  1.0128e-01,\n",
       "          -1.3421e-02, -1.2251e-01, -1.3180e-01, -2.3165e-01, -5.4281e-02,\n",
       "           4.6927e-02, -5.8720e-02, -6.1190e-02, -7.7818e-02, -4.4066e-02,\n",
       "           1.3287e-01,  1.1674e-01,  1.6222e-01,  3.3415e-02, -5.0378e-04,\n",
       "           1.6944e-01, -7.1320e-02, -1.1770e-01, -2.7242e-03,  1.5436e-01,\n",
       "           2.6823e-02,  4.7187e-02,  7.2510e-02, -1.3355e-01, -2.3509e-01,\n",
       "          -4.3734e-02,  9.0222e-02,  1.4893e-02,  1.8983e-01,  2.1080e-02,\n",
       "          -9.4797e-02, -1.4115e-01,  1.7122e-01, -7.2563e-02,  2.3724e-01,\n",
       "          -8.4454e-02,  2.5266e-03, -5.1014e-02, -2.9067e-01,  6.0158e-02,\n",
       "           9.6626e-02,  2.5564e-01, -1.4546e-01, -3.2987e-02, -1.3156e-01,\n",
       "          -8.5240e-02, -3.6520e-02, -4.8365e-02, -1.7311e-01, -1.0454e-01,\n",
       "           1.0053e-01,  2.0454e-01,  9.3133e-02,  1.7077e-01, -1.8869e-01,\n",
       "          -9.3220e-03, -8.5774e-02, -1.5610e-01,  7.7879e-02,  3.7254e-02,\n",
       "          -1.0640e-01, -5.0366e-02,  1.2981e-01,  1.3447e-01, -5.9106e-02,\n",
       "          -1.8102e-02, -4.4182e-02,  5.7958e-02, -1.2770e-01],\n",
       "         [ 8.2034e-02, -3.3279e-03, -1.0677e-01, -3.7532e-02, -1.6245e-01,\n",
       "          -3.9411e-02, -7.9128e-03, -9.2132e-02,  1.0686e-01, -1.3339e-01,\n",
       "           1.0295e-02,  3.5786e-02, -5.2385e-02,  7.9123e-03, -9.0301e-02,\n",
       "           2.4247e-01,  9.3950e-02, -1.9814e-02,  4.6322e-02, -1.2684e-01,\n",
       "           1.0813e-01,  9.6759e-03, -8.6706e-02,  3.2481e-02,  4.1152e-02,\n",
       "          -1.1397e-01,  1.2857e-01,  9.6393e-02,  8.0917e-02,  5.3941e-02,\n",
       "           7.9320e-02,  1.1174e-01,  3.1988e-02,  8.7666e-02,  1.3252e-01,\n",
       "          -3.3896e-03,  4.4121e-02,  9.5185e-02, -7.4217e-02,  1.3881e-01,\n",
       "          -7.9354e-02,  1.8973e-01,  7.1079e-02, -1.7301e-01,  2.2627e-02,\n",
       "           3.5889e-02, -8.1641e-02, -5.7521e-02, -3.1002e-02,  2.8488e-02,\n",
       "           7.0448e-02, -1.2469e-01,  1.7148e-01,  1.1649e-01, -2.6192e-01,\n",
       "          -1.9231e-02, -1.6442e-01, -5.6271e-02,  1.9762e-02,  2.0942e-01,\n",
       "           4.2934e-02,  3.7779e-02,  1.0420e-01,  7.7712e-02,  1.2099e-01,\n",
       "           1.0317e-01, -1.7782e-01, -5.8994e-02,  1.4999e-01,  1.9939e-01,\n",
       "          -4.4280e-02,  8.1676e-02,  1.1495e-01, -1.7256e-02, -3.4147e-02,\n",
       "           8.8150e-02, -3.4494e-02, -1.4972e-01, -4.0414e-02, -5.6554e-02,\n",
       "          -1.3478e-02,  6.5167e-02,  5.1193e-02,  1.4090e-01],\n",
       "         [ 1.6017e-01,  3.9114e-02,  9.3890e-02, -9.7983e-02,  1.7337e-02,\n",
       "           8.1370e-02,  7.0127e-02,  2.2710e-01,  1.5123e-01,  1.0352e-02,\n",
       "           5.2809e-02,  8.9242e-02,  9.9137e-02, -7.2917e-02, -1.0246e-01,\n",
       "          -2.7603e-02, -7.9318e-02,  6.6117e-02, -1.9109e-01,  1.2261e-01,\n",
       "          -3.5760e-02,  2.8149e-02, -4.7491e-02, -1.5437e-01,  6.3380e-02,\n",
       "           2.7246e-03, -1.6671e-01, -1.7308e-01, -6.5347e-02, -2.8587e-01,\n",
       "           5.8278e-03,  4.3988e-03, -1.5534e-01,  2.3646e-02, -1.5790e-01,\n",
       "          -1.0085e-01, -8.7992e-02, -1.7101e-02,  6.7584e-02,  3.8091e-02,\n",
       "          -9.8724e-02, -1.3753e-01,  9.7476e-02,  1.6617e-02, -1.6368e-01,\n",
       "           4.6318e-02,  2.0302e-01,  3.2901e-02, -1.5192e-01, -1.2615e-02,\n",
       "          -3.7018e-02, -5.4842e-02, -2.3510e-01, -1.4163e-01,  5.8871e-02,\n",
       "          -4.8012e-02,  1.2666e-01,  8.9847e-02, -4.2275e-02,  1.6033e-01,\n",
       "           2.2179e-02, -7.4937e-02,  2.5466e-02,  2.2572e-02,  6.6673e-02,\n",
       "          -9.2546e-02,  1.6616e-01,  3.1654e-02,  8.6412e-02, -1.7010e-01,\n",
       "          -2.2079e-01,  1.3291e-01,  1.2938e-01, -5.9786e-02,  9.8374e-02,\n",
       "          -2.1747e-03, -1.3558e-01,  1.8546e-01,  1.3103e-01,  1.0770e-01,\n",
       "           1.1802e-01, -1.3833e-01,  5.4614e-02, -1.8819e-01],\n",
       "         [ 7.0728e-02, -1.4277e-02,  1.3621e-01,  5.4267e-02,  7.2847e-02,\n",
       "          -7.7520e-02,  8.1490e-02, -2.1003e-01,  1.9606e-01,  1.3361e-01,\n",
       "          -7.1249e-02,  3.5259e-02,  2.7524e-02, -4.3497e-02, -6.2645e-02,\n",
       "           1.3634e-01, -1.4938e-01,  1.3395e-01, -1.8970e-02, -3.6567e-02,\n",
       "           4.4937e-02, -9.7169e-02, -9.1482e-05,  1.0503e-01, -1.2583e-01,\n",
       "           1.2017e-01, -6.8993e-02,  1.8816e-01,  1.2615e-02, -5.1976e-02,\n",
       "           4.9760e-02, -8.5539e-03, -5.3610e-02, -1.1476e-01,  1.2394e-01,\n",
       "           4.8418e-02, -2.3472e-01,  1.8291e-02, -5.6018e-03,  7.3844e-02,\n",
       "           9.8548e-02, -4.0227e-02,  3.6635e-02,  2.0501e-01, -6.1034e-02,\n",
       "           1.7448e-01, -8.3588e-02, -4.6149e-02,  2.1295e-01, -1.6223e-01,\n",
       "          -7.5077e-03, -1.0410e-01,  8.5446e-03, -8.4704e-02,  1.8292e-01,\n",
       "           5.7536e-02,  1.8449e-03,  2.8158e-04,  7.9629e-02,  7.5585e-03,\n",
       "           1.7031e-01, -8.4464e-02, -2.7026e-02, -6.3035e-02, -1.7137e-01,\n",
       "          -3.8714e-02, -2.4729e-02,  1.7769e-02,  5.9542e-02, -9.6799e-03,\n",
       "           3.3445e-02,  1.5217e-01,  3.1048e-02, -9.2009e-02, -1.4343e-01,\n",
       "           4.7525e-02,  9.3631e-02, -9.2050e-02,  3.1541e-02, -1.1282e-01,\n",
       "           1.3620e-01,  3.3101e-02,  1.7214e-02,  1.1554e-02],\n",
       "         [ 8.4298e-03,  2.5052e-03,  5.6360e-02, -1.2441e-01, -1.6409e-02,\n",
       "          -9.6305e-02,  5.5649e-02,  3.9416e-02,  1.5837e-01, -1.0733e-01,\n",
       "           1.0103e-01, -1.0034e-01,  7.3210e-02,  6.1533e-02, -4.0638e-02,\n",
       "          -2.4210e-02, -3.5997e-03,  8.5788e-02, -1.9621e-01, -2.1994e-02,\n",
       "           4.1432e-02, -9.0302e-02,  5.7111e-02, -4.2966e-02,  1.1065e-01,\n",
       "          -9.9267e-02,  5.3769e-02, -8.5789e-02, -4.1584e-03, -1.9147e-01,\n",
       "           1.8811e-01, -4.3182e-02, -1.8522e-01, -1.9654e-01,  7.7735e-02,\n",
       "           1.4753e-01,  2.3286e-01,  2.1544e-01, -4.0052e-03, -1.6054e-01,\n",
       "           3.9480e-02, -2.1428e-02, -4.7649e-03, -3.9158e-02,  3.4625e-02,\n",
       "           6.5035e-02,  1.4225e-01, -7.2798e-02,  1.0952e-01,  7.5959e-02,\n",
       "           8.1349e-02, -4.6928e-02, -1.1831e-01,  8.8825e-02, -8.4826e-02,\n",
       "           8.7231e-02,  2.5058e-01, -3.0527e-02,  3.6902e-02, -9.3998e-02,\n",
       "          -5.1971e-02,  3.9885e-02,  5.5930e-03, -1.1189e-01,  9.1458e-02,\n",
       "           1.9194e-01, -1.3644e-01, -7.9504e-02, -8.3336e-02, -1.1634e-01,\n",
       "          -2.3526e-01,  3.0622e-02,  7.1559e-02,  8.6461e-03,  1.0590e-01,\n",
       "           2.6158e-02,  1.1518e-01,  1.9387e-02, -2.0246e-01, -3.7478e-02,\n",
       "          -4.3531e-02,  1.2170e-01, -2.5309e-02, -1.1638e-01]],\n",
       "        requires_grad=True),\n",
       " Parameter containing:\n",
       " tensor([ 0.0831,  0.0461,  0.1512, -0.1138,  0.0438, -0.1215,  0.0273,  0.0134,\n",
       "          0.1291, -0.0095], requires_grad=True)]"
      ]
     },
     "execution_count": 75,
     "metadata": {},
     "output_type": "execute_result"
    }
   ],
   "source": [
    "list(net.parameters())"
   ]
  },
  {
   "cell_type": "code",
   "execution_count": 76,
   "metadata": {},
   "outputs": [],
   "source": [
    "# 모델 테스트"
   ]
  },
  {
   "cell_type": "code",
   "execution_count": 93,
   "metadata": {},
   "outputs": [],
   "source": [
    "def imshow(image):\n",
    "    image = image/2 + 0.5       # + 0.5만큼 밝아진다.\n",
    "    npimg = image.numpy()       # plt.imshow()하려면 넘파이로 형변환 필요\n",
    "    \n",
    "    fig = plt.figure(figsize=(16,8))\n",
    "    plt.imshow(np.transpose(npimg,(1,2,0))) # rgb -> gbr\n",
    "    plt.show()"
   ]
  },
  {
   "cell_type": "code",
   "execution_count": 110,
   "metadata": {},
   "outputs": [
    {
     "name": "stderr",
     "output_type": "stream",
     "text": [
      "Clipping input data to the valid range for imshow with RGB data ([0..1] for floats or [0..255] for integers).\n"
     ]
    },
    {
     "name": "stdout",
     "output_type": "stream",
     "text": [
      "torch.Size([128, 1, 28, 28])\n"
     ]
    },
    {
     "data": {
      "image/png": "[encoded data removed]",
      "text/plain": [
       "<Figure size 1600x800 with 1 Axes>"
      ]
     },
     "metadata": {},
     "output_type": "display_data"
    }
   ],
   "source": [
    "import torchvision\n",
    "\n",
    "\n",
    "dataiter = iter(test_loader)\n",
    "images, labels = next(dataiter)\n",
    "print(images.shape)     # batch size 128개의 이미지가 나와야 함.\n",
    "imshow(torchvision.utils.make_grid(images[:6])) # 6개만 그리드로 보여줘"
   ]
  },
  {
   "cell_type": "code",
   "execution_count": 111,
   "metadata": {},
   "outputs": [
    {
     "data": {
      "text/plain": [
       "(torch.Size([128, 1, 28, 28]), torch.Size([128]), torch.Size([128]))"
      ]
     },
     "execution_count": 111,
     "metadata": {},
     "output_type": "execute_result"
    }
   ],
   "source": [
    "# 이미지 분류를 위한 모델 사용\n",
    "outputs = net(images)   # 128개의 이미지\n",
    "\n",
    "_, pred = torch.max(outputs,1)  # _에는 max값이 저장되고 pred에는 max값의 인덱스가 저장된다.\n",
    "images.shape, _.shape, pred.shape"
   ]
  },
  {
   "cell_type": "code",
   "execution_count": 119,
   "metadata": {},
   "outputs": [
    {
     "data": {
      "text/plain": [
       "tensor([9, 2, 1, 1, 6, 1, 4, 6, 5, 7, 4, 5, 7, 3, 4, 1, 2, 6, 8, 0, 2, 7, 7, 5,\n",
       "        1, 2, 6, 0, 9, 4, 8, 8, 3, 3, 8, 0, 7, 5, 7, 9, 6, 1, 6, 7, 4, 7, 2, 1,\n",
       "        2, 6, 4, 4, 5, 8, 2, 2, 8, 4, 8, 0, 7, 7, 8, 5, 1, 1, 3, 4, 7, 8, 7, 0,\n",
       "        2, 6, 4, 3, 1, 2, 8, 4, 1, 8, 5, 9, 5, 0, 3, 2, 0, 2, 5, 3, 6, 7, 1, 8,\n",
       "        0, 1, 2, 2, 3, 6, 7, 6, 7, 8, 5, 7, 9, 4, 2, 5, 7, 0, 5, 2, 8, 6, 7, 8,\n",
       "        0, 0, 9, 9, 3, 0, 8, 4])"
      ]
     },
     "execution_count": 119,
     "metadata": {},
     "output_type": "execute_result"
    }
   ],
   "source": [
    "pred"
   ]
  },
  {
   "cell_type": "code",
   "execution_count": 129,
   "metadata": {},
   "outputs": [
    {
     "name": "stdout",
     "output_type": "stream",
     "text": [
      "['Boot', 'Pullover', 'Trouser', 'Trouser', 'Shirt', 'Trouser']\n",
      "['Boot', 'Pullover', 'Trouser', 'Trouser', 'Shirt', 'Trouser']\n"
     ]
    }
   ],
   "source": [
    "prediction = [labels_map[int(i)] for i in pred[:6]] # tensor형이기 때문에 int형으로 바꿔줘야 한다.\n",
    "labeling = [labels_map[int(i)] for i in labels[:6]]\n",
    "print(prediction)\n",
    "print(labeling)"
   ]
  },
  {
   "cell_type": "code",
   "execution_count": 118,
   "metadata": {},
   "outputs": [
    {
     "name": "stdout",
     "output_type": "stream",
     "text": [
      "정확도= 87.5\n"
     ]
    }
   ],
   "source": [
    "acc= (pred==labels).float().mean()      # boolean을 float형으로 바꿔주고 평균을 구해야한다.\n",
    "print('정확도=',acc.item()*100)"
   ]
  },
  {
   "cell_type": "code",
   "execution_count": 130,
   "metadata": {},
   "outputs": [
    {
     "name": "stdout",
     "output_type": "stream",
     "text": [
      "89.02\n"
     ]
    }
   ],
   "source": [
    "correct = 0\n",
    "total = 0\n",
    "with torch.no_grad():   # 이미학습이 되었기때문에 그리고 정확도만 계산할것이기 때문에\n",
    "    for data in test_loader:    # 배치만큼 나눠준 데이터\n",
    "        images, labels = data\n",
    "        outputs  = net(images)\n",
    "        _, pred = torch.max(outputs,1)\n",
    "        total += labels.size(0)\n",
    "        correct += (pred == labels).sum().item()\n",
    "        \n",
    "print(correct/total*100)    # 총 개수분의 맞은 개수 * 100(%)\n",
    "        "
   ]
  },
  {
   "cell_type": "code",
   "execution_count": 132,
   "metadata": {},
   "outputs": [
    {
     "data": {
      "text/plain": [
       "16"
      ]
     },
     "execution_count": 132,
     "metadata": {},
     "output_type": "execute_result"
    }
   ],
   "source": []
  }
 ],
 "metadata": {
  "kernelspec": {
   "display_name": "DL",
   "language": "python",
   "name": "python3"
  },
  "language_info": {
   "codemirror_mode": {
    "name": "ipython",
    "version": 3
   },
   "file_extension": ".py",
   "mimetype": "text/x-python",
   "name": "python",
   "nbconvert_exporter": "python",
   "pygments_lexer": "ipython3",
   "version": "3.7.15"
  },
  "orig_nbformat": 4,
  "vscode": {
   "interpreter": {
    "hash": "78a5cce84d4e0fc2d340b534b51c50f208e7e0b787b898a04b058b6df0a98d57"
   }
  }
 },
 "nbformat": 4,
 "nbformat_minor": 2
}
