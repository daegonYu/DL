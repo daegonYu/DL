{
 "cells": [
  {
   "cell_type": "code",
   "execution_count": 19,
   "metadata": {},
   "outputs": [
    {
     "data": {
      "text/plain": [
       "'1.13.1+cpu'"
      ]
     },
     "execution_count": 19,
     "metadata": {},
     "output_type": "execute_result"
    }
   ],
   "source": [
    "import torch\n",
    "torch.__version__"
   ]
  },
  {
   "cell_type": "code",
   "execution_count": 20,
   "metadata": {},
   "outputs": [],
   "source": [
    "from torch.utils.data import Dataset, DataLoader\n",
    "# transforms 전처리 때 사용하는 메소드"
   ]
  },
  {
   "attachments": {},
   "cell_type": "markdown",
   "metadata": {},
   "source": [
    "MNIST 데이터셋 가져오기"
   ]
  },
  {
   "cell_type": "code",
   "execution_count": 21,
   "metadata": {},
   "outputs": [],
   "source": [
    "import torchvision.transforms as transforms\n",
    "from torchvision import datasets"
   ]
  },
  {
   "cell_type": "code",
   "execution_count": 22,
   "metadata": {},
   "outputs": [],
   "source": [
    "mnist_transform = transforms.Compose([transforms.ToTensor(),\n",
    "                                       transforms.Normalize(mean=(0.5,),std=(1.0,))])"
   ]
  },
  {
   "cell_type": "code",
   "execution_count": 23,
   "metadata": {},
   "outputs": [],
   "source": [
    "trainset = datasets.MNIST(root=r'C:\\Users\\DILAB\\쥬피터전용폴더\\3분딥러닝파이토치맛',\n",
    "                          train=True, download=True, transform=mnist_transform)"
   ]
  },
  {
   "cell_type": "code",
   "execution_count": 24,
   "metadata": {},
   "outputs": [],
   "source": [
    "testset = datasets.MNIST(root=r'C:\\Users\\DILAB\\쥬피터전용폴더\\3분딥러닝파이토치맛',\n",
    "                          train=False, download=True, transform=mnist_transform)"
   ]
  },
  {
   "cell_type": "code",
   "execution_count": 25,
   "metadata": {},
   "outputs": [],
   "source": [
    "# 배치만큼 데이터 가지고 오기\n",
    "train_loader = DataLoader(trainset, batch_size=8, shuffle=True, num_workers=2)\n",
    "test_loader = DataLoader(testset, batch_size=8, shuffle=True, num_workers=2)"
   ]
  },
  {
   "cell_type": "code",
   "execution_count": 26,
   "metadata": {},
   "outputs": [
    {
     "data": {
      "text/plain": [
       "(torch.Size([8, 1, 28, 28]), torch.Size([8]))"
      ]
     },
     "execution_count": 26,
     "metadata": {},
     "output_type": "execute_result"
    }
   ],
   "source": [
    "dataiter = iter(train_loader)\n",
    "images, labels = next(dataiter)\n",
    "images.shape, labels.shape\n",
    "# 28 x 28 이미지, 이미지 커널 1개이므로 흑백, batch size = 8"
   ]
  },
  {
   "cell_type": "code",
   "execution_count": 27,
   "metadata": {},
   "outputs": [
    {
     "data": {
      "text/plain": [
       "torch.Size([28, 28])"
      ]
     },
     "execution_count": 27,
     "metadata": {},
     "output_type": "execute_result"
    }
   ],
   "source": [
    "# 이미지 차원 축소, 0차원 축소 => 8개 배치 데이터 중 한 개만 가져옴\n",
    "torch_image = torch.squeeze(images[0])\n",
    "torch_image.shape"
   ]
  },
  {
   "cell_type": "code",
   "execution_count": 28,
   "metadata": {},
   "outputs": [
    {
     "data": {
      "image/png": "[encoded data removed]",
      "text/plain": [
       "<Figure size 1200x600 with 8 Axes>"
      ]
     },
     "metadata": {},
     "output_type": "display_data"
    }
   ],
   "source": [
    "import matplotlib.pyplot as plt\n",
    "\n",
    "figure = plt.figure(figsize=(12,6))\n",
    "cols, rows = 4, 2\n",
    "for i in range(1, cols*rows + 1):\n",
    "    sample_idx = torch.randint(len(trainset),size=(1,)).item()\n",
    "    img, label = trainset[sample_idx]\n",
    "    figure.add_subplot(rows, cols, i)\n",
    "    plt.title(label)\n",
    "    plt.axis('off')\n",
    "    plt.imshow(img.squeeze(), cmap='gray') # img.squeeze()를 통해 차원을 2차원을 맞춰줘야 한다.\n",
    "plt.show()"
   ]
  },
  {
   "attachments": {},
   "cell_type": "markdown",
   "metadata": {},
   "source": [
    "신경망 구성\n",
    "layer : 하나 이상의 텐서를 입력받아 하나 이상의 텐서를 출력\n",
    "module : 한 개 이상의 계층이 모여서 구성\n",
    "model : 한 개 이상의 모듈이 모여서 구성"
   ]
  },
  {
   "attachments": {},
   "cell_type": "markdown",
   "metadata": {},
   "source": [
    "torch.nn 패키지\n",
    "가중치와 편향값들이 내부에서 자동으로 생성되는 레이어를 사용할 때 이용한다."
   ]
  },
  {
   "cell_type": "code",
   "execution_count": 29,
   "metadata": {},
   "outputs": [],
   "source": [
    "import torch.nn as nn\n",
    "import torch"
   ]
  },
  {
   "cell_type": "code",
   "execution_count": 30,
   "metadata": {},
   "outputs": [
    {
     "name": "stdout",
     "output_type": "stream",
     "text": [
      "tensor([[-1.4698,  0.7711,  0.7055,  ..., -0.9698,  0.2457,  0.8929],\n",
      "        [-0.4836, -0.1857, -0.7432,  ..., -0.4165, -0.0866,  0.3535],\n",
      "        [ 0.9742,  0.9144,  0.4532,  ..., -0.9713, -0.1153, -0.7131],\n",
      "        ...,\n",
      "        [ 0.7910,  0.9002,  1.3761,  ...,  0.5175, -0.1890, -0.8565],\n",
      "        [-1.0853,  0.6252,  0.5511,  ...,  1.7487, -1.3597,  0.2430],\n",
      "        [-0.6097,  0.3978,  1.2296,  ...,  0.1759,  0.6086,  0.2838]])\n",
      "Linear(in_features=20, out_features=30, bias=True)\n",
      "torch.Size([128, 30])\n"
     ]
    }
   ],
   "source": [
    "# 예제\n",
    "input = torch.randn(128,20)\n",
    "print(input)\n",
    "\n",
    "m = nn.Linear(20,30)\n",
    "print(m)\n",
    "\n",
    "output = m(input)\n",
    "print(output.size())"
   ]
  },
  {
   "cell_type": "code",
   "execution_count": 31,
   "metadata": {},
   "outputs": [
    {
     "name": "stdout",
     "output_type": "stream",
     "text": [
      "Conv2d(16, 33, kernel_size=(3, 5), stride=(2, 1), padding=(4, 2), dilation=(3, 1))\n"
     ]
    }
   ],
   "source": [
    "# 컨볼루션 예제\n",
    "input = torch.randn(20,16,50,100)\n",
    "m = nn.Conv2d(16,33, 3, stride=2)\n",
    "m = nn.Conv2d(16,33, (3,5), stride=(2,1),padding=(4,2))\n",
    "m = nn.Conv2d(16,33, (3,5), stride=(2,1), padding=(4,2), dilation=(3,1))\n",
    "print(m)"
   ]
  },
  {
   "cell_type": "code",
   "execution_count": 32,
   "metadata": {},
   "outputs": [
    {
     "data": {
      "text/plain": [
       "torch.Size([20, 33, 26, 100])"
      ]
     },
     "execution_count": 32,
     "metadata": {},
     "output_type": "execute_result"
    }
   ],
   "source": [
    "output = m(input)\n",
    "output.size()"
   ]
  },
  {
   "cell_type": "code",
   "execution_count": 33,
   "metadata": {},
   "outputs": [
    {
     "data": {
      "text/plain": [
       "Conv2d(1, 20, kernel_size=(5, 5), stride=(1, 1))"
      ]
     },
     "execution_count": 33,
     "metadata": {},
     "output_type": "execute_result"
    }
   ],
   "source": [
    "nn.Conv2d(in_channels=1, out_channels=20, kernel_size=5, stride=1)"
   ]
  },
  {
   "cell_type": "code",
   "execution_count": 34,
   "metadata": {},
   "outputs": [],
   "source": [
    "layer = nn.Conv2d(1,20,5,1).to(torch.device('cpu'))"
   ]
  },
  {
   "cell_type": "code",
   "execution_count": 35,
   "metadata": {},
   "outputs": [
    {
     "data": {
      "text/plain": [
       "torch.Size([20, 1, 5, 5])"
      ]
     },
     "execution_count": 35,
     "metadata": {},
     "output_type": "execute_result"
    }
   ],
   "source": [
    "weight = layer.weight\n",
    "weight.shape"
   ]
  },
  {
   "cell_type": "code",
   "execution_count": 36,
   "metadata": {},
   "outputs": [],
   "source": [
    "# weight는 detach()를 통해 꺼내줘야 numpy() 변환 가능\n",
    "\n",
    "weight = weight.detach()"
   ]
  },
  {
   "cell_type": "code",
   "execution_count": 37,
   "metadata": {},
   "outputs": [],
   "source": [
    "# numpy() 변환 가능\n",
    "weight = weight.numpy()"
   ]
  },
  {
   "cell_type": "code",
   "execution_count": 55,
   "metadata": {},
   "outputs": [
    {
     "data": {
      "text/plain": [
       "(5, 5)"
      ]
     },
     "execution_count": 55,
     "metadata": {},
     "output_type": "execute_result"
    }
   ],
   "source": [
    "import numpy as np\n",
    "np.squeeze(weight[0]).shape"
   ]
  },
  {
   "cell_type": "code",
   "execution_count": null,
   "metadata": {},
   "outputs": [],
   "source": []
  },
  {
   "cell_type": "code",
   "execution_count": 38,
   "metadata": {},
   "outputs": [
    {
     "data": {
      "image/png": "[encoded data removed]",
      "text/plain": [
       "<Figure size 640x480 with 2 Axes>"
      ]
     },
     "metadata": {},
     "output_type": "display_data"
    }
   ],
   "source": [
    "# 컨볼루션 계층 하나의 weight 값을 가져와서 컬러로 표현\n",
    "from matplotlib import pyplot as plt\n",
    "plt.imshow(weight[0,0,:,:],'jet')   # 5 x 5 만 선택, 'jet' : 컬러\n",
    "plt.colorbar()\n",
    "plt.show()"
   ]
  },
  {
   "cell_type": "code",
   "execution_count": 39,
   "metadata": {},
   "outputs": [
    {
     "name": "stdout",
     "output_type": "stream",
     "text": [
      "torch.Size([8, 1, 28, 28])\n",
      "torch.Size([1, 28, 28])\n"
     ]
    },
    {
     "data": {
      "text/plain": [
       "torch.Size([28, 28])"
      ]
     },
     "execution_count": 39,
     "metadata": {},
     "output_type": "execute_result"
    }
   ],
   "source": [
    "print(images.shape)\n",
    "print(images[0].size())\n",
    "\n",
    "input_image = torch.squeeze(images[0])\n",
    "input_image.size()"
   ]
  },
  {
   "cell_type": "code",
   "execution_count": 41,
   "metadata": {},
   "outputs": [
    {
     "name": "stdout",
     "output_type": "stream",
     "text": [
      "torch.Size([1, 1, 28, 28])\n",
      "output_data torch.Size([1, 20, 24, 24])\n",
      "output torch.Size([1, 20, 24, 24])\n"
     ]
    },
    {
     "data": {
      "text/plain": [
       "(1, 20, 24, 24)"
      ]
     },
     "execution_count": 41,
     "metadata": {},
     "output_type": "execute_result"
    }
   ],
   "source": [
    "input_data = torch.unsqueeze(images[0], dim=0)\n",
    "print(input_data.size())    # 1 1 28 28\n",
    "\n",
    "output_data = layer(input_data) # layer = nn.Conv2d(1,20,5,1).to(torch.device('cpu'))\n",
    "print('output_data', output_data.shape)   # 객체로 grad도 포함되어있음\n",
    "output = output_data.data       # data값만 가져옴, shape 일치\n",
    "print('output', output.shape)\n",
    "output_np = output.numpy()\n",
    "output_np.shape"
   ]
  },
  {
   "cell_type": "code",
   "execution_count": 60,
   "metadata": {},
   "outputs": [
    {
     "data": {
      "text/plain": [
       "<matplotlib.image.AxesImage at 0x1e4b1ab6548>"
      ]
     },
     "execution_count": 60,
     "metadata": {},
     "output_type": "execute_result"
    },
    {
     "data": {
      "image/png": "[encoded data removed]",
      "text/plain": [
       "<Figure size 1500x3000 with 3 Axes>"
      ]
     },
     "metadata": {},
     "output_type": "display_data"
    }
   ],
   "source": [
    "plt.figure(figsize=(15,30))\n",
    "\n",
    "plt.subplot(131)\n",
    "plt.title('input')\n",
    "plt.imshow(input_image, 'gray')    # input_image: 28,28\n",
    "# print(input_image.shape)\n",
    "\n",
    "plt.subplot(132)\n",
    "plt.title('Weight')\n",
    "# plt.imshow(np.squeeze(weight[0]), 'gray')\n",
    "plt.imshow(weight[0,0,:,:], 'jet')     # 뒤의 것만 쓰겠다.\n",
    "\n",
    "plt.subplot(133)\n",
    "plt.title('output')\n",
    "plt.imshow(output[0,0,:,:],'jet')"
   ]
  },
  {
   "cell_type": "code",
   "execution_count": 62,
   "metadata": {},
   "outputs": [
    {
     "data": {
      "text/plain": [
       "(torch.Size([1, 20, 24, 24]), torch.Size([1, 20, 12, 12]))"
      ]
     },
     "execution_count": 62,
     "metadata": {},
     "output_type": "execute_result"
    }
   ],
   "source": [
    "# 풀링 계층\n",
    "import torch.nn.functional as F\n",
    "\n",
    "pool = F.max_pool2d(output,2,2)\n",
    "output.shape, pool.shape        # 2x2 이므로 반쪽이 되었음을 확인할 수 있다."
   ]
  },
  {
   "cell_type": "code",
   "execution_count": 64,
   "metadata": {},
   "outputs": [
    {
     "data": {
      "text/plain": [
       "<matplotlib.image.AxesImage at 0x1e4b1b5d608>"
      ]
     },
     "execution_count": 64,
     "metadata": {},
     "output_type": "execute_result"
    },
    {
     "data": {
      "image/png": "[encoded data removed]",
      "text/plain": [
       "<Figure size 1500x3000 with 2 Axes>"
      ]
     },
     "metadata": {},
     "output_type": "display_data"
    }
   ],
   "source": [
    "plt.figure(figsize=(15,30))\n",
    "\n",
    "plt.subplot(121)\n",
    "plt.title('input')\n",
    "plt.imshow(input_image, 'gray')    # input_image: 28,28\n",
    "# print(input_image.shape)\n",
    "\n",
    "plt.subplot(122)\n",
    "plt.title('Output')\n",
    "# plt.imshow(np.squeeze(weight[0]), 'gray')\n",
    "plt.imshow(pool[0,0,:,:], 'jet')     # 뒤의 것만 쓰겠다.\n"
   ]
  },
  {
   "cell_type": "code",
   "execution_count": 65,
   "metadata": {},
   "outputs": [
    {
     "data": {
      "text/plain": [
       "torch.Size([1, 784])"
      ]
     },
     "execution_count": 65,
     "metadata": {},
     "output_type": "execute_result"
    }
   ],
   "source": [
    "# 선형 레이어 (Linear layers)\n",
    "flatten = input_image.view(1,28*28)\n",
    "flatten.shape"
   ]
  },
  {
   "cell_type": "code",
   "execution_count": 68,
   "metadata": {},
   "outputs": [
    {
     "data": {
      "text/plain": [
       "torch.Size([1, 10])"
      ]
     },
     "execution_count": 68,
     "metadata": {},
     "output_type": "execute_result"
    }
   ],
   "source": [
    "lin = nn.Linear(784,10)(flatten)\n",
    "lin.shape"
   ]
  },
  {
   "cell_type": "code",
   "execution_count": 69,
   "metadata": {},
   "outputs": [
    {
     "data": {
      "text/plain": [
       "tensor([[-0.2105, -0.6277,  0.4226,  0.0924, -0.5592, -0.1351, -0.0680, -0.3101,\n",
       "          0.2828,  0.1357]], grad_fn=<AddmmBackward0>)"
      ]
     },
     "execution_count": 69,
     "metadata": {},
     "output_type": "execute_result"
    }
   ],
   "source": [
    "lin"
   ]
  },
  {
   "cell_type": "code",
   "execution_count": 73,
   "metadata": {},
   "outputs": [
    {
     "data": {
      "text/plain": [
       "<matplotlib.colorbar.Colorbar at 0x1e4b19c96c8>"
      ]
     },
     "execution_count": 73,
     "metadata": {},
     "output_type": "execute_result"
    },
    {
     "data": {
      "image/png": "[encoded data removed]",
      "text/plain": [
       "<Figure size 640x480 with 2 Axes>"
      ]
     },
     "metadata": {},
     "output_type": "display_data"
    }
   ],
   "source": [
    "plt.imshow(lin.detach(),'jet')\n",
    "plt.colorbar()"
   ]
  },
  {
   "cell_type": "code",
   "execution_count": 74,
   "metadata": {},
   "outputs": [
    {
     "data": {
      "text/plain": [
       "tensor([[0.0822, 0.1267, 0.0856, 0.1227, 0.0614, 0.0898, 0.0975, 0.1527, 0.0761,\n",
       "         0.1054]])"
      ]
     },
     "execution_count": 74,
     "metadata": {},
     "output_type": "execute_result"
    }
   ],
   "source": [
    "# 비선형 활성화\n",
    "with torch.no_grad():\n",
    "    flatten = input_image.view(1,28*28)\n",
    "    lin = nn.Linear(784,10)(flatten)\n",
    "    softmax = F.softmax(lin, dim=1)\n",
    "softmax"
   ]
  },
  {
   "cell_type": "code",
   "execution_count": 77,
   "metadata": {},
   "outputs": [
    {
     "data": {
      "text/plain": [
       "tensor(7)"
      ]
     },
     "execution_count": 77,
     "metadata": {},
     "output_type": "execute_result"
    }
   ],
   "source": [
    "torch.argmax(softmax) # 7번이 가장 높다."
   ]
  },
  {
   "cell_type": "code",
   "execution_count": 78,
   "metadata": {},
   "outputs": [
    {
     "data": {
      "text/plain": [
       "torch.Size([4, 20, 24, 24])"
      ]
     },
     "execution_count": 78,
     "metadata": {},
     "output_type": "execute_result"
    }
   ],
   "source": [
    "# 렐루\n",
    "inputs = torch.randn(4,3,28,28)\n",
    "layer = nn.Conv2d(3,20,5,1)\n",
    "output = F.relu(layer(inputs))\n",
    "output.shape"
   ]
  },
  {
   "cell_type": "code",
   "execution_count": 79,
   "metadata": {},
   "outputs": [],
   "source": [
    "# 모델 정의, nn.Module\n",
    "\n",
    "# nn.Module\n",
    "# __init__()\n",
    "# forward()"
   ]
  },
  {
   "cell_type": "code",
   "execution_count": 80,
   "metadata": {},
   "outputs": [],
   "source": [
    "class Model(nn.Module):\n",
    "    def __init__(self, inputs):\n",
    "        super(Model, self).__init__()\n",
    "        self.layer = nn.Linear(inputs,1)\n",
    "        self.activation = nn.Sigmoid()\n",
    "    \n",
    "    def forward(self,x):\n",
    "        x = self.layer(x)\n",
    "        x = self.activation(x)\n",
    "        return x"
   ]
  },
  {
   "cell_type": "code",
   "execution_count": 83,
   "metadata": {},
   "outputs": [
    {
     "name": "stdout",
     "output_type": "stream",
     "text": [
      "[Linear(in_features=1, out_features=1, bias=True), Sigmoid()]\n",
      "[Model(\n",
      "  (layer): Linear(in_features=1, out_features=1, bias=True)\n",
      "  (activation): Sigmoid()\n",
      "), Linear(in_features=1, out_features=1, bias=True), Sigmoid()]\n"
     ]
    }
   ],
   "source": [
    "# Linear, Sigmoid() 계층이 있다는 것을 Children을 통해 알 수 있다.\n",
    "model = Model(1)\n",
    "print(list(model.children()))\n",
    "print(list(model.modules()))"
   ]
  },
  {
   "cell_type": "code",
   "execution_count": 85,
   "metadata": {},
   "outputs": [],
   "source": [
    "# 신경망 정의\n",
    "class Model(nn.Module):\n",
    "    def __init__(self):\n",
    "        super(Model,self).__init__()\n",
    "        self.layer1 = nn.Sequential(nn.Conv2d(in_channels=3, out_channels=64, kernel_size=5),\n",
    "                                    nn.ReLU(inplace=True),\n",
    "                                    nn.MaxPool2d(2))\n",
    "        self.layer2 = nn.Sequential(nn.Conv2d(in_channels=64, out_channels=30, kernel_size=5),\n",
    "                                    nn.ReLU(inplace=True),\n",
    "                                    nn.MaxPool2d(2))\n",
    "        self.layer3 = nn.Sequential(nn.Linear(in_features=30*5*5, out_features=10, bias=True),\n",
    "                                    nn.ReLU(inplace=True),\n",
    "                                    nn.MaxPool2d(2))\n",
    "        def forward(self,x):\n",
    "            x = self.layer1(x)\n",
    "            x = self.layer2(x)\n",
    "            x = x.view(x.shape[0],-1)       # reshape 역할\n",
    "            x = self.layer3(x)\n",
    "            return x"
   ]
  },
  {
   "cell_type": "code",
   "execution_count": 86,
   "metadata": {},
   "outputs": [],
   "source": [
    "# 모델 파라미터\n",
    "\n",
    "# 손실함수\n",
    "\n",
    "# torch.nn.BCELoss : 이중분류(Binary classification)\n",
    "# torch.nn.CrossEntropyLoss : 다중분류\n",
    "# torch.nn.MSELoss : 회귀모델"
   ]
  },
  {
   "cell_type": "code",
   "execution_count": 87,
   "metadata": {},
   "outputs": [],
   "source": [
    "criterion = nn.MSELoss()\n",
    "criterion2 = nn.CrossEntropyLoss()"
   ]
  },
  {
   "cell_type": "code",
   "execution_count": 88,
   "metadata": {},
   "outputs": [],
   "source": [
    "# 옵티마이져(Optimizer)\n",
    "\n",
    "# 손실함수 기반으로 모델이 어떻게 업데이트 되어야 하는지 결정\n",
    "# step() 을 통한 모델 업데이트\n",
    "# torch.optim.Optimizer(params, default) 클래스 사용\n",
    "# zero_grad()를 이용해 기울기 0으로 설정\n",
    "# torch.optim.lr_scheduler: epoch에 따라 lr(학습률) 조절\n",
    "# 주요 옵티마이져 : optim.Adadelta, optim.Adagrad, optim.Adam, optim.RMSprop, optim.SGD"
   ]
  },
  {
   "cell_type": "code",
   "execution_count": 89,
   "metadata": {},
   "outputs": [],
   "source": [
    "# 학습률 스케줄러 : torch.optim.lr_scheduler\n",
    "# 학습시 특정 조건에 따라 학습률 조정하며 최적화 진행\n",
    "# 일정 횟수 이상 되면 학습률을 감소시키거나 최소점 근처에 가면 학습률을 줄이는 등 가능케 함\n"
   ]
  },
  {
   "cell_type": "code",
   "execution_count": 90,
   "metadata": {},
   "outputs": [
    {
     "name": "stdout",
     "output_type": "stream",
     "text": [
      "Collecting torchmetrics\n",
      "  Downloading torchmetrics-0.11.0-py3-none-any.whl (512 kB)\n",
      "     ------------------------------------- 512.4/512.4 kB 10.7 MB/s eta 0:00:00\n",
      "Requirement already satisfied: torch>=1.8.1 in c:\\users\\dilab\\anaconda3\\envs\\dl\\lib\\site-packages (from torchmetrics) (1.13.1)\n",
      "Requirement already satisfied: packaging in c:\\users\\dilab\\anaconda3\\envs\\dl\\lib\\site-packages (from torchmetrics) (22.0)\n",
      "Requirement already satisfied: typing-extensions in c:\\users\\dilab\\anaconda3\\envs\\dl\\lib\\site-packages (from torchmetrics) (4.4.0)\n",
      "Requirement already satisfied: numpy>=1.17.2 in c:\\users\\dilab\\anaconda3\\envs\\dl\\lib\\site-packages (from torchmetrics) (1.21.6)\n",
      "Installing collected packages: torchmetrics\n",
      "Successfully installed torchmetrics-0.11.0\n"
     ]
    }
   ],
   "source": [
    "# 지표(Metrics)\n",
    "\n",
    "!pip install torchmetrics"
   ]
  },
  {
   "cell_type": "code",
   "execution_count": 91,
   "metadata": {},
   "outputs": [
    {
     "name": "stdout",
     "output_type": "stream",
     "text": [
      "torch.Size([10])\n",
      "tensor([[0.2976, 0.0343, 0.2009, 0.1918, 0.2754],\n",
      "        [0.0300, 0.5180, 0.1089, 0.2918, 0.0513],\n",
      "        [0.1467, 0.2088, 0.1471, 0.2780, 0.2195],\n",
      "        [0.2871, 0.3076, 0.1214, 0.0639, 0.2200],\n",
      "        [0.1317, 0.2307, 0.1431, 0.1599, 0.3346],\n",
      "        [0.2734, 0.1293, 0.3579, 0.1464, 0.0930],\n",
      "        [0.1216, 0.4094, 0.1795, 0.1232, 0.1662],\n",
      "        [0.1688, 0.1322, 0.3650, 0.2640, 0.0701],\n",
      "        [0.0995, 0.3685, 0.1282, 0.0942, 0.3097],\n",
      "        [0.2888, 0.0296, 0.2940, 0.2295, 0.1582]]) tensor([0, 3, 0, 0, 0, 4, 4, 3, 0, 1])\n"
     ]
    }
   ],
   "source": [
    "import torchmetrics\n",
    "\n",
    "preds = torch.randn(10,5).softmax(dim=-1)\n",
    "target = torch.randint(5,(10,))\n",
    "print(target.shape)\n",
    "print(preds, target)"
   ]
  },
  {
   "cell_type": "code",
   "execution_count": 94,
   "metadata": {},
   "outputs": [
    {
     "data": {
      "text/plain": [
       "tensor(0.1000)"
      ]
     },
     "execution_count": 94,
     "metadata": {},
     "output_type": "execute_result"
    }
   ],
   "source": [
    "# 정확도 직접 구하기\n",
    "(torch.argmax(preds ,dim=1) == target).float().mean()"
   ]
  },
  {
   "cell_type": "code",
   "execution_count": 97,
   "metadata": {},
   "outputs": [
    {
     "data": {
      "text/plain": [
       "tensor(0.1000)"
      ]
     },
     "execution_count": 97,
     "metadata": {},
     "output_type": "execute_result"
    }
   ],
   "source": [
    "# torchmetrcis.Accuracy 모듈 사용하기\n",
    "metric = torchmetrics.Accuracy(task=\"multiclass\",num_classes=5)\n",
    "metric(preds,target)"
   ]
  },
  {
   "cell_type": "code",
   "execution_count": 98,
   "metadata": {},
   "outputs": [],
   "source": [
    "# 선형 회귀 모델(LinearRegression Model)"
   ]
  },
  {
   "cell_type": "code",
   "execution_count": 99,
   "metadata": {},
   "outputs": [
    {
     "data": {
      "image/png": "[encoded data removed]",
      "text/plain": [
       "<Figure size 640x480 with 1 Axes>"
      ]
     },
     "metadata": {},
     "output_type": "display_data"
    }
   ],
   "source": [
    "# 데이터 생성\n",
    "X = torch.randn(200,1)*10\n",
    "y = X+3*torch.randn(200,1)\n",
    "plt.scatter(X.numpy(), y.numpy())\n",
    "plt.show()"
   ]
  },
  {
   "cell_type": "code",
   "execution_count": 101,
   "metadata": {},
   "outputs": [],
   "source": [
    "class LinearRegressionModel(nn.Module):\n",
    "    def __init__(self):\n",
    "        super(LinearRegressionModel, self).__init__()\n",
    "        self.lin = nn.Linear(1,1)\n",
    "    def forward(self,x):\n",
    "        pred = self.lin(x)\n",
    "        return pred"
   ]
  },
  {
   "cell_type": "code",
   "execution_count": 124,
   "metadata": {},
   "outputs": [
    {
     "name": "stdout",
     "output_type": "stream",
     "text": [
      "LinearRegressionModel(\n",
      "  (lin): Linear(in_features=1, out_features=1, bias=True)\n",
      ")\n",
      "[Parameter containing:\n",
      "tensor([[-0.9565]], requires_grad=True), Parameter containing:\n",
      "tensor([-0.5030], requires_grad=True)]\n"
     ]
    }
   ],
   "source": [
    "model = LinearRegressionModel()\n",
    "print(model)\n",
    "print(list(model.parameters()))"
   ]
  },
  {
   "cell_type": "code",
   "execution_count": 125,
   "metadata": {},
   "outputs": [
    {
     "data": {
      "image/png": "[encoded data removed]",
      "text/plain": [
       "<Figure size 640x480 with 1 Axes>"
      ]
     },
     "metadata": {},
     "output_type": "display_data"
    }
   ],
   "source": [
    "w,b = model.parameters()\n",
    "w1,b1 = w[0].item(), b[0].item()\n",
    "x1 = np.array([-30,30])     # x좌표 2개\n",
    "y1 = x1*w1 + b1             # y좌표 2개\n",
    "plt.plot(x1,y1,'r')         # 선 긋기\n",
    "plt.scatter(X,y)\n",
    "plt.grid()\n",
    "plt.show()"
   ]
  },
  {
   "cell_type": "code",
   "execution_count": 126,
   "metadata": {},
   "outputs": [],
   "source": [
    "from torch import optim\n",
    "criterion = nn.MSELoss()\n",
    "optimizer = optim.SGD(model.parameters(), lr=0.01)"
   ]
  },
  {
   "cell_type": "code",
   "execution_count": 127,
   "metadata": {},
   "outputs": [],
   "source": [
    "epochs = 100\n",
    "losses = []\n",
    "\n",
    "for epoch in range(epochs):\n",
    "    # X,y : 200x1\n",
    "    pred = model(X)\n",
    "    loss = criterion(pred,y)\n",
    "    losses.append(loss.item())  # loss는 tensor 값이므로 item()을 이용해서 상수만 뽑아온다.\n",
    "    loss.backward()\n",
    "    optimizer.step()\n",
    "    optimizer.zero_grad()\n"
   ]
  },
  {
   "cell_type": "code",
   "execution_count": 128,
   "metadata": {},
   "outputs": [
    {
     "data": {
      "image/png": "[encoded data removed]",
      "text/plain": [
       "<Figure size 640x480 with 1 Axes>"
      ]
     },
     "metadata": {},
     "output_type": "display_data"
    }
   ],
   "source": [
    "plt.plot(range(len(losses)),losses)\n",
    "plt.show()"
   ]
  },
  {
   "cell_type": "code",
   "execution_count": 129,
   "metadata": {},
   "outputs": [
    {
     "data": {
      "image/png": "[encoded data removed]",
      "text/plain": [
       "<Figure size 640x480 with 1 Axes>"
      ]
     },
     "metadata": {},
     "output_type": "display_data"
    }
   ],
   "source": [
    "\n",
    "w1,b1 = w[0].item(), b[0].item()       # item()으로 상수만 가져올 수 있다.\n",
    "x1 = np.array([-30,30])     # x좌표 2개\n",
    "y1 = x1*w1 + b1             # y좌표 2개\n",
    "plt.plot(x1,y1,'r')         # 선 긋기\n",
    "plt.scatter(X,y)\n",
    "plt.grid()\n",
    "plt.show()"
   ]
  },
  {
   "cell_type": "code",
   "execution_count": 130,
   "metadata": {},
   "outputs": [
    {
     "data": {
      "text/plain": [
       "device(type='cpu')"
      ]
     },
     "execution_count": 130,
     "metadata": {},
     "output_type": "execute_result"
    }
   ],
   "source": [
    "device = torch.device('cuda' if torch.cuda.is_available() else 'cpu')\n",
    "device"
   ]
  },
  {
   "cell_type": "code",
   "execution_count": 131,
   "metadata": {},
   "outputs": [],
   "source": [
    "transform = transforms.Compose([transforms.ToTensor(),\n",
    "                                transforms.Normalize((0.5,), (0.5))])   # mean:0.5, std:0.5\n"
   ]
  },
  {
   "cell_type": "code",
   "execution_count": 133,
   "metadata": {},
   "outputs": [
    {
     "name": "stdout",
     "output_type": "stream",
     "text": [
      "Downloading http://fashion-mnist.s3-website.eu-central-1.amazonaws.com/train-images-idx3-ubyte.gz\n",
      "Downloading http://fashion-mnist.s3-website.eu-central-1.amazonaws.com/train-images-idx3-ubyte.gz to C:\\Users\\DILAB\\쥬피터전용폴더\\3분딥러닝파이토치맛\\FashionMNIST\\raw\\train-images-idx3-ubyte.gz\n"
     ]
    },
    {
     "name": "stderr",
     "output_type": "stream",
     "text": [
      "100%|██████████| 26421880/26421880 [00:14<00:00, 1880876.43it/s]\n"
     ]
    },
    {
     "name": "stdout",
     "output_type": "stream",
     "text": [
      "Extracting C:\\Users\\DILAB\\쥬피터전용폴더\\3분딥러닝파이토치맛\\FashionMNIST\\raw\\train-images-idx3-ubyte.gz to C:\\Users\\DILAB\\쥬피터전용폴더\\3분딥러닝파이토치맛\\FashionMNIST\\raw\n",
      "\n",
      "Downloading http://fashion-mnist.s3-website.eu-central-1.amazonaws.com/train-labels-idx1-ubyte.gz\n",
      "Downloading http://fashion-mnist.s3-website.eu-central-1.amazonaws.com/train-labels-idx1-ubyte.gz to C:\\Users\\DILAB\\쥬피터전용폴더\\3분딥러닝파이토치맛\\FashionMNIST\\raw\\train-labels-idx1-ubyte.gz\n"
     ]
    },
    {
     "name": "stderr",
     "output_type": "stream",
     "text": [
      "100%|██████████| 29515/29515 [00:00<00:00, 111675.42it/s]\n"
     ]
    },
    {
     "name": "stdout",
     "output_type": "stream",
     "text": [
      "Extracting C:\\Users\\DILAB\\쥬피터전용폴더\\3분딥러닝파이토치맛\\FashionMNIST\\raw\\train-labels-idx1-ubyte.gz to C:\\Users\\DILAB\\쥬피터전용폴더\\3분딥러닝파이토치맛\\FashionMNIST\\raw\n",
      "\n",
      "Downloading http://fashion-mnist.s3-website.eu-central-1.amazonaws.com/t10k-images-idx3-ubyte.gz\n",
      "Downloading http://fashion-mnist.s3-website.eu-central-1.amazonaws.com/t10k-images-idx3-ubyte.gz to C:\\Users\\DILAB\\쥬피터전용폴더\\3분딥러닝파이토치맛\\FashionMNIST\\raw\\t10k-images-idx3-ubyte.gz\n"
     ]
    },
    {
     "name": "stderr",
     "output_type": "stream",
     "text": [
      "100%|██████████| 4422102/4422102 [00:02<00:00, 1521303.30it/s]\n"
     ]
    },
    {
     "name": "stdout",
     "output_type": "stream",
     "text": [
      "Extracting C:\\Users\\DILAB\\쥬피터전용폴더\\3분딥러닝파이토치맛\\FashionMNIST\\raw\\t10k-images-idx3-ubyte.gz to C:\\Users\\DILAB\\쥬피터전용폴더\\3분딥러닝파이토치맛\\FashionMNIST\\raw\n",
      "\n",
      "Downloading http://fashion-mnist.s3-website.eu-central-1.amazonaws.com/t10k-labels-idx1-ubyte.gz\n",
      "Downloading http://fashion-mnist.s3-website.eu-central-1.amazonaws.com/t10k-labels-idx1-ubyte.gz to C:\\Users\\DILAB\\쥬피터전용폴더\\3분딥러닝파이토치맛\\FashionMNIST\\raw\\t10k-labels-idx1-ubyte.gz\n"
     ]
    },
    {
     "name": "stderr",
     "output_type": "stream",
     "text": [
      "100%|██████████| 5148/5148 [00:00<?, ?it/s]"
     ]
    },
    {
     "name": "stdout",
     "output_type": "stream",
     "text": [
      "Extracting C:\\Users\\DILAB\\쥬피터전용폴더\\3분딥러닝파이토치맛\\FashionMNIST\\raw\\t10k-labels-idx1-ubyte.gz to C:\\Users\\DILAB\\쥬피터전용폴더\\3분딥러닝파이토치맛\\FashionMNIST\\raw\n",
      "\n"
     ]
    },
    {
     "name": "stderr",
     "output_type": "stream",
     "text": [
      "\n"
     ]
    }
   ],
   "source": [
    "trainset = datasets.FashionMNIST(root=r'C:\\Users\\DILAB\\쥬피터전용폴더\\3분딥러닝파이토치맛',\n",
    "                                 train=True, download=True,\n",
    "                                 transform=transform)   # Tensor()로 바꾸고 mean,std = 0.5\n",
    "testset = datasets.FashionMNIST(root=r'C:\\Users\\DILAB\\쥬피터전용폴더\\3분딥러닝파이토치맛',\n",
    "                                 train=False, download=True,\n",
    "                                 transform=transform)\n"
   ]
  },
  {
   "cell_type": "code",
   "execution_count": 134,
   "metadata": {},
   "outputs": [],
   "source": [
    "# DataLoader()로 배치로 나눠주기 \n",
    "train_loader = DataLoader(trainset, batch_size=128, shuffle=True,num_workers=2)\n",
    "test_loader = DataLoader(testset, batch_size=128, shuffle=False,num_workers=2)\n",
    "# num_worker는 어떤 역할을 할까? => gpu, cpu 할당하는 역할"
   ]
  },
  {
   "cell_type": "code",
   "execution_count": 135,
   "metadata": {},
   "outputs": [
    {
     "data": {
      "text/plain": [
       "(torch.Size([128, 1, 28, 28]), torch.Size([128]))"
      ]
     },
     "execution_count": 135,
     "metadata": {},
     "output_type": "execute_result"
    }
   ],
   "source": [
    "# next(iter())하면 리스트에 있는 값을 하나씩 꺼내온다는 의미\n",
    "# 즉 여기서는 첫번째 배치에 해당\n",
    "images, labels = next(iter(train_loader))\n",
    "images.shape, labels.shape"
   ]
  },
  {
   "cell_type": "code",
   "execution_count": 138,
   "metadata": {},
   "outputs": [
    {
     "name": "stdout",
     "output_type": "stream",
     "text": [
      "tensor(8)\n"
     ]
    },
    {
     "data": {
      "image/png": "[encoded data removed]",
      "text/plain": [
       "<Figure size 640x480 with 1 Axes>"
      ]
     },
     "metadata": {},
     "output_type": "display_data"
    }
   ],
   "source": [
    "# plot 선, scatter 점, imshow 그림\n",
    "plt.imshow(images[0,0,:,:])\n",
    "print(labels[0])"
   ]
  },
  {
   "cell_type": "code",
   "execution_count": 141,
   "metadata": {},
   "outputs": [
    {
     "data": {
      "image/png": "[encoded data removed]",
      "text/plain": [
       "<Figure size 1200x1200 with 16 Axes>"
      ]
     },
     "metadata": {},
     "output_type": "display_data"
    }
   ],
   "source": [
    "labels_map = {\n",
    "    0:'T-Shirt',\n",
    "    1:'Trouser',\n",
    "    2:'Pullover',\n",
    "    3:'Dress',\n",
    "    4:'Coat',\n",
    "    5:'Sandal',\n",
    "    6:'Shirt',\n",
    "    7:'Sneaker',\n",
    "    8:'Bag',\n",
    "    9:'Boot'\n",
    "}\n",
    "\n",
    "figure = plt.figure(figsize=(12,12))\n",
    "cols, rows = 4, 4\n",
    "for i in range(1, cols*rows + 1):   # 1부터 16까지\n",
    "    image = images[i].squeeze()     # images.shape : [128,1,28,28]\n",
    "    label_idx = labels[i].item()    # labels.shape : [128]\n",
    "    label = labels_map[label_idx]\n",
    "    \n",
    "    figure.add_subplot(rows,cols,i)\n",
    "    plt.title(label)\n",
    "    plt.imshow(image)\n",
    "    \n",
    "plt.show()"
   ]
  },
  {
   "cell_type": "code",
   "execution_count": 176,
   "metadata": {},
   "outputs": [],
   "source": [
    "# 모델 정의\n",
    "class NeuralNet(nn.Module):\n",
    "    def __init__(self):\n",
    "        super(NeuralNet,self).__init__()\n",
    "        # 컨볼루션 계층 :  특징 추출    \n",
    "        self.conv1 = nn.Conv2d(1,6,3)   # 128,1,28,28 -> 128,6,26,26\n",
    "        self.conv2 = nn.Conv2d(6,16,3)  # 128,16,24,24\n",
    "        # 리니어 계층 : 클래스 분류\n",
    "        self.fc1 = nn.Linear(16*5*5,120)\n",
    "        self.fc2 = nn.Linear(120,84)\n",
    "        self.fc3 = nn.Linear(84,10)     # 10개의 클래스로 분류\n",
    "    \n",
    "    def forward(self,x):\n",
    "        x = F.max_pool2d(F.relu(self.conv1(x)),(2,2))   # input, kernel size\n",
    "        x = F.max_pool2d(F.relu(self.conv2(x)),2)\n",
    "        x = x.view(-1,self.num_flat_features(x))    # reshape()를 사용하면 복사본이 만들어질 수 있기 때문에 view()사용\n",
    "        x = F.relu(self.fc1(x))\n",
    "        x = F.relu(self.fc2(x))\n",
    "        x = self.fc3(x)\n",
    "        return x\n",
    "    \n",
    "    def num_flat_features(self,x):\n",
    "        size = x.size()[1:]\n",
    "        num_features = 1\n",
    "        for s in size:\n",
    "            num_features *= s\n",
    "        \n",
    "        return num_features"
   ]
  },
  {
   "cell_type": "code",
   "execution_count": 147,
   "metadata": {},
   "outputs": [
    {
     "data": {
      "text/plain": [
       "(torch.Size([100, 2]), torch.Size([100, 2]))"
      ]
     },
     "execution_count": 147,
     "metadata": {},
     "output_type": "execute_result"
    }
   ],
   "source": [
    "# shape과 size()의 차이점 : shape \n",
    "a = torch.randn(100,2)\n",
    "a.shape, a.size()[:]"
   ]
  },
  {
   "cell_type": "code",
   "execution_count": 177,
   "metadata": {},
   "outputs": [
    {
     "name": "stdout",
     "output_type": "stream",
     "text": [
      "NeuralNet(\n",
      "  (conv1): Conv2d(1, 6, kernel_size=(3, 3), stride=(1, 1))\n",
      "  (conv2): Conv2d(6, 16, kernel_size=(3, 3), stride=(1, 1))\n",
      "  (fc1): Linear(in_features=400, out_features=120, bias=True)\n",
      "  (fc2): Linear(in_features=120, out_features=84, bias=True)\n",
      "  (fc3): Linear(in_features=84, out_features=10, bias=True)\n",
      ")\n"
     ]
    }
   ],
   "source": [
    "net = NeuralNet()\n",
    "print(net)"
   ]
  },
  {
   "cell_type": "code",
   "execution_count": 178,
   "metadata": {},
   "outputs": [
    {
     "name": "stdout",
     "output_type": "stream",
     "text": [
      "[Parameter containing:\n",
      "tensor([[[[-0.0239, -0.3202,  0.2599],\n",
      "          [-0.1380, -0.2649, -0.3226],\n",
      "          [-0.2838, -0.1793, -0.3263]]],\n",
      "\n",
      "\n",
      "        [[[-0.0312,  0.1932,  0.2275],\n",
      "          [-0.1274, -0.0840,  0.1412],\n",
      "          [-0.1251, -0.1726,  0.3119]]],\n",
      "\n",
      "\n",
      "        [[[-0.0618,  0.0911,  0.0205],\n",
      "          [-0.2272, -0.2530, -0.1793],\n",
      "          [ 0.2572, -0.0867,  0.0904]]],\n",
      "\n",
      "\n",
      "        [[[ 0.1099,  0.1229,  0.2924],\n",
      "          [-0.1353, -0.2897, -0.0169],\n",
      "          [-0.3284, -0.2293,  0.1075]]],\n",
      "\n",
      "\n",
      "        [[[-0.2483, -0.1031,  0.0838],\n",
      "          [ 0.3141,  0.2933,  0.2631],\n",
      "          [-0.2121, -0.2513, -0.1944]]],\n",
      "\n",
      "\n",
      "        [[[-0.2329, -0.0789, -0.3075],\n",
      "          [ 0.0031, -0.0439, -0.3315],\n",
      "          [ 0.0434, -0.2144, -0.2132]]]], requires_grad=True), Parameter containing:\n",
      "tensor([-0.0707,  0.2399, -0.1615,  0.1467, -0.2308,  0.0976],\n",
      "       requires_grad=True), Parameter containing:\n",
      "tensor([[[[ 4.0247e-02,  1.1066e-01,  7.6984e-02],\n",
      "          [-8.4146e-02, -1.2168e-01, -1.0439e-01],\n",
      "          [-1.1791e-01, -1.7294e-02,  3.9721e-02]],\n",
      "\n",
      "         [[-5.5450e-02, -1.1138e-02, -1.1550e-01],\n",
      "          [ 4.8781e-02,  1.4429e-03,  1.2022e-01],\n",
      "          [ 1.1224e-01,  1.2428e-01, -3.0005e-02]],\n",
      "\n",
      "         [[-6.5144e-02, -2.6717e-02, -1.7940e-02],\n",
      "          [-2.5668e-02,  7.6036e-03,  9.1669e-02],\n",
      "          [ 1.2083e-01, -5.5251e-02, -4.8632e-02]],\n",
      "\n",
      "         [[ 4.4490e-02, -5.3923e-02, -1.1077e-01],\n",
      "          [ 5.4938e-02, -9.6516e-02,  7.3640e-04],\n",
      "          [ 4.0817e-02,  1.1691e-01, -1.1683e-01]],\n",
      "\n",
      "         [[ 1.2788e-01, -1.1816e-01, -1.0913e-01],\n",
      "          [ 1.0825e-01, -9.2260e-02,  8.9902e-02],\n",
      "          [ 1.2379e-01,  5.6536e-02, -1.2107e-01]],\n",
      "\n",
      "         [[ 6.1097e-02, -2.3459e-03, -1.0472e-01],\n",
      "          [-1.1678e-01,  1.0926e-01, -5.1761e-02],\n",
      "          [-4.4275e-02,  4.0945e-02, -9.7259e-02]]],\n",
      "\n",
      "\n",
      "        [[[ 1.0233e-01, -4.6982e-03, -3.8961e-02],\n",
      "          [-2.5429e-02, -2.2351e-03, -1.0690e-01],\n",
      "          [-4.7900e-02,  1.0657e-01, -5.0427e-02]],\n",
      "\n",
      "         [[ 1.2958e-01,  1.2925e-01, -4.8377e-02],\n",
      "          [ 1.2908e-01, -1.7371e-03, -6.2722e-02],\n",
      "          [-4.5069e-02, -1.2335e-01, -1.2427e-01]],\n",
      "\n",
      "         [[-4.4273e-02, -8.1582e-02,  9.7914e-02],\n",
      "          [-7.0378e-02,  3.4000e-02,  7.3122e-02],\n",
      "          [-9.1725e-02,  7.4105e-02, -6.9112e-02]],\n",
      "\n",
      "         [[ 7.1212e-02, -4.4512e-02,  5.9252e-02],\n",
      "          [-6.4391e-02, -2.1449e-02,  1.4946e-02],\n",
      "          [-1.2120e-02, -4.6776e-02, -2.8098e-02]],\n",
      "\n",
      "         [[ 1.2026e-01,  1.1030e-01, -6.2785e-02],\n",
      "          [-1.0879e-01,  3.8790e-02, -8.5988e-02],\n",
      "          [-3.1129e-03,  7.4077e-03, -2.4706e-02]],\n",
      "\n",
      "         [[ 3.3408e-02,  1.3574e-01, -8.2370e-02],\n",
      "          [ 6.9882e-02,  3.9175e-02, -6.8324e-02],\n",
      "          [ 9.0883e-02,  1.7032e-02,  3.4728e-02]]],\n",
      "\n",
      "\n",
      "        [[[-6.2457e-02,  8.9251e-02, -1.0338e-01],\n",
      "          [-2.7957e-02,  1.1418e-01, -6.2174e-02],\n",
      "          [-7.7553e-02,  4.0671e-02, -5.4635e-02]],\n",
      "\n",
      "         [[ 1.6959e-03, -5.0723e-02,  1.2191e-01],\n",
      "          [-1.2345e-01, -1.2644e-01, -7.0848e-02],\n",
      "          [-6.6527e-02,  2.1239e-02, -1.0750e-01]],\n",
      "\n",
      "         [[-1.9845e-02, -5.5351e-02, -3.6289e-02],\n",
      "          [-7.7191e-02,  1.2402e-01,  7.1866e-02],\n",
      "          [ 1.0288e-01,  3.9537e-02,  1.1645e-01]],\n",
      "\n",
      "         [[-1.3152e-01, -1.0433e-01, -2.2545e-03],\n",
      "          [ 1.2826e-01, -1.3218e-01,  8.2664e-02],\n",
      "          [ 8.9225e-02, -7.0372e-02,  4.8048e-02]],\n",
      "\n",
      "         [[-2.5787e-02,  1.2020e-01, -1.1472e-01],\n",
      "          [-8.6634e-02,  3.0770e-02,  2.7915e-02],\n",
      "          [-2.9346e-02, -1.0339e-01,  8.7658e-02]],\n",
      "\n",
      "         [[ 1.0812e-01,  5.8619e-02,  5.9386e-02],\n",
      "          [ 1.7294e-02, -3.4172e-02,  1.4608e-02],\n",
      "          [-1.0185e-01, -1.1318e-01, -2.1986e-02]]],\n",
      "\n",
      "\n",
      "        [[[ 1.1259e-01,  7.0960e-02,  9.4583e-02],\n",
      "          [ 9.1954e-02, -6.3903e-02, -7.1036e-02],\n",
      "          [-1.2317e-01,  4.8058e-02, -7.5659e-02]],\n",
      "\n",
      "         [[-1.3506e-01,  1.0657e-01,  7.3186e-02],\n",
      "          [-1.0671e-01,  5.7624e-02,  4.4650e-02],\n",
      "          [-9.6328e-02,  1.0169e-01, -6.3243e-02]],\n",
      "\n",
      "         [[-1.7191e-02,  1.3425e-01, -1.0160e-01],\n",
      "          [-6.7498e-02, -1.2307e-01, -9.6135e-02],\n",
      "          [-4.1446e-02,  3.8883e-02,  6.8462e-02]],\n",
      "\n",
      "         [[ 1.0656e-01, -1.0927e-01, -1.1028e-01],\n",
      "          [ 1.3422e-01,  1.0515e-01,  5.7648e-02],\n",
      "          [ 9.0020e-02, -1.0152e-01, -7.1120e-02]],\n",
      "\n",
      "         [[-5.9108e-02,  1.8168e-03,  7.8862e-02],\n",
      "          [ 7.8211e-02,  1.2252e-02,  1.1772e-01],\n",
      "          [-3.9186e-02, -1.2794e-01,  7.7507e-03]],\n",
      "\n",
      "         [[ 5.4448e-02, -5.5168e-02,  1.0110e-01],\n",
      "          [-6.9898e-02, -4.5678e-02, -1.2401e-01],\n",
      "          [ 8.3264e-02,  7.7874e-02,  1.0098e-01]]],\n",
      "\n",
      "\n",
      "        [[[-4.7048e-02, -4.5929e-02,  1.4299e-02],\n",
      "          [ 5.0717e-02,  6.8996e-02, -9.9316e-02],\n",
      "          [-8.8353e-02,  6.4552e-02,  2.6223e-02]],\n",
      "\n",
      "         [[ 9.4392e-02, -1.2699e-01, -1.3464e-01],\n",
      "          [-1.0640e-02,  3.2402e-03,  2.5369e-03],\n",
      "          [ 1.0007e-01,  1.3374e-01,  9.6792e-02]],\n",
      "\n",
      "         [[ 9.0746e-02, -9.9948e-02,  9.1985e-02],\n",
      "          [-2.0604e-02,  2.1960e-02, -6.4509e-03],\n",
      "          [-1.3527e-01,  2.3312e-02,  7.2518e-02]],\n",
      "\n",
      "         [[ 7.3972e-02,  4.9254e-02, -1.1448e-01],\n",
      "          [-9.5998e-02,  1.2379e-01,  1.1328e-01],\n",
      "          [ 1.0424e-02,  1.1517e-01, -3.6912e-02]],\n",
      "\n",
      "         [[ 2.0567e-02, -1.2597e-01, -1.0005e-03],\n",
      "          [-1.7211e-02,  1.1362e-01,  1.2245e-02],\n",
      "          [-9.4181e-02, -1.9431e-02,  9.6151e-02]],\n",
      "\n",
      "         [[ 5.7913e-02,  5.4170e-02,  1.1421e-01],\n",
      "          [ 3.7963e-02,  8.4013e-03, -4.2596e-02],\n",
      "          [ 8.0398e-02,  1.1094e-01,  7.7660e-02]]],\n",
      "\n",
      "\n",
      "        [[[ 2.4461e-02, -1.2615e-01, -6.2630e-02],\n",
      "          [-9.2023e-02,  8.9038e-02,  9.1423e-03],\n",
      "          [ 1.3481e-01,  3.8086e-02,  8.7793e-02]],\n",
      "\n",
      "         [[ 5.2096e-02, -3.6696e-02,  2.9730e-02],\n",
      "          [-1.2309e-01,  4.1328e-02, -5.9163e-02],\n",
      "          [ 5.6926e-02,  3.4634e-02,  4.4074e-02]],\n",
      "\n",
      "         [[ 6.0657e-02,  3.7211e-02, -8.8228e-02],\n",
      "          [ 1.1490e-02,  1.1270e-01, -1.1464e-01],\n",
      "          [-2.5394e-03,  4.8298e-02,  1.0140e-01]],\n",
      "\n",
      "         [[-1.3265e-01, -7.4445e-03,  1.8872e-03],\n",
      "          [ 5.0301e-02, -1.2464e-01,  8.6354e-02],\n",
      "          [-5.1772e-02, -1.3333e-01,  2.5411e-04]],\n",
      "\n",
      "         [[ 5.0192e-02,  1.2908e-01, -1.0467e-01],\n",
      "          [-1.0836e-01, -6.5889e-02, -1.2052e-02],\n",
      "          [-1.3297e-02, -1.3273e-01, -8.1723e-02]],\n",
      "\n",
      "         [[ 9.8837e-02,  1.3604e-01,  5.7532e-03],\n",
      "          [-2.6020e-02, -1.6563e-02,  9.5405e-02],\n",
      "          [-1.8572e-02,  8.6006e-02,  1.0425e-01]]],\n",
      "\n",
      "\n",
      "        [[[-1.1049e-01,  3.4453e-02, -1.1316e-01],\n",
      "          [ 4.6069e-02,  1.0518e-01, -1.2428e-01],\n",
      "          [ 1.2440e-01, -6.0963e-02,  9.6409e-02]],\n",
      "\n",
      "         [[-5.6272e-02,  3.9037e-02,  1.1017e-02],\n",
      "          [ 7.8853e-02,  1.3065e-01,  7.3971e-02],\n",
      "          [ 6.8658e-02, -1.1411e-01, -1.1132e-01]],\n",
      "\n",
      "         [[-1.1198e-01,  1.1205e-01, -1.2912e-01],\n",
      "          [-9.2147e-02, -9.7005e-02, -5.8314e-02],\n",
      "          [-4.4463e-02,  7.0534e-02,  7.6080e-02]],\n",
      "\n",
      "         [[-1.0580e-01,  9.9021e-02, -1.0671e-01],\n",
      "          [ 1.3029e-02,  9.6884e-02, -8.4850e-02],\n",
      "          [-3.7806e-02,  1.3860e-02,  1.1828e-01]],\n",
      "\n",
      "         [[-5.9206e-02,  8.8809e-03, -1.0168e-01],\n",
      "          [-2.7928e-02, -1.0276e-03, -7.5797e-02],\n",
      "          [ 5.7941e-02, -6.3010e-02, -1.1838e-01]],\n",
      "\n",
      "         [[-6.8919e-02,  4.7165e-02, -2.3118e-02],\n",
      "          [ 1.1435e-01,  6.3020e-02,  8.0492e-02],\n",
      "          [ 1.3116e-01,  6.2005e-02,  9.0099e-02]]],\n",
      "\n",
      "\n",
      "        [[[ 3.0018e-02, -1.2681e-01, -1.2636e-02],\n",
      "          [-8.5847e-02,  9.2940e-02, -1.5372e-02],\n",
      "          [ 3.7337e-02,  8.2675e-02,  5.8302e-02]],\n",
      "\n",
      "         [[ 4.4755e-02, -4.2994e-02,  1.0798e-01],\n",
      "          [ 1.0735e-01,  7.4737e-03,  1.2232e-01],\n",
      "          [ 1.3934e-02, -7.4676e-02, -1.3008e-01]],\n",
      "\n",
      "         [[-7.8476e-02, -6.7443e-02,  1.2133e-01],\n",
      "          [-6.3288e-02, -3.2617e-02, -2.7573e-02],\n",
      "          [ 8.3974e-02, -1.2644e-01, -4.0863e-02]],\n",
      "\n",
      "         [[-9.8251e-02, -5.4702e-02, -9.3939e-02],\n",
      "          [-1.1627e-01, -1.0894e-01,  6.0374e-02],\n",
      "          [-1.2034e-01,  1.1428e-01, -4.7205e-02]],\n",
      "\n",
      "         [[-9.1960e-02,  6.8890e-02,  9.2627e-02],\n",
      "          [-1.0297e-01, -6.3672e-02, -1.5713e-02],\n",
      "          [-1.1521e-01, -4.7239e-02, -8.8280e-02]],\n",
      "\n",
      "         [[-1.2750e-02, -1.1444e-01,  1.2731e-01],\n",
      "          [ 6.5241e-02, -1.0405e-01, -4.1333e-03],\n",
      "          [ 9.3212e-02,  2.2891e-02,  3.7339e-03]]],\n",
      "\n",
      "\n",
      "        [[[-9.4294e-02,  1.3208e-01,  1.2536e-01],\n",
      "          [ 1.0493e-01,  4.6501e-03, -6.3009e-02],\n",
      "          [-1.2477e-01, -9.1976e-02, -8.0162e-02]],\n",
      "\n",
      "         [[-6.6156e-02, -1.2757e-01,  3.7625e-02],\n",
      "          [-4.7597e-03,  9.6790e-02,  2.7926e-02],\n",
      "          [-8.1638e-02, -4.0770e-02,  9.9414e-03]],\n",
      "\n",
      "         [[-8.8969e-02, -1.3314e-01,  8.7549e-02],\n",
      "          [-1.2379e-01, -1.2395e-01, -3.0955e-02],\n",
      "          [ 1.3584e-01,  9.7681e-03, -4.4658e-02]],\n",
      "\n",
      "         [[ 7.6817e-02,  7.1941e-02, -3.5881e-02],\n",
      "          [ 3.8702e-02,  3.8003e-02,  5.2882e-02],\n",
      "          [ 1.0195e-01,  6.4065e-02,  2.5213e-02]],\n",
      "\n",
      "         [[ 6.1496e-02, -5.7177e-02,  5.3759e-02],\n",
      "          [-4.6075e-02, -3.3091e-02,  2.1522e-02],\n",
      "          [ 1.3053e-01,  4.1488e-02,  4.6830e-02]],\n",
      "\n",
      "         [[ 9.4354e-02,  7.9024e-02,  1.2424e-01],\n",
      "          [-8.5365e-03, -6.4924e-02, -4.4490e-02],\n",
      "          [-8.8620e-02, -7.1198e-02, -1.3318e-01]]],\n",
      "\n",
      "\n",
      "        [[[ 6.4899e-02, -8.1554e-02,  3.0991e-02],\n",
      "          [-9.4510e-02,  6.9167e-02,  2.3245e-02],\n",
      "          [-2.0337e-03,  4.5928e-02, -1.1496e-01]],\n",
      "\n",
      "         [[-7.4417e-02, -1.1328e-01,  1.2792e-01],\n",
      "          [ 8.2691e-02, -8.1138e-02,  1.2164e-01],\n",
      "          [ 7.1316e-02,  1.2220e-01,  1.1165e-01]],\n",
      "\n",
      "         [[-8.8254e-03,  9.6950e-02,  1.1395e-01],\n",
      "          [ 6.0305e-02, -1.2988e-01, -1.3432e-01],\n",
      "          [-4.7842e-02, -1.0220e-01, -1.0484e-01]],\n",
      "\n",
      "         [[-7.5230e-02,  1.9482e-02,  1.1964e-01],\n",
      "          [ 1.2351e-01,  5.6478e-02, -8.2888e-02],\n",
      "          [-9.6717e-02, -6.7898e-02,  8.0188e-02]],\n",
      "\n",
      "         [[ 1.3481e-01, -4.9539e-02, -6.9279e-03],\n",
      "          [ 9.8410e-02, -5.1445e-02,  3.2895e-02],\n",
      "          [-4.9569e-02, -8.5870e-02, -1.0715e-01]],\n",
      "\n",
      "         [[ 6.0730e-02, -3.4861e-02,  6.2721e-02],\n",
      "          [ 4.5046e-02,  1.3874e-02, -8.0136e-02],\n",
      "          [-1.2462e-01,  1.2257e-01, -1.0057e-01]]],\n",
      "\n",
      "\n",
      "        [[[-7.8290e-02,  1.1953e-01,  1.2066e-01],\n",
      "          [ 1.2882e-01, -9.7077e-02, -5.0637e-02],\n",
      "          [-1.1313e-01, -1.3290e-01, -3.8908e-02]],\n",
      "\n",
      "         [[ 9.6103e-02,  5.9575e-02, -6.7867e-02],\n",
      "          [ 2.5419e-02,  1.1200e-01,  4.3723e-02],\n",
      "          [-9.7969e-02,  6.4545e-02, -1.2705e-01]],\n",
      "\n",
      "         [[ 7.2455e-02,  3.7146e-02, -1.0516e-01],\n",
      "          [ 1.1184e-01,  1.0735e-01, -3.1770e-02],\n",
      "          [-8.2122e-02, -1.3532e-01, -6.2846e-02]],\n",
      "\n",
      "         [[-4.1351e-02, -3.8100e-02,  1.2276e-01],\n",
      "          [ 2.3805e-02,  1.1897e-01, -7.2005e-02],\n",
      "          [-6.8793e-02, -7.4537e-02,  6.0044e-02]],\n",
      "\n",
      "         [[-2.4088e-02, -7.8472e-02, -6.4646e-02],\n",
      "          [ 1.1604e-01, -1.3063e-01, -1.3526e-01],\n",
      "          [ 8.1298e-02, -8.0218e-02,  1.2552e-01]],\n",
      "\n",
      "         [[-1.7021e-02, -1.2559e-01, -2.0623e-02],\n",
      "          [-4.6008e-02, -1.8618e-02, -3.7503e-02],\n",
      "          [-5.0919e-02,  8.2541e-02,  7.3864e-02]]],\n",
      "\n",
      "\n",
      "        [[[-1.1306e-01, -7.5473e-02, -1.3567e-01],\n",
      "          [ 8.0465e-02, -7.4029e-02,  7.9877e-02],\n",
      "          [ 1.2560e-01, -7.6414e-02,  1.6896e-02]],\n",
      "\n",
      "         [[-5.5645e-02,  7.5473e-02, -1.3271e-01],\n",
      "          [ 8.3716e-02,  1.1281e-01,  2.9773e-02],\n",
      "          [-1.2130e-01,  3.9357e-02,  7.9419e-02]],\n",
      "\n",
      "         [[-3.2205e-02,  2.4176e-02, -7.3858e-02],\n",
      "          [ 1.0922e-01,  1.0882e-01, -1.1760e-01],\n",
      "          [ 2.9500e-02, -9.5939e-02, -4.0649e-02]],\n",
      "\n",
      "         [[ 8.6176e-03,  1.0710e-01,  4.5243e-02],\n",
      "          [ 8.2806e-02, -1.2907e-01, -1.1838e-01],\n",
      "          [-5.8188e-02, -1.0063e-01,  2.4265e-02]],\n",
      "\n",
      "         [[-2.8694e-02, -1.0291e-01,  9.6320e-02],\n",
      "          [ 1.2719e-01,  1.2740e-02, -1.3441e-01],\n",
      "          [-1.2760e-01,  4.8965e-02, -6.2180e-02]],\n",
      "\n",
      "         [[ 6.0145e-03, -1.0902e-01, -1.6475e-02],\n",
      "          [ 5.2604e-02,  1.1054e-01, -1.3394e-01],\n",
      "          [-1.2031e-01,  1.2200e-01, -4.4249e-02]]],\n",
      "\n",
      "\n",
      "        [[[-1.2152e-01,  4.1950e-02,  1.1163e-01],\n",
      "          [ 7.7653e-03,  1.0349e-01, -1.3883e-02],\n",
      "          [ 1.6101e-02,  1.0471e-01,  3.9782e-02]],\n",
      "\n",
      "         [[-1.0611e-01,  7.5022e-02, -3.5056e-03],\n",
      "          [-7.9168e-02, -7.8619e-02, -5.0113e-05],\n",
      "          [-7.2983e-02,  1.4662e-02, -1.0384e-01]],\n",
      "\n",
      "         [[ 2.5321e-02, -7.0806e-02,  1.3100e-01],\n",
      "          [ 1.3140e-01,  5.8532e-03, -7.2692e-02],\n",
      "          [ 2.7334e-02,  3.5114e-02,  1.5005e-02]],\n",
      "\n",
      "         [[ 1.8646e-02,  1.0028e-01,  1.0368e-01],\n",
      "          [-7.2663e-02,  5.8463e-02, -9.8316e-02],\n",
      "          [ 2.6176e-02,  9.6809e-02,  4.5002e-02]],\n",
      "\n",
      "         [[-9.1640e-02, -5.7172e-02, -9.3274e-02],\n",
      "          [ 9.4961e-02, -1.2202e-01, -3.6056e-03],\n",
      "          [-6.6798e-02, -9.1718e-02,  2.2164e-02]],\n",
      "\n",
      "         [[ 1.9846e-02, -4.8568e-02, -8.7708e-02],\n",
      "          [ 4.8086e-02, -8.1915e-02, -3.4652e-02],\n",
      "          [-1.1120e-01, -1.0074e-01, -6.5981e-02]]],\n",
      "\n",
      "\n",
      "        [[[ 9.9899e-02,  7.9863e-02,  3.2336e-02],\n",
      "          [ 3.2852e-02,  7.4528e-02,  2.7270e-02],\n",
      "          [ 6.8178e-02, -5.3137e-02, -3.2311e-03]],\n",
      "\n",
      "         [[ 1.2752e-01,  7.1966e-02, -1.2303e-01],\n",
      "          [-1.6914e-02,  1.0769e-01,  8.3532e-02],\n",
      "          [-1.0590e-01, -1.1907e-01,  7.5342e-02]],\n",
      "\n",
      "         [[-3.3405e-02, -1.1908e-01, -7.6132e-02],\n",
      "          [-4.2673e-02,  1.1893e-01, -7.3553e-02],\n",
      "          [-5.7997e-02,  1.8433e-02, -1.1187e-02]],\n",
      "\n",
      "         [[ 1.3164e-01,  1.4802e-02, -9.1248e-02],\n",
      "          [-3.5094e-02, -4.2560e-03, -3.0290e-02],\n",
      "          [ 1.1548e-01,  1.2947e-01, -8.1378e-02]],\n",
      "\n",
      "         [[-3.5750e-02,  8.1370e-02, -1.1686e-01],\n",
      "          [-6.5030e-02, -6.6923e-02, -1.0251e-01],\n",
      "          [ 1.1631e-01, -6.6923e-04, -3.7119e-02]],\n",
      "\n",
      "         [[-6.4225e-02,  8.5408e-03,  1.2329e-02],\n",
      "          [ 9.5175e-02, -1.3382e-01,  7.2679e-02],\n",
      "          [ 8.6590e-02,  8.2915e-02,  1.6713e-02]]],\n",
      "\n",
      "\n",
      "        [[[-4.4154e-02,  3.3134e-02,  6.7803e-02],\n",
      "          [-9.9767e-02, -1.1086e-02,  1.3193e-01],\n",
      "          [ 7.8463e-03,  9.0278e-02, -1.3115e-01]],\n",
      "\n",
      "         [[-1.6927e-03,  4.4855e-02, -9.4566e-03],\n",
      "          [ 1.1484e-01,  1.1969e-01,  8.1723e-02],\n",
      "          [ 1.3051e-01, -1.2608e-01, -2.4072e-03]],\n",
      "\n",
      "         [[ 1.2419e-01,  8.7625e-02,  1.1624e-01],\n",
      "          [-5.3991e-02, -1.1160e-01,  1.1331e-02],\n",
      "          [-1.2883e-01,  3.8363e-02,  2.7023e-02]],\n",
      "\n",
      "         [[ 1.1087e-01, -1.1568e-01, -1.3164e-01],\n",
      "          [-9.8717e-02, -1.8642e-02, -7.2044e-02],\n",
      "          [-1.7380e-02,  1.1243e-02,  7.2340e-03]],\n",
      "\n",
      "         [[-2.5716e-03, -1.1769e-01,  9.9806e-02],\n",
      "          [ 1.2560e-01, -6.9532e-02,  1.1238e-01],\n",
      "          [ 3.1320e-03,  1.0036e-01,  1.0476e-01]],\n",
      "\n",
      "         [[-1.3253e-01,  5.0439e-02, -6.2191e-02],\n",
      "          [-3.6085e-02,  9.0552e-02,  5.1156e-02],\n",
      "          [-9.4256e-02, -6.9899e-02, -1.2629e-01]]],\n",
      "\n",
      "\n",
      "        [[[-5.0359e-02, -2.2245e-03, -8.8364e-02],\n",
      "          [-1.0456e-01,  4.3997e-02,  8.5150e-03],\n",
      "          [-4.4242e-02,  1.4136e-02,  1.9851e-02]],\n",
      "\n",
      "         [[-1.2222e-01, -1.2702e-01,  2.1799e-02],\n",
      "          [ 9.9556e-02,  1.0152e-02,  1.0314e-01],\n",
      "          [ 9.2022e-02, -7.0223e-02,  1.2159e-01]],\n",
      "\n",
      "         [[ 6.6517e-02, -1.5091e-03, -9.6711e-02],\n",
      "          [-5.9575e-02,  7.0819e-02,  2.6546e-03],\n",
      "          [-5.5259e-02,  5.0122e-02,  1.1857e-03]],\n",
      "\n",
      "         [[ 1.1020e-01,  7.0081e-02,  9.3961e-03],\n",
      "          [ 7.2783e-02, -5.4198e-02,  1.8406e-02],\n",
      "          [-4.4098e-02, -8.3071e-02,  6.2075e-02]],\n",
      "\n",
      "         [[ 1.2764e-01,  5.7339e-02, -2.6622e-02],\n",
      "          [ 8.1423e-02,  1.3126e-01, -6.2253e-03],\n",
      "          [ 1.2777e-01, -8.8665e-02,  1.0679e-01]],\n",
      "\n",
      "         [[-9.9451e-02,  7.0149e-02, -5.1138e-03],\n",
      "          [-3.8280e-02, -6.7213e-02, -4.4945e-02],\n",
      "          [ 6.4931e-02, -9.9773e-02, -4.5461e-02]]]], requires_grad=True), Parameter containing:\n",
      "tensor([-0.0975, -0.0776,  0.1341, -0.1046, -0.1346, -0.1088,  0.1240,  0.0310,\n",
      "         0.0139, -0.1090,  0.0015,  0.0611, -0.0118,  0.1092, -0.0146, -0.0822],\n",
      "       requires_grad=True), Parameter containing:\n",
      "tensor([[-3.7816e-02, -2.4175e-02, -2.3665e-02,  ..., -1.0540e-02,\n",
      "          6.0870e-03, -2.0397e-02],\n",
      "        [-4.4126e-02, -3.2062e-03,  1.5204e-02,  ..., -4.6486e-02,\n",
      "          1.9785e-02, -2.2690e-02],\n",
      "        [-2.6203e-03,  2.9955e-02, -1.5380e-02,  ...,  2.7574e-02,\n",
      "         -1.2666e-02, -3.4808e-02],\n",
      "        ...,\n",
      "        [ 3.4849e-02, -3.1086e-02,  1.8275e-03,  ..., -1.7324e-02,\n",
      "         -1.6993e-02,  4.8280e-05],\n",
      "        [-2.3200e-03, -4.2959e-02,  1.0477e-02,  ..., -3.9502e-02,\n",
      "         -1.8235e-02,  2.9281e-02],\n",
      "        [ 4.1116e-02, -1.3627e-03,  1.4210e-02,  ..., -4.9594e-02,\n",
      "         -1.2676e-02,  2.2557e-02]], requires_grad=True), Parameter containing:\n",
      "tensor([-0.0169, -0.0436,  0.0428,  0.0356, -0.0241,  0.0478,  0.0356,  0.0174,\n",
      "         0.0438,  0.0095, -0.0474, -0.0406,  0.0360, -0.0323,  0.0375, -0.0332,\n",
      "        -0.0162, -0.0294,  0.0008, -0.0375,  0.0414,  0.0129, -0.0415,  0.0345,\n",
      "         0.0157, -0.0355,  0.0158, -0.0448, -0.0175, -0.0284, -0.0226, -0.0125,\n",
      "         0.0193,  0.0496,  0.0252,  0.0060,  0.0167,  0.0427, -0.0334,  0.0393,\n",
      "         0.0018, -0.0330,  0.0377, -0.0005,  0.0328,  0.0499, -0.0453, -0.0016,\n",
      "        -0.0054, -0.0351,  0.0466, -0.0310,  0.0206,  0.0293,  0.0127,  0.0113,\n",
      "         0.0284, -0.0153, -0.0432, -0.0463, -0.0293,  0.0136,  0.0361,  0.0345,\n",
      "        -0.0221, -0.0162, -0.0059, -0.0011, -0.0099,  0.0163,  0.0131, -0.0471,\n",
      "         0.0443,  0.0102,  0.0138, -0.0362, -0.0212, -0.0254, -0.0323, -0.0410,\n",
      "        -0.0053,  0.0476,  0.0332, -0.0044, -0.0406, -0.0227,  0.0474, -0.0173,\n",
      "        -0.0095,  0.0236, -0.0425, -0.0472,  0.0116,  0.0381, -0.0295, -0.0469,\n",
      "        -0.0135,  0.0161, -0.0291,  0.0122,  0.0466, -0.0423, -0.0391,  0.0191,\n",
      "        -0.0261, -0.0207, -0.0465,  0.0411,  0.0428, -0.0030,  0.0439, -0.0443,\n",
      "        -0.0455, -0.0263,  0.0256, -0.0323,  0.0355, -0.0205, -0.0360, -0.0245],\n",
      "       requires_grad=True), Parameter containing:\n",
      "tensor([[-0.0898, -0.0660,  0.0194,  ...,  0.0548,  0.0630, -0.0052],\n",
      "        [ 0.0404,  0.0455,  0.0185,  ...,  0.0731,  0.0252, -0.0508],\n",
      "        [-0.0194,  0.0341, -0.0606,  ..., -0.0483,  0.0424,  0.0339],\n",
      "        ...,\n",
      "        [-0.0731,  0.0274, -0.0566,  ...,  0.0458, -0.0060,  0.0667],\n",
      "        [ 0.0131, -0.0449,  0.0532,  ...,  0.0553,  0.0274, -0.0506],\n",
      "        [-0.0661, -0.0724,  0.0071,  ...,  0.0838,  0.0805,  0.0319]],\n",
      "       requires_grad=True), Parameter containing:\n",
      "tensor([ 0.0062,  0.0765, -0.0536,  0.0082,  0.0809, -0.0068, -0.0109, -0.0506,\n",
      "        -0.0503, -0.0559, -0.0400, -0.0770, -0.0408, -0.0106,  0.0215,  0.0775,\n",
      "         0.0694, -0.0567, -0.0024,  0.0298,  0.0528,  0.0817, -0.0810, -0.0254,\n",
      "         0.0409,  0.0017, -0.0438,  0.0184,  0.0473, -0.0244, -0.0480, -0.0708,\n",
      "        -0.0373,  0.0516, -0.0392,  0.0069,  0.0290, -0.0593,  0.0230, -0.0555,\n",
      "        -0.0104,  0.0260, -0.0761, -0.0208, -0.0796, -0.0817, -0.0512,  0.0817,\n",
      "        -0.0209,  0.0490,  0.0453, -0.0461,  0.0353,  0.0055,  0.0002,  0.0482,\n",
      "         0.0805, -0.0091, -0.0634, -0.0100,  0.0791,  0.0751, -0.0027,  0.0568,\n",
      "        -0.0059,  0.0236,  0.0432,  0.0804, -0.0338, -0.0264, -0.0071,  0.0913,\n",
      "        -0.0552,  0.0300,  0.0666, -0.0145,  0.0580, -0.0627,  0.0867, -0.0013,\n",
      "        -0.0261,  0.0315,  0.0803, -0.0436], requires_grad=True), Parameter containing:\n",
      "tensor([[ 0.0071,  0.0269, -0.0359,  0.0142,  0.0143,  0.0061, -0.0726,  0.0650,\n",
      "         -0.0366, -0.0296,  0.0868,  0.0179,  0.0614,  0.0501,  0.0707, -0.0339,\n",
      "          0.0698, -0.1058, -0.0710, -0.0281, -0.0340, -0.0070,  0.0056,  0.0728,\n",
      "         -0.0796,  0.0695,  0.0397, -0.0521,  0.0445,  0.0107, -0.0040,  0.0931,\n",
      "         -0.1002,  0.0500, -0.0522,  0.0297,  0.1072,  0.0582,  0.0747,  0.0775,\n",
      "         -0.0055,  0.0147, -0.0783,  0.0580, -0.0024, -0.0179,  0.0053,  0.0416,\n",
      "         -0.0428, -0.0977, -0.0024,  0.0609,  0.0817, -0.0659, -0.0894, -0.0405,\n",
      "         -0.0992, -0.0944, -0.0723, -0.0067,  0.0635,  0.0778,  0.0022,  0.1053,\n",
      "         -0.0218,  0.0585,  0.0569,  0.0700,  0.1044, -0.0077,  0.1044,  0.0572,\n",
      "         -0.0787,  0.0043, -0.0551, -0.0321,  0.0885,  0.0103, -0.0976, -0.0233,\n",
      "          0.0095, -0.0594, -0.1050,  0.0871],\n",
      "        [-0.0904, -0.0665,  0.0873, -0.0219,  0.0105,  0.0170,  0.0528,  0.0050,\n",
      "         -0.0064, -0.0921,  0.1049,  0.0471, -0.0087,  0.0280, -0.0297, -0.0704,\n",
      "          0.0888,  0.1021, -0.1030, -0.0029,  0.0986,  0.0315,  0.0090, -0.0426,\n",
      "          0.0325, -0.0091, -0.0591,  0.0819, -0.0771, -0.0973,  0.1023, -0.0556,\n",
      "          0.0996, -0.0777, -0.0898,  0.0741, -0.0135, -0.0355, -0.0617, -0.0212,\n",
      "          0.0098, -0.1007, -0.0949, -0.0957, -0.0962, -0.0783, -0.0180, -0.0166,\n",
      "         -0.0684, -0.0641,  0.1065, -0.0196,  0.0777,  0.0994,  0.0380,  0.0901,\n",
      "          0.0507, -0.0653, -0.0991, -0.0962,  0.0339, -0.0333, -0.0392, -0.0455,\n",
      "         -0.0248, -0.0761, -0.0249,  0.0959, -0.0346,  0.0504, -0.0584,  0.0337,\n",
      "          0.0113,  0.0174, -0.0806,  0.0814, -0.0113,  0.0606, -0.0249,  0.0256,\n",
      "         -0.0700,  0.0744,  0.0975, -0.0839],\n",
      "        [ 0.0051, -0.0873, -0.0352,  0.0860,  0.0692,  0.0223,  0.0863, -0.1056,\n",
      "          0.0385,  0.0561, -0.0603,  0.0751, -0.0490,  0.0269, -0.0998,  0.1012,\n",
      "          0.0931, -0.0411,  0.0551,  0.0118,  0.0737, -0.0791,  0.0416, -0.0902,\n",
      "          0.0830,  0.0022,  0.0376,  0.0746, -0.0121, -0.0797,  0.0158, -0.0686,\n",
      "         -0.0165,  0.0654,  0.0037,  0.0539,  0.1026,  0.1002, -0.0538, -0.0043,\n",
      "         -0.0195,  0.0356,  0.0556,  0.0915,  0.0270,  0.0681, -0.0772,  0.0769,\n",
      "         -0.0336, -0.0401, -0.0381, -0.0599, -0.1087,  0.0784, -0.0294,  0.0947,\n",
      "          0.0063, -0.0098, -0.0494, -0.0632,  0.0329, -0.0105, -0.0046, -0.0250,\n",
      "          0.0366, -0.0113, -0.0542, -0.0371,  0.0203, -0.0050, -0.0641,  0.0382,\n",
      "         -0.0061,  0.0956,  0.0639,  0.0997, -0.0109, -0.0516, -0.1071, -0.0805,\n",
      "          0.1008,  0.0037, -0.0963, -0.0786],\n",
      "        [ 0.0024,  0.0493, -0.0544, -0.0637,  0.0229, -0.0430,  0.0306, -0.0156,\n",
      "          0.0044,  0.0593, -0.0455, -0.0210,  0.0923, -0.0527,  0.0425,  0.0552,\n",
      "         -0.0576,  0.0669,  0.0570, -0.0280,  0.0886, -0.0714,  0.0312, -0.0120,\n",
      "         -0.0110,  0.0129, -0.0477,  0.0993, -0.0789, -0.0637, -0.0610,  0.0119,\n",
      "         -0.0567, -0.0403,  0.0482, -0.0319,  0.0891,  0.0681, -0.0337, -0.0773,\n",
      "         -0.0748, -0.0462,  0.0273, -0.0557,  0.0162, -0.0906,  0.0366,  0.0823,\n",
      "         -0.0209,  0.0404, -0.0843, -0.0747, -0.0747, -0.0008, -0.0935, -0.0019,\n",
      "         -0.0033,  0.0007, -0.0102,  0.0779, -0.0380, -0.0141,  0.0330,  0.1008,\n",
      "         -0.0105, -0.0115, -0.0309,  0.0395, -0.0629,  0.0143, -0.0285,  0.0471,\n",
      "         -0.0997,  0.0444,  0.0492, -0.0598,  0.0728,  0.0977,  0.0578, -0.0652,\n",
      "         -0.0119, -0.0118, -0.1047, -0.0655],\n",
      "        [ 0.0610, -0.0473, -0.0710, -0.0992,  0.0208,  0.0210,  0.0847, -0.0498,\n",
      "         -0.0553,  0.0175, -0.0106,  0.1080,  0.0547,  0.0992,  0.0191, -0.1009,\n",
      "         -0.0677,  0.0826,  0.0176,  0.0183, -0.0799,  0.0120,  0.0546,  0.1053,\n",
      "          0.0298, -0.0789, -0.0678,  0.0956, -0.0136,  0.0661, -0.0983, -0.1003,\n",
      "          0.0340,  0.0454, -0.0526, -0.0629, -0.0932,  0.0114, -0.0302, -0.0730,\n",
      "         -0.0761,  0.0421,  0.1006, -0.0832, -0.0083, -0.0574,  0.0246, -0.0479,\n",
      "         -0.0239, -0.0513,  0.0464, -0.0190,  0.1037, -0.0030, -0.0959,  0.1040,\n",
      "          0.0357,  0.0969, -0.0135, -0.0467,  0.0003, -0.0887, -0.0544,  0.1025,\n",
      "          0.0820,  0.0288, -0.1091, -0.0632, -0.0652, -0.0771, -0.0923, -0.0245,\n",
      "         -0.0666,  0.0374,  0.0620, -0.0487, -0.1019,  0.0163, -0.0834, -0.0412,\n",
      "          0.0126, -0.0385,  0.1028,  0.0783],\n",
      "        [ 0.1000,  0.0578, -0.0327, -0.0291,  0.0772, -0.0172,  0.1082, -0.0533,\n",
      "         -0.0242, -0.0911,  0.0029, -0.0363, -0.0539,  0.0092,  0.0559,  0.0737,\n",
      "         -0.0731,  0.0594,  0.0462,  0.0590, -0.0468, -0.0130, -0.0599,  0.0828,\n",
      "         -0.0356, -0.0437, -0.0068,  0.0553,  0.1084, -0.0672,  0.0407, -0.0865,\n",
      "          0.0986,  0.0845,  0.0263, -0.0381,  0.0305, -0.0739,  0.0046, -0.0039,\n",
      "          0.0423, -0.0933, -0.0762, -0.1010, -0.0123,  0.0268, -0.0973,  0.0186,\n",
      "          0.0868, -0.0036,  0.0067,  0.0235,  0.1021, -0.0284,  0.0003,  0.0911,\n",
      "         -0.0105, -0.0414, -0.0703, -0.0236,  0.0489, -0.0167,  0.0117,  0.0430,\n",
      "         -0.0889, -0.0935,  0.0591, -0.0198, -0.0882, -0.0435, -0.0505,  0.0335,\n",
      "          0.1033,  0.0901,  0.1007,  0.0490,  0.0522,  0.0786, -0.0032,  0.0156,\n",
      "         -0.0116, -0.0971, -0.0990,  0.0539],\n",
      "        [-0.0185, -0.0593,  0.0174, -0.0429, -0.0749,  0.1028,  0.0723, -0.0262,\n",
      "         -0.0646,  0.0754,  0.0724,  0.0418,  0.0285,  0.0124, -0.0117,  0.0841,\n",
      "          0.0992,  0.0945, -0.0197, -0.1021, -0.0295, -0.0316, -0.0087,  0.0332,\n",
      "         -0.0877,  0.0159, -0.0876,  0.0347,  0.0039,  0.0877,  0.0783,  0.0804,\n",
      "         -0.1059, -0.0418,  0.0599,  0.0405,  0.0409,  0.0759, -0.0780, -0.0601,\n",
      "          0.0816, -0.0127,  0.0750, -0.0284, -0.0205, -0.1072,  0.0872, -0.0958,\n",
      "          0.0427,  0.0537,  0.0411, -0.0089, -0.0416,  0.0357, -0.0486,  0.1057,\n",
      "         -0.0562,  0.0736, -0.0397, -0.0548,  0.0688,  0.0853, -0.0760,  0.0629,\n",
      "         -0.0125, -0.0583,  0.0639,  0.0099, -0.0203, -0.0885,  0.0185,  0.0500,\n",
      "          0.0209,  0.0240, -0.0609,  0.0274, -0.0880, -0.0970, -0.1043, -0.1000,\n",
      "          0.0961, -0.0459, -0.0400, -0.0051],\n",
      "        [ 0.0149,  0.1075,  0.0705, -0.0809, -0.0868,  0.0374, -0.0458,  0.0941,\n",
      "         -0.0322, -0.0324, -0.0941,  0.0632,  0.0316,  0.0053,  0.0812,  0.0223,\n",
      "          0.0488, -0.0596, -0.0109,  0.0515, -0.0149, -0.0034,  0.0866,  0.0823,\n",
      "          0.0978,  0.0353,  0.0517, -0.0887,  0.0099, -0.0492,  0.0489, -0.0957,\n",
      "         -0.0726, -0.0617, -0.1001,  0.0858, -0.0134, -0.0030, -0.0943,  0.0865,\n",
      "         -0.0647, -0.0118, -0.1044,  0.0458, -0.0980, -0.0074,  0.0380, -0.0631,\n",
      "         -0.1090,  0.0906, -0.0711, -0.0030,  0.0423, -0.0312, -0.0233, -0.0736,\n",
      "          0.1003, -0.0898,  0.0683,  0.0425, -0.0851,  0.0365, -0.0675,  0.0900,\n",
      "         -0.0376,  0.0147, -0.0936,  0.1024, -0.0030,  0.0552,  0.0466, -0.0981,\n",
      "          0.0063,  0.0285, -0.0619, -0.0837,  0.1052, -0.1048,  0.0526,  0.0439,\n",
      "         -0.0503, -0.0764, -0.0262, -0.0941],\n",
      "        [-0.0630, -0.0305,  0.0015, -0.0914,  0.0351,  0.0273,  0.0214,  0.0093,\n",
      "          0.0402, -0.0470, -0.0989,  0.0920,  0.1013, -0.0808,  0.0201, -0.0818,\n",
      "          0.0096,  0.0798, -0.0688, -0.0509, -0.0860, -0.0738, -0.0240,  0.0676,\n",
      "         -0.0463,  0.0885, -0.0911,  0.0588,  0.0243, -0.0961, -0.0365,  0.0580,\n",
      "         -0.1039, -0.0326, -0.0448,  0.0647,  0.0445,  0.0635, -0.0783,  0.0606,\n",
      "          0.0409,  0.0189,  0.1028, -0.0705,  0.0593, -0.1059,  0.0879, -0.0855,\n",
      "          0.0170, -0.0578, -0.0918,  0.0192, -0.1066,  0.0750, -0.0154, -0.0200,\n",
      "          0.0408, -0.0900,  0.0931,  0.0278, -0.0540,  0.0034, -0.0527, -0.0695,\n",
      "          0.0906,  0.0685,  0.0796, -0.0490,  0.0126, -0.0059,  0.0473, -0.0935,\n",
      "         -0.0645, -0.0614,  0.1009,  0.0197,  0.0618,  0.0320, -0.0564, -0.0297,\n",
      "          0.1024, -0.0244, -0.1079, -0.0806],\n",
      "        [-0.0510, -0.0579,  0.0407, -0.0611, -0.0791, -0.0789,  0.0955, -0.0735,\n",
      "         -0.0353,  0.0947, -0.0892, -0.0222,  0.0277, -0.0572, -0.0230,  0.0582,\n",
      "         -0.0757,  0.0997, -0.1029, -0.0122,  0.0844, -0.0660,  0.1082, -0.1071,\n",
      "         -0.0923,  0.0244,  0.0202,  0.0085,  0.0768, -0.0922,  0.0310, -0.0620,\n",
      "         -0.0717,  0.0023,  0.0237, -0.0625, -0.0504, -0.0452,  0.0315, -0.0469,\n",
      "          0.0512, -0.0356, -0.0033, -0.0469,  0.0068, -0.0080, -0.0241, -0.0573,\n",
      "         -0.0591, -0.0623,  0.0095, -0.0731, -0.0304, -0.0901,  0.0661,  0.0596,\n",
      "          0.0097, -0.0223,  0.0620,  0.0507, -0.0292, -0.1042, -0.0397, -0.0122,\n",
      "         -0.0375, -0.0725,  0.1088,  0.0402, -0.0029, -0.0837,  0.0143,  0.0747,\n",
      "          0.0367, -0.0868, -0.0143, -0.0354,  0.0936, -0.0571,  0.0369,  0.0304,\n",
      "         -0.1007,  0.0808, -0.0691,  0.0961]], requires_grad=True), Parameter containing:\n",
      "tensor([ 0.0800,  0.0859,  0.0881,  0.0616, -0.0193, -0.0480,  0.0258, -0.0043,\n",
      "        -0.0313,  0.0681], requires_grad=True)]\n",
      "[NeuralNet(\n",
      "  (conv1): Conv2d(1, 6, kernel_size=(3, 3), stride=(1, 1))\n",
      "  (conv2): Conv2d(6, 16, kernel_size=(3, 3), stride=(1, 1))\n",
      "  (fc1): Linear(in_features=400, out_features=120, bias=True)\n",
      "  (fc2): Linear(in_features=120, out_features=84, bias=True)\n",
      "  (fc3): Linear(in_features=84, out_features=10, bias=True)\n",
      "), Conv2d(1, 6, kernel_size=(3, 3), stride=(1, 1)), Conv2d(6, 16, kernel_size=(3, 3), stride=(1, 1)), Linear(in_features=400, out_features=120, bias=True), Linear(in_features=120, out_features=84, bias=True), Linear(in_features=84, out_features=10, bias=True)]\n"
     ]
    }
   ],
   "source": [
    "print(list(net.parameters()))\n",
    "print(list(net.modules()))"
   ]
  },
  {
   "cell_type": "code",
   "execution_count": 179,
   "metadata": {},
   "outputs": [
    {
     "name": "stdout",
     "output_type": "stream",
     "text": [
      "tensor([[[[-0.0239, -0.3202,  0.2599],\n",
      "          [-0.1380, -0.2649, -0.3226],\n",
      "          [-0.2838, -0.1793, -0.3263]]],\n",
      "\n",
      "\n",
      "        [[[-0.0312,  0.1932,  0.2275],\n",
      "          [-0.1274, -0.0840,  0.1412],\n",
      "          [-0.1251, -0.1726,  0.3119]]],\n",
      "\n",
      "\n",
      "        [[[-0.0618,  0.0911,  0.0205],\n",
      "          [-0.2272, -0.2530, -0.1793],\n",
      "          [ 0.2572, -0.0867,  0.0904]]],\n",
      "\n",
      "\n",
      "        [[[ 0.1099,  0.1229,  0.2924],\n",
      "          [-0.1353, -0.2897, -0.0169],\n",
      "          [-0.3284, -0.2293,  0.1075]]],\n",
      "\n",
      "\n",
      "        [[[-0.2483, -0.1031,  0.0838],\n",
      "          [ 0.3141,  0.2933,  0.2631],\n",
      "          [-0.2121, -0.2513, -0.1944]]],\n",
      "\n",
      "\n",
      "        [[[-0.2329, -0.0789, -0.3075],\n",
      "          [ 0.0031, -0.0439, -0.3315],\n",
      "          [ 0.0434, -0.2144, -0.2132]]]]) None\n"
     ]
    }
   ],
   "source": [
    "print(list(net.parameters())[0].data,list(net.parameters())[0].data.grad)"
   ]
  },
  {
   "cell_type": "code",
   "execution_count": 180,
   "metadata": {},
   "outputs": [
    {
     "name": "stdout",
     "output_type": "stream",
     "text": [
      "10\n",
      "torch.Size([6, 1, 3, 3])\n"
     ]
    }
   ],
   "source": [
    "params = list(net.parameters())\n",
    "print(len(params))\n",
    "print(params[0].size())"
   ]
  },
  {
   "cell_type": "code",
   "execution_count": 181,
   "metadata": {},
   "outputs": [],
   "source": [
    "criterion = nn.CrossEntropyLoss()       # 클래스 분류이므로\n",
    "optimizer = optim.SGD(net.parameters(), lr=0.001, momentum=0.9)\n"
   ]
  },
  {
   "cell_type": "code",
   "execution_count": 166,
   "metadata": {},
   "outputs": [
    {
     "name": "stdout",
     "output_type": "stream",
     "text": [
      "469\n"
     ]
    }
   ],
   "source": [
    "total_batch = len(train_loader)\n",
    "print(total_batch)  # 468번 iteration을 돔"
   ]
  },
  {
   "cell_type": "code",
   "execution_count": 182,
   "metadata": {},
   "outputs": [
    {
     "name": "stdout",
     "output_type": "stream",
     "text": [
      "Epoch: 0, iter: 100, Loss : 229.30100059509277\n",
      "Epoch: 0, iter: 200, Loss : 226.58865904808044\n",
      "Epoch: 0, iter: 300, Loss : 219.0838975906372\n",
      "Epoch: 0, iter: 400, Loss : 191.0051599740982\n",
      "Epoch: 1, iter: 100, Loss : 95.74628907442093\n",
      "Epoch: 1, iter: 200, Loss : 80.94874465465546\n",
      "Epoch: 1, iter: 300, Loss : 74.83502870798111\n",
      "Epoch: 1, iter: 400, Loss : 68.81911689043045\n",
      "Epoch: 2, iter: 100, Loss : 68.4453841149807\n",
      "Epoch: 2, iter: 200, Loss : 65.99682840704918\n",
      "Epoch: 2, iter: 300, Loss : 66.02971595525742\n",
      "Epoch: 2, iter: 400, Loss : 65.15533363819122\n",
      "Epoch: 3, iter: 100, Loss : 63.27543920278549\n",
      "Epoch: 3, iter: 200, Loss : 62.215534806251526\n",
      "Epoch: 3, iter: 300, Loss : 62.20257315039635\n",
      "Epoch: 3, iter: 400, Loss : 61.515516489744186\n",
      "Epoch: 4, iter: 100, Loss : 58.31938672065735\n",
      "Epoch: 4, iter: 200, Loss : 59.29470419883728\n",
      "Epoch: 4, iter: 300, Loss : 58.36543393135071\n",
      "Epoch: 4, iter: 400, Loss : 56.437827199697495\n",
      "Epoch: 5, iter: 100, Loss : 56.992600083351135\n",
      "Epoch: 5, iter: 200, Loss : 55.57806643843651\n",
      "Epoch: 5, iter: 300, Loss : 54.553414702415466\n",
      "Epoch: 5, iter: 400, Loss : 54.034167528152466\n",
      "Epoch: 6, iter: 100, Loss : 53.092185616493225\n",
      "Epoch: 6, iter: 200, Loss : 52.760317504405975\n",
      "Epoch: 6, iter: 300, Loss : 52.4728207886219\n",
      "Epoch: 6, iter: 400, Loss : 51.953497499227524\n",
      "Epoch: 7, iter: 100, Loss : 50.10550293326378\n",
      "Epoch: 7, iter: 200, Loss : 50.65032884478569\n",
      "Epoch: 7, iter: 300, Loss : 50.58013606071472\n",
      "Epoch: 7, iter: 400, Loss : 48.77859356999397\n",
      "Epoch: 8, iter: 100, Loss : 47.70194709300995\n",
      "Epoch: 8, iter: 200, Loss : 47.83215042948723\n",
      "Epoch: 8, iter: 300, Loss : 48.441123992204666\n",
      "Epoch: 8, iter: 400, Loss : 47.3346431851387\n",
      "Epoch: 9, iter: 100, Loss : 46.33760479092598\n",
      "Epoch: 9, iter: 200, Loss : 46.30106082558632\n",
      "Epoch: 9, iter: 300, Loss : 46.96421119570732\n",
      "Epoch: 9, iter: 400, Loss : 46.5752691924572\n"
     ]
    }
   ],
   "source": [
    "for epoch in range(10):\n",
    "    running_loss = 0.0\n",
    "    \n",
    "    for i, data in enumerate(train_loader):\n",
    "        inputs, labels =data\n",
    "        \n",
    "        optimizer.zero_grad()\n",
    "        \n",
    "        outputs = net(inputs)\n",
    "        loss = criterion(outputs,labels)\n",
    "        loss.backward()\n",
    "        optimizer.step()\n",
    "        \n",
    "        running_loss += loss.item()     # loss.item()을 해줘야 한다.\n",
    "        \n",
    "        if i % 100 == 99:\n",
    "            print('Epoch: {}, iter: {}, Loss : {}'.format(epoch,i+1,running_loss))\n",
    "            running_loss = 0.0"
   ]
  },
  {
   "cell_type": "code",
   "execution_count": 172,
   "metadata": {},
   "outputs": [
    {
     "data": {
      "text/plain": [
       "torch.Size([20, 33, 50, 100])"
      ]
     },
     "execution_count": 172,
     "metadata": {},
     "output_type": "execute_result"
    }
   ],
   "source": [
    "# nn.Conv2d, 컨볼루션 계층에 대한 이해\n",
    "m = nn.Conv2d(16,33,3,stride=1,padding=1) # inchannel, outchannel, kernel\n",
    "# 채널수를 16->33으로 늘린다. -> 두꺼워진다. CNN 모델의 그림을 보면 알 수 있을 것이다.\n",
    "input = torch.randn(20,16,50,100)   # batch, inchannel, width, height\n",
    "output = m(input)\n",
    "output.shape    # 커널크기가 3이면(3,3) padding=1로 해줘야 전후 크기가 일치한다."
   ]
  },
  {
   "cell_type": "code",
   "execution_count": 184,
   "metadata": {},
   "outputs": [
    {
     "data": {
      "text/plain": [
       "OrderedDict([('conv1.weight',\n",
       "              tensor([[[[-0.2467, -0.6681, -0.0341],\n",
       "                        [-0.3868, -0.7039, -0.6019],\n",
       "                        [-0.4490, -0.5384, -0.5084]]],\n",
       "              \n",
       "              \n",
       "                      [[[-0.2389,  0.2396,  0.3910],\n",
       "                        [-0.3359, -0.0283,  0.3543],\n",
       "                        [-0.3323, -0.1493,  0.4674]]],\n",
       "              \n",
       "              \n",
       "                      [[[-0.0637,  0.0939,  0.0102],\n",
       "                        [-0.2341, -0.2415, -0.1829],\n",
       "                        [ 0.2595, -0.0748,  0.0801]]],\n",
       "              \n",
       "              \n",
       "                      [[[ 0.0383, -0.0138,  0.4063],\n",
       "                        [-0.2313, -0.4403,  0.1166],\n",
       "                        [-0.4447, -0.3969,  0.2513]]],\n",
       "              \n",
       "              \n",
       "                      [[[-0.2587, -0.1136,  0.0663],\n",
       "                        [ 0.3290,  0.3073,  0.2595],\n",
       "                        [-0.2141, -0.2565, -0.2191]]],\n",
       "              \n",
       "              \n",
       "                      [[[-0.4213, -0.4664, -0.8239],\n",
       "                        [-0.1738, -0.4495, -0.8609],\n",
       "                        [-0.0565, -0.5023, -0.5835]]]])),\n",
       "             ('conv1.bias',\n",
       "              tensor([ 0.0233,  0.3524, -0.1815,  0.3232, -0.2027,  0.3360])),\n",
       "             ('conv2.weight',\n",
       "              tensor([[[[ 5.3273e-02,  1.5439e-01,  1.2143e-01],\n",
       "                        [-8.8584e-02, -1.2833e-01, -1.0468e-01],\n",
       "                        [-1.1264e-01, -1.8702e-02,  3.6765e-02]],\n",
       "              \n",
       "                       [[-5.1797e-02, -1.8948e-02, -1.0950e-01],\n",
       "                        [ 6.5483e-02,  6.2155e-03,  1.3022e-01],\n",
       "                        [ 1.3396e-01,  1.3233e-01, -1.8359e-02]],\n",
       "              \n",
       "                       [[-6.1981e-02, -1.8380e-02, -1.1783e-02],\n",
       "                        [-2.5549e-02,  8.2730e-03,  9.2522e-02],\n",
       "                        [ 1.2029e-01, -5.5746e-02, -4.8930e-02]],\n",
       "              \n",
       "                       [[ 5.0398e-02, -4.5619e-02, -9.4852e-02],\n",
       "                        [ 6.9051e-02, -9.4351e-02,  2.3323e-03],\n",
       "                        [ 6.0447e-02,  1.1991e-01, -1.1465e-01]],\n",
       "              \n",
       "                       [[ 1.2725e-01, -1.1883e-01, -1.0737e-01],\n",
       "                        [ 1.0834e-01, -9.0193e-02,  9.3773e-02],\n",
       "                        [ 1.2633e-01,  5.8650e-02, -1.1847e-01]],\n",
       "              \n",
       "                       [[ 8.7973e-02,  6.0667e-02, -5.4261e-02],\n",
       "                        [-1.2176e-01,  1.1117e-01, -4.3219e-02],\n",
       "                        [-4.5093e-02,  4.1836e-02, -1.0223e-01]]],\n",
       "              \n",
       "              \n",
       "                      [[[ 1.9234e-01,  4.4213e-02, -3.7193e-02],\n",
       "                        [ 2.3297e-02,  2.2874e-02, -1.2368e-01],\n",
       "                        [ 3.2116e-02,  1.2245e-01, -9.2033e-02]],\n",
       "              \n",
       "                       [[ 9.9952e-02,  1.2671e-01, -4.4512e-02],\n",
       "                        [ 9.9583e-02, -9.5073e-04, -5.8276e-02],\n",
       "                        [-7.1228e-02, -1.1243e-01, -1.1421e-01]],\n",
       "              \n",
       "                       [[-3.2066e-02, -7.6749e-02,  9.8926e-02],\n",
       "                        [-6.8713e-02,  3.7098e-02,  7.4550e-02],\n",
       "                        [-9.2658e-02,  6.8988e-02, -7.2270e-02]],\n",
       "              \n",
       "                       [[ 8.5320e-02, -3.4546e-02,  5.9951e-02],\n",
       "                        [-6.3847e-02, -1.6003e-02,  1.2273e-03],\n",
       "                        [ 7.0312e-03, -3.5072e-02, -4.7757e-02]],\n",
       "              \n",
       "                       [[ 1.2486e-01,  1.1037e-01, -6.3911e-02],\n",
       "                        [-1.0835e-01,  3.5546e-02, -8.8239e-02],\n",
       "                        [-1.4305e-03,  4.3892e-03, -3.1337e-02]],\n",
       "              \n",
       "                       [[ 1.3171e-01,  1.8123e-01, -9.1362e-02],\n",
       "                        [ 1.1739e-01,  5.8130e-02, -8.4132e-02],\n",
       "                        [ 1.6258e-01,  1.9035e-02, -1.6792e-02]]],\n",
       "              \n",
       "              \n",
       "                      [[[-1.4595e-02,  1.6466e-01, -4.6546e-02],\n",
       "                        [-6.2211e-02,  1.2169e-01, -5.8656e-02],\n",
       "                        [-1.2890e-01,  4.9022e-03, -4.8144e-02]],\n",
       "              \n",
       "                       [[-8.9618e-03, -6.4007e-02,  1.0757e-01],\n",
       "                        [-1.1024e-01, -1.3681e-01, -8.0850e-02],\n",
       "                        [-4.2987e-02,  2.3062e-02, -1.2022e-01]],\n",
       "              \n",
       "                       [[-6.0425e-03, -3.3772e-02, -2.8110e-02],\n",
       "                        [-7.3018e-02,  1.3656e-01,  7.7825e-02],\n",
       "                        [ 1.0489e-01,  4.2918e-02,  1.2398e-01]],\n",
       "              \n",
       "                       [[-1.3360e-01, -8.8038e-02,  6.4940e-03],\n",
       "                        [ 1.1974e-01, -1.4399e-01,  8.0088e-02],\n",
       "                        [ 8.7237e-02, -8.6976e-02,  4.4435e-02]],\n",
       "              \n",
       "                       [[-2.4390e-02,  1.2473e-01, -1.0880e-01],\n",
       "                        [-8.3155e-02,  3.6531e-02,  3.6872e-02],\n",
       "                        [-1.9692e-02, -9.7931e-02,  9.1617e-02]],\n",
       "              \n",
       "                       [[ 1.8101e-01,  1.3874e-01,  1.1913e-01],\n",
       "                        [-1.0255e-02, -1.1956e-02,  1.3812e-02],\n",
       "                        [-1.7205e-01, -1.4117e-01, -2.2846e-02]]],\n",
       "              \n",
       "              \n",
       "                      [[[ 2.8790e-01,  1.2774e-01,  1.4445e-02],\n",
       "                        [ 1.9665e-01, -7.7375e-02, -1.8249e-01],\n",
       "                        [-4.3245e-02, -3.2051e-02, -2.0687e-01]],\n",
       "              \n",
       "                       [[-1.2464e-01,  2.1931e-01,  1.2358e-01],\n",
       "                        [-7.0270e-02,  1.9322e-01,  1.0632e-01],\n",
       "                        [-4.8439e-02,  2.1461e-01, -1.6145e-02]],\n",
       "              \n",
       "                       [[ 6.7924e-03,  1.4465e-01, -9.7217e-02],\n",
       "                        [-6.1118e-02, -1.2015e-01, -9.3735e-02],\n",
       "                        [-3.9119e-02,  3.2749e-02,  6.4571e-02]],\n",
       "              \n",
       "                       [[ 1.9556e-01, -2.3592e-02, -1.2209e-01],\n",
       "                        [ 2.1911e-01,  1.8425e-01,  3.1875e-02],\n",
       "                        [ 1.7419e-01, -5.9108e-02, -1.1262e-01]],\n",
       "              \n",
       "                       [[-5.0415e-02,  9.6098e-03,  8.6747e-02],\n",
       "                        [ 7.2813e-02,  1.0892e-02,  1.2112e-01],\n",
       "                        [-3.6566e-02, -1.2640e-01,  3.8578e-03]],\n",
       "              \n",
       "                       [[ 2.9633e-01, -2.3788e-02,  2.8989e-02],\n",
       "                        [ 7.4152e-02, -8.8591e-02, -2.1827e-01],\n",
       "                        [ 1.8194e-01, -3.7611e-02, -9.1703e-03]]],\n",
       "              \n",
       "              \n",
       "                      [[[ 3.0370e-03,  1.3764e-01,  1.6602e-01],\n",
       "                        [ 8.6435e-02,  1.7718e-01, -5.2148e-02],\n",
       "                        [-2.6665e-02,  2.0206e-01,  1.1951e-01]],\n",
       "              \n",
       "                       [[ 4.2997e-02, -1.6381e-01, -1.2945e-01],\n",
       "                        [-3.2501e-02, -4.5639e-03,  4.9306e-02],\n",
       "                        [ 7.6186e-02,  1.3954e-01,  1.5888e-01]],\n",
       "              \n",
       "                       [[ 9.8988e-02, -7.5864e-02,  1.1160e-01],\n",
       "                        [-1.5872e-02,  3.5908e-02, -4.3868e-04],\n",
       "                        [-1.3078e-01,  3.6295e-02,  8.6184e-02]],\n",
       "              \n",
       "                       [[ 4.0591e-02,  1.0684e-01, -3.9582e-02],\n",
       "                        [-1.0268e-01,  1.8504e-01,  1.8826e-01],\n",
       "                        [ 1.7808e-02,  2.0559e-01,  6.9614e-02]],\n",
       "              \n",
       "                       [[ 1.1895e-02, -1.3049e-01, -1.9238e-04],\n",
       "                        [-1.7185e-02,  1.1941e-01,  1.6996e-02],\n",
       "                        [-8.9054e-02, -6.2233e-03,  1.0501e-01]],\n",
       "              \n",
       "                       [[ 1.4925e-01,  2.7004e-01,  2.8290e-01],\n",
       "                        [ 9.4172e-02,  1.4642e-01, -1.5149e-02],\n",
       "                        [ 1.4275e-01,  2.7190e-01,  1.4427e-01]]],\n",
       "              \n",
       "              \n",
       "                      [[[ 7.1701e-02, -8.6243e-03,  1.9081e-01],\n",
       "                        [-1.0136e-01,  1.6282e-01,  2.4097e-01],\n",
       "                        [ 1.7359e-01,  1.7592e-01,  3.8164e-01]],\n",
       "              \n",
       "                       [[ 5.4021e-02, -8.2932e-02,  4.3864e-02],\n",
       "                        [-1.0371e-01, -2.8833e-05, -2.8404e-02],\n",
       "                        [ 7.4117e-02,  7.0493e-03,  8.9589e-02]],\n",
       "              \n",
       "                       [[ 7.8080e-02,  6.5343e-02, -6.4115e-02],\n",
       "                        [ 1.4384e-02,  1.2653e-01, -9.9966e-02],\n",
       "                        [-1.0211e-03,  6.2873e-02,  1.2183e-01]],\n",
       "              \n",
       "                       [[-1.3068e-01, -1.7555e-02,  1.3656e-01],\n",
       "                        [ 4.6862e-02, -1.4163e-01,  2.2018e-01],\n",
       "                        [-2.9093e-02, -1.1513e-01,  1.7125e-01]],\n",
       "              \n",
       "                       [[ 4.5277e-02,  1.3362e-01, -9.5554e-02],\n",
       "                        [-1.0774e-01, -6.5555e-02, -2.0687e-02],\n",
       "                        [-1.9359e-03, -1.1792e-01, -7.3458e-02]],\n",
       "              \n",
       "                       [[ 1.6316e-01,  3.0564e-01,  2.9030e-01],\n",
       "                        [-5.1976e-02,  1.0172e-01,  3.4272e-01],\n",
       "                        [-9.1931e-03,  2.6466e-01,  4.0800e-01]]],\n",
       "              \n",
       "              \n",
       "                      [[[ 3.0699e-02,  1.9615e-01, -8.5120e-02],\n",
       "                        [ 1.6996e-01,  2.7657e-01, -4.0220e-02],\n",
       "                        [ 2.4708e-01,  1.1270e-01,  2.4740e-01]],\n",
       "              \n",
       "                       [[-1.1816e-01,  2.5896e-02,  2.3991e-02],\n",
       "                        [ 3.9170e-02,  1.1823e-01,  1.0360e-01],\n",
       "                        [ 2.9711e-02, -1.2622e-01, -7.8147e-02]],\n",
       "              \n",
       "                       [[-9.5392e-02,  1.3054e-01, -1.2599e-01],\n",
       "                        [-7.7854e-02, -7.2859e-02, -4.4323e-02],\n",
       "                        [-3.1517e-02,  9.3057e-02,  9.9624e-02]],\n",
       "              \n",
       "                       [[-9.6271e-02,  1.8542e-01, -3.8394e-02],\n",
       "                        [ 4.4957e-02,  2.0013e-01,  2.0918e-02],\n",
       "                        [-2.1517e-04,  1.1123e-01,  2.4716e-01]],\n",
       "              \n",
       "                       [[-5.5432e-02,  1.7316e-02, -8.4987e-02],\n",
       "                        [-1.9404e-02,  8.4419e-03, -6.8640e-02],\n",
       "                        [ 7.4953e-02, -3.8191e-02, -9.4084e-02]],\n",
       "              \n",
       "                       [[ 1.0197e-01,  2.3339e-01, -1.9056e-02],\n",
       "                        [ 2.5696e-01,  2.5447e-01,  1.2129e-01],\n",
       "                        [ 2.7023e-01,  2.6360e-01,  2.1112e-01]]],\n",
       "              \n",
       "              \n",
       "                      [[[ 1.2935e-02, -2.0679e-01, -3.8546e-02],\n",
       "                        [-8.7330e-02,  1.1637e-01,  3.4498e-02],\n",
       "                        [ 5.5486e-02,  1.6614e-01,  1.3122e-01]],\n",
       "              \n",
       "                       [[ 9.6283e-02, -2.5216e-03,  1.1785e-01],\n",
       "                        [ 1.4642e-01,  3.7637e-02,  1.4093e-01],\n",
       "                        [ 2.9142e-02, -6.6125e-02, -1.1334e-01]],\n",
       "              \n",
       "                       [[-7.8363e-02, -7.1980e-02,  1.1883e-01],\n",
       "                        [-6.3038e-02, -3.2636e-02, -2.7817e-02],\n",
       "                        [ 8.6399e-02, -1.1946e-01, -3.5132e-02]],\n",
       "              \n",
       "                       [[-7.5643e-02, -5.9241e-02, -9.3763e-02],\n",
       "                        [-9.3145e-02, -7.5344e-02,  1.0591e-01],\n",
       "                        [-1.1132e-01,  1.4789e-01, -2.9970e-03]],\n",
       "              \n",
       "                       [[-8.4074e-02,  8.2226e-02,  1.0340e-01],\n",
       "                        [-9.2388e-02, -4.7785e-02, -3.2355e-03],\n",
       "                        [-1.1452e-01, -4.4107e-02, -8.9174e-02]],\n",
       "              \n",
       "                       [[-3.9886e-02, -1.9609e-01,  1.2413e-01],\n",
       "                        [ 5.8369e-02, -8.9541e-02,  4.8850e-02],\n",
       "                        [ 1.2943e-01,  1.2586e-01,  9.6218e-02]]],\n",
       "              \n",
       "              \n",
       "                      [[[ 1.8370e-03,  3.3378e-01,  2.9607e-01],\n",
       "                        [ 1.4272e-01, -3.4768e-02, -1.9579e-01],\n",
       "                        [-1.3434e-01, -1.8102e-01, -2.4129e-01]],\n",
       "              \n",
       "                       [[-6.6526e-02, -1.3695e-01,  5.4914e-02],\n",
       "                        [ 3.4754e-02,  1.4626e-01,  8.9569e-02],\n",
       "                        [-2.7008e-02,  1.6001e-02,  6.3173e-02]],\n",
       "              \n",
       "                       [[-6.7961e-02, -9.3733e-02,  1.2733e-01],\n",
       "                        [-1.0615e-01, -1.1029e-01, -2.4086e-02],\n",
       "                        [ 1.4278e-01,  1.0019e-02, -4.9969e-02]],\n",
       "              \n",
       "                       [[ 9.7689e-02,  1.1660e-01,  1.7513e-02],\n",
       "                        [ 8.3933e-02,  4.9962e-02,  3.0324e-02],\n",
       "                        [ 1.4387e-01,  8.2278e-02, -2.2845e-03]],\n",
       "              \n",
       "                       [[ 7.0212e-02, -5.3345e-02,  6.4754e-02],\n",
       "                        [-3.4335e-02, -9.4052e-03,  4.9398e-02],\n",
       "                        [ 1.6359e-01,  7.0706e-02,  6.6855e-02]],\n",
       "              \n",
       "                       [[ 2.4361e-01,  3.2689e-01,  3.3361e-01],\n",
       "                        [ 3.6637e-02, -7.6597e-02, -1.6553e-01],\n",
       "                        [-1.3263e-01, -1.8906e-01, -3.0921e-01]]],\n",
       "              \n",
       "              \n",
       "                      [[[ 8.5397e-02, -4.1990e-02, -8.1751e-02],\n",
       "                        [-8.5675e-02,  1.6929e-01, -1.0086e-01],\n",
       "                        [ 3.2946e-02,  1.5672e-01, -2.5111e-01]],\n",
       "              \n",
       "                       [[-6.0320e-02, -4.7275e-02,  3.2018e-01],\n",
       "                        [ 9.4509e-02,  8.4069e-03,  3.6141e-01],\n",
       "                        [ 7.9036e-02,  2.0415e-01,  3.4353e-01]],\n",
       "              \n",
       "                       [[-4.4952e-03,  9.3570e-02,  1.0041e-01],\n",
       "                        [ 6.0203e-02, -1.2732e-01, -1.4453e-01],\n",
       "                        [-4.6754e-02, -1.0126e-01, -1.1817e-01]],\n",
       "              \n",
       "                       [[-8.6224e-02,  7.1727e-02,  1.9712e-01],\n",
       "                        [ 1.1541e-01,  1.6396e-01,  3.5731e-02],\n",
       "                        [-1.0571e-01,  3.2827e-02,  1.8679e-01]],\n",
       "              \n",
       "                       [[ 1.3847e-01, -5.0625e-02, -2.0391e-02],\n",
       "                        [ 1.0330e-01, -5.6162e-02,  2.5232e-02],\n",
       "                        [-5.5870e-02, -9.7938e-02, -1.2215e-01]],\n",
       "              \n",
       "                       [[ 9.4393e-02,  6.1015e-02, -7.9378e-02],\n",
       "                        [ 4.2024e-02,  1.7691e-01, -2.6005e-01],\n",
       "                        [-8.0771e-02,  3.0914e-01, -2.7612e-01]]],\n",
       "              \n",
       "              \n",
       "                      [[[-4.6155e-02,  7.9791e-02,  1.5705e-01],\n",
       "                        [ 1.9489e-01, -1.3452e-01, -6.5521e-03],\n",
       "                        [-7.0803e-02, -1.8842e-01, -2.6959e-02]],\n",
       "              \n",
       "                       [[ 1.3082e-01,  1.0246e-01, -6.5473e-02],\n",
       "                        [ 5.9385e-02,  1.7154e-01,  4.3669e-02],\n",
       "                        [-7.6227e-02,  1.3076e-01, -1.2463e-01]],\n",
       "              \n",
       "                       [[ 7.2816e-02,  3.2892e-02, -1.0271e-01],\n",
       "                        [ 1.1829e-01,  1.0753e-01, -2.5197e-02],\n",
       "                        [-7.7400e-02, -1.3662e-01, -6.0636e-02]],\n",
       "              \n",
       "                       [[ 1.4225e-03, -2.5325e-02,  1.4026e-01],\n",
       "                        [ 7.1942e-02,  1.4174e-01, -6.5169e-02],\n",
       "                        [-3.6469e-02, -4.9331e-02,  5.2654e-02]],\n",
       "              \n",
       "                       [[-1.9596e-02, -7.6866e-02, -6.5204e-02],\n",
       "                        [ 1.1835e-01, -1.2888e-01, -1.3727e-01],\n",
       "                        [ 8.4475e-02, -8.1697e-02,  1.1878e-01]],\n",
       "              \n",
       "                       [[ 1.2102e-03, -1.6963e-01,  3.1031e-02],\n",
       "                        [ 2.5433e-02, -5.9853e-02,  3.5585e-02],\n",
       "                        [ 2.9550e-03,  9.9285e-03,  1.2133e-01]]],\n",
       "              \n",
       "              \n",
       "                      [[[-5.9594e-03, -7.9935e-02, -2.2786e-01],\n",
       "                        [ 2.1408e-01, -4.9882e-02, -6.9689e-03],\n",
       "                        [ 2.2050e-01, -4.9457e-02, -4.4649e-02]],\n",
       "              \n",
       "                       [[-3.2290e-03,  1.7791e-01, -9.5449e-02],\n",
       "                        [ 1.2581e-01,  2.0841e-01,  8.4694e-02],\n",
       "                        [-8.6532e-02,  1.0141e-01,  1.4126e-01]],\n",
       "              \n",
       "                       [[-2.6979e-02,  2.2216e-02, -7.6600e-02],\n",
       "                        [ 1.1707e-01,  1.0786e-01, -1.2314e-01],\n",
       "                        [ 3.0508e-02, -9.8718e-02, -4.7415e-02]],\n",
       "              \n",
       "                       [[ 8.4802e-02,  1.7379e-01,  2.2499e-02],\n",
       "                        [ 1.5281e-01, -6.0660e-02, -1.2361e-01],\n",
       "                        [ 8.1669e-04, -4.7138e-02,  3.4555e-02]],\n",
       "              \n",
       "                       [[-2.3047e-02, -1.0383e-01,  8.8924e-02],\n",
       "                        [ 1.2266e-01,  1.1647e-02, -1.3908e-01],\n",
       "                        [-1.2574e-01,  4.8234e-02, -6.8274e-02]],\n",
       "              \n",
       "                       [[ 1.1263e-01, -1.4782e-01, -1.0227e-01],\n",
       "                        [ 2.0306e-01,  1.0320e-01, -2.2623e-01],\n",
       "                        [-1.7677e-02,  1.3794e-01, -1.1144e-01]]],\n",
       "              \n",
       "              \n",
       "                      [[[-1.2732e-01,  4.9246e-02,  1.1974e-01],\n",
       "                        [ 5.4197e-03,  1.1002e-01, -6.7126e-03],\n",
       "                        [ 2.0039e-02,  1.2027e-01,  5.3606e-02]],\n",
       "              \n",
       "                       [[-1.0248e-01,  7.7161e-02, -2.2359e-03],\n",
       "                        [-7.7786e-02, -7.7100e-02,  4.5005e-04],\n",
       "                        [-7.2810e-02,  1.6257e-02, -1.0323e-01]],\n",
       "              \n",
       "                       [[ 2.5020e-02, -7.0869e-02,  1.3212e-01],\n",
       "                        [ 1.3133e-01,  5.8431e-03, -7.2009e-02],\n",
       "                        [ 2.7232e-02,  3.5276e-02,  1.5669e-02]],\n",
       "              \n",
       "                       [[ 1.7269e-02,  1.0478e-01,  1.0824e-01],\n",
       "                        [-7.4182e-02,  6.1536e-02, -9.4801e-02],\n",
       "                        [ 2.6438e-02,  1.0432e-01,  5.3825e-02]],\n",
       "              \n",
       "                       [[-9.1448e-02, -5.6993e-02, -9.2673e-02],\n",
       "                        [ 9.5511e-02, -1.2187e-01, -2.8995e-03],\n",
       "                        [-6.5584e-02, -8.8804e-02,  2.5830e-02]],\n",
       "              \n",
       "                       [[ 1.8343e-02, -4.1357e-02, -7.7271e-02],\n",
       "                        [ 4.9733e-02, -7.4801e-02, -2.6302e-02],\n",
       "                        [-1.0245e-01, -8.6561e-02, -5.3436e-02]]],\n",
       "              \n",
       "              \n",
       "                      [[[ 2.6893e-01,  2.3996e-01,  7.0543e-02],\n",
       "                        [ 1.8016e-01,  1.4283e-01, -4.1301e-02],\n",
       "                        [ 2.6224e-01,  2.1132e-02, -3.5559e-02]],\n",
       "              \n",
       "                       [[ 7.9617e-02,  8.1158e-02, -1.1975e-01],\n",
       "                        [-2.8876e-02,  1.3534e-01,  1.1268e-01],\n",
       "                        [-9.4826e-02, -8.4917e-02,  1.0122e-01]],\n",
       "              \n",
       "                       [[-1.8680e-02, -1.0401e-01, -6.8225e-02],\n",
       "                        [-3.5886e-02,  1.2316e-01, -7.9648e-02],\n",
       "                        [-5.5205e-02,  1.4978e-02, -1.6506e-02]],\n",
       "              \n",
       "                       [[ 1.7582e-01,  8.5075e-02, -6.4778e-02],\n",
       "                        [ 3.6176e-02,  5.1226e-02, -2.5575e-02],\n",
       "                        [ 2.3333e-01,  2.0256e-01, -5.8863e-02]],\n",
       "              \n",
       "                       [[-4.3703e-02,  7.0294e-02, -1.2616e-01],\n",
       "                        [-7.0950e-02, -7.6365e-02, -1.1211e-01],\n",
       "                        [ 1.2902e-01,  8.0992e-04, -4.5568e-02]],\n",
       "              \n",
       "                       [[ 1.4732e-01,  1.7108e-01,  7.8067e-02],\n",
       "                        [ 2.5942e-01, -7.4130e-02,  1.9454e-03],\n",
       "                        [ 2.7916e-01,  1.3077e-01, -2.5664e-02]]],\n",
       "              \n",
       "              \n",
       "                      [[[-8.8108e-02,  7.0750e-02,  1.4089e-01],\n",
       "                        [-1.5196e-01,  1.0028e-02,  1.9837e-01],\n",
       "                        [-1.3123e-02,  1.1750e-01, -9.1897e-02]],\n",
       "              \n",
       "                       [[ 4.6204e-02,  5.9257e-02,  1.6471e-02],\n",
       "                        [ 1.7421e-01,  1.3730e-01,  1.0649e-01],\n",
       "                        [ 1.8833e-01, -1.0161e-01,  3.6416e-02]],\n",
       "              \n",
       "                       [[ 1.2256e-01,  8.9959e-02,  1.2210e-01],\n",
       "                        [-5.8496e-02, -1.1174e-01,  2.0006e-02],\n",
       "                        [-1.3020e-01,  3.8782e-02,  2.9163e-02]],\n",
       "              \n",
       "                       [[ 1.1556e-01, -9.7836e-02, -8.8452e-02],\n",
       "                        [-9.0147e-02, -5.7336e-03, -4.2374e-02],\n",
       "                        [ 7.6256e-03,  4.0943e-02,  4.5189e-02]],\n",
       "              \n",
       "                       [[-3.4149e-03, -1.2167e-01,  9.4616e-02],\n",
       "                        [ 1.2545e-01, -7.3551e-02,  1.0802e-01],\n",
       "                        [ 7.3773e-03,  1.0134e-01,  1.0941e-01]],\n",
       "              \n",
       "                       [[-1.8472e-01,  1.1585e-01,  1.5558e-03],\n",
       "                        [-9.3061e-02,  1.4420e-01,  1.2220e-01],\n",
       "                        [-1.2612e-01, -2.7849e-02, -9.3264e-02]]],\n",
       "              \n",
       "              \n",
       "                      [[[-4.0266e-02,  3.0341e-03, -8.5358e-02],\n",
       "                        [-9.8586e-02,  4.3745e-02,  5.2756e-03],\n",
       "                        [-2.6146e-02,  2.5109e-02,  3.8481e-02]],\n",
       "              \n",
       "                       [[-1.1056e-01, -1.2094e-01,  2.5463e-02],\n",
       "                        [ 1.1764e-01,  1.6946e-02,  1.1193e-01],\n",
       "                        [ 1.1114e-01, -6.4049e-02,  1.3071e-01]],\n",
       "              \n",
       "                       [[ 6.7237e-02, -6.7596e-05, -9.5508e-02],\n",
       "                        [-5.9301e-02,  7.1131e-02,  3.2204e-03],\n",
       "                        [-5.4235e-02,  5.0772e-02,  2.9775e-03]],\n",
       "              \n",
       "                       [[ 1.2337e-01,  7.5934e-02,  8.6463e-03],\n",
       "                        [ 8.9192e-02, -5.1224e-02,  1.9637e-02],\n",
       "                        [-2.3723e-02, -7.5211e-02,  7.7037e-02]],\n",
       "              \n",
       "                       [[ 1.2870e-01,  5.7894e-02, -2.6906e-02],\n",
       "                        [ 8.2844e-02,  1.3349e-01, -3.9902e-03],\n",
       "                        [ 1.3186e-01, -8.3459e-02,  1.1392e-01]],\n",
       "              \n",
       "                       [[-8.9710e-02,  7.9994e-02,  1.2352e-03],\n",
       "                        [-3.3843e-02, -6.5588e-02, -4.8307e-02],\n",
       "                        [ 7.5992e-02, -8.9480e-02, -3.2742e-02]]]])),\n",
       "             ('conv2.bias',\n",
       "              tensor([-0.0810, -0.0787,  0.1368, -0.0855, -0.1290, -0.0795,  0.1081,  0.0774,\n",
       "                       0.0374, -0.0645,  0.0161,  0.0841, -0.0068,  0.1140,  0.0042, -0.0686])),\n",
       "             ('fc1.weight',\n",
       "              tensor([[-0.0382, -0.0222, -0.0205,  ..., -0.0081,  0.0069, -0.0224],\n",
       "                      [-0.0428, -0.0067,  0.0133,  ..., -0.0431,  0.0191, -0.0227],\n",
       "                      [-0.0015,  0.0374, -0.0104,  ...,  0.0279, -0.0111, -0.0386],\n",
       "                      ...,\n",
       "                      [ 0.0344, -0.0334,  0.0003,  ..., -0.0134, -0.0185, -0.0026],\n",
       "                      [-0.0039, -0.0496,  0.0084,  ..., -0.0394, -0.0186,  0.0303],\n",
       "                      [ 0.0412, -0.0013,  0.0143,  ..., -0.0496, -0.0127,  0.0227]])),\n",
       "             ('fc1.bias',\n",
       "              tensor([-1.5930e-02, -4.2591e-02,  4.8779e-02,  3.9209e-02, -2.9907e-02,\n",
       "                       4.7799e-02,  2.0206e-02,  3.5975e-02,  3.7919e-02,  9.6756e-03,\n",
       "                      -3.6549e-02, -4.1254e-02,  4.0996e-02, -3.2332e-02,  3.5261e-02,\n",
       "                      -2.8703e-02, -1.0641e-02, -2.8477e-02,  2.7608e-05, -3.7954e-02,\n",
       "                       4.3057e-02,  1.2758e-02, -3.7994e-02,  3.4520e-02,  1.5548e-02,\n",
       "                      -2.2715e-02,  1.0361e-02, -4.5598e-02, -1.6957e-02, -3.0723e-02,\n",
       "                      -2.2615e-02, -6.1027e-03,  1.8826e-02,  4.9534e-02,  2.6014e-02,\n",
       "                       6.8375e-03,  1.6751e-02,  4.7701e-02, -3.3208e-02,  4.2906e-02,\n",
       "                       1.8214e-03, -2.9189e-02,  5.2059e-02,  9.4587e-03,  3.2002e-02,\n",
       "                       3.5856e-02, -4.5072e-02,  7.0453e-03,  1.0633e-02, -3.6686e-02,\n",
       "                       5.5090e-02, -3.5201e-02,  2.1897e-02,  2.2706e-02,  2.2568e-02,\n",
       "                       2.0082e-02,  2.5772e-02,  9.1970e-03, -3.7274e-02, -4.6564e-02,\n",
       "                      -2.0214e-02,  1.7346e-02,  5.0104e-02,  3.8636e-02, -1.8317e-02,\n",
       "                      -1.6701e-02, -6.9746e-03,  6.9258e-04, -9.9325e-03,  2.1452e-02,\n",
       "                       1.7313e-02, -4.2138e-02,  5.5843e-02,  1.1895e-02,  1.4920e-02,\n",
       "                      -3.7127e-02, -1.5302e-02, -2.3039e-02, -3.1766e-02, -5.4560e-02,\n",
       "                      -7.0506e-03,  4.1355e-02,  4.4657e-02, -6.3782e-03, -2.9052e-02,\n",
       "                      -1.1232e-02,  4.9156e-02, -1.3601e-02, -7.0950e-03,  3.1053e-02,\n",
       "                      -4.7372e-02, -4.0514e-02,  8.1034e-03,  4.0456e-02, -2.2543e-02,\n",
       "                      -4.6817e-02, -7.6044e-03,  1.6572e-02, -3.1154e-02,  4.0407e-03,\n",
       "                       4.8431e-02, -4.3406e-02, -3.7364e-02,  1.9622e-02, -2.1854e-02,\n",
       "                      -2.1005e-02, -4.7191e-02,  3.8210e-02,  4.7319e-02, -3.6941e-03,\n",
       "                       5.6327e-02, -3.8117e-02, -4.0464e-02, -2.9157e-02,  2.7228e-02,\n",
       "                      -3.2721e-02,  4.3709e-02, -2.8753e-02, -3.7066e-02, -2.4291e-02])),\n",
       "             ('fc2.weight',\n",
       "              tensor([[-1.1818e-01, -7.0254e-02, -8.7136e-03,  ...,  9.5001e-02,\n",
       "                        7.2613e-02, -5.1471e-03],\n",
       "                      [ 4.7822e-02,  4.5316e-02, -8.1550e-03,  ...,  7.7826e-02,\n",
       "                       -8.2613e-05, -5.0905e-02],\n",
       "                      [-6.2095e-03,  4.6172e-02, -7.5458e-02,  ..., -3.1412e-02,\n",
       "                        4.9700e-02,  3.3921e-02],\n",
       "                      ...,\n",
       "                      [-7.2166e-02,  3.1098e-02, -6.3015e-02,  ...,  4.3415e-02,\n",
       "                       -8.0792e-03,  6.6996e-02],\n",
       "                      [ 4.4608e-02, -3.5453e-02,  9.3554e-02,  ...,  7.2735e-02,\n",
       "                        1.8565e-02, -5.1051e-02],\n",
       "                      [-8.5802e-02, -8.4898e-02,  1.6236e-02,  ...,  7.6649e-02,\n",
       "                        8.2788e-02,  3.1528e-02]])),\n",
       "             ('fc2.bias',\n",
       "              tensor([-0.0065,  0.0536, -0.0531,  0.0155,  0.0926,  0.0154, -0.0041, -0.0484,\n",
       "                      -0.0375, -0.0647, -0.0479, -0.0770, -0.0343,  0.0181,  0.0086,  0.0710,\n",
       "                       0.0940, -0.0543, -0.0040,  0.0254,  0.0516,  0.0780, -0.0782, -0.0226,\n",
       "                       0.0426,  0.0172, -0.0428,  0.0175,  0.0581,  0.0026, -0.0480, -0.0393,\n",
       "                      -0.0373,  0.0544, -0.0338,  0.0116,  0.0292, -0.0304,  0.0320, -0.0517,\n",
       "                      -0.0131,  0.0460, -0.0761, -0.0218, -0.0975, -0.0800, -0.0526,  0.0713,\n",
       "                      -0.0203,  0.0458,  0.0475, -0.0503,  0.0095,  0.0067,  0.0075,  0.0450,\n",
       "                       0.0780, -0.0095, -0.0587, -0.0079,  0.0739,  0.0979, -0.0126,  0.0484,\n",
       "                       0.0028,  0.0465,  0.0549,  0.0724, -0.0408, -0.0378,  0.0104,  0.0906,\n",
       "                      -0.0531,  0.0298,  0.0941, -0.0125,  0.0454, -0.0720,  0.0645, -0.0040,\n",
       "                      -0.0315,  0.0384,  0.0863, -0.0418])),\n",
       "             ('fc3.weight',\n",
       "              tensor([[ 2.7232e-02, -6.3002e-02, -4.0783e-02,  5.5758e-02,  3.2025e-02,\n",
       "                       -1.1441e-02, -1.3495e-01,  1.4151e-01, -6.0740e-02, -2.8704e-02,\n",
       "                        8.6532e-02,  3.0982e-02,  3.4817e-02,  7.6138e-02,  6.7607e-02,\n",
       "                       -9.0958e-02,  1.6309e-01, -1.1016e-01, -7.0970e-02, -1.6896e-02,\n",
       "                       -3.3787e-02, -7.4410e-03, -4.6443e-02,  8.4582e-02, -1.9619e-01,\n",
       "                        8.3631e-02,  1.4728e-03, -4.3592e-02,  2.1135e-02, -9.1222e-03,\n",
       "                       -4.0411e-03,  1.6075e-01, -1.0018e-01,  9.4135e-02, -7.7367e-02,\n",
       "                        3.9420e-02,  1.0715e-01,  9.7174e-02,  1.4558e-01,  1.2113e-01,\n",
       "                        3.0475e-02,  9.2657e-02, -7.8297e-02,  5.7877e-02, -4.9249e-03,\n",
       "                        1.6391e-02,  5.9185e-03,  2.7764e-02, -4.0680e-02, -1.2640e-01,\n",
       "                       -2.6819e-02,  6.3053e-02,  1.6477e-01, -6.6196e-02, -1.7731e-01,\n",
       "                       -4.0517e-02, -2.1083e-01, -9.5891e-02, -6.8879e-02,  3.4239e-02,\n",
       "                        6.8620e-02,  1.3732e-01, -6.7728e-03,  1.0473e-01, -1.3937e-02,\n",
       "                        6.2135e-02,  8.5102e-02,  6.5507e-02,  1.4608e-01, -7.3910e-02,\n",
       "                        1.7213e-01,  5.3203e-02, -8.7626e-02,  4.3461e-03, -1.0178e-01,\n",
       "                       -3.0093e-02, -2.0584e-04, -6.3329e-02, -2.1411e-01, -5.0467e-02,\n",
       "                        4.4632e-02, -3.7356e-02, -1.8297e-01,  1.3584e-01],\n",
       "                      [-1.4529e-01, -4.5202e-02,  1.6908e-01,  2.4892e-02,  1.5024e-01,\n",
       "                        7.3797e-02, -3.3941e-02,  7.6661e-02, -1.4302e-02, -9.2769e-02,\n",
       "                        1.0444e-01,  8.9265e-02, -3.7945e-02,  8.7073e-02, -1.9853e-02,\n",
       "                       -2.8250e-01,  1.8890e-01,  1.1118e-01, -1.0302e-01, -1.4054e-02,\n",
       "                        9.8604e-02,  3.0498e-02,  5.5710e-02, -9.9921e-02,  1.5645e-02,\n",
       "                       -5.9225e-02, -1.1349e-01,  1.1654e-01, -1.2989e-01, -5.5861e-02,\n",
       "                        1.0225e-01, -1.0332e-01,  9.9583e-02, -1.1111e-01, -1.6946e-01,\n",
       "                        1.4925e-01, -1.3555e-02, -1.3523e-01, -4.2975e-02, -6.4449e-02,\n",
       "                        6.4160e-02, -1.1988e-01, -9.4847e-02, -9.5819e-02, -9.3980e-02,\n",
       "                       -6.1800e-02, -1.7773e-02,  8.1422e-02, -6.8458e-02, -1.1228e-01,\n",
       "                        2.6379e-01, -1.8893e-02,  1.4933e-01,  1.0192e-01,  7.2466e-02,\n",
       "                        9.0017e-02,  4.7988e-02, -6.5314e-02, -9.5129e-02, -1.1456e-01,\n",
       "                        7.6864e-02, -7.4623e-02, -3.5866e-02, -7.1010e-02, -2.2774e-02,\n",
       "                       -1.1053e-01, -1.3438e-01,  1.4799e-01, -1.3891e-02,  4.6746e-02,\n",
       "                       -1.7659e-01,  1.1285e-01, -5.8608e-02,  1.7410e-02, -1.6190e-01,\n",
       "                        8.0388e-02, -3.1043e-02,  2.1473e-01,  2.4344e-03,  2.1610e-02,\n",
       "                       -6.1028e-02,  1.1100e-01,  2.6963e-01, -1.2770e-01],\n",
       "                      [ 3.7101e-02, -2.2975e-01, -6.2842e-02,  1.9872e-01,  1.7212e-01,\n",
       "                       -2.3039e-03,  1.3277e-01, -2.8773e-01,  7.7723e-03,  5.4655e-02,\n",
       "                       -5.8583e-02,  7.4068e-02, -1.2329e-01,  1.6789e-01, -2.4710e-01,\n",
       "                        1.5230e-01,  1.4279e-01, -1.9419e-01,  5.5103e-02,  1.7305e-02,\n",
       "                        7.3688e-02, -7.7791e-02,  6.4389e-02, -1.1206e-01,  1.5956e-01,\n",
       "                       -2.7614e-02,  8.7166e-02,  1.0399e-01, -1.4592e-01, -1.6390e-02,\n",
       "                        1.5761e-02, -4.4050e-02, -1.6470e-02,  1.4416e-01,  3.1202e-02,\n",
       "                        3.6590e-02,  1.0254e-01,  2.2349e-01, -2.4441e-01, -1.1126e-02,\n",
       "                       -6.7639e-02,  1.0946e-01,  5.5654e-02,  9.1442e-02,  2.6126e-02,\n",
       "                        6.6977e-02, -7.5018e-02,  9.5677e-02, -3.3261e-02, -5.8757e-02,\n",
       "                       -1.5462e-01, -6.1135e-02, -1.8953e-01,  7.9784e-02, -9.8027e-02,\n",
       "                        9.4641e-02, -7.3010e-02, -1.0058e-02, -6.7127e-02, -1.1705e-01,\n",
       "                       -1.5456e-02,  4.8551e-02, -2.7840e-02, -1.9704e-02,  2.7005e-02,\n",
       "                       -1.4782e-02, -3.0673e-02, -2.9364e-02,  1.0614e-01, -4.9560e-02,\n",
       "                       -5.6345e-03,  1.1002e-01, -5.3612e-02,  9.5643e-02,  1.2105e-01,\n",
       "                        1.0039e-01, -9.9149e-02, -1.6135e-01, -2.2692e-01, -1.3606e-01,\n",
       "                        6.6014e-02,  5.8429e-02, -7.1649e-02, -1.7296e-02],\n",
       "                      [-7.1203e-02,  1.0980e-01, -1.5493e-01, -4.8689e-02,  1.6900e-01,\n",
       "                       -5.0164e-02,  6.4177e-02, -2.1246e-03, -2.3584e-02,  5.8484e-02,\n",
       "                       -4.6434e-02, -6.6387e-02,  1.1053e-01,  5.9933e-02, -7.1010e-03,\n",
       "                        3.2818e-02, -7.3091e-02,  2.5816e-02,  5.6934e-02, -4.4865e-02,\n",
       "                        8.8609e-02, -7.2244e-02,  2.7106e-02, -5.2336e-02,  6.0304e-03,\n",
       "                       -5.1428e-02,  2.0094e-02,  1.1357e-01, -2.0570e-01, -1.1879e-01,\n",
       "                       -6.1000e-02,  2.2597e-02, -5.6681e-02, -6.3044e-02,  4.7334e-02,\n",
       "                       -2.6605e-02,  8.9066e-02,  1.5636e-01,  1.9317e-02, -1.8363e-01,\n",
       "                       -1.5399e-01, -1.0156e-01,  2.7297e-02, -5.5769e-02,  1.7651e-02,\n",
       "                       -6.4747e-02,  3.6361e-02,  1.6637e-01, -2.0711e-02, -4.0849e-02,\n",
       "                       -1.0019e-01, -7.8721e-02, -1.0512e-01, -1.1488e-03, -1.6103e-01,\n",
       "                       -1.9587e-03, -3.8800e-02,  5.8154e-04, -1.3384e-02,  1.0760e-01,\n",
       "                       -1.2527e-02, -2.4652e-03,  1.3755e-01,  2.0205e-01, -1.1425e-02,\n",
       "                       -3.5932e-02, -6.7854e-02,  6.1362e-02, -1.2656e-01,  2.6334e-03,\n",
       "                       -9.2868e-02,  1.3624e-01, -1.8021e-01,  4.4398e-02, -5.1364e-02,\n",
       "                       -6.3953e-02,  6.2643e-02,  2.8878e-01,  3.9798e-03, -1.4063e-01,\n",
       "                       -1.2423e-01, -6.3298e-02, -6.2397e-02, -1.6649e-01],\n",
       "                      [ 5.0294e-02,  1.4724e-02, -5.4368e-02, -1.6882e-01,  4.6687e-02,\n",
       "                        1.1208e-01,  1.8155e-01, -3.1460e-02,  6.3685e-03,  1.6191e-02,\n",
       "                       -1.1452e-02,  9.6525e-02,  9.9887e-02,  1.9293e-01,  7.7526e-02,\n",
       "                       -1.5436e-01, -1.7158e-01,  1.1719e-01,  1.7581e-02,  5.4247e-02,\n",
       "                       -7.9953e-02,  1.3167e-02,  1.0174e-01,  2.2177e-01,  1.4855e-01,\n",
       "                       -1.1229e-01, -1.0166e-01,  7.7494e-02,  7.9510e-03,  2.0220e-01,\n",
       "                       -9.8330e-02, -9.8959e-02,  3.4049e-02,  7.0055e-02,  4.3036e-02,\n",
       "                       -6.5371e-02, -9.3202e-02,  5.0144e-02,  2.7500e-03, -7.0900e-02,\n",
       "                       -9.5527e-02,  5.4468e-02,  1.0057e-01, -8.3304e-02, -9.2425e-03,\n",
       "                       -5.5444e-02,  2.3240e-02, -7.2172e-02, -2.3990e-02, -3.8693e-02,\n",
       "                        7.7616e-02, -1.5737e-02,  7.3162e-02, -5.8364e-03, -1.8132e-01,\n",
       "                        1.0392e-01,  6.1514e-02,  9.6750e-02,  1.7153e-02, -3.8352e-03,\n",
       "                       -3.4892e-02, -1.6397e-01, -1.7645e-01,  1.4112e-01,  4.7267e-02,\n",
       "                        1.0653e-01, -1.7677e-01, -6.2676e-02, -5.7124e-02, -1.2617e-01,\n",
       "                       -1.3400e-01, -2.7102e-02, -7.9660e-02,  3.7412e-02,  1.3691e-01,\n",
       "                       -4.9205e-02, -1.9292e-01,  2.7441e-02, -1.2399e-01, -9.0055e-02,\n",
       "                        2.6566e-03, -6.2202e-02,  1.6864e-01,  9.8083e-02],\n",
       "                      [ 2.7883e-01,  5.8299e-02, -9.2488e-02, -1.0833e-01, -1.3927e-04,\n",
       "                       -4.6626e-02,  1.5497e-01, -1.0862e-01,  1.2581e-02, -9.6863e-02,\n",
       "                        1.6835e-02, -3.6325e-02, -8.1675e-02, -2.0594e-01,  7.6942e-02,\n",
       "                        1.0373e-01, -1.6492e-01,  8.0159e-02,  4.3852e-02,  5.4877e-02,\n",
       "                       -4.6804e-02, -1.3946e-02, -1.2388e-01,  5.5361e-02, -6.1905e-02,\n",
       "                       -1.4231e-01, -6.8364e-02,  6.6576e-02,  1.6700e-01, -2.5537e-01,\n",
       "                        4.0727e-02, -2.2183e-01,  9.8640e-02,  4.7834e-02, -1.6465e-02,\n",
       "                       -1.0985e-01,  3.0394e-02, -1.8398e-01,  2.0005e-02,  4.7525e-02,\n",
       "                        3.9582e-02, -1.8524e-01, -7.6227e-02, -1.0111e-01, -1.0556e-02,\n",
       "                        2.4670e-02, -9.7549e-02,  4.0030e-02,  8.6657e-02,  1.6187e-01,\n",
       "                        5.8195e-03,  1.7400e-02,  1.8569e-01, -2.8541e-02,  9.8369e-02,\n",
       "                        9.1099e-02,  4.0936e-02, -4.1589e-02, -7.1658e-02, -7.7058e-02,\n",
       "                        5.8889e-02,  1.4389e-03,  5.4550e-02,  4.4567e-02, -1.0979e-01,\n",
       "                       -9.8133e-02,  3.6626e-02, -9.1816e-02, -1.1142e-01, -2.5936e-02,\n",
       "                       -4.1427e-02, -9.3852e-02,  2.4227e-01,  9.0127e-02,  1.7292e-01,\n",
       "                        5.7394e-02,  1.1531e-01,  6.4667e-02, -1.7110e-02,  1.3805e-01,\n",
       "                       -7.9127e-03, -1.7854e-01, -2.3313e-01,  9.6631e-02],\n",
       "                      [-8.8529e-02, -7.4686e-02, -7.9027e-03,  8.8352e-03, -1.8211e-02,\n",
       "                        1.5671e-01,  1.0048e-01,  5.5940e-02, -1.1316e-01,  7.5507e-02,\n",
       "                        7.1418e-02,  4.4704e-02, -2.3044e-02,  1.2608e-01,  4.8099e-02,\n",
       "                        1.3574e-01,  4.6915e-02,  2.3181e-01, -1.9730e-02, -1.6994e-01,\n",
       "                       -2.9493e-02, -3.0849e-02, -9.1380e-02,  1.2400e-01, -9.3513e-02,\n",
       "                       -1.2516e-03, -1.0818e-01, -3.0882e-02,  8.8969e-02,  2.0470e-01,\n",
       "                        7.8282e-02,  2.0783e-01, -1.0590e-01, -2.1976e-02,  1.0974e-01,\n",
       "                        1.0837e-01,  4.0891e-02,  1.4833e-01, -3.1206e-02, -1.0790e-01,\n",
       "                        1.3472e-01,  1.5628e-02,  7.4984e-02, -2.8463e-02, -2.0977e-02,\n",
       "                       -1.9619e-01,  8.4484e-02, -1.3682e-01,  4.4321e-02,  2.0111e-02,\n",
       "                        1.0421e-01, -1.5047e-02, -3.7056e-02,  3.5806e-02, -1.3600e-01,\n",
       "                        1.0565e-01, -7.8335e-02,  7.4088e-02, -8.1251e-02, -9.7320e-02,\n",
       "                        7.2595e-02,  9.0310e-02, -9.0966e-02,  6.8409e-02, -2.6718e-02,\n",
       "                       -7.2898e-02,  8.9074e-02,  8.1248e-03, -1.3974e-01, -1.2230e-01,\n",
       "                        5.0014e-02,  1.2294e-01,  9.1685e-03,  2.3965e-02, -9.2174e-02,\n",
       "                        2.5884e-02, -1.7083e-01, -2.2507e-01, -1.7148e-01, -1.5196e-01,\n",
       "                        2.1043e-01, -1.7369e-01,  9.6964e-03,  6.1833e-02],\n",
       "                      [ 5.9659e-02,  2.3469e-01,  1.0342e-01, -1.6598e-01, -3.1984e-01,\n",
       "                       -4.2666e-02, -9.3141e-02,  1.0326e-01, -7.5980e-02, -5.0394e-02,\n",
       "                       -1.1016e-01,  6.2945e-02,  6.2738e-02, -1.3526e-01,  1.7458e-01,\n",
       "                        1.2251e-01, -2.1698e-02, -9.9129e-02, -9.4921e-03,  4.8641e-02,\n",
       "                       -1.4951e-02, -4.2887e-03,  1.5885e-01,  8.8509e-02,  1.5383e-01,\n",
       "                        1.3586e-01,  1.1975e-01, -1.3880e-01,  4.7191e-02, -1.1155e-01,\n",
       "                        4.8866e-02, -1.9779e-01, -7.2627e-02, -1.2870e-01, -1.7564e-01,\n",
       "                        1.5846e-01, -1.3348e-02, -4.8008e-02, -1.7320e-01,  1.7899e-01,\n",
       "                       -7.9567e-02, -2.2249e-02, -1.0437e-01,  4.5702e-02, -9.7819e-02,\n",
       "                       -7.8006e-03,  3.7689e-02, -1.7319e-01, -1.0935e-01,  9.4095e-02,\n",
       "                       -1.2432e-01,  5.0024e-03,  2.9352e-02, -3.1311e-02,  6.7804e-02,\n",
       "                       -7.3340e-02,  1.6300e-01, -8.9791e-02,  6.8436e-02,  7.1464e-02,\n",
       "                       -1.1591e-01,  8.8526e-02, -8.4465e-02,  1.3764e-01, -7.1196e-02,\n",
       "                       -3.4846e-02, -1.6115e-01,  1.2185e-01,  6.9133e-03,  1.5881e-01,\n",
       "                        1.4072e-01, -2.3045e-01, -4.4499e-02,  2.8466e-02, -1.7376e-01,\n",
       "                       -1.0074e-01,  2.5830e-01, -1.9924e-01,  2.4726e-01,  1.0063e-01,\n",
       "                       -5.3509e-02, -7.2528e-02, -1.0934e-01, -1.6267e-01],\n",
       "                      [-1.3374e-01, -3.7777e-02, -2.1040e-02, -1.0507e-01,  4.4109e-02,\n",
       "                        9.7942e-02,  1.7871e-02,  4.4581e-02,  1.7397e-01, -4.7711e-02,\n",
       "                       -1.0019e-01,  9.1966e-02,  1.7040e-01, -1.1711e-01,  1.7219e-02,\n",
       "                       -1.3956e-01,  1.1874e-01,  8.6114e-02, -6.8489e-02,  1.3997e-03,\n",
       "                       -8.5958e-02, -7.1957e-02, -2.4773e-02,  3.7311e-02, -9.4971e-02,\n",
       "                        2.0552e-01, -1.7392e-01,  8.4464e-02,  1.1719e-01, -6.9176e-02,\n",
       "                       -3.6460e-02,  2.4361e-01, -1.0389e-01,  6.3641e-03,  6.7895e-03,\n",
       "                        1.4550e-02,  4.4691e-02,  7.7456e-02, -6.5967e-02,  1.0622e-01,\n",
       "                        7.2480e-02,  3.3659e-02,  1.0281e-01, -7.0546e-02,  5.9428e-02,\n",
       "                       -9.1649e-02,  9.0314e-02, -3.8342e-02,  1.3673e-02, -8.6503e-02,\n",
       "                       -1.5506e-01,  2.6071e-02, -1.2766e-01,  7.4787e-02,  4.7225e-02,\n",
       "                       -1.9894e-02,  1.0332e-01, -8.8313e-02,  1.1770e-01,  4.5863e-02,\n",
       "                       -6.4562e-02,  1.5979e-03, -3.4714e-02, -1.6043e-01,  1.6881e-01,\n",
       "                        1.6285e-01,  2.1007e-01, -6.5147e-02,  5.1082e-02,  8.0538e-02,\n",
       "                        2.7355e-02, -1.3060e-01,  2.5355e-02, -6.1417e-02,  2.8666e-01,\n",
       "                        2.1422e-02,  1.2144e-01,  1.3532e-01, -1.0672e-01,  5.3534e-02,\n",
       "                        1.0203e-01,  8.8389e-02, -1.3289e-01, -1.0657e-01],\n",
       "                      [-4.6647e-02, -7.4532e-02,  1.5001e-01, -8.1325e-02, -2.6682e-01,\n",
       "                       -1.9239e-01,  4.3585e-02, -1.4271e-01, -8.4346e-02,  1.2230e-01,\n",
       "                       -8.4056e-02, -2.2067e-02,  7.3350e-02, -2.1131e-01, -6.2483e-02,\n",
       "                        2.2806e-01, -9.3780e-02,  1.2973e-01, -1.0218e-01, -1.4346e-02,\n",
       "                        8.4354e-02, -6.6855e-02,  1.2292e-01, -1.5513e-01, -1.4642e-01,\n",
       "                        8.6045e-02,  1.2632e-01,  1.8618e-02,  1.1812e-01, -1.5158e-01,\n",
       "                        3.0965e-02, -1.9405e-01, -7.1682e-02, -4.4308e-02,  2.3228e-02,\n",
       "                       -1.5159e-01, -5.0364e-02, -1.6611e-01,  5.0900e-02, -7.8000e-02,\n",
       "                        4.0431e-02, -6.5982e-02, -3.2756e-03, -4.6071e-02,  5.9329e-03,\n",
       "                       -8.3526e-03, -2.4440e-02, -1.3765e-01, -5.9366e-02, -4.8406e-03,\n",
       "                        3.1979e-02, -7.6626e-02, -9.7315e-02, -9.0161e-02,  1.7669e-01,\n",
       "                        5.9550e-02,  5.8549e-02, -2.2293e-02,  6.3003e-02,  5.8295e-02,\n",
       "                        8.4325e-03, -1.9106e-01, -2.2249e-02, -9.4993e-02, -1.1528e-02,\n",
       "                       -1.1701e-01,  2.0580e-01,  3.2904e-02, -1.2107e-03, -8.2254e-02,\n",
       "                       -2.3540e-03,  6.4994e-02,  9.0308e-02, -8.6819e-02, -3.2529e-02,\n",
       "                       -2.4110e-02,  1.9826e-01, -9.6921e-02,  2.7713e-01,  3.0933e-02,\n",
       "                       -1.0224e-01,  1.3520e-01, -1.0344e-01,  9.5960e-02]])),\n",
       "             ('fc3.bias',\n",
       "              tensor([ 0.0303,  0.0466,  0.1513,  0.0130,  0.0398, -0.1423,  0.0761, -0.0689,\n",
       "                       0.1063,  0.0545]))])"
      ]
     },
     "execution_count": 184,
     "metadata": {},
     "output_type": "execute_result"
    }
   ],
   "source": [
    "# 모델의 저장 및 로드\n",
    "# torch.save()\n",
    "# torch.load()\n",
    "net.state_dict()"
   ]
  },
  {
   "cell_type": "code",
   "execution_count": 185,
   "metadata": {},
   "outputs": [],
   "source": [
    "PATH = './fashion_mnist.pth'\n",
    "torch.save(net.state_dict(),PATH)"
   ]
  },
  {
   "cell_type": "code",
   "execution_count": 186,
   "metadata": {},
   "outputs": [
    {
     "data": {
      "text/plain": [
       "<All keys matched successfully>"
      ]
     },
     "execution_count": 186,
     "metadata": {},
     "output_type": "execute_result"
    }
   ],
   "source": [
    "net = NeuralNet()   # 객체 생성\n",
    "net.load_state_dict(torch.load(PATH))   # 해당 파라미터값을 객체에 적용"
   ]
  },
  {
   "cell_type": "code",
   "execution_count": 188,
   "metadata": {},
   "outputs": [
    {
     "data": {
      "text/plain": [
       "[Parameter containing:\n",
       " tensor([[[[-0.2467, -0.6681, -0.0341],\n",
       "           [-0.3868, -0.7039, -0.6019],\n",
       "           [-0.4490, -0.5384, -0.5084]]],\n",
       " \n",
       " \n",
       "         [[[-0.2389,  0.2396,  0.3910],\n",
       "           [-0.3359, -0.0283,  0.3543],\n",
       "           [-0.3323, -0.1493,  0.4674]]],\n",
       " \n",
       " \n",
       "         [[[-0.0637,  0.0939,  0.0102],\n",
       "           [-0.2341, -0.2415, -0.1829],\n",
       "           [ 0.2595, -0.0748,  0.0801]]],\n",
       " \n",
       " \n",
       "         [[[ 0.0383, -0.0138,  0.4063],\n",
       "           [-0.2313, -0.4403,  0.1166],\n",
       "           [-0.4447, -0.3969,  0.2513]]],\n",
       " \n",
       " \n",
       "         [[[-0.2587, -0.1136,  0.0663],\n",
       "           [ 0.3290,  0.3073,  0.2595],\n",
       "           [-0.2141, -0.2565, -0.2191]]],\n",
       " \n",
       " \n",
       "         [[[-0.4213, -0.4664, -0.8239],\n",
       "           [-0.1738, -0.4495, -0.8609],\n",
       "           [-0.0565, -0.5023, -0.5835]]]], requires_grad=True),\n",
       " Parameter containing:\n",
       " tensor([ 0.0233,  0.3524, -0.1815,  0.3232, -0.2027,  0.3360],\n",
       "        requires_grad=True),\n",
       " Parameter containing:\n",
       " tensor([[[[ 5.3273e-02,  1.5439e-01,  1.2143e-01],\n",
       "           [-8.8584e-02, -1.2833e-01, -1.0468e-01],\n",
       "           [-1.1264e-01, -1.8702e-02,  3.6765e-02]],\n",
       " \n",
       "          [[-5.1797e-02, -1.8948e-02, -1.0950e-01],\n",
       "           [ 6.5483e-02,  6.2155e-03,  1.3022e-01],\n",
       "           [ 1.3396e-01,  1.3233e-01, -1.8359e-02]],\n",
       " \n",
       "          [[-6.1981e-02, -1.8380e-02, -1.1783e-02],\n",
       "           [-2.5549e-02,  8.2730e-03,  9.2522e-02],\n",
       "           [ 1.2029e-01, -5.5746e-02, -4.8930e-02]],\n",
       " \n",
       "          [[ 5.0398e-02, -4.5619e-02, -9.4852e-02],\n",
       "           [ 6.9051e-02, -9.4351e-02,  2.3323e-03],\n",
       "           [ 6.0447e-02,  1.1991e-01, -1.1465e-01]],\n",
       " \n",
       "          [[ 1.2725e-01, -1.1883e-01, -1.0737e-01],\n",
       "           [ 1.0834e-01, -9.0193e-02,  9.3773e-02],\n",
       "           [ 1.2633e-01,  5.8650e-02, -1.1847e-01]],\n",
       " \n",
       "          [[ 8.7973e-02,  6.0667e-02, -5.4261e-02],\n",
       "           [-1.2176e-01,  1.1117e-01, -4.3219e-02],\n",
       "           [-4.5093e-02,  4.1836e-02, -1.0223e-01]]],\n",
       " \n",
       " \n",
       "         [[[ 1.9234e-01,  4.4213e-02, -3.7193e-02],\n",
       "           [ 2.3297e-02,  2.2874e-02, -1.2368e-01],\n",
       "           [ 3.2116e-02,  1.2245e-01, -9.2033e-02]],\n",
       " \n",
       "          [[ 9.9952e-02,  1.2671e-01, -4.4512e-02],\n",
       "           [ 9.9583e-02, -9.5073e-04, -5.8276e-02],\n",
       "           [-7.1228e-02, -1.1243e-01, -1.1421e-01]],\n",
       " \n",
       "          [[-3.2066e-02, -7.6749e-02,  9.8926e-02],\n",
       "           [-6.8713e-02,  3.7098e-02,  7.4550e-02],\n",
       "           [-9.2658e-02,  6.8988e-02, -7.2270e-02]],\n",
       " \n",
       "          [[ 8.5320e-02, -3.4546e-02,  5.9951e-02],\n",
       "           [-6.3847e-02, -1.6003e-02,  1.2273e-03],\n",
       "           [ 7.0312e-03, -3.5072e-02, -4.7757e-02]],\n",
       " \n",
       "          [[ 1.2486e-01,  1.1037e-01, -6.3911e-02],\n",
       "           [-1.0835e-01,  3.5546e-02, -8.8239e-02],\n",
       "           [-1.4305e-03,  4.3892e-03, -3.1337e-02]],\n",
       " \n",
       "          [[ 1.3171e-01,  1.8123e-01, -9.1362e-02],\n",
       "           [ 1.1739e-01,  5.8130e-02, -8.4132e-02],\n",
       "           [ 1.6258e-01,  1.9035e-02, -1.6792e-02]]],\n",
       " \n",
       " \n",
       "         [[[-1.4595e-02,  1.6466e-01, -4.6546e-02],\n",
       "           [-6.2211e-02,  1.2169e-01, -5.8656e-02],\n",
       "           [-1.2890e-01,  4.9022e-03, -4.8144e-02]],\n",
       " \n",
       "          [[-8.9618e-03, -6.4007e-02,  1.0757e-01],\n",
       "           [-1.1024e-01, -1.3681e-01, -8.0850e-02],\n",
       "           [-4.2987e-02,  2.3062e-02, -1.2022e-01]],\n",
       " \n",
       "          [[-6.0425e-03, -3.3772e-02, -2.8110e-02],\n",
       "           [-7.3018e-02,  1.3656e-01,  7.7825e-02],\n",
       "           [ 1.0489e-01,  4.2918e-02,  1.2398e-01]],\n",
       " \n",
       "          [[-1.3360e-01, -8.8038e-02,  6.4940e-03],\n",
       "           [ 1.1974e-01, -1.4399e-01,  8.0088e-02],\n",
       "           [ 8.7237e-02, -8.6976e-02,  4.4435e-02]],\n",
       " \n",
       "          [[-2.4390e-02,  1.2473e-01, -1.0880e-01],\n",
       "           [-8.3155e-02,  3.6531e-02,  3.6872e-02],\n",
       "           [-1.9692e-02, -9.7931e-02,  9.1617e-02]],\n",
       " \n",
       "          [[ 1.8101e-01,  1.3874e-01,  1.1913e-01],\n",
       "           [-1.0255e-02, -1.1956e-02,  1.3812e-02],\n",
       "           [-1.7205e-01, -1.4117e-01, -2.2846e-02]]],\n",
       " \n",
       " \n",
       "         [[[ 2.8790e-01,  1.2774e-01,  1.4445e-02],\n",
       "           [ 1.9665e-01, -7.7375e-02, -1.8249e-01],\n",
       "           [-4.3245e-02, -3.2051e-02, -2.0687e-01]],\n",
       " \n",
       "          [[-1.2464e-01,  2.1931e-01,  1.2358e-01],\n",
       "           [-7.0270e-02,  1.9322e-01,  1.0632e-01],\n",
       "           [-4.8439e-02,  2.1461e-01, -1.6145e-02]],\n",
       " \n",
       "          [[ 6.7924e-03,  1.4465e-01, -9.7217e-02],\n",
       "           [-6.1118e-02, -1.2015e-01, -9.3735e-02],\n",
       "           [-3.9119e-02,  3.2749e-02,  6.4571e-02]],\n",
       " \n",
       "          [[ 1.9556e-01, -2.3592e-02, -1.2209e-01],\n",
       "           [ 2.1911e-01,  1.8425e-01,  3.1875e-02],\n",
       "           [ 1.7419e-01, -5.9108e-02, -1.1262e-01]],\n",
       " \n",
       "          [[-5.0415e-02,  9.6098e-03,  8.6747e-02],\n",
       "           [ 7.2813e-02,  1.0892e-02,  1.2112e-01],\n",
       "           [-3.6566e-02, -1.2640e-01,  3.8578e-03]],\n",
       " \n",
       "          [[ 2.9633e-01, -2.3788e-02,  2.8989e-02],\n",
       "           [ 7.4152e-02, -8.8591e-02, -2.1827e-01],\n",
       "           [ 1.8194e-01, -3.7611e-02, -9.1703e-03]]],\n",
       " \n",
       " \n",
       "         [[[ 3.0370e-03,  1.3764e-01,  1.6602e-01],\n",
       "           [ 8.6435e-02,  1.7718e-01, -5.2148e-02],\n",
       "           [-2.6665e-02,  2.0206e-01,  1.1951e-01]],\n",
       " \n",
       "          [[ 4.2997e-02, -1.6381e-01, -1.2945e-01],\n",
       "           [-3.2501e-02, -4.5639e-03,  4.9306e-02],\n",
       "           [ 7.6186e-02,  1.3954e-01,  1.5888e-01]],\n",
       " \n",
       "          [[ 9.8988e-02, -7.5864e-02,  1.1160e-01],\n",
       "           [-1.5872e-02,  3.5908e-02, -4.3868e-04],\n",
       "           [-1.3078e-01,  3.6295e-02,  8.6184e-02]],\n",
       " \n",
       "          [[ 4.0591e-02,  1.0684e-01, -3.9582e-02],\n",
       "           [-1.0268e-01,  1.8504e-01,  1.8826e-01],\n",
       "           [ 1.7808e-02,  2.0559e-01,  6.9614e-02]],\n",
       " \n",
       "          [[ 1.1895e-02, -1.3049e-01, -1.9238e-04],\n",
       "           [-1.7185e-02,  1.1941e-01,  1.6996e-02],\n",
       "           [-8.9054e-02, -6.2233e-03,  1.0501e-01]],\n",
       " \n",
       "          [[ 1.4925e-01,  2.7004e-01,  2.8290e-01],\n",
       "           [ 9.4172e-02,  1.4642e-01, -1.5149e-02],\n",
       "           [ 1.4275e-01,  2.7190e-01,  1.4427e-01]]],\n",
       " \n",
       " \n",
       "         [[[ 7.1701e-02, -8.6243e-03,  1.9081e-01],\n",
       "           [-1.0136e-01,  1.6282e-01,  2.4097e-01],\n",
       "           [ 1.7359e-01,  1.7592e-01,  3.8164e-01]],\n",
       " \n",
       "          [[ 5.4021e-02, -8.2932e-02,  4.3864e-02],\n",
       "           [-1.0371e-01, -2.8833e-05, -2.8404e-02],\n",
       "           [ 7.4117e-02,  7.0493e-03,  8.9589e-02]],\n",
       " \n",
       "          [[ 7.8080e-02,  6.5343e-02, -6.4115e-02],\n",
       "           [ 1.4384e-02,  1.2653e-01, -9.9966e-02],\n",
       "           [-1.0211e-03,  6.2873e-02,  1.2183e-01]],\n",
       " \n",
       "          [[-1.3068e-01, -1.7555e-02,  1.3656e-01],\n",
       "           [ 4.6862e-02, -1.4163e-01,  2.2018e-01],\n",
       "           [-2.9093e-02, -1.1513e-01,  1.7125e-01]],\n",
       " \n",
       "          [[ 4.5277e-02,  1.3362e-01, -9.5554e-02],\n",
       "           [-1.0774e-01, -6.5555e-02, -2.0687e-02],\n",
       "           [-1.9359e-03, -1.1792e-01, -7.3458e-02]],\n",
       " \n",
       "          [[ 1.6316e-01,  3.0564e-01,  2.9030e-01],\n",
       "           [-5.1976e-02,  1.0172e-01,  3.4272e-01],\n",
       "           [-9.1931e-03,  2.6466e-01,  4.0800e-01]]],\n",
       " \n",
       " \n",
       "         [[[ 3.0699e-02,  1.9615e-01, -8.5120e-02],\n",
       "           [ 1.6996e-01,  2.7657e-01, -4.0220e-02],\n",
       "           [ 2.4708e-01,  1.1270e-01,  2.4740e-01]],\n",
       " \n",
       "          [[-1.1816e-01,  2.5896e-02,  2.3991e-02],\n",
       "           [ 3.9170e-02,  1.1823e-01,  1.0360e-01],\n",
       "           [ 2.9711e-02, -1.2622e-01, -7.8147e-02]],\n",
       " \n",
       "          [[-9.5392e-02,  1.3054e-01, -1.2599e-01],\n",
       "           [-7.7854e-02, -7.2859e-02, -4.4323e-02],\n",
       "           [-3.1517e-02,  9.3057e-02,  9.9624e-02]],\n",
       " \n",
       "          [[-9.6271e-02,  1.8542e-01, -3.8394e-02],\n",
       "           [ 4.4957e-02,  2.0013e-01,  2.0918e-02],\n",
       "           [-2.1517e-04,  1.1123e-01,  2.4716e-01]],\n",
       " \n",
       "          [[-5.5432e-02,  1.7316e-02, -8.4987e-02],\n",
       "           [-1.9404e-02,  8.4419e-03, -6.8640e-02],\n",
       "           [ 7.4953e-02, -3.8191e-02, -9.4084e-02]],\n",
       " \n",
       "          [[ 1.0197e-01,  2.3339e-01, -1.9056e-02],\n",
       "           [ 2.5696e-01,  2.5447e-01,  1.2129e-01],\n",
       "           [ 2.7023e-01,  2.6360e-01,  2.1112e-01]]],\n",
       " \n",
       " \n",
       "         [[[ 1.2935e-02, -2.0679e-01, -3.8546e-02],\n",
       "           [-8.7330e-02,  1.1637e-01,  3.4498e-02],\n",
       "           [ 5.5486e-02,  1.6614e-01,  1.3122e-01]],\n",
       " \n",
       "          [[ 9.6283e-02, -2.5216e-03,  1.1785e-01],\n",
       "           [ 1.4642e-01,  3.7637e-02,  1.4093e-01],\n",
       "           [ 2.9142e-02, -6.6125e-02, -1.1334e-01]],\n",
       " \n",
       "          [[-7.8363e-02, -7.1980e-02,  1.1883e-01],\n",
       "           [-6.3038e-02, -3.2636e-02, -2.7817e-02],\n",
       "           [ 8.6399e-02, -1.1946e-01, -3.5132e-02]],\n",
       " \n",
       "          [[-7.5643e-02, -5.9241e-02, -9.3763e-02],\n",
       "           [-9.3145e-02, -7.5344e-02,  1.0591e-01],\n",
       "           [-1.1132e-01,  1.4789e-01, -2.9970e-03]],\n",
       " \n",
       "          [[-8.4074e-02,  8.2226e-02,  1.0340e-01],\n",
       "           [-9.2388e-02, -4.7785e-02, -3.2355e-03],\n",
       "           [-1.1452e-01, -4.4107e-02, -8.9174e-02]],\n",
       " \n",
       "          [[-3.9886e-02, -1.9609e-01,  1.2413e-01],\n",
       "           [ 5.8369e-02, -8.9541e-02,  4.8850e-02],\n",
       "           [ 1.2943e-01,  1.2586e-01,  9.6218e-02]]],\n",
       " \n",
       " \n",
       "         [[[ 1.8370e-03,  3.3378e-01,  2.9607e-01],\n",
       "           [ 1.4272e-01, -3.4768e-02, -1.9579e-01],\n",
       "           [-1.3434e-01, -1.8102e-01, -2.4129e-01]],\n",
       " \n",
       "          [[-6.6526e-02, -1.3695e-01,  5.4914e-02],\n",
       "           [ 3.4754e-02,  1.4626e-01,  8.9569e-02],\n",
       "           [-2.7008e-02,  1.6001e-02,  6.3173e-02]],\n",
       " \n",
       "          [[-6.7961e-02, -9.3733e-02,  1.2733e-01],\n",
       "           [-1.0615e-01, -1.1029e-01, -2.4086e-02],\n",
       "           [ 1.4278e-01,  1.0019e-02, -4.9969e-02]],\n",
       " \n",
       "          [[ 9.7689e-02,  1.1660e-01,  1.7513e-02],\n",
       "           [ 8.3933e-02,  4.9962e-02,  3.0324e-02],\n",
       "           [ 1.4387e-01,  8.2278e-02, -2.2845e-03]],\n",
       " \n",
       "          [[ 7.0212e-02, -5.3345e-02,  6.4754e-02],\n",
       "           [-3.4335e-02, -9.4052e-03,  4.9398e-02],\n",
       "           [ 1.6359e-01,  7.0706e-02,  6.6855e-02]],\n",
       " \n",
       "          [[ 2.4361e-01,  3.2689e-01,  3.3361e-01],\n",
       "           [ 3.6637e-02, -7.6597e-02, -1.6553e-01],\n",
       "           [-1.3263e-01, -1.8906e-01, -3.0921e-01]]],\n",
       " \n",
       " \n",
       "         [[[ 8.5397e-02, -4.1990e-02, -8.1751e-02],\n",
       "           [-8.5675e-02,  1.6929e-01, -1.0086e-01],\n",
       "           [ 3.2946e-02,  1.5672e-01, -2.5111e-01]],\n",
       " \n",
       "          [[-6.0320e-02, -4.7275e-02,  3.2018e-01],\n",
       "           [ 9.4509e-02,  8.4069e-03,  3.6141e-01],\n",
       "           [ 7.9036e-02,  2.0415e-01,  3.4353e-01]],\n",
       " \n",
       "          [[-4.4952e-03,  9.3570e-02,  1.0041e-01],\n",
       "           [ 6.0203e-02, -1.2732e-01, -1.4453e-01],\n",
       "           [-4.6754e-02, -1.0126e-01, -1.1817e-01]],\n",
       " \n",
       "          [[-8.6224e-02,  7.1727e-02,  1.9712e-01],\n",
       "           [ 1.1541e-01,  1.6396e-01,  3.5731e-02],\n",
       "           [-1.0571e-01,  3.2827e-02,  1.8679e-01]],\n",
       " \n",
       "          [[ 1.3847e-01, -5.0625e-02, -2.0391e-02],\n",
       "           [ 1.0330e-01, -5.6162e-02,  2.5232e-02],\n",
       "           [-5.5870e-02, -9.7938e-02, -1.2215e-01]],\n",
       " \n",
       "          [[ 9.4393e-02,  6.1015e-02, -7.9378e-02],\n",
       "           [ 4.2024e-02,  1.7691e-01, -2.6005e-01],\n",
       "           [-8.0771e-02,  3.0914e-01, -2.7612e-01]]],\n",
       " \n",
       " \n",
       "         [[[-4.6155e-02,  7.9791e-02,  1.5705e-01],\n",
       "           [ 1.9489e-01, -1.3452e-01, -6.5521e-03],\n",
       "           [-7.0803e-02, -1.8842e-01, -2.6959e-02]],\n",
       " \n",
       "          [[ 1.3082e-01,  1.0246e-01, -6.5473e-02],\n",
       "           [ 5.9385e-02,  1.7154e-01,  4.3669e-02],\n",
       "           [-7.6227e-02,  1.3076e-01, -1.2463e-01]],\n",
       " \n",
       "          [[ 7.2816e-02,  3.2892e-02, -1.0271e-01],\n",
       "           [ 1.1829e-01,  1.0753e-01, -2.5197e-02],\n",
       "           [-7.7400e-02, -1.3662e-01, -6.0636e-02]],\n",
       " \n",
       "          [[ 1.4225e-03, -2.5325e-02,  1.4026e-01],\n",
       "           [ 7.1942e-02,  1.4174e-01, -6.5169e-02],\n",
       "           [-3.6469e-02, -4.9331e-02,  5.2654e-02]],\n",
       " \n",
       "          [[-1.9596e-02, -7.6866e-02, -6.5204e-02],\n",
       "           [ 1.1835e-01, -1.2888e-01, -1.3727e-01],\n",
       "           [ 8.4475e-02, -8.1697e-02,  1.1878e-01]],\n",
       " \n",
       "          [[ 1.2102e-03, -1.6963e-01,  3.1031e-02],\n",
       "           [ 2.5433e-02, -5.9853e-02,  3.5585e-02],\n",
       "           [ 2.9550e-03,  9.9285e-03,  1.2133e-01]]],\n",
       " \n",
       " \n",
       "         [[[-5.9594e-03, -7.9935e-02, -2.2786e-01],\n",
       "           [ 2.1408e-01, -4.9882e-02, -6.9689e-03],\n",
       "           [ 2.2050e-01, -4.9457e-02, -4.4649e-02]],\n",
       " \n",
       "          [[-3.2290e-03,  1.7791e-01, -9.5449e-02],\n",
       "           [ 1.2581e-01,  2.0841e-01,  8.4694e-02],\n",
       "           [-8.6532e-02,  1.0141e-01,  1.4126e-01]],\n",
       " \n",
       "          [[-2.6979e-02,  2.2216e-02, -7.6600e-02],\n",
       "           [ 1.1707e-01,  1.0786e-01, -1.2314e-01],\n",
       "           [ 3.0508e-02, -9.8718e-02, -4.7415e-02]],\n",
       " \n",
       "          [[ 8.4802e-02,  1.7379e-01,  2.2499e-02],\n",
       "           [ 1.5281e-01, -6.0660e-02, -1.2361e-01],\n",
       "           [ 8.1669e-04, -4.7138e-02,  3.4555e-02]],\n",
       " \n",
       "          [[-2.3047e-02, -1.0383e-01,  8.8924e-02],\n",
       "           [ 1.2266e-01,  1.1647e-02, -1.3908e-01],\n",
       "           [-1.2574e-01,  4.8234e-02, -6.8274e-02]],\n",
       " \n",
       "          [[ 1.1263e-01, -1.4782e-01, -1.0227e-01],\n",
       "           [ 2.0306e-01,  1.0320e-01, -2.2623e-01],\n",
       "           [-1.7677e-02,  1.3794e-01, -1.1144e-01]]],\n",
       " \n",
       " \n",
       "         [[[-1.2732e-01,  4.9246e-02,  1.1974e-01],\n",
       "           [ 5.4197e-03,  1.1002e-01, -6.7126e-03],\n",
       "           [ 2.0039e-02,  1.2027e-01,  5.3606e-02]],\n",
       " \n",
       "          [[-1.0248e-01,  7.7161e-02, -2.2359e-03],\n",
       "           [-7.7786e-02, -7.7100e-02,  4.5005e-04],\n",
       "           [-7.2810e-02,  1.6257e-02, -1.0323e-01]],\n",
       " \n",
       "          [[ 2.5020e-02, -7.0869e-02,  1.3212e-01],\n",
       "           [ 1.3133e-01,  5.8431e-03, -7.2009e-02],\n",
       "           [ 2.7232e-02,  3.5276e-02,  1.5669e-02]],\n",
       " \n",
       "          [[ 1.7269e-02,  1.0478e-01,  1.0824e-01],\n",
       "           [-7.4182e-02,  6.1536e-02, -9.4801e-02],\n",
       "           [ 2.6438e-02,  1.0432e-01,  5.3825e-02]],\n",
       " \n",
       "          [[-9.1448e-02, -5.6993e-02, -9.2673e-02],\n",
       "           [ 9.5511e-02, -1.2187e-01, -2.8995e-03],\n",
       "           [-6.5584e-02, -8.8804e-02,  2.5830e-02]],\n",
       " \n",
       "          [[ 1.8343e-02, -4.1357e-02, -7.7271e-02],\n",
       "           [ 4.9733e-02, -7.4801e-02, -2.6302e-02],\n",
       "           [-1.0245e-01, -8.6561e-02, -5.3436e-02]]],\n",
       " \n",
       " \n",
       "         [[[ 2.6893e-01,  2.3996e-01,  7.0543e-02],\n",
       "           [ 1.8016e-01,  1.4283e-01, -4.1301e-02],\n",
       "           [ 2.6224e-01,  2.1132e-02, -3.5559e-02]],\n",
       " \n",
       "          [[ 7.9617e-02,  8.1158e-02, -1.1975e-01],\n",
       "           [-2.8876e-02,  1.3534e-01,  1.1268e-01],\n",
       "           [-9.4826e-02, -8.4917e-02,  1.0122e-01]],\n",
       " \n",
       "          [[-1.8680e-02, -1.0401e-01, -6.8225e-02],\n",
       "           [-3.5886e-02,  1.2316e-01, -7.9648e-02],\n",
       "           [-5.5205e-02,  1.4978e-02, -1.6506e-02]],\n",
       " \n",
       "          [[ 1.7582e-01,  8.5075e-02, -6.4778e-02],\n",
       "           [ 3.6176e-02,  5.1226e-02, -2.5575e-02],\n",
       "           [ 2.3333e-01,  2.0256e-01, -5.8863e-02]],\n",
       " \n",
       "          [[-4.3703e-02,  7.0294e-02, -1.2616e-01],\n",
       "           [-7.0950e-02, -7.6365e-02, -1.1211e-01],\n",
       "           [ 1.2902e-01,  8.0992e-04, -4.5568e-02]],\n",
       " \n",
       "          [[ 1.4732e-01,  1.7108e-01,  7.8067e-02],\n",
       "           [ 2.5942e-01, -7.4130e-02,  1.9454e-03],\n",
       "           [ 2.7916e-01,  1.3077e-01, -2.5664e-02]]],\n",
       " \n",
       " \n",
       "         [[[-8.8108e-02,  7.0750e-02,  1.4089e-01],\n",
       "           [-1.5196e-01,  1.0028e-02,  1.9837e-01],\n",
       "           [-1.3123e-02,  1.1750e-01, -9.1897e-02]],\n",
       " \n",
       "          [[ 4.6204e-02,  5.9257e-02,  1.6471e-02],\n",
       "           [ 1.7421e-01,  1.3730e-01,  1.0649e-01],\n",
       "           [ 1.8833e-01, -1.0161e-01,  3.6416e-02]],\n",
       " \n",
       "          [[ 1.2256e-01,  8.9959e-02,  1.2210e-01],\n",
       "           [-5.8496e-02, -1.1174e-01,  2.0006e-02],\n",
       "           [-1.3020e-01,  3.8782e-02,  2.9163e-02]],\n",
       " \n",
       "          [[ 1.1556e-01, -9.7836e-02, -8.8452e-02],\n",
       "           [-9.0147e-02, -5.7336e-03, -4.2374e-02],\n",
       "           [ 7.6256e-03,  4.0943e-02,  4.5189e-02]],\n",
       " \n",
       "          [[-3.4149e-03, -1.2167e-01,  9.4616e-02],\n",
       "           [ 1.2545e-01, -7.3551e-02,  1.0802e-01],\n",
       "           [ 7.3773e-03,  1.0134e-01,  1.0941e-01]],\n",
       " \n",
       "          [[-1.8472e-01,  1.1585e-01,  1.5558e-03],\n",
       "           [-9.3061e-02,  1.4420e-01,  1.2220e-01],\n",
       "           [-1.2612e-01, -2.7849e-02, -9.3264e-02]]],\n",
       " \n",
       " \n",
       "         [[[-4.0266e-02,  3.0341e-03, -8.5358e-02],\n",
       "           [-9.8586e-02,  4.3745e-02,  5.2756e-03],\n",
       "           [-2.6146e-02,  2.5109e-02,  3.8481e-02]],\n",
       " \n",
       "          [[-1.1056e-01, -1.2094e-01,  2.5463e-02],\n",
       "           [ 1.1764e-01,  1.6946e-02,  1.1193e-01],\n",
       "           [ 1.1114e-01, -6.4049e-02,  1.3071e-01]],\n",
       " \n",
       "          [[ 6.7237e-02, -6.7596e-05, -9.5508e-02],\n",
       "           [-5.9301e-02,  7.1131e-02,  3.2204e-03],\n",
       "           [-5.4235e-02,  5.0772e-02,  2.9775e-03]],\n",
       " \n",
       "          [[ 1.2337e-01,  7.5934e-02,  8.6463e-03],\n",
       "           [ 8.9192e-02, -5.1224e-02,  1.9637e-02],\n",
       "           [-2.3723e-02, -7.5211e-02,  7.7037e-02]],\n",
       " \n",
       "          [[ 1.2870e-01,  5.7894e-02, -2.6906e-02],\n",
       "           [ 8.2844e-02,  1.3349e-01, -3.9902e-03],\n",
       "           [ 1.3186e-01, -8.3459e-02,  1.1392e-01]],\n",
       " \n",
       "          [[-8.9710e-02,  7.9994e-02,  1.2352e-03],\n",
       "           [-3.3843e-02, -6.5588e-02, -4.8307e-02],\n",
       "           [ 7.5992e-02, -8.9480e-02, -3.2742e-02]]]], requires_grad=True),\n",
       " Parameter containing:\n",
       " tensor([-0.0810, -0.0787,  0.1368, -0.0855, -0.1290, -0.0795,  0.1081,  0.0774,\n",
       "          0.0374, -0.0645,  0.0161,  0.0841, -0.0068,  0.1140,  0.0042, -0.0686],\n",
       "        requires_grad=True),\n",
       " Parameter containing:\n",
       " tensor([[-0.0382, -0.0222, -0.0205,  ..., -0.0081,  0.0069, -0.0224],\n",
       "         [-0.0428, -0.0067,  0.0133,  ..., -0.0431,  0.0191, -0.0227],\n",
       "         [-0.0015,  0.0374, -0.0104,  ...,  0.0279, -0.0111, -0.0386],\n",
       "         ...,\n",
       "         [ 0.0344, -0.0334,  0.0003,  ..., -0.0134, -0.0185, -0.0026],\n",
       "         [-0.0039, -0.0496,  0.0084,  ..., -0.0394, -0.0186,  0.0303],\n",
       "         [ 0.0412, -0.0013,  0.0143,  ..., -0.0496, -0.0127,  0.0227]],\n",
       "        requires_grad=True),\n",
       " Parameter containing:\n",
       " tensor([-1.5930e-02, -4.2591e-02,  4.8779e-02,  3.9209e-02, -2.9907e-02,\n",
       "          4.7799e-02,  2.0206e-02,  3.5975e-02,  3.7919e-02,  9.6756e-03,\n",
       "         -3.6549e-02, -4.1254e-02,  4.0996e-02, -3.2332e-02,  3.5261e-02,\n",
       "         -2.8703e-02, -1.0641e-02, -2.8477e-02,  2.7608e-05, -3.7954e-02,\n",
       "          4.3057e-02,  1.2758e-02, -3.7994e-02,  3.4520e-02,  1.5548e-02,\n",
       "         -2.2715e-02,  1.0361e-02, -4.5598e-02, -1.6957e-02, -3.0723e-02,\n",
       "         -2.2615e-02, -6.1027e-03,  1.8826e-02,  4.9534e-02,  2.6014e-02,\n",
       "          6.8375e-03,  1.6751e-02,  4.7701e-02, -3.3208e-02,  4.2906e-02,\n",
       "          1.8214e-03, -2.9189e-02,  5.2059e-02,  9.4587e-03,  3.2002e-02,\n",
       "          3.5856e-02, -4.5072e-02,  7.0453e-03,  1.0633e-02, -3.6686e-02,\n",
       "          5.5090e-02, -3.5201e-02,  2.1897e-02,  2.2706e-02,  2.2568e-02,\n",
       "          2.0082e-02,  2.5772e-02,  9.1970e-03, -3.7274e-02, -4.6564e-02,\n",
       "         -2.0214e-02,  1.7346e-02,  5.0104e-02,  3.8636e-02, -1.8317e-02,\n",
       "         -1.6701e-02, -6.9746e-03,  6.9258e-04, -9.9325e-03,  2.1452e-02,\n",
       "          1.7313e-02, -4.2138e-02,  5.5843e-02,  1.1895e-02,  1.4920e-02,\n",
       "         -3.7127e-02, -1.5302e-02, -2.3039e-02, -3.1766e-02, -5.4560e-02,\n",
       "         -7.0506e-03,  4.1355e-02,  4.4657e-02, -6.3782e-03, -2.9052e-02,\n",
       "         -1.1232e-02,  4.9156e-02, -1.3601e-02, -7.0950e-03,  3.1053e-02,\n",
       "         -4.7372e-02, -4.0514e-02,  8.1034e-03,  4.0456e-02, -2.2543e-02,\n",
       "         -4.6817e-02, -7.6044e-03,  1.6572e-02, -3.1154e-02,  4.0407e-03,\n",
       "          4.8431e-02, -4.3406e-02, -3.7364e-02,  1.9622e-02, -2.1854e-02,\n",
       "         -2.1005e-02, -4.7191e-02,  3.8210e-02,  4.7319e-02, -3.6941e-03,\n",
       "          5.6327e-02, -3.8117e-02, -4.0464e-02, -2.9157e-02,  2.7228e-02,\n",
       "         -3.2721e-02,  4.3709e-02, -2.8753e-02, -3.7066e-02, -2.4291e-02],\n",
       "        requires_grad=True),\n",
       " Parameter containing:\n",
       " tensor([[-1.1818e-01, -7.0254e-02, -8.7136e-03,  ...,  9.5001e-02,\n",
       "           7.2613e-02, -5.1471e-03],\n",
       "         [ 4.7822e-02,  4.5316e-02, -8.1550e-03,  ...,  7.7826e-02,\n",
       "          -8.2613e-05, -5.0905e-02],\n",
       "         [-6.2095e-03,  4.6172e-02, -7.5458e-02,  ..., -3.1412e-02,\n",
       "           4.9700e-02,  3.3921e-02],\n",
       "         ...,\n",
       "         [-7.2166e-02,  3.1098e-02, -6.3015e-02,  ...,  4.3415e-02,\n",
       "          -8.0792e-03,  6.6996e-02],\n",
       "         [ 4.4608e-02, -3.5453e-02,  9.3554e-02,  ...,  7.2735e-02,\n",
       "           1.8565e-02, -5.1051e-02],\n",
       "         [-8.5802e-02, -8.4898e-02,  1.6236e-02,  ...,  7.6649e-02,\n",
       "           8.2788e-02,  3.1528e-02]], requires_grad=True),\n",
       " Parameter containing:\n",
       " tensor([-0.0065,  0.0536, -0.0531,  0.0155,  0.0926,  0.0154, -0.0041, -0.0484,\n",
       "         -0.0375, -0.0647, -0.0479, -0.0770, -0.0343,  0.0181,  0.0086,  0.0710,\n",
       "          0.0940, -0.0543, -0.0040,  0.0254,  0.0516,  0.0780, -0.0782, -0.0226,\n",
       "          0.0426,  0.0172, -0.0428,  0.0175,  0.0581,  0.0026, -0.0480, -0.0393,\n",
       "         -0.0373,  0.0544, -0.0338,  0.0116,  0.0292, -0.0304,  0.0320, -0.0517,\n",
       "         -0.0131,  0.0460, -0.0761, -0.0218, -0.0975, -0.0800, -0.0526,  0.0713,\n",
       "         -0.0203,  0.0458,  0.0475, -0.0503,  0.0095,  0.0067,  0.0075,  0.0450,\n",
       "          0.0780, -0.0095, -0.0587, -0.0079,  0.0739,  0.0979, -0.0126,  0.0484,\n",
       "          0.0028,  0.0465,  0.0549,  0.0724, -0.0408, -0.0378,  0.0104,  0.0906,\n",
       "         -0.0531,  0.0298,  0.0941, -0.0125,  0.0454, -0.0720,  0.0645, -0.0040,\n",
       "         -0.0315,  0.0384,  0.0863, -0.0418], requires_grad=True),\n",
       " Parameter containing:\n",
       " tensor([[ 2.7232e-02, -6.3002e-02, -4.0783e-02,  5.5758e-02,  3.2025e-02,\n",
       "          -1.1441e-02, -1.3495e-01,  1.4151e-01, -6.0740e-02, -2.8704e-02,\n",
       "           8.6532e-02,  3.0982e-02,  3.4817e-02,  7.6138e-02,  6.7607e-02,\n",
       "          -9.0958e-02,  1.6309e-01, -1.1016e-01, -7.0970e-02, -1.6896e-02,\n",
       "          -3.3787e-02, -7.4410e-03, -4.6443e-02,  8.4582e-02, -1.9619e-01,\n",
       "           8.3631e-02,  1.4728e-03, -4.3592e-02,  2.1135e-02, -9.1222e-03,\n",
       "          -4.0411e-03,  1.6075e-01, -1.0018e-01,  9.4135e-02, -7.7367e-02,\n",
       "           3.9420e-02,  1.0715e-01,  9.7174e-02,  1.4558e-01,  1.2113e-01,\n",
       "           3.0475e-02,  9.2657e-02, -7.8297e-02,  5.7877e-02, -4.9249e-03,\n",
       "           1.6391e-02,  5.9185e-03,  2.7764e-02, -4.0680e-02, -1.2640e-01,\n",
       "          -2.6819e-02,  6.3053e-02,  1.6477e-01, -6.6196e-02, -1.7731e-01,\n",
       "          -4.0517e-02, -2.1083e-01, -9.5891e-02, -6.8879e-02,  3.4239e-02,\n",
       "           6.8620e-02,  1.3732e-01, -6.7728e-03,  1.0473e-01, -1.3937e-02,\n",
       "           6.2135e-02,  8.5102e-02,  6.5507e-02,  1.4608e-01, -7.3910e-02,\n",
       "           1.7213e-01,  5.3203e-02, -8.7626e-02,  4.3461e-03, -1.0178e-01,\n",
       "          -3.0093e-02, -2.0584e-04, -6.3329e-02, -2.1411e-01, -5.0467e-02,\n",
       "           4.4632e-02, -3.7356e-02, -1.8297e-01,  1.3584e-01],\n",
       "         [-1.4529e-01, -4.5202e-02,  1.6908e-01,  2.4892e-02,  1.5024e-01,\n",
       "           7.3797e-02, -3.3941e-02,  7.6661e-02, -1.4302e-02, -9.2769e-02,\n",
       "           1.0444e-01,  8.9265e-02, -3.7945e-02,  8.7073e-02, -1.9853e-02,\n",
       "          -2.8250e-01,  1.8890e-01,  1.1118e-01, -1.0302e-01, -1.4054e-02,\n",
       "           9.8604e-02,  3.0498e-02,  5.5710e-02, -9.9921e-02,  1.5645e-02,\n",
       "          -5.9225e-02, -1.1349e-01,  1.1654e-01, -1.2989e-01, -5.5861e-02,\n",
       "           1.0225e-01, -1.0332e-01,  9.9583e-02, -1.1111e-01, -1.6946e-01,\n",
       "           1.4925e-01, -1.3555e-02, -1.3523e-01, -4.2975e-02, -6.4449e-02,\n",
       "           6.4160e-02, -1.1988e-01, -9.4847e-02, -9.5819e-02, -9.3980e-02,\n",
       "          -6.1800e-02, -1.7773e-02,  8.1422e-02, -6.8458e-02, -1.1228e-01,\n",
       "           2.6379e-01, -1.8893e-02,  1.4933e-01,  1.0192e-01,  7.2466e-02,\n",
       "           9.0017e-02,  4.7988e-02, -6.5314e-02, -9.5129e-02, -1.1456e-01,\n",
       "           7.6864e-02, -7.4623e-02, -3.5866e-02, -7.1010e-02, -2.2774e-02,\n",
       "          -1.1053e-01, -1.3438e-01,  1.4799e-01, -1.3891e-02,  4.6746e-02,\n",
       "          -1.7659e-01,  1.1285e-01, -5.8608e-02,  1.7410e-02, -1.6190e-01,\n",
       "           8.0388e-02, -3.1043e-02,  2.1473e-01,  2.4344e-03,  2.1610e-02,\n",
       "          -6.1028e-02,  1.1100e-01,  2.6963e-01, -1.2770e-01],\n",
       "         [ 3.7101e-02, -2.2975e-01, -6.2842e-02,  1.9872e-01,  1.7212e-01,\n",
       "          -2.3039e-03,  1.3277e-01, -2.8773e-01,  7.7723e-03,  5.4655e-02,\n",
       "          -5.8583e-02,  7.4068e-02, -1.2329e-01,  1.6789e-01, -2.4710e-01,\n",
       "           1.5230e-01,  1.4279e-01, -1.9419e-01,  5.5103e-02,  1.7305e-02,\n",
       "           7.3688e-02, -7.7791e-02,  6.4389e-02, -1.1206e-01,  1.5956e-01,\n",
       "          -2.7614e-02,  8.7166e-02,  1.0399e-01, -1.4592e-01, -1.6390e-02,\n",
       "           1.5761e-02, -4.4050e-02, -1.6470e-02,  1.4416e-01,  3.1202e-02,\n",
       "           3.6590e-02,  1.0254e-01,  2.2349e-01, -2.4441e-01, -1.1126e-02,\n",
       "          -6.7639e-02,  1.0946e-01,  5.5654e-02,  9.1442e-02,  2.6126e-02,\n",
       "           6.6977e-02, -7.5018e-02,  9.5677e-02, -3.3261e-02, -5.8757e-02,\n",
       "          -1.5462e-01, -6.1135e-02, -1.8953e-01,  7.9784e-02, -9.8027e-02,\n",
       "           9.4641e-02, -7.3010e-02, -1.0058e-02, -6.7127e-02, -1.1705e-01,\n",
       "          -1.5456e-02,  4.8551e-02, -2.7840e-02, -1.9704e-02,  2.7005e-02,\n",
       "          -1.4782e-02, -3.0673e-02, -2.9364e-02,  1.0614e-01, -4.9560e-02,\n",
       "          -5.6345e-03,  1.1002e-01, -5.3612e-02,  9.5643e-02,  1.2105e-01,\n",
       "           1.0039e-01, -9.9149e-02, -1.6135e-01, -2.2692e-01, -1.3606e-01,\n",
       "           6.6014e-02,  5.8429e-02, -7.1649e-02, -1.7296e-02],\n",
       "         [-7.1203e-02,  1.0980e-01, -1.5493e-01, -4.8689e-02,  1.6900e-01,\n",
       "          -5.0164e-02,  6.4177e-02, -2.1246e-03, -2.3584e-02,  5.8484e-02,\n",
       "          -4.6434e-02, -6.6387e-02,  1.1053e-01,  5.9933e-02, -7.1010e-03,\n",
       "           3.2818e-02, -7.3091e-02,  2.5816e-02,  5.6934e-02, -4.4865e-02,\n",
       "           8.8609e-02, -7.2244e-02,  2.7106e-02, -5.2336e-02,  6.0304e-03,\n",
       "          -5.1428e-02,  2.0094e-02,  1.1357e-01, -2.0570e-01, -1.1879e-01,\n",
       "          -6.1000e-02,  2.2597e-02, -5.6681e-02, -6.3044e-02,  4.7334e-02,\n",
       "          -2.6605e-02,  8.9066e-02,  1.5636e-01,  1.9317e-02, -1.8363e-01,\n",
       "          -1.5399e-01, -1.0156e-01,  2.7297e-02, -5.5769e-02,  1.7651e-02,\n",
       "          -6.4747e-02,  3.6361e-02,  1.6637e-01, -2.0711e-02, -4.0849e-02,\n",
       "          -1.0019e-01, -7.8721e-02, -1.0512e-01, -1.1488e-03, -1.6103e-01,\n",
       "          -1.9587e-03, -3.8800e-02,  5.8154e-04, -1.3384e-02,  1.0760e-01,\n",
       "          -1.2527e-02, -2.4652e-03,  1.3755e-01,  2.0205e-01, -1.1425e-02,\n",
       "          -3.5932e-02, -6.7854e-02,  6.1362e-02, -1.2656e-01,  2.6334e-03,\n",
       "          -9.2868e-02,  1.3624e-01, -1.8021e-01,  4.4398e-02, -5.1364e-02,\n",
       "          -6.3953e-02,  6.2643e-02,  2.8878e-01,  3.9798e-03, -1.4063e-01,\n",
       "          -1.2423e-01, -6.3298e-02, -6.2397e-02, -1.6649e-01],\n",
       "         [ 5.0294e-02,  1.4724e-02, -5.4368e-02, -1.6882e-01,  4.6687e-02,\n",
       "           1.1208e-01,  1.8155e-01, -3.1460e-02,  6.3685e-03,  1.6191e-02,\n",
       "          -1.1452e-02,  9.6525e-02,  9.9887e-02,  1.9293e-01,  7.7526e-02,\n",
       "          -1.5436e-01, -1.7158e-01,  1.1719e-01,  1.7581e-02,  5.4247e-02,\n",
       "          -7.9953e-02,  1.3167e-02,  1.0174e-01,  2.2177e-01,  1.4855e-01,\n",
       "          -1.1229e-01, -1.0166e-01,  7.7494e-02,  7.9510e-03,  2.0220e-01,\n",
       "          -9.8330e-02, -9.8959e-02,  3.4049e-02,  7.0055e-02,  4.3036e-02,\n",
       "          -6.5371e-02, -9.3202e-02,  5.0144e-02,  2.7500e-03, -7.0900e-02,\n",
       "          -9.5527e-02,  5.4468e-02,  1.0057e-01, -8.3304e-02, -9.2425e-03,\n",
       "          -5.5444e-02,  2.3240e-02, -7.2172e-02, -2.3990e-02, -3.8693e-02,\n",
       "           7.7616e-02, -1.5737e-02,  7.3162e-02, -5.8364e-03, -1.8132e-01,\n",
       "           1.0392e-01,  6.1514e-02,  9.6750e-02,  1.7153e-02, -3.8352e-03,\n",
       "          -3.4892e-02, -1.6397e-01, -1.7645e-01,  1.4112e-01,  4.7267e-02,\n",
       "           1.0653e-01, -1.7677e-01, -6.2676e-02, -5.7124e-02, -1.2617e-01,\n",
       "          -1.3400e-01, -2.7102e-02, -7.9660e-02,  3.7412e-02,  1.3691e-01,\n",
       "          -4.9205e-02, -1.9292e-01,  2.7441e-02, -1.2399e-01, -9.0055e-02,\n",
       "           2.6566e-03, -6.2202e-02,  1.6864e-01,  9.8083e-02],\n",
       "         [ 2.7883e-01,  5.8299e-02, -9.2488e-02, -1.0833e-01, -1.3927e-04,\n",
       "          -4.6626e-02,  1.5497e-01, -1.0862e-01,  1.2581e-02, -9.6863e-02,\n",
       "           1.6835e-02, -3.6325e-02, -8.1675e-02, -2.0594e-01,  7.6942e-02,\n",
       "           1.0373e-01, -1.6492e-01,  8.0159e-02,  4.3852e-02,  5.4877e-02,\n",
       "          -4.6804e-02, -1.3946e-02, -1.2388e-01,  5.5361e-02, -6.1905e-02,\n",
       "          -1.4231e-01, -6.8364e-02,  6.6576e-02,  1.6700e-01, -2.5537e-01,\n",
       "           4.0727e-02, -2.2183e-01,  9.8640e-02,  4.7834e-02, -1.6465e-02,\n",
       "          -1.0985e-01,  3.0394e-02, -1.8398e-01,  2.0005e-02,  4.7525e-02,\n",
       "           3.9582e-02, -1.8524e-01, -7.6227e-02, -1.0111e-01, -1.0556e-02,\n",
       "           2.4670e-02, -9.7549e-02,  4.0030e-02,  8.6657e-02,  1.6187e-01,\n",
       "           5.8195e-03,  1.7400e-02,  1.8569e-01, -2.8541e-02,  9.8369e-02,\n",
       "           9.1099e-02,  4.0936e-02, -4.1589e-02, -7.1658e-02, -7.7058e-02,\n",
       "           5.8889e-02,  1.4389e-03,  5.4550e-02,  4.4567e-02, -1.0979e-01,\n",
       "          -9.8133e-02,  3.6626e-02, -9.1816e-02, -1.1142e-01, -2.5936e-02,\n",
       "          -4.1427e-02, -9.3852e-02,  2.4227e-01,  9.0127e-02,  1.7292e-01,\n",
       "           5.7394e-02,  1.1531e-01,  6.4667e-02, -1.7110e-02,  1.3805e-01,\n",
       "          -7.9127e-03, -1.7854e-01, -2.3313e-01,  9.6631e-02],\n",
       "         [-8.8529e-02, -7.4686e-02, -7.9027e-03,  8.8352e-03, -1.8211e-02,\n",
       "           1.5671e-01,  1.0048e-01,  5.5940e-02, -1.1316e-01,  7.5507e-02,\n",
       "           7.1418e-02,  4.4704e-02, -2.3044e-02,  1.2608e-01,  4.8099e-02,\n",
       "           1.3574e-01,  4.6915e-02,  2.3181e-01, -1.9730e-02, -1.6994e-01,\n",
       "          -2.9493e-02, -3.0849e-02, -9.1380e-02,  1.2400e-01, -9.3513e-02,\n",
       "          -1.2516e-03, -1.0818e-01, -3.0882e-02,  8.8969e-02,  2.0470e-01,\n",
       "           7.8282e-02,  2.0783e-01, -1.0590e-01, -2.1976e-02,  1.0974e-01,\n",
       "           1.0837e-01,  4.0891e-02,  1.4833e-01, -3.1206e-02, -1.0790e-01,\n",
       "           1.3472e-01,  1.5628e-02,  7.4984e-02, -2.8463e-02, -2.0977e-02,\n",
       "          -1.9619e-01,  8.4484e-02, -1.3682e-01,  4.4321e-02,  2.0111e-02,\n",
       "           1.0421e-01, -1.5047e-02, -3.7056e-02,  3.5806e-02, -1.3600e-01,\n",
       "           1.0565e-01, -7.8335e-02,  7.4088e-02, -8.1251e-02, -9.7320e-02,\n",
       "           7.2595e-02,  9.0310e-02, -9.0966e-02,  6.8409e-02, -2.6718e-02,\n",
       "          -7.2898e-02,  8.9074e-02,  8.1248e-03, -1.3974e-01, -1.2230e-01,\n",
       "           5.0014e-02,  1.2294e-01,  9.1685e-03,  2.3965e-02, -9.2174e-02,\n",
       "           2.5884e-02, -1.7083e-01, -2.2507e-01, -1.7148e-01, -1.5196e-01,\n",
       "           2.1043e-01, -1.7369e-01,  9.6964e-03,  6.1833e-02],\n",
       "         [ 5.9659e-02,  2.3469e-01,  1.0342e-01, -1.6598e-01, -3.1984e-01,\n",
       "          -4.2666e-02, -9.3141e-02,  1.0326e-01, -7.5980e-02, -5.0394e-02,\n",
       "          -1.1016e-01,  6.2945e-02,  6.2738e-02, -1.3526e-01,  1.7458e-01,\n",
       "           1.2251e-01, -2.1698e-02, -9.9129e-02, -9.4921e-03,  4.8641e-02,\n",
       "          -1.4951e-02, -4.2887e-03,  1.5885e-01,  8.8509e-02,  1.5383e-01,\n",
       "           1.3586e-01,  1.1975e-01, -1.3880e-01,  4.7191e-02, -1.1155e-01,\n",
       "           4.8866e-02, -1.9779e-01, -7.2627e-02, -1.2870e-01, -1.7564e-01,\n",
       "           1.5846e-01, -1.3348e-02, -4.8008e-02, -1.7320e-01,  1.7899e-01,\n",
       "          -7.9567e-02, -2.2249e-02, -1.0437e-01,  4.5702e-02, -9.7819e-02,\n",
       "          -7.8006e-03,  3.7689e-02, -1.7319e-01, -1.0935e-01,  9.4095e-02,\n",
       "          -1.2432e-01,  5.0024e-03,  2.9352e-02, -3.1311e-02,  6.7804e-02,\n",
       "          -7.3340e-02,  1.6300e-01, -8.9791e-02,  6.8436e-02,  7.1464e-02,\n",
       "          -1.1591e-01,  8.8526e-02, -8.4465e-02,  1.3764e-01, -7.1196e-02,\n",
       "          -3.4846e-02, -1.6115e-01,  1.2185e-01,  6.9133e-03,  1.5881e-01,\n",
       "           1.4072e-01, -2.3045e-01, -4.4499e-02,  2.8466e-02, -1.7376e-01,\n",
       "          -1.0074e-01,  2.5830e-01, -1.9924e-01,  2.4726e-01,  1.0063e-01,\n",
       "          -5.3509e-02, -7.2528e-02, -1.0934e-01, -1.6267e-01],\n",
       "         [-1.3374e-01, -3.7777e-02, -2.1040e-02, -1.0507e-01,  4.4109e-02,\n",
       "           9.7942e-02,  1.7871e-02,  4.4581e-02,  1.7397e-01, -4.7711e-02,\n",
       "          -1.0019e-01,  9.1966e-02,  1.7040e-01, -1.1711e-01,  1.7219e-02,\n",
       "          -1.3956e-01,  1.1874e-01,  8.6114e-02, -6.8489e-02,  1.3997e-03,\n",
       "          -8.5958e-02, -7.1957e-02, -2.4773e-02,  3.7311e-02, -9.4971e-02,\n",
       "           2.0552e-01, -1.7392e-01,  8.4464e-02,  1.1719e-01, -6.9176e-02,\n",
       "          -3.6460e-02,  2.4361e-01, -1.0389e-01,  6.3641e-03,  6.7895e-03,\n",
       "           1.4550e-02,  4.4691e-02,  7.7456e-02, -6.5967e-02,  1.0622e-01,\n",
       "           7.2480e-02,  3.3659e-02,  1.0281e-01, -7.0546e-02,  5.9428e-02,\n",
       "          -9.1649e-02,  9.0314e-02, -3.8342e-02,  1.3673e-02, -8.6503e-02,\n",
       "          -1.5506e-01,  2.6071e-02, -1.2766e-01,  7.4787e-02,  4.7225e-02,\n",
       "          -1.9894e-02,  1.0332e-01, -8.8313e-02,  1.1770e-01,  4.5863e-02,\n",
       "          -6.4562e-02,  1.5979e-03, -3.4714e-02, -1.6043e-01,  1.6881e-01,\n",
       "           1.6285e-01,  2.1007e-01, -6.5147e-02,  5.1082e-02,  8.0538e-02,\n",
       "           2.7355e-02, -1.3060e-01,  2.5355e-02, -6.1417e-02,  2.8666e-01,\n",
       "           2.1422e-02,  1.2144e-01,  1.3532e-01, -1.0672e-01,  5.3534e-02,\n",
       "           1.0203e-01,  8.8389e-02, -1.3289e-01, -1.0657e-01],\n",
       "         [-4.6647e-02, -7.4532e-02,  1.5001e-01, -8.1325e-02, -2.6682e-01,\n",
       "          -1.9239e-01,  4.3585e-02, -1.4271e-01, -8.4346e-02,  1.2230e-01,\n",
       "          -8.4056e-02, -2.2067e-02,  7.3350e-02, -2.1131e-01, -6.2483e-02,\n",
       "           2.2806e-01, -9.3780e-02,  1.2973e-01, -1.0218e-01, -1.4346e-02,\n",
       "           8.4354e-02, -6.6855e-02,  1.2292e-01, -1.5513e-01, -1.4642e-01,\n",
       "           8.6045e-02,  1.2632e-01,  1.8618e-02,  1.1812e-01, -1.5158e-01,\n",
       "           3.0965e-02, -1.9405e-01, -7.1682e-02, -4.4308e-02,  2.3228e-02,\n",
       "          -1.5159e-01, -5.0364e-02, -1.6611e-01,  5.0900e-02, -7.8000e-02,\n",
       "           4.0431e-02, -6.5982e-02, -3.2756e-03, -4.6071e-02,  5.9329e-03,\n",
       "          -8.3526e-03, -2.4440e-02, -1.3765e-01, -5.9366e-02, -4.8406e-03,\n",
       "           3.1979e-02, -7.6626e-02, -9.7315e-02, -9.0161e-02,  1.7669e-01,\n",
       "           5.9550e-02,  5.8549e-02, -2.2293e-02,  6.3003e-02,  5.8295e-02,\n",
       "           8.4325e-03, -1.9106e-01, -2.2249e-02, -9.4993e-02, -1.1528e-02,\n",
       "          -1.1701e-01,  2.0580e-01,  3.2904e-02, -1.2107e-03, -8.2254e-02,\n",
       "          -2.3540e-03,  6.4994e-02,  9.0308e-02, -8.6819e-02, -3.2529e-02,\n",
       "          -2.4110e-02,  1.9826e-01, -9.6921e-02,  2.7713e-01,  3.0933e-02,\n",
       "          -1.0224e-01,  1.3520e-01, -1.0344e-01,  9.5960e-02]],\n",
       "        requires_grad=True),\n",
       " Parameter containing:\n",
       " tensor([ 0.0303,  0.0466,  0.1513,  0.0130,  0.0398, -0.1423,  0.0761, -0.0689,\n",
       "          0.1063,  0.0545], requires_grad=True)]"
      ]
     },
     "execution_count": 188,
     "metadata": {},
     "output_type": "execute_result"
    }
   ],
   "source": [
    "list(net.parameters())"
   ]
  },
  {
   "cell_type": "code",
   "execution_count": 189,
   "metadata": {},
   "outputs": [],
   "source": [
    "# 모델 테스트"
   ]
  },
  {
   "cell_type": "code",
   "execution_count": null,
   "metadata": {},
   "outputs": [],
   "source": [
    "def imshow(image):\n",
    "    iamge = image/2 + 0.5\n",
    "    npimg = image.numpy()\n",
    "    \n",
    "    "
   ]
  }
 ],
 "metadata": {
  "kernelspec": {
   "display_name": "DL",
   "language": "python",
   "name": "python3"
  },
  "language_info": {
   "codemirror_mode": {
    "name": "ipython",
    "version": 3
   },
   "file_extension": ".py",
   "mimetype": "text/x-python",
   "name": "python",
   "nbconvert_exporter": "python",
   "pygments_lexer": "ipython3",
   "version": "3.7.15"
  },
  "orig_nbformat": 4,
  "vscode": {
   "interpreter": {
    "hash": "78a5cce84d4e0fc2d340b534b51c50f208e7e0b787b898a04b058b6df0a98d57"
   }
  }
 },
 "nbformat": 4,
 "nbformat_minor": 2
}
